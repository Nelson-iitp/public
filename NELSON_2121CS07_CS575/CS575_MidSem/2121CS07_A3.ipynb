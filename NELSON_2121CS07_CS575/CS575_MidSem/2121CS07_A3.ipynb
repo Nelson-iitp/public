{
  "nbformat": 4,
  "nbformat_minor": 0,
  "metadata": {
    "colab": {
      "name": "2121CS07_A3.ipynb",
      "provenance": [],
      "collapsed_sections": [],
      "toc_visible": true,
      "authorship_tag": "ABX9TyN2a28PGeStqJQFR0kipwaE",
      "include_colab_link": true
    },
    "kernelspec": {
      "name": "python3",
      "display_name": "Python 3"
    }
  },
  "cells": [
    {
      "cell_type": "markdown",
      "metadata": {
        "id": "view-in-github",
        "colab_type": "text"
      },
      "source": [
        "<a href=\"https://colab.research.google.com/github/Nelson-iitp/2121CS07_CS575/blob/main/CS575_MidSem/2121CS07_A3.ipynb\" target=\"_parent\"><img src=\"https://colab.research.google.com/assets/colab-badge.svg\" alt=\"Open In Colab\"/></a>"
      ]
    },
    {
      "cell_type": "code",
      "metadata": {
        "colab": {
          "base_uri": "https://localhost:8080/"
        },
        "id": "5SLaqyqzxUTk",
        "outputId": "28fff8a0-6bd2-4ec6-c8ea-b1db46418473"
      },
      "source": [
        "%reset"
      ],
      "execution_count": null,
      "outputs": [
        {
          "output_type": "stream",
          "text": [
            "Once deleted, variables cannot be recovered. Proceed (y/[n])? y\n"
          ],
          "name": "stdout"
        }
      ]
    },
    {
      "cell_type": "code",
      "metadata": {
        "id": "ZcY8yFGe13qV"
      },
      "source": [
        "import numpy as np"
      ],
      "execution_count": null,
      "outputs": []
    },
    {
      "cell_type": "markdown",
      "metadata": {
        "id": "Mz7WqHfsyql5"
      },
      "source": [
        "# Required"
      ]
    },
    {
      "cell_type": "code",
      "metadata": {
        "id": "OVYCyJmNys-l"
      },
      "source": [
        "# manual array summing \r\n",
        "def npsum(Arr):\r\n",
        "  sum=0\r\n",
        "  for x in Arr:\r\n",
        "    sum+=x\r\n",
        "  return sum\r\n",
        "\r\n",
        "# custom function for mean\r\n",
        "def custom_mean(Arr):\r\n",
        "    return npsum(Arr)/len(Arr)\r\n",
        "\r\n",
        "# custom function for standard dev\r\n",
        "def custom_std(Data):\r\n",
        "    mean = custom_mean(Data)\r\n",
        "    sum_of_sq = npsum(Data**2)\r\n",
        "    std_pol = ((sum_of_sq/len(Data)) - mean**2)**0.5\r\n",
        "    #std_sample = ((sum_of_sq/(len(Data)-1)) - ((mean**2) * (len(Data)/(len(Data)-1))))**0.5\r\n",
        "    # returns tuple (population_variance, sample_variance)\r\n",
        "    return   std_pol\r\n",
        "\r\n",
        "# custom function for variance\r\n",
        "def custom_var(Data):\r\n",
        "    mean = custom_mean(Data)\r\n",
        "    sum_of_sq = npsum(Data**2)\r\n",
        "    var_pol = (sum_of_sq/len(Data)) - mean**2\r\n",
        "    #var_sample = (sum_of_sq/(len(Data)-1)) - ((mean**2) * (len(Data)/(len(Data)-1)))\r\n",
        "    # returns tuple (population_variance, sample_variance)\r\n",
        "    return  var_pol\r\n",
        "\r\n",
        "# define kth central moment \r\n",
        "def kth_central_moment(Data, k):\r\n",
        "  return  custom_mean((Data - custom_mean(Data))**k)\r\n",
        "\r\n"
      ],
      "execution_count": null,
      "outputs": []
    },
    {
      "cell_type": "markdown",
      "metadata": {
        "id": "QFPwwewUyP3O"
      },
      "source": [
        "# Solutions"
      ]
    },
    {
      "cell_type": "code",
      "metadata": {
        "id": "0iSdDju8yaq5"
      },
      "source": [
        "#1\r\n",
        "def get_Bias(e,s):\r\n",
        "  N=len(e)\r\n",
        "  return npsum(e-s)/N\r\n",
        "\r\n",
        "#2\r\n",
        "def get_pBias(e,s):\r\n",
        "  return 100*(npsum(e-s)/npsum(e))\r\n",
        "\r\n",
        "#3\r\n",
        "def get_NSE(e,s):\r\n",
        "  _e = custom_mean(e)\r\n",
        "  return 1 - ( npsum((e-s)**2) / npsum((e-_e)**2) )\r\n",
        "\r\n",
        "#4\r\n",
        "def get_logNSE(e,s):\r\n",
        "  _loge = np.log(custom_mean(e))\r\n",
        "  log_e, log_s = np.log(e), np.log(s)\r\n",
        "  return 1 - ( npsum((log_e-log_s)**2) / npsum((log_e-_loge)**2) )\r\n",
        "\r\n",
        "#5\r\n",
        "def get_CC(e,s):\r\n",
        "  _e, _s = custom_mean(e), custom_mean(s)\r\n",
        "  return np.sum((e-_e)*(s-_s)) / ((npsum((e-_e)**2))**0.5 * (npsum((s-_s)**2))**0.5)\r\n",
        "\r\n",
        "#6\r\n",
        "def get_r2(e,s):\r\n",
        "  return get_CC(e,s)**2\r\n",
        "\r\n",
        "#7\r\n",
        "def get_MSE(e,s):\r\n",
        "  N=len(e)\r\n",
        "  return npsum((e-s)**2)/N\r\n",
        "\r\n",
        "#8\r\n",
        "def get_RMSE(e,s):\r\n",
        "  return get_MSE(e,s)**0.5\r\n",
        "\r\n",
        "#9\r\n",
        "def get_MAE(e,s):\r\n",
        "  N=len(e)\r\n",
        "  return npsum(np.absolute(e-s))/N\r\n",
        "\r\n",
        "#10\r\n",
        "def get_RRMSE(e,s):\r\n",
        "  return get_RMSE(e,s)/custom_mean(e)\r\n",
        "\r\n",
        "#11\r\n",
        "def get_d(e,s):\r\n",
        "  _e = custom_mean(e)\r\n",
        "  return 1- ( npsum((e-s)**2)  /  npsum( ( np.abs(s-_e) + np.abs(e-_e) )**2 ) )\r\n",
        "\r\n",
        "#12\r\n",
        "def get_Covariance(e,s):\r\n",
        "  N, _e, _s = len(e), custom_mean(e), custom_mean(s)\r\n",
        "  return npsum((e-_e)*(s-_s))/N\r\n",
        "\r\n",
        "#13\r\n",
        "def get_kge(e,s):\r\n",
        "  _e, _s = custom_mean(e), custom_mean(s)\r\n",
        "  _ve, _vs = custom_var(e), custom_var(s)\r\n",
        "  return 1 - ( (get_CC(e,s) - 1)**2 + (_e/_s)**2 + (_ve/_vs)  )**0.5\r\n",
        "\r\n",
        "#14\r\n",
        "def get_rsr(e,s):\r\n",
        "  return get_RMSE(e,s) / custom_std(e)\r\n",
        "\r\n",
        "#15\r\n",
        "def get_ve(e,s):\r\n",
        "  return npsum(s-e) / npsum(e)\r\n",
        "\r\n"
      ],
      "execution_count": null,
      "outputs": []
    },
    {
      "cell_type": "markdown",
      "metadata": {
        "id": "VLQhZuDazT6l"
      },
      "source": [
        "# Data"
      ]
    },
    {
      "cell_type": "code",
      "metadata": {
        "id": "rbc6olmKx3nV"
      },
      "source": [
        "actual_val = np.array([12,15,9,7,13,20,24,19,13,28])\r\n",
        "predicted_val = np.array([11,16,7,13,13,19,25,22,14,25])"
      ],
      "execution_count": null,
      "outputs": []
    },
    {
      "cell_type": "markdown",
      "metadata": {
        "id": "2lR0S9qJAxj-"
      },
      "source": [
        "# Results"
      ]
    },
    {
      "cell_type": "code",
      "metadata": {
        "colab": {
          "base_uri": "https://localhost:8080/"
        },
        "id": "07feJEuy9WCy",
        "outputId": "f1f20e53-8463-475a-c425-3a5fc183aef9"
      },
      "source": [
        "print('1.Bias\\t\\t',get_Bias(actual_val,predicted_val))\r\n",
        "print('2.pBias\\t\\t',get_pBias(actual_val,predicted_val))\r\n",
        "print('3.NSE\\t\\t',get_NSE(actual_val,predicted_val))\r\n",
        "print('4.logNSE\\t',get_logNSE(actual_val,predicted_val))\r\n",
        "print('5. CC\\t\\t',get_CC(actual_val,predicted_val))\r\n",
        "print('6. r2\\t\\t',get_r2(actual_val,predicted_val))\r\n",
        "print('7.MSE\\t\\t',get_MSE(actual_val,predicted_val))\r\n",
        "print('8.RMSE\\t\\t',get_RMSE(actual_val,predicted_val))\r\n",
        "print('9.MAE\\t\\t',get_MAE(actual_val,predicted_val))\r\n",
        "print('10.RRMSE\\t',get_RRMSE(actual_val,predicted_val))\r\n",
        "print('11. d\\t\\t',get_d(actual_val,predicted_val))\r\n",
        "print('12.Covariance\\t',get_Covariance(actual_val,predicted_val))\r\n",
        "print('13.kge\\t\\t',get_kge(actual_val,predicted_val))\r\n",
        "print('14.rsr\\t\\t',get_rsr(actual_val,predicted_val))\r\n",
        "print('15.ve\\t\\t',get_ve(actual_val,predicted_val))\r\n",
        "\r\n"
      ],
      "execution_count": null,
      "outputs": [
        {
          "output_type": "stream",
          "text": [
            "1.Bias\t\t -0.5\n",
            "2.pBias\t\t -3.125\n",
            "3.NSE\t\t 0.8417085427135679\n",
            "4.logNSE\t 0.7121054364600313\n",
            "5. CC\t\t 0.9208893410030699\n",
            "6. r2\t\t 0.8480371783730682\n",
            "7.MSE\t\t 6.3\n",
            "8.RMSE\t\t 2.5099800796022267\n",
            "9.MAE\t\t 1.9\n",
            "10.RRMSE\t 0.15687375497513917\n",
            "11. d\t\t 0.955096222380613\n",
            "12.Covariance\t 33.5\n",
            "13.kge\t\t -0.46409125077961666\n",
            "14.rsr\t\t 0.39785858955969783\n",
            "15.ve\t\t 0.03125\n"
          ],
          "name": "stdout"
        }
      ]
    }
  ]
}