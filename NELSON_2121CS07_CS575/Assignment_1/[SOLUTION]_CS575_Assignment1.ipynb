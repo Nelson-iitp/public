{
  "nbformat": 4,
  "nbformat_minor": 0,
  "metadata": {
    "colab": {
      "name": "CS575_Assignment1.ipynb",
      "provenance": [],
      "collapsed_sections": [],
      "toc_visible": true,
      "include_colab_link": true
    },
    "kernelspec": {
      "name": "python3",
      "display_name": "Python 3"
    }
  },
  "cells": [
    {
      "cell_type": "markdown",
      "metadata": {
        "id": "view-in-github",
        "colab_type": "text"
      },
      "source": [
        "<a href=\"https://colab.research.google.com/github/Nelson-iitp/2121CS07_CS575/blob/main/Assignment_1/%5BSOLUTION%5D_CS575_Assignment1.ipynb\" target=\"_parent\"><img src=\"https://colab.research.google.com/assets/colab-badge.svg\" alt=\"Open In Colab\"/></a>"
      ]
    },
    {
      "cell_type": "code",
      "metadata": {
        "colab": {
          "base_uri": "https://localhost:8080/"
        },
        "id": "oCOgZnyqrVgN",
        "outputId": "286d3b7f-1421-4cc6-ee48-ecf9f4fcfc73"
      },
      "source": [
        "%reset"
      ],
      "execution_count": 1,
      "outputs": [
        {
          "output_type": "stream",
          "text": [
            "Once deleted, variables cannot be recovered. Proceed (y/[n])? y\n"
          ],
          "name": "stdout"
        }
      ]
    },
    {
      "cell_type": "markdown",
      "metadata": {
        "id": "5UVv_bwue7JE"
      },
      "source": [
        "#Basic Descriptive Stats"
      ]
    },
    {
      "cell_type": "markdown",
      "metadata": {
        "id": "r1WSk4v2pabB"
      },
      "source": [
        "##[1] Load Numpy, Pandas and other Libraries"
      ]
    },
    {
      "cell_type": "code",
      "metadata": {
        "id": "h_Tq5slDrW91",
        "colab": {
          "base_uri": "https://localhost:8080/"
        },
        "outputId": "ecb29a7b-41c5-43c3-dd02-5071e9dbab48"
      },
      "source": [
        "import datetime as dt\r\n",
        "import numpy as np\r\n",
        "import pandas as pd\r\n",
        "import math\r\n",
        "import scipy.stats as st\r\n",
        "\r\n",
        "#snippet\r\n",
        "dt_start = dt.datetime.now()\r\n",
        "dt_end = dt.datetime.now()\r\n",
        "print('Elapsed Time:', dt_end - dt_start)"
      ],
      "execution_count": 2,
      "outputs": [
        {
          "output_type": "stream",
          "text": [
            "Elapsed Time: 0:00:00.000034\n"
          ],
          "name": "stdout"
        }
      ]
    },
    {
      "cell_type": "markdown",
      "metadata": {
        "id": "0E_fqWDcpk1S"
      },
      "source": [
        "## [2] Load Dataset \"Inc_Exp_Data.csv\" using Pandas"
      ]
    },
    {
      "cell_type": "code",
      "metadata": {
        "id": "uS7PTAoWvbWe"
      },
      "source": [
        "DATA_SET_LOCATION = \"https://raw.githubusercontent.com/cs575ts/Assignments/main/Assignment_1/Inc_Exp_Data.csv\"\r\n",
        "df = pd.read_csv(DATA_SET_LOCATION, sep=\",\")"
      ],
      "execution_count": 3,
      "outputs": []
    },
    {
      "cell_type": "markdown",
      "metadata": {
        "id": "26a653XTpsrL"
      },
      "source": [
        "## [3] Analyze the data using pandas info() *function*"
      ]
    },
    {
      "cell_type": "code",
      "metadata": {
        "id": "HbA5rIO4qJSS",
        "colab": {
          "base_uri": "https://localhost:8080/"
        },
        "outputId": "dfac952d-794c-4895-c63b-6c28098fc69d"
      },
      "source": [
        "df.info()"
      ],
      "execution_count": 4,
      "outputs": [
        {
          "output_type": "stream",
          "text": [
            "<class 'pandas.core.frame.DataFrame'>\n",
            "RangeIndex: 50 entries, 0 to 49\n",
            "Data columns (total 7 columns):\n",
            " #   Column                    Non-Null Count  Dtype \n",
            "---  ------                    --------------  ----- \n",
            " 0   Mthly_HH_Income           50 non-null     int64 \n",
            " 1   Mthly_HH_Expense          50 non-null     int64 \n",
            " 2   No_of_Fly_Members         50 non-null     int64 \n",
            " 3   Emi_or_Rent_Amt           50 non-null     int64 \n",
            " 4   Annual_HH_Income          50 non-null     int64 \n",
            " 5   Highest_Qualified_Member  50 non-null     object\n",
            " 6   No_of_Earning_Members     50 non-null     int64 \n",
            "dtypes: int64(6), object(1)\n",
            "memory usage: 2.9+ KB\n"
          ],
          "name": "stdout"
        }
      ]
    },
    {
      "cell_type": "markdown",
      "metadata": {
        "id": "0bfcP5Twp4Sr"
      },
      "source": [
        "## [4] Analyze the data using pandas describe() *function*"
      ]
    },
    {
      "cell_type": "code",
      "metadata": {
        "id": "wf08Cv0cqJ-K",
        "colab": {
          "base_uri": "https://localhost:8080/",
          "height": 297
        },
        "outputId": "e8f329d2-c886-490e-9440-9243dab8b2d6"
      },
      "source": [
        "df.describe()"
      ],
      "execution_count": 5,
      "outputs": [
        {
          "output_type": "execute_result",
          "data": {
            "text/html": [
              "<div>\n",
              "<style scoped>\n",
              "    .dataframe tbody tr th:only-of-type {\n",
              "        vertical-align: middle;\n",
              "    }\n",
              "\n",
              "    .dataframe tbody tr th {\n",
              "        vertical-align: top;\n",
              "    }\n",
              "\n",
              "    .dataframe thead th {\n",
              "        text-align: right;\n",
              "    }\n",
              "</style>\n",
              "<table border=\"1\" class=\"dataframe\">\n",
              "  <thead>\n",
              "    <tr style=\"text-align: right;\">\n",
              "      <th></th>\n",
              "      <th>Mthly_HH_Income</th>\n",
              "      <th>Mthly_HH_Expense</th>\n",
              "      <th>No_of_Fly_Members</th>\n",
              "      <th>Emi_or_Rent_Amt</th>\n",
              "      <th>Annual_HH_Income</th>\n",
              "      <th>No_of_Earning_Members</th>\n",
              "    </tr>\n",
              "  </thead>\n",
              "  <tbody>\n",
              "    <tr>\n",
              "      <th>count</th>\n",
              "      <td>50.000000</td>\n",
              "      <td>50.000000</td>\n",
              "      <td>50.000000</td>\n",
              "      <td>50.000000</td>\n",
              "      <td>5.000000e+01</td>\n",
              "      <td>50.000000</td>\n",
              "    </tr>\n",
              "    <tr>\n",
              "      <th>mean</th>\n",
              "      <td>41558.000000</td>\n",
              "      <td>18818.000000</td>\n",
              "      <td>4.060000</td>\n",
              "      <td>3060.000000</td>\n",
              "      <td>4.900190e+05</td>\n",
              "      <td>1.460000</td>\n",
              "    </tr>\n",
              "    <tr>\n",
              "      <th>std</th>\n",
              "      <td>26097.908979</td>\n",
              "      <td>12090.216824</td>\n",
              "      <td>1.517382</td>\n",
              "      <td>6241.434948</td>\n",
              "      <td>3.201358e+05</td>\n",
              "      <td>0.734291</td>\n",
              "    </tr>\n",
              "    <tr>\n",
              "      <th>min</th>\n",
              "      <td>5000.000000</td>\n",
              "      <td>2000.000000</td>\n",
              "      <td>1.000000</td>\n",
              "      <td>0.000000</td>\n",
              "      <td>6.420000e+04</td>\n",
              "      <td>1.000000</td>\n",
              "    </tr>\n",
              "    <tr>\n",
              "      <th>25%</th>\n",
              "      <td>23550.000000</td>\n",
              "      <td>10000.000000</td>\n",
              "      <td>3.000000</td>\n",
              "      <td>0.000000</td>\n",
              "      <td>2.587500e+05</td>\n",
              "      <td>1.000000</td>\n",
              "    </tr>\n",
              "    <tr>\n",
              "      <th>50%</th>\n",
              "      <td>35000.000000</td>\n",
              "      <td>15500.000000</td>\n",
              "      <td>4.000000</td>\n",
              "      <td>0.000000</td>\n",
              "      <td>4.474200e+05</td>\n",
              "      <td>1.000000</td>\n",
              "    </tr>\n",
              "    <tr>\n",
              "      <th>75%</th>\n",
              "      <td>50375.000000</td>\n",
              "      <td>25000.000000</td>\n",
              "      <td>5.000000</td>\n",
              "      <td>3500.000000</td>\n",
              "      <td>5.947200e+05</td>\n",
              "      <td>2.000000</td>\n",
              "    </tr>\n",
              "    <tr>\n",
              "      <th>max</th>\n",
              "      <td>100000.000000</td>\n",
              "      <td>50000.000000</td>\n",
              "      <td>7.000000</td>\n",
              "      <td>35000.000000</td>\n",
              "      <td>1.404000e+06</td>\n",
              "      <td>4.000000</td>\n",
              "    </tr>\n",
              "  </tbody>\n",
              "</table>\n",
              "</div>"
            ],
            "text/plain": [
              "       Mthly_HH_Income  ...  No_of_Earning_Members\n",
              "count        50.000000  ...              50.000000\n",
              "mean      41558.000000  ...               1.460000\n",
              "std       26097.908979  ...               0.734291\n",
              "min        5000.000000  ...               1.000000\n",
              "25%       23550.000000  ...               1.000000\n",
              "50%       35000.000000  ...               1.000000\n",
              "75%       50375.000000  ...               2.000000\n",
              "max      100000.000000  ...               4.000000\n",
              "\n",
              "[8 rows x 6 columns]"
            ]
          },
          "metadata": {
            "tags": []
          },
          "execution_count": 5
        }
      ]
    },
    {
      "cell_type": "markdown",
      "metadata": {
        "id": "Gy_Q1psDp3K0"
      },
      "source": [
        "## [5] Analyze the data using pandas shape object"
      ]
    },
    {
      "cell_type": "code",
      "metadata": {
        "id": "lskKTYblqKUC",
        "colab": {
          "base_uri": "https://localhost:8080/"
        },
        "outputId": "b0439034-f41a-4117-abfd-559e7a9a0cc3"
      },
      "source": [
        "df.shape"
      ],
      "execution_count": 6,
      "outputs": [
        {
          "output_type": "execute_result",
          "data": {
            "text/plain": [
              "(50, 7)"
            ]
          },
          "metadata": {
            "tags": []
          },
          "execution_count": 6
        }
      ]
    },
    {
      "cell_type": "markdown",
      "metadata": {
        "id": "bTQjekrUp9LW"
      },
      "source": [
        "##[6] Check for missing values"
      ]
    },
    {
      "cell_type": "code",
      "metadata": {
        "id": "e9FUUTH7qKtq",
        "colab": {
          "base_uri": "https://localhost:8080/"
        },
        "outputId": "770264e8-15a3-47dc-8d8f-85f436454291"
      },
      "source": [
        "print('Missing Values in Dataset')\r\n",
        "print(\"\\t#NULLS =\",len(np.where(df.isnull()==True)[0]))\r\n",
        "print(\"\\t#N/A =\",len(np.where(df.isna()==True)[0]))\r\n",
        "print('')\r\n",
        "for k in df.keys():\r\n",
        "  print('Invalid Values in COLUMN:',k,'\\t',len(df[k])-df[k].count())\r\n",
        "  print('')"
      ],
      "execution_count": 7,
      "outputs": [
        {
          "output_type": "stream",
          "text": [
            "Missing Values in Dataset\n",
            "\t#NULLS = 0\n",
            "\t#N/A = 0\n",
            "\n",
            "Invalid Values in COLUMN: Mthly_HH_Income \t 0\n",
            "\n",
            "Invalid Values in COLUMN: Mthly_HH_Expense \t 0\n",
            "\n",
            "Invalid Values in COLUMN: No_of_Fly_Members \t 0\n",
            "\n",
            "Invalid Values in COLUMN: Emi_or_Rent_Amt \t 0\n",
            "\n",
            "Invalid Values in COLUMN: Annual_HH_Income \t 0\n",
            "\n",
            "Invalid Values in COLUMN: Highest_Qualified_Member \t 0\n",
            "\n",
            "Invalid Values in COLUMN: No_of_Earning_Members \t 0\n",
            "\n"
          ],
          "name": "stdout"
        }
      ]
    },
    {
      "cell_type": "code",
      "metadata": {
        "colab": {
          "base_uri": "https://localhost:8080/",
          "height": 1000
        },
        "id": "1rPG0MPnYLU-",
        "outputId": "d0000b7f-1a6d-4fb4-fccc-baad4184c242"
      },
      "source": [
        "df.isnull()"
      ],
      "execution_count": 8,
      "outputs": [
        {
          "output_type": "execute_result",
          "data": {
            "text/html": [
              "<div>\n",
              "<style scoped>\n",
              "    .dataframe tbody tr th:only-of-type {\n",
              "        vertical-align: middle;\n",
              "    }\n",
              "\n",
              "    .dataframe tbody tr th {\n",
              "        vertical-align: top;\n",
              "    }\n",
              "\n",
              "    .dataframe thead th {\n",
              "        text-align: right;\n",
              "    }\n",
              "</style>\n",
              "<table border=\"1\" class=\"dataframe\">\n",
              "  <thead>\n",
              "    <tr style=\"text-align: right;\">\n",
              "      <th></th>\n",
              "      <th>Mthly_HH_Income</th>\n",
              "      <th>Mthly_HH_Expense</th>\n",
              "      <th>No_of_Fly_Members</th>\n",
              "      <th>Emi_or_Rent_Amt</th>\n",
              "      <th>Annual_HH_Income</th>\n",
              "      <th>Highest_Qualified_Member</th>\n",
              "      <th>No_of_Earning_Members</th>\n",
              "    </tr>\n",
              "  </thead>\n",
              "  <tbody>\n",
              "    <tr>\n",
              "      <th>0</th>\n",
              "      <td>False</td>\n",
              "      <td>False</td>\n",
              "      <td>False</td>\n",
              "      <td>False</td>\n",
              "      <td>False</td>\n",
              "      <td>False</td>\n",
              "      <td>False</td>\n",
              "    </tr>\n",
              "    <tr>\n",
              "      <th>1</th>\n",
              "      <td>False</td>\n",
              "      <td>False</td>\n",
              "      <td>False</td>\n",
              "      <td>False</td>\n",
              "      <td>False</td>\n",
              "      <td>False</td>\n",
              "      <td>False</td>\n",
              "    </tr>\n",
              "    <tr>\n",
              "      <th>2</th>\n",
              "      <td>False</td>\n",
              "      <td>False</td>\n",
              "      <td>False</td>\n",
              "      <td>False</td>\n",
              "      <td>False</td>\n",
              "      <td>False</td>\n",
              "      <td>False</td>\n",
              "    </tr>\n",
              "    <tr>\n",
              "      <th>3</th>\n",
              "      <td>False</td>\n",
              "      <td>False</td>\n",
              "      <td>False</td>\n",
              "      <td>False</td>\n",
              "      <td>False</td>\n",
              "      <td>False</td>\n",
              "      <td>False</td>\n",
              "    </tr>\n",
              "    <tr>\n",
              "      <th>4</th>\n",
              "      <td>False</td>\n",
              "      <td>False</td>\n",
              "      <td>False</td>\n",
              "      <td>False</td>\n",
              "      <td>False</td>\n",
              "      <td>False</td>\n",
              "      <td>False</td>\n",
              "    </tr>\n",
              "    <tr>\n",
              "      <th>5</th>\n",
              "      <td>False</td>\n",
              "      <td>False</td>\n",
              "      <td>False</td>\n",
              "      <td>False</td>\n",
              "      <td>False</td>\n",
              "      <td>False</td>\n",
              "      <td>False</td>\n",
              "    </tr>\n",
              "    <tr>\n",
              "      <th>6</th>\n",
              "      <td>False</td>\n",
              "      <td>False</td>\n",
              "      <td>False</td>\n",
              "      <td>False</td>\n",
              "      <td>False</td>\n",
              "      <td>False</td>\n",
              "      <td>False</td>\n",
              "    </tr>\n",
              "    <tr>\n",
              "      <th>7</th>\n",
              "      <td>False</td>\n",
              "      <td>False</td>\n",
              "      <td>False</td>\n",
              "      <td>False</td>\n",
              "      <td>False</td>\n",
              "      <td>False</td>\n",
              "      <td>False</td>\n",
              "    </tr>\n",
              "    <tr>\n",
              "      <th>8</th>\n",
              "      <td>False</td>\n",
              "      <td>False</td>\n",
              "      <td>False</td>\n",
              "      <td>False</td>\n",
              "      <td>False</td>\n",
              "      <td>False</td>\n",
              "      <td>False</td>\n",
              "    </tr>\n",
              "    <tr>\n",
              "      <th>9</th>\n",
              "      <td>False</td>\n",
              "      <td>False</td>\n",
              "      <td>False</td>\n",
              "      <td>False</td>\n",
              "      <td>False</td>\n",
              "      <td>False</td>\n",
              "      <td>False</td>\n",
              "    </tr>\n",
              "    <tr>\n",
              "      <th>10</th>\n",
              "      <td>False</td>\n",
              "      <td>False</td>\n",
              "      <td>False</td>\n",
              "      <td>False</td>\n",
              "      <td>False</td>\n",
              "      <td>False</td>\n",
              "      <td>False</td>\n",
              "    </tr>\n",
              "    <tr>\n",
              "      <th>11</th>\n",
              "      <td>False</td>\n",
              "      <td>False</td>\n",
              "      <td>False</td>\n",
              "      <td>False</td>\n",
              "      <td>False</td>\n",
              "      <td>False</td>\n",
              "      <td>False</td>\n",
              "    </tr>\n",
              "    <tr>\n",
              "      <th>12</th>\n",
              "      <td>False</td>\n",
              "      <td>False</td>\n",
              "      <td>False</td>\n",
              "      <td>False</td>\n",
              "      <td>False</td>\n",
              "      <td>False</td>\n",
              "      <td>False</td>\n",
              "    </tr>\n",
              "    <tr>\n",
              "      <th>13</th>\n",
              "      <td>False</td>\n",
              "      <td>False</td>\n",
              "      <td>False</td>\n",
              "      <td>False</td>\n",
              "      <td>False</td>\n",
              "      <td>False</td>\n",
              "      <td>False</td>\n",
              "    </tr>\n",
              "    <tr>\n",
              "      <th>14</th>\n",
              "      <td>False</td>\n",
              "      <td>False</td>\n",
              "      <td>False</td>\n",
              "      <td>False</td>\n",
              "      <td>False</td>\n",
              "      <td>False</td>\n",
              "      <td>False</td>\n",
              "    </tr>\n",
              "    <tr>\n",
              "      <th>15</th>\n",
              "      <td>False</td>\n",
              "      <td>False</td>\n",
              "      <td>False</td>\n",
              "      <td>False</td>\n",
              "      <td>False</td>\n",
              "      <td>False</td>\n",
              "      <td>False</td>\n",
              "    </tr>\n",
              "    <tr>\n",
              "      <th>16</th>\n",
              "      <td>False</td>\n",
              "      <td>False</td>\n",
              "      <td>False</td>\n",
              "      <td>False</td>\n",
              "      <td>False</td>\n",
              "      <td>False</td>\n",
              "      <td>False</td>\n",
              "    </tr>\n",
              "    <tr>\n",
              "      <th>17</th>\n",
              "      <td>False</td>\n",
              "      <td>False</td>\n",
              "      <td>False</td>\n",
              "      <td>False</td>\n",
              "      <td>False</td>\n",
              "      <td>False</td>\n",
              "      <td>False</td>\n",
              "    </tr>\n",
              "    <tr>\n",
              "      <th>18</th>\n",
              "      <td>False</td>\n",
              "      <td>False</td>\n",
              "      <td>False</td>\n",
              "      <td>False</td>\n",
              "      <td>False</td>\n",
              "      <td>False</td>\n",
              "      <td>False</td>\n",
              "    </tr>\n",
              "    <tr>\n",
              "      <th>19</th>\n",
              "      <td>False</td>\n",
              "      <td>False</td>\n",
              "      <td>False</td>\n",
              "      <td>False</td>\n",
              "      <td>False</td>\n",
              "      <td>False</td>\n",
              "      <td>False</td>\n",
              "    </tr>\n",
              "    <tr>\n",
              "      <th>20</th>\n",
              "      <td>False</td>\n",
              "      <td>False</td>\n",
              "      <td>False</td>\n",
              "      <td>False</td>\n",
              "      <td>False</td>\n",
              "      <td>False</td>\n",
              "      <td>False</td>\n",
              "    </tr>\n",
              "    <tr>\n",
              "      <th>21</th>\n",
              "      <td>False</td>\n",
              "      <td>False</td>\n",
              "      <td>False</td>\n",
              "      <td>False</td>\n",
              "      <td>False</td>\n",
              "      <td>False</td>\n",
              "      <td>False</td>\n",
              "    </tr>\n",
              "    <tr>\n",
              "      <th>22</th>\n",
              "      <td>False</td>\n",
              "      <td>False</td>\n",
              "      <td>False</td>\n",
              "      <td>False</td>\n",
              "      <td>False</td>\n",
              "      <td>False</td>\n",
              "      <td>False</td>\n",
              "    </tr>\n",
              "    <tr>\n",
              "      <th>23</th>\n",
              "      <td>False</td>\n",
              "      <td>False</td>\n",
              "      <td>False</td>\n",
              "      <td>False</td>\n",
              "      <td>False</td>\n",
              "      <td>False</td>\n",
              "      <td>False</td>\n",
              "    </tr>\n",
              "    <tr>\n",
              "      <th>24</th>\n",
              "      <td>False</td>\n",
              "      <td>False</td>\n",
              "      <td>False</td>\n",
              "      <td>False</td>\n",
              "      <td>False</td>\n",
              "      <td>False</td>\n",
              "      <td>False</td>\n",
              "    </tr>\n",
              "    <tr>\n",
              "      <th>25</th>\n",
              "      <td>False</td>\n",
              "      <td>False</td>\n",
              "      <td>False</td>\n",
              "      <td>False</td>\n",
              "      <td>False</td>\n",
              "      <td>False</td>\n",
              "      <td>False</td>\n",
              "    </tr>\n",
              "    <tr>\n",
              "      <th>26</th>\n",
              "      <td>False</td>\n",
              "      <td>False</td>\n",
              "      <td>False</td>\n",
              "      <td>False</td>\n",
              "      <td>False</td>\n",
              "      <td>False</td>\n",
              "      <td>False</td>\n",
              "    </tr>\n",
              "    <tr>\n",
              "      <th>27</th>\n",
              "      <td>False</td>\n",
              "      <td>False</td>\n",
              "      <td>False</td>\n",
              "      <td>False</td>\n",
              "      <td>False</td>\n",
              "      <td>False</td>\n",
              "      <td>False</td>\n",
              "    </tr>\n",
              "    <tr>\n",
              "      <th>28</th>\n",
              "      <td>False</td>\n",
              "      <td>False</td>\n",
              "      <td>False</td>\n",
              "      <td>False</td>\n",
              "      <td>False</td>\n",
              "      <td>False</td>\n",
              "      <td>False</td>\n",
              "    </tr>\n",
              "    <tr>\n",
              "      <th>29</th>\n",
              "      <td>False</td>\n",
              "      <td>False</td>\n",
              "      <td>False</td>\n",
              "      <td>False</td>\n",
              "      <td>False</td>\n",
              "      <td>False</td>\n",
              "      <td>False</td>\n",
              "    </tr>\n",
              "    <tr>\n",
              "      <th>30</th>\n",
              "      <td>False</td>\n",
              "      <td>False</td>\n",
              "      <td>False</td>\n",
              "      <td>False</td>\n",
              "      <td>False</td>\n",
              "      <td>False</td>\n",
              "      <td>False</td>\n",
              "    </tr>\n",
              "    <tr>\n",
              "      <th>31</th>\n",
              "      <td>False</td>\n",
              "      <td>False</td>\n",
              "      <td>False</td>\n",
              "      <td>False</td>\n",
              "      <td>False</td>\n",
              "      <td>False</td>\n",
              "      <td>False</td>\n",
              "    </tr>\n",
              "    <tr>\n",
              "      <th>32</th>\n",
              "      <td>False</td>\n",
              "      <td>False</td>\n",
              "      <td>False</td>\n",
              "      <td>False</td>\n",
              "      <td>False</td>\n",
              "      <td>False</td>\n",
              "      <td>False</td>\n",
              "    </tr>\n",
              "    <tr>\n",
              "      <th>33</th>\n",
              "      <td>False</td>\n",
              "      <td>False</td>\n",
              "      <td>False</td>\n",
              "      <td>False</td>\n",
              "      <td>False</td>\n",
              "      <td>False</td>\n",
              "      <td>False</td>\n",
              "    </tr>\n",
              "    <tr>\n",
              "      <th>34</th>\n",
              "      <td>False</td>\n",
              "      <td>False</td>\n",
              "      <td>False</td>\n",
              "      <td>False</td>\n",
              "      <td>False</td>\n",
              "      <td>False</td>\n",
              "      <td>False</td>\n",
              "    </tr>\n",
              "    <tr>\n",
              "      <th>35</th>\n",
              "      <td>False</td>\n",
              "      <td>False</td>\n",
              "      <td>False</td>\n",
              "      <td>False</td>\n",
              "      <td>False</td>\n",
              "      <td>False</td>\n",
              "      <td>False</td>\n",
              "    </tr>\n",
              "    <tr>\n",
              "      <th>36</th>\n",
              "      <td>False</td>\n",
              "      <td>False</td>\n",
              "      <td>False</td>\n",
              "      <td>False</td>\n",
              "      <td>False</td>\n",
              "      <td>False</td>\n",
              "      <td>False</td>\n",
              "    </tr>\n",
              "    <tr>\n",
              "      <th>37</th>\n",
              "      <td>False</td>\n",
              "      <td>False</td>\n",
              "      <td>False</td>\n",
              "      <td>False</td>\n",
              "      <td>False</td>\n",
              "      <td>False</td>\n",
              "      <td>False</td>\n",
              "    </tr>\n",
              "    <tr>\n",
              "      <th>38</th>\n",
              "      <td>False</td>\n",
              "      <td>False</td>\n",
              "      <td>False</td>\n",
              "      <td>False</td>\n",
              "      <td>False</td>\n",
              "      <td>False</td>\n",
              "      <td>False</td>\n",
              "    </tr>\n",
              "    <tr>\n",
              "      <th>39</th>\n",
              "      <td>False</td>\n",
              "      <td>False</td>\n",
              "      <td>False</td>\n",
              "      <td>False</td>\n",
              "      <td>False</td>\n",
              "      <td>False</td>\n",
              "      <td>False</td>\n",
              "    </tr>\n",
              "    <tr>\n",
              "      <th>40</th>\n",
              "      <td>False</td>\n",
              "      <td>False</td>\n",
              "      <td>False</td>\n",
              "      <td>False</td>\n",
              "      <td>False</td>\n",
              "      <td>False</td>\n",
              "      <td>False</td>\n",
              "    </tr>\n",
              "    <tr>\n",
              "      <th>41</th>\n",
              "      <td>False</td>\n",
              "      <td>False</td>\n",
              "      <td>False</td>\n",
              "      <td>False</td>\n",
              "      <td>False</td>\n",
              "      <td>False</td>\n",
              "      <td>False</td>\n",
              "    </tr>\n",
              "    <tr>\n",
              "      <th>42</th>\n",
              "      <td>False</td>\n",
              "      <td>False</td>\n",
              "      <td>False</td>\n",
              "      <td>False</td>\n",
              "      <td>False</td>\n",
              "      <td>False</td>\n",
              "      <td>False</td>\n",
              "    </tr>\n",
              "    <tr>\n",
              "      <th>43</th>\n",
              "      <td>False</td>\n",
              "      <td>False</td>\n",
              "      <td>False</td>\n",
              "      <td>False</td>\n",
              "      <td>False</td>\n",
              "      <td>False</td>\n",
              "      <td>False</td>\n",
              "    </tr>\n",
              "    <tr>\n",
              "      <th>44</th>\n",
              "      <td>False</td>\n",
              "      <td>False</td>\n",
              "      <td>False</td>\n",
              "      <td>False</td>\n",
              "      <td>False</td>\n",
              "      <td>False</td>\n",
              "      <td>False</td>\n",
              "    </tr>\n",
              "    <tr>\n",
              "      <th>45</th>\n",
              "      <td>False</td>\n",
              "      <td>False</td>\n",
              "      <td>False</td>\n",
              "      <td>False</td>\n",
              "      <td>False</td>\n",
              "      <td>False</td>\n",
              "      <td>False</td>\n",
              "    </tr>\n",
              "    <tr>\n",
              "      <th>46</th>\n",
              "      <td>False</td>\n",
              "      <td>False</td>\n",
              "      <td>False</td>\n",
              "      <td>False</td>\n",
              "      <td>False</td>\n",
              "      <td>False</td>\n",
              "      <td>False</td>\n",
              "    </tr>\n",
              "    <tr>\n",
              "      <th>47</th>\n",
              "      <td>False</td>\n",
              "      <td>False</td>\n",
              "      <td>False</td>\n",
              "      <td>False</td>\n",
              "      <td>False</td>\n",
              "      <td>False</td>\n",
              "      <td>False</td>\n",
              "    </tr>\n",
              "    <tr>\n",
              "      <th>48</th>\n",
              "      <td>False</td>\n",
              "      <td>False</td>\n",
              "      <td>False</td>\n",
              "      <td>False</td>\n",
              "      <td>False</td>\n",
              "      <td>False</td>\n",
              "      <td>False</td>\n",
              "    </tr>\n",
              "    <tr>\n",
              "      <th>49</th>\n",
              "      <td>False</td>\n",
              "      <td>False</td>\n",
              "      <td>False</td>\n",
              "      <td>False</td>\n",
              "      <td>False</td>\n",
              "      <td>False</td>\n",
              "      <td>False</td>\n",
              "    </tr>\n",
              "  </tbody>\n",
              "</table>\n",
              "</div>"
            ],
            "text/plain": [
              "    Mthly_HH_Income  ...  No_of_Earning_Members\n",
              "0             False  ...                  False\n",
              "1             False  ...                  False\n",
              "2             False  ...                  False\n",
              "3             False  ...                  False\n",
              "4             False  ...                  False\n",
              "5             False  ...                  False\n",
              "6             False  ...                  False\n",
              "7             False  ...                  False\n",
              "8             False  ...                  False\n",
              "9             False  ...                  False\n",
              "10            False  ...                  False\n",
              "11            False  ...                  False\n",
              "12            False  ...                  False\n",
              "13            False  ...                  False\n",
              "14            False  ...                  False\n",
              "15            False  ...                  False\n",
              "16            False  ...                  False\n",
              "17            False  ...                  False\n",
              "18            False  ...                  False\n",
              "19            False  ...                  False\n",
              "20            False  ...                  False\n",
              "21            False  ...                  False\n",
              "22            False  ...                  False\n",
              "23            False  ...                  False\n",
              "24            False  ...                  False\n",
              "25            False  ...                  False\n",
              "26            False  ...                  False\n",
              "27            False  ...                  False\n",
              "28            False  ...                  False\n",
              "29            False  ...                  False\n",
              "30            False  ...                  False\n",
              "31            False  ...                  False\n",
              "32            False  ...                  False\n",
              "33            False  ...                  False\n",
              "34            False  ...                  False\n",
              "35            False  ...                  False\n",
              "36            False  ...                  False\n",
              "37            False  ...                  False\n",
              "38            False  ...                  False\n",
              "39            False  ...                  False\n",
              "40            False  ...                  False\n",
              "41            False  ...                  False\n",
              "42            False  ...                  False\n",
              "43            False  ...                  False\n",
              "44            False  ...                  False\n",
              "45            False  ...                  False\n",
              "46            False  ...                  False\n",
              "47            False  ...                  False\n",
              "48            False  ...                  False\n",
              "49            False  ...                  False\n",
              "\n",
              "[50 rows x 7 columns]"
            ]
          },
          "metadata": {
            "tags": []
          },
          "execution_count": 8
        }
      ]
    },
    {
      "cell_type": "markdown",
      "metadata": {
        "id": "VSfKC-bgqLFC"
      },
      "source": [
        "##[7] What is the Mean Expense of a Household? Compute mean using Inbuilt pandas function and write your own function for the same."
      ]
    },
    {
      "cell_type": "code",
      "metadata": {
        "id": "DCRfeoKZqMzP",
        "colab": {
          "base_uri": "https://localhost:8080/"
        },
        "outputId": "41d6bd13-59a3-4bd6-8d34-4c460b63c9cb"
      },
      "source": [
        "# manual array summing \r\n",
        "def npsum(Arr):\r\n",
        "  sum=0\r\n",
        "  for x in Arr:\r\n",
        "    sum+=x\r\n",
        "  return sum\r\n",
        "\r\n",
        "# custom function for mean\r\n",
        "def custom_mean(Arr):\r\n",
        "    return npsum(Arr)/len(Arr)\r\n",
        "\r\n",
        "#~~~~~~~~~~~~~~~~~~~~~~~~~~~~~~~~~~~~~~~~~~~~~~~~~~~~~~~~~~~\r\n",
        "#~~~~~~~~~~~~~~~~~~~~~~~~~~~~~~~~~~~~~~~~~~~~~~~~~~~~~~~~~~~\r\n",
        "#~~~~~~~~~~~~~~~~~~~~~~~~~~~~~~~~~~~~~~~~~~~~~~~~~~~~~~~~~~~\r\n",
        "\r\n",
        "key = 'Mthly_HH_Expense'\r\n",
        "cmean, pmean = custom_mean(df[key]), df[key].mean()\r\n",
        "print(key)\r\n",
        "print('Custom Mean:',cmean)\r\n",
        "print('Pandas Mean:',pmean)\r\n",
        "print('Error:',pmean-cmean)"
      ],
      "execution_count": 9,
      "outputs": [
        {
          "output_type": "stream",
          "text": [
            "Mthly_HH_Expense\n",
            "Custom Mean: 18818.0\n",
            "Pandas Mean: 18818.0\n",
            "Error: 0.0\n"
          ],
          "name": "stdout"
        }
      ]
    },
    {
      "cell_type": "markdown",
      "metadata": {
        "id": "f9YrCDbZqNH6"
      },
      "source": [
        "##[8] What is the Median Household Expense? Compute Median using Inbuilt pandas function and write your own function for the same."
      ]
    },
    {
      "cell_type": "code",
      "metadata": {
        "colab": {
          "base_uri": "https://localhost:8080/"
        },
        "id": "IQNkSgffPyxN",
        "outputId": "e585c17a-2b64-44dc-cae6-f01e59266260"
      },
      "source": [
        "# need to sort array for median,\r\n",
        "# define sorting function\r\n",
        "def npsort(Arr):\r\n",
        "  # use mergesort \r\n",
        "  # base cases\r\n",
        "  res = None\r\n",
        "  if len(Arr)==0:\r\n",
        "    res = Arr  # return back input array if its len is 0 - this case is impossible \r\n",
        "  elif len(Arr)==1:\r\n",
        "    res = np.zeros(1)+Arr[0]  # return a copy of array\r\n",
        "  else:\r\n",
        "    # len>=2\r\n",
        "    mid = int(len(Arr)/2) # 2nd arry will be larger if odd\r\n",
        "    Arr1, Arr2 = Arr[0:mid], Arr[mid:]\r\n",
        "    res = npjoin(npsort(Arr1),npsort(Arr2)) # split\r\n",
        "  return res\r\n",
        "\r\n",
        "def npjoin(Arr1, Arr2):\r\n",
        "  # sure that each array is at least len1\r\n",
        "  N1,N2 = len(Arr1), len(Arr2)\r\n",
        "  N=N1+N2\r\n",
        "  resF = np.zeros(N)\r\n",
        "  i, i1, i2 = 0, 0, 0\r\n",
        "  while(i<N):\r\n",
        "    try:\r\n",
        "      if Arr1[i1]>Arr2[i2]:\r\n",
        "        resF[i]=Arr2[i2]\r\n",
        "        i2+=1\r\n",
        "      else:\r\n",
        "        resF[i]=Arr1[i1]\r\n",
        "        i1+=1\r\n",
        "      i+=1\r\n",
        "    except:\r\n",
        "      #one of the arry is finished\r\n",
        "      # copy rest as it is and break loop\r\n",
        "      while(i1<N1):\r\n",
        "        resF[i]=Arr1[i1]\r\n",
        "        i1+=1\r\n",
        "        i+=1\r\n",
        "      while(i2<N2):\r\n",
        "        resF[i]=Arr2[i2]\r\n",
        "        i2+=1\r\n",
        "        i+=1\r\n",
        "      break\r\n",
        "  return resF\r\n",
        "\r\n",
        "def custom_median(Arr1):\r\n",
        "  Arr = npsort(np.array(Arr1))\r\n",
        "  if len(Arr)%2 == 0:\r\n",
        "    # even elements - return avg of 2 middle values\r\n",
        "    return (Arr[int(len(Arr)/2)] + Arr[int(len(Arr)/2)-1])/2\r\n",
        "  else:\r\n",
        "    # odd elements - return 2 middle value\r\n",
        "    return (Arr[int(len(Arr)/2)])\r\n",
        "\r\n",
        "#~~~~~~~~~~~~~~~~~~~~~~~~~~~~~~~~~~~~~~~~~~~~~~~~~~~~~~~~~~~\r\n",
        "#~~~~~~~~~~~~~~~~~~~~~~~~~~~~~~~~~~~~~~~~~~~~~~~~~~~~~~~~~~~\r\n",
        "#~~~~~~~~~~~~~~~~~~~~~~~~~~~~~~~~~~~~~~~~~~~~~~~~~~~~~~~~~~~\r\n",
        "\r\n",
        "key = 'Mthly_HH_Expense'\r\n",
        "cmed, pmed = custom_median(df[key]), df[key].median()\r\n",
        "print(key)\r\n",
        "print('Custom Median:',cmed)\r\n",
        "print('Pandas Median:',pmed)\r\n",
        "print('Error:',pmed-cmed)"
      ],
      "execution_count": 10,
      "outputs": [
        {
          "output_type": "stream",
          "text": [
            "Mthly_HH_Expense\n",
            "Custom Median: 15500.0\n",
            "Pandas Median: 15500.0\n",
            "Error: 0.0\n"
          ],
          "name": "stdout"
        }
      ]
    },
    {
      "cell_type": "markdown",
      "metadata": {
        "id": "jD4gKP8IqRFT"
      },
      "source": [
        "##[9] What is the Monthly Expense for most of the Households?\r\n"
      ]
    },
    {
      "cell_type": "code",
      "metadata": {
        "id": "OrUkGIVlqUJb",
        "colab": {
          "base_uri": "https://localhost:8080/"
        },
        "outputId": "abceab52-e7cf-4f34-f9c1-2329756eb8b5"
      },
      "source": [
        "key='Mthly_HH_Expense'\r\n",
        "print(key,'\\nMode:',np.array(df[key].mode()))"
      ],
      "execution_count": 11,
      "outputs": [
        {
          "output_type": "stream",
          "text": [
            "Mthly_HH_Expense \n",
            "Mode: [25000]\n"
          ],
          "name": "stdout"
        }
      ]
    },
    {
      "cell_type": "markdown",
      "metadata": {
        "id": "CZtVOZxJqXzz"
      },
      "source": [
        "##[10] Calculate IQR(difference between 75% and 25% quartile)"
      ]
    },
    {
      "cell_type": "code",
      "metadata": {
        "id": "sxPVuHYrqX8s",
        "colab": {
          "base_uri": "https://localhost:8080/"
        },
        "outputId": "207b3fe4-25bb-4074-e248-34e20291f82f"
      },
      "source": [
        "# for all coulmns\r\n",
        "print('COLOUMN_NAME','\\t\\t','IQR')\r\n",
        "for k in df.keys():\r\n",
        "  try:\r\n",
        "    print(k,'\\t', df[k].quantile(0.75) - df[k].quantile(0.25) )\r\n",
        "  except:\r\n",
        "    print(k,'\\t' \"<none>\")\r\n"
      ],
      "execution_count": 12,
      "outputs": [
        {
          "output_type": "stream",
          "text": [
            "COLOUMN_NAME \t\t IQR\n",
            "Mthly_HH_Income \t 26825.0\n",
            "Mthly_HH_Expense \t 15000.0\n",
            "No_of_Fly_Members \t 2.0\n",
            "Emi_or_Rent_Amt \t 3500.0\n",
            "Annual_HH_Income \t 335970.0\n",
            "Highest_Qualified_Member \t<none>\n",
            "No_of_Earning_Members \t 1.0\n"
          ],
          "name": "stdout"
        }
      ]
    },
    {
      "cell_type": "markdown",
      "metadata": {
        "id": "jElORm3tqblT"
      },
      "source": [
        "##[11] Calculate Standard Deviation for first 4 columns. Compute Standard Deviation using Inbuilt pandas function and write your own function for the same."
      ]
    },
    {
      "cell_type": "code",
      "metadata": {
        "id": "ZYA56UIHqbsD",
        "colab": {
          "base_uri": "https://localhost:8080/"
        },
        "outputId": "dae948f8-9e23-4fb8-d644-ba3098246db6"
      },
      "source": [
        "def custom_std(Data):\r\n",
        "    mean = custom_mean(Data)\r\n",
        "    sum_of_sq = npsum(Data**2)\r\n",
        "    std_pol = ((sum_of_sq/len(Data)) - mean**2)**0.5\r\n",
        "    std_sample = ((sum_of_sq/(len(Data)-1)) - ((mean**2) * (len(Data)/(len(Data)-1))))**0.5\r\n",
        "    # returns tuple (population_variance, sample_variance)\r\n",
        "    return  std_sample, std_pol\r\n",
        "\r\n",
        "print('# Coloumn_name \\t\\t Pandas StdDev \\t\\t Sample StdDev \\t\\t Error \\t\\t Population StdDev',)\r\n",
        "for i in range(0, 4):\r\n",
        "  key = df.keys()[i]\r\n",
        "  pdv=df[key].std()\r\n",
        "  sv,pv = custom_std(df[key])\r\n",
        "  print(i,key,'\\t',pdv,'\\t',sv,'\\t',abs(round(pdv-sv,8)),'\\t\\t',pv )"
      ],
      "execution_count": 13,
      "outputs": [
        {
          "output_type": "stream",
          "text": [
            "# Coloumn_name \t\t Pandas StdDev \t\t Sample StdDev \t\t Error \t\t Population StdDev\n",
            "0 Mthly_HH_Income \t 26097.908978713687 \t 26097.908978713687 \t 0.0 \t\t 25835.611779092826\n",
            "1 Mthly_HH_Expense \t 12090.216824240286 \t 12090.216824240286 \t 0.0 \t\t 11968.704023410388\n",
            "2 No_of_Fly_Members \t 1.5173822786601394 \t 1.5173822786601405 \t 0.0 \t\t 1.502131818450033\n",
            "3 Emi_or_Rent_Amt \t 6241.434947516607 \t 6241.434947516607 \t 0.0 \t\t 6178.705366013175\n"
          ],
          "name": "stdout"
        }
      ]
    },
    {
      "cell_type": "markdown",
      "metadata": {
        "id": "UHL1TLkPqfNX"
      },
      "source": [
        "##[12] Calculate Variance for first 3 columns. Compute Variance using Inbuilt pandas \r\n",
        "function and write your own function for the same."
      ]
    },
    {
      "cell_type": "code",
      "metadata": {
        "id": "W30ohdg-tyAZ",
        "colab": {
          "base_uri": "https://localhost:8080/"
        },
        "outputId": "25d53d1f-9257-4a14-d46c-a47ba1411140"
      },
      "source": [
        "def custom_var(Data):\r\n",
        "    mean = custom_mean(Data)\r\n",
        "    sum_of_sq = npsum(Data**2)\r\n",
        "    var_pol = (sum_of_sq/len(Data)) - mean**2\r\n",
        "    var_sample = (sum_of_sq/(len(Data)-1)) - ((mean**2) * (len(Data)/(len(Data)-1)))\r\n",
        "    # returns tuple (population_variance, sample_variance)\r\n",
        "    return  var_sample,var_pol\r\n",
        "\r\n",
        "print('# Coloumn_name \\t\\t Pandas Var \\t\\t Sample Var \\t\\t Error \\t Population Var',)\r\n",
        "for i in range(0, 3):\r\n",
        "  key = df.keys()[i]\r\n",
        "  pdv = df[key].var()\r\n",
        "  sv,pv = custom_var(df[key])\r\n",
        "  print(i,key,'\\t',pdv,'\\t',sv,'\\t',abs(round(pdv-sv,8)),'\\t',pv )\r\n"
      ],
      "execution_count": 14,
      "outputs": [
        {
          "output_type": "stream",
          "text": [
            "# Coloumn_name \t\t Pandas Var \t\t Sample Var \t\t Error \t Population Var\n",
            "0 Mthly_HH_Income \t 681100853.0612245 \t 681100853.0612245 \t 0.0 \t 667478836.0\n",
            "1 Mthly_HH_Expense \t 146173342.85714287 \t 146173342.85714287 \t 0.0 \t 143249876.0\n",
            "2 No_of_Fly_Members \t 2.302448979591837 \t 2.3024489795918406 \t 0.0 \t 2.256400000000003\n"
          ],
          "name": "stdout"
        }
      ]
    },
    {
      "cell_type": "markdown",
      "metadata": {
        "id": "ASY9WWAAuIx-"
      },
      "source": [
        "##[13] Calculate Skewness for first 3 columns. Compute Skewness using Inbuilt pandas function and write your own function for the same.\r\n"
      ]
    },
    {
      "cell_type": "markdown",
      "metadata": {
        "id": "bHm8S-umuKV9"
      },
      "source": [
        "##[14] Calculate Kurtosis for first 3 columns. Compute Kurtosis using Inbuilt pandas function and write your own function for the same."
      ]
    },
    {
      "cell_type": "code",
      "metadata": {
        "id": "Sl4uw-jouI88",
        "colab": {
          "base_uri": "https://localhost:8080/"
        },
        "outputId": "932e55b2-dcae-4d84-9c82-a8fb2ed54de5"
      },
      "source": [
        "# define kth central moment (required for both skewness and kurtosis)\r\n",
        "def kth_central_moment(Data, k):\r\n",
        "  return  custom_mean((Data - custom_mean(Data))**k)\r\n",
        "\r\n",
        "# define custom skew function\r\n",
        "def custom_skew(Data, correct_bias):\r\n",
        "  mu3,mu2,N = kth_central_moment(Data,3), kth_central_moment(Data,2), len(Data)\r\n",
        "  cskew =  mu3/mu2**1.5\r\n",
        "  if correct_bias:\r\n",
        "    cskew *= ((N*(N-1))**0.5)/(N-2)\r\n",
        "  return cskew\r\n",
        "\r\n",
        "# define custom kurtosis function\r\n",
        "def custom_kurtosis(Data, correct_bias):\r\n",
        "  mu4,mu2,N = kth_central_moment(Data,4), kth_central_moment(Data,2),len(Data)\r\n",
        "  ckurt =  (mu4/mu2**2) -3\r\n",
        "  if correct_bias:\r\n",
        "    ckurt = (  (N-1)/((N-2)*(N-3))  ) * ( (N+1)*ckurt + 6) \r\n",
        "  return ckurt\r\n",
        "\r\n",
        "print('# Coloumn_name \\t\\t Pandas Skew \\t\\t Custom Skew \\t\\t Error')\r\n",
        "for i in range(0, 3):\r\n",
        "  key = df.keys()[i] \r\n",
        "  pds,csk = df[key].skew(),custom_skew(df[key], True)\r\n",
        "  print(i,key,'\\t',pds,'\\t',csk,'\\t',abs(round(pds-csk,8)) )\r\n",
        "print('\\n')\r\n",
        "print('# Coloumn_name \\t\\t Pandas Kurtosis \\t Custom Kurtosis \\t Error')\r\n",
        "for i in range(0, 3):\r\n",
        "  key = df.keys()[i] \r\n",
        "  pdk,ckk = df[key].kurtosis(),custom_kurtosis(df[key], True)\r\n",
        "  print(i,key,'\\t',pdk,'\\t',ckk,'\\t',abs(round(pdk-ckk,8)) )"
      ],
      "execution_count": 15,
      "outputs": [
        {
          "output_type": "stream",
          "text": [
            "# Coloumn_name \t\t Pandas Skew \t\t Custom Skew \t\t Error\n",
            "0 Mthly_HH_Income \t 0.9246148763777229 \t 0.9246148763777229 \t 0.0\n",
            "1 Mthly_HH_Expense \t 1.1994608030097127 \t 1.1994608030097127 \t 0.0\n",
            "2 No_of_Fly_Members \t 0.11367415455857431 \t 0.11367415455857423 \t 0.0\n",
            "\n",
            "\n",
            "# Coloumn_name \t\t Pandas Kurtosis \t Custom Kurtosis \t Error\n",
            "0 Mthly_HH_Income \t 0.11555007146606489 \t 0.11555007146606527 \t 0.0\n",
            "1 Mthly_HH_Expense \t 0.9424897886350738 \t 0.9424897886350726 \t 0.0\n",
            "2 No_of_Fly_Members \t -0.8514445579758396 \t -0.8514445579758408 \t 0.0\n"
          ],
          "name": "stdout"
        }
      ]
    },
    {
      "cell_type": "markdown",
      "metadata": {
        "id": "Mg32NdXwtCM6"
      },
      "source": [
        "##[15] Find the correlation coeeficient between the \"Mthly_HH_Income\" and\t\"Mthly_HH_Expense\". Compute correlation coeeficient using Inbuilt pandas function and write your own function for the same.\r\n"
      ]
    },
    {
      "cell_type": "code",
      "metadata": {
        "id": "my0YjieUq2A6",
        "colab": {
          "base_uri": "https://localhost:8080/"
        },
        "outputId": "74a21199-85c3-4373-96fa-13bce7cdb5c5"
      },
      "source": [
        "def custom_corr(Arr1, Arr2):\r\n",
        "  if len(Arr1) != len(Arr2):\r\n",
        "    return None\r\n",
        "    # the corr-coefficients to be returned\r\n",
        "  corr = 0\r\n",
        "  x,y = Arr1, Arr2\r\n",
        "  mean_x, mean_y = custom_mean(x), custom_mean(y)\r\n",
        "\r\n",
        "  numerator = npsum( (x - mean_x ) * ( y - mean_y) )\r\n",
        "  dinominator =  (npsum((x - mean_x )**2) * npsum((y - mean_y )**2))**0.5\r\n",
        "  \r\n",
        "  corr = numerator / dinominator\r\n",
        "  return corr\r\n",
        "\r\n",
        "key1, key2 = 'Mthly_HH_Income', 'Mthly_HH_Expense'\r\n",
        "print('Corr(',key1,',',key2,')')\r\n",
        "pcor,ccor = df.corr()[key1][key2], custom_corr(df[key1], df[key2])\r\n",
        "print('Pandas Corr:',pcor)\r\n",
        "print('Custom Corr:',ccor)\r\n",
        "print('Error:',pcor-ccor)"
      ],
      "execution_count": 16,
      "outputs": [
        {
          "output_type": "stream",
          "text": [
            "Corr( Mthly_HH_Income , Mthly_HH_Expense )\n",
            "Pandas Corr: 0.6492152549316461\n",
            "Custom Corr: 0.6492152549316461\n",
            "Error: 0.0\n"
          ],
          "name": "stdout"
        }
      ]
    },
    {
      "cell_type": "markdown",
      "metadata": {
        "id": "sNTnuxS3q2kD"
      },
      "source": [
        "##[16] Calculate the total counts under each qualification"
      ]
    },
    {
      "cell_type": "code",
      "metadata": {
        "id": "9uYeQk_xq2si",
        "colab": {
          "base_uri": "https://localhost:8080/"
        },
        "outputId": "c25a6be6-8d5b-44ee-aad6-d172743d97b5"
      },
      "source": [
        "key='Highest_Qualified_Member'\r\n",
        "print(key)\r\n",
        "count_col = df[key]\r\n",
        "quals = np.unique(count_col)\r\n",
        "icnt = 0\r\n",
        "for k in quals:\r\n",
        "  ccnt = len(np.where(count_col==k)[0])\r\n",
        "  icnt +=ccnt\r\n",
        "  print(k,'\\t\\t',ccnt )\r\n",
        "print('_______________')\r\n",
        "print('Total Count\\t\\t',icnt )"
      ],
      "execution_count": 17,
      "outputs": [
        {
          "output_type": "stream",
          "text": [
            "Highest_Qualified_Member\n",
            "Graduate \t\t 19\n",
            "Illiterate \t\t 5\n",
            "Post-Graduate \t\t 6\n",
            "Professional \t\t 10\n",
            "Under-Graduate \t\t 10\n",
            "_______________\n",
            "Total Count\t\t 50\n"
          ],
          "name": "stdout"
        }
      ]
    },
    {
      "cell_type": "markdown",
      "metadata": {
        "id": "vQT6RPqOyvi8"
      },
      "source": [
        "##[17] Compute logarithmic mean of the first two cols using your own function"
      ]
    },
    {
      "cell_type": "code",
      "metadata": {
        "id": "EUy4s5fjyzuh",
        "colab": {
          "base_uri": "https://localhost:8080/"
        },
        "outputId": "76b6ca52-b05f-4c6d-fc82-6f8886709865"
      },
      "source": [
        "def custom_log_mean(ArrL):\r\n",
        "  # mean of min and max\r\n",
        "  A,B = np.amin(ArrL), np.amax(ArrL)\r\n",
        "  if A<=0 or B<=0:\r\n",
        "    return None # arithmatic error\r\n",
        "  if A==B:\r\n",
        "    return A\r\n",
        "  else:\r\n",
        "    return (B-A)/(math.log(B/A))\r\n",
        "\r\n",
        "#print(custom_log_mean(dx))\r\n",
        "#print(log3mean(dx))\r\n",
        "print('# Coloumn_name \\t\\t Custom Log_Mean')\r\n",
        "for i in range(0, 2):\r\n",
        " key = df.keys()[i] \r\n",
        " print(i,key,'\\t', custom_log_mean(np.sort(df[key])))\r\n",
        "print('\\n')"
      ],
      "execution_count": 18,
      "outputs": [
        {
          "output_type": "stream",
          "text": [
            "# Coloumn_name \t\t Custom Log_Mean\n",
            "0 Mthly_HH_Income \t 31711.779066056737\n",
            "1 Mthly_HH_Expense \t 14912.038429430684\n",
            "\n",
            "\n"
          ],
          "name": "stdout"
        }
      ]
    },
    {
      "cell_type": "markdown",
      "metadata": {
        "id": "LG4ph_BXyzmq"
      },
      "source": [
        "##[18] Compute geometric mean of the first two cols using your own  function and verify using inbuilt Python function"
      ]
    },
    {
      "cell_type": "code",
      "metadata": {
        "id": "5uCUqqOUyvpz",
        "colab": {
          "base_uri": "https://localhost:8080/"
        },
        "outputId": "05f9c317-82b0-4ddf-bd03-3a150ee1f323"
      },
      "source": [
        "# element wise product of array\r\n",
        "def npprod(Arr):\r\n",
        "  mul=1\r\n",
        "  for x in Arr:\r\n",
        "    mul*=x\r\n",
        "  return mul\r\n",
        "\r\n",
        "def custom_gmean(Arr):\r\n",
        "  return npprod(Arr**(1/len(Arr)))\r\n",
        "\r\n",
        "print('# Coloumn_name \\t\\t Scipy Gmean \\t\\t Custom Gmean \\t\\t Error')\r\n",
        "for i in range(0, 2):\r\n",
        " key = df.keys()[i] \r\n",
        " stgm,cgm=st.gmean(df[key]),custom_gmean(df[key])\r\n",
        " print(i,key,'\\t', stgm,'\\t',cgm,'\\t',abs(round(stgm-cgm,8)))"
      ],
      "execution_count": 19,
      "outputs": [
        {
          "output_type": "stream",
          "text": [
            "# Coloumn_name \t\t Scipy Gmean \t\t Custom Gmean \t\t Error\n",
            "0 Mthly_HH_Income \t 33590.37754021395 \t 33590.37754021399 \t 0.0\n",
            "1 Mthly_HH_Expense \t 15391.89958222314 \t 15391.89958222314 \t 0.0\n"
          ],
          "name": "stdout"
        }
      ]
    },
    {
      "cell_type": "markdown",
      "metadata": {
        "id": "Sgq9FwT-y7vC"
      },
      "source": [
        "##[19] Compute *Mean Deviation from the Mean* of the first two cols using your own  function and verify using inbuilt Python function"
      ]
    },
    {
      "cell_type": "code",
      "metadata": {
        "id": "ImCyk2CAy7zJ",
        "colab": {
          "base_uri": "https://localhost:8080/"
        },
        "outputId": "c810b29c-26b2-4dbd-989e-4faa6a1eeb8f"
      },
      "source": [
        "# \"Mean Deviation from mean\" is always zero - there is no inbuilt python function for it\r\n",
        "def custom_mdm(Arr):\r\n",
        "  return custom_mean(Arr - custom_mean(Arr))\r\n",
        "\r\n",
        "print('# Coloumn_name \\t\\t MDM')\r\n",
        "for i in range(0, 2):\r\n",
        " key = df.keys()[i] \r\n",
        " print(i,key,'\\t', custom_mdm(df[key]))"
      ],
      "execution_count": 20,
      "outputs": [
        {
          "output_type": "stream",
          "text": [
            "# Coloumn_name \t\t MDM\n",
            "0 Mthly_HH_Income \t 0.0\n",
            "1 Mthly_HH_Expense \t 0.0\n"
          ],
          "name": "stdout"
        }
      ]
    },
    {
      "cell_type": "markdown",
      "metadata": {
        "id": "IPbeTeSlzEEi"
      },
      "source": [
        "##[20] Compute *Mean Absolute Deviation from the Mean* of the first two cols using your own function and verify using inbuilt Python function"
      ]
    },
    {
      "cell_type": "code",
      "metadata": {
        "id": "hITjKV8QzENJ",
        "colab": {
          "base_uri": "https://localhost:8080/"
        },
        "outputId": "a2d7a9ad-1c76-4fe3-c3b7-779634a8fe43"
      },
      "source": [
        "def npsumabs(Arr):\r\n",
        "  sum=0\r\n",
        "  for i in Arr:\r\n",
        "    sum+=abs(i)\r\n",
        "  return sum\r\n",
        "\r\n",
        "def custom_mad(Arr): \r\n",
        "  res = Arr - custom_mean(Arr)\r\n",
        "  return npsumabs(res)/len(res)\r\n",
        "\r\n",
        "print('# Coloumn_name \\t\\t Custom MAD \\t Pandas MAD \\t Error')\r\n",
        "for i in range(0, 2):\r\n",
        " key = df.keys()[i] \r\n",
        " cmad, pmad = custom_mad(df[key]),df[key].mad()\r\n",
        " print(i,key,'\\t',cmad ,'\\t',pmad, '\\t', abs(round(pmad-cmad,8)))"
      ],
      "execution_count": 21,
      "outputs": [
        {
          "output_type": "stream",
          "text": [
            "# Coloumn_name \t\t Custom MAD \t Pandas MAD \t Error\n",
            "0 Mthly_HH_Income \t 20288.96 \t 20288.96 \t 0.0\n",
            "1 Mthly_HH_Expense \t 9247.44 \t 9247.44 \t 0.0\n"
          ],
          "name": "stdout"
        }
      ]
    },
    {
      "cell_type": "markdown",
      "metadata": {
        "id": "OVoo_Mc0zMfS"
      },
      "source": [
        "##[21] Compute *Coefficient of Variation* of the first two cols using your own function and verify using inbuilt Python function"
      ]
    },
    {
      "cell_type": "code",
      "metadata": {
        "id": "3Xw8Xa0czMly",
        "colab": {
          "base_uri": "https://localhost:8080/"
        },
        "outputId": "b021948e-6099-498e-ad30-704f61a5b56b"
      },
      "source": [
        "#Coff of var = std dev / mean\r\n",
        "\r\n",
        "# use already created custom_std function for standard dev\r\n",
        "def custom_CoV(Arr):\r\n",
        "  std_sam, std_pop = custom_std(Arr)\r\n",
        "  return std_pop/custom_mean(Arr)\r\n",
        "\r\n",
        "print('# Coloumn_name \\t\\t Scipy CoV \\t\\t Custom CoV \\t\\t Error')\r\n",
        "for i in range(0, 2):\r\n",
        " key = df.keys()[i] \r\n",
        " stcov, ccov = st.variation(df[key]),custom_CoV(df[key])\r\n",
        " print(i,key,'\\t',stcov ,'\\t',ccov,'\\t',abs(round(stcov-ccov,8)))"
      ],
      "execution_count": 22,
      "outputs": [
        {
          "output_type": "stream",
          "text": [
            "# Coloumn_name \t\t Scipy CoV \t\t Custom CoV \t\t Error\n",
            "0 Mthly_HH_Income \t 0.6216760137420672 \t 0.6216760137420672 \t 0.0\n",
            "1 Mthly_HH_Expense \t 0.636024233362227 \t 0.636024233362227 \t 0.0\n"
          ],
          "name": "stdout"
        }
      ]
    },
    {
      "cell_type": "markdown",
      "metadata": {
        "id": "zXC0DSBH0WFV"
      },
      "source": [
        "##[22] Compute z score  for all numerical cols using your own function  and verify using inbuilt Python function"
      ]
    },
    {
      "cell_type": "code",
      "metadata": {
        "id": "cMykdLB20WOM",
        "colab": {
          "base_uri": "https://localhost:8080/"
        },
        "outputId": "0e6aad61-a21d-4fb8-e492-eeb89291b262"
      },
      "source": [
        "# xscore = (X-mean)/sd\r\n",
        "def custom_Zscore(Arr):\r\n",
        "  std_sam, std_pop = custom_std(Arr)\r\n",
        "  res = Arr-custom_mean(Arr)\r\n",
        "  res /=std_pop\r\n",
        "  return np.array(res)\r\n",
        "\r\n",
        "for key in df.keys():\r\n",
        "  if (df[key].dtype)=='int64' :\r\n",
        "    czsore = custom_Zscore(df[key])\r\n",
        "    print('\\nZscores of',key,'\\n' ,czsore )\r\n",
        "    print('Avg Error with inbuilt function :',np.sum(np.abs(czsore - st.zscore(df[key])))/len(czsore))\r\n"
      ],
      "execution_count": 23,
      "outputs": [
        {
          "output_type": "stream",
          "text": [
            "\n",
            "Zscores of Mthly_HH_Income \n",
            " [-1.41502358 -1.37631732 -1.22149227 -1.22149227 -1.12472661 -1.06666721\n",
            " -1.02796095 -0.91184216 -0.87313589 -0.83442963 -0.83442963 -0.7570171\n",
            " -0.70282833 -0.67960458 -0.67960458 -0.64089831 -0.64089831 -0.64089831\n",
            " -0.48607326 -0.44736699 -0.42801386 -0.36995447 -0.29254194 -0.29254194\n",
            " -0.25383568 -0.25383568 -0.09901062 -0.06030436  0.01710817  0.05581443\n",
            "  0.13322696  0.13322696  0.13322696  0.13322696  0.17193322  0.21063949\n",
            "  0.32675828  0.34611141  0.5202896   0.71382091  0.71382091  0.90735223\n",
            "  1.10088355  1.48794619  1.6814775   1.87500882  2.18465893  2.26207146\n",
            "  2.26207146  2.26207146]\n",
            "Avg Error with inbuilt function : 0.0\n",
            "\n",
            "Zscores of Mthly_HH_Expense \n",
            " [-0.90385726 -0.98740849 -1.19628658 -1.40516467 -0.56965232 -0.90385726\n",
            " -0.23544738  0.09875756 -0.82030602 -0.82030602 -0.06834491  0.51651373\n",
            " -1.15451096 -0.69497917 -0.73675479 -0.54458695  0.09875756 -0.73675479\n",
            " -1.02082899 -0.48610108  0.51651373 -0.31899861  0.01520632  0.51651373\n",
            " -0.56965232  0.51651373 -0.90385726 -0.73675479 -0.31899861 -0.56965232\n",
            "  0.51651373  1.76978226 -0.73675479  0.26586003  0.51651373 -0.31899861\n",
            "  0.09875756  0.09875756  2.18753843 -0.73675479  2.6052946   0.09875756\n",
            " -0.82030602  0.09875756  0.51651373  2.43819213  0.51651373  0.93426991\n",
            "  2.6052946   1.76978226]\n",
            "Avg Error with inbuilt function : 0.0\n",
            "\n",
            "Zscores of No_of_Fly_Members \n",
            " [-0.70566377 -1.37138431 -1.37138431 -2.03710484 -1.37138431 -1.37138431\n",
            " -0.70566377  0.6257773  -1.37138431 -0.03994323 -0.03994323  1.29149784\n",
            " -0.70566377  1.29149784 -0.03994323 -0.70566377 -0.70566377  1.29149784\n",
            " -1.37138431 -0.03994323  0.6257773  -0.03994323  1.29149784 -0.70566377\n",
            " -0.70566377 -0.03994323 -0.03994323 -0.03994323 -0.03994323 -0.03994323\n",
            "  1.29149784  1.29149784 -1.37138431 -0.03994323  0.6257773   1.95721838\n",
            " -0.03994323 -0.70566377  1.29149784 -0.70566377  1.29149784 -0.03994323\n",
            " -1.37138431 -0.03994323  0.6257773   1.95721838  0.6257773   1.29149784\n",
            " -0.03994323  1.29149784]\n",
            "Avg Error with inbuilt function : 4.679590048795035e-16\n",
            "\n",
            "Zscores of Emi_or_Rent_Amt \n",
            " [-0.17155697 -0.00971077 -0.49524938 -0.49524938 -0.00971077 -0.49524938\n",
            "  5.16936771  0.79952024 -0.49524938 -0.49524938  0.79952024  1.44690505\n",
            " -0.49524938 -0.49524938 -0.49524938 -0.49524938  0.07121233 -0.49524938\n",
            " -0.17155697 -0.49524938  0.31398163 -0.49524938 -0.49524938  0.15213543\n",
            " -0.49524938 -0.49524938 -0.49524938 -0.49524938 -0.49524938 -0.49524938\n",
            " -0.49524938  0.07121233 -0.33340318 -0.09063387  0.07121233 -0.49524938\n",
            " -0.49524938 -0.49524938  1.44690505 -0.49524938  1.12321265  0.31398163\n",
            " -0.49524938 -0.49524938 -0.49524938 -0.49524938 -0.49524938 -0.49524938\n",
            "  2.74167467  1.12321265]\n",
            "Avg Error with inbuilt function : 0.0\n",
            "\n",
            "Zscores of Annual_HH_Income \n",
            " [-1.34362417 -1.29402147 -1.19027232 -1.23949637 -1.08235806 -0.92597705\n",
            " -1.01798815 -0.86463631 -0.85554879 -0.84949045 -0.66774012 -0.66319636\n",
            " -0.62472587 -0.54657323 -0.77376115 -0.76997468 -0.72264386 -0.73211003\n",
            " -0.44812513 -0.33074471 -0.43752303 -0.14066416 -0.50340753 -0.06569214\n",
            " -0.07515831 -0.12816882  0.21109847 -0.24365601 -0.00359411  0.40761601\n",
            "  0.10659203  0.05547475 -0.16603347  0.37921752  0.33491588 -0.10469274\n",
            "  0.25237094  0.2894783   0.3489258   0.31674085  0.31674085  0.49659795\n",
            "  0.83927305  1.84647281  2.05851486  1.2482113   2.09032117  2.88396429\n",
            "  1.71016006  2.61891172]\n",
            "Avg Error with inbuilt function : 0.0\n",
            "\n",
            "Zscores of No_of_Earning_Members \n",
            " [-0.63281451 -0.63281451 -0.63281451 -0.63281451 -0.63281451 -0.63281451\n",
            " -0.63281451 -0.63281451 -0.63281451  0.7428692   0.7428692  -0.63281451\n",
            " -0.63281451  0.7428692   0.7428692  -0.63281451 -0.63281451  2.11855292\n",
            " -0.63281451 -0.63281451 -0.63281451 -0.63281451 -0.63281451 -0.63281451\n",
            " -0.63281451  0.7428692  -0.63281451 -0.63281451 -0.63281451 -0.63281451\n",
            "  2.11855292  0.7428692  -0.63281451 -0.63281451 -0.63281451  3.49423663\n",
            " -0.63281451  0.7428692   0.7428692  -0.63281451 -0.63281451  0.7428692\n",
            " -0.63281451 -0.63281451  0.7428692   2.11855292  0.7428692   2.11855292\n",
            "  0.7428692  -0.63281451]\n",
            "Avg Error with inbuilt function : 2.5313084961453567e-16\n"
          ],
          "name": "stdout"
        }
      ]
    },
    {
      "cell_type": "markdown",
      "metadata": {
        "id": "EkbYcbGJ0ddc"
      },
      "source": [
        "##[23] Compute mode using your own function for the first two columns and verify using inbuilt Python function"
      ]
    },
    {
      "cell_type": "code",
      "metadata": {
        "id": "JAOXOaQw0djV",
        "colab": {
          "base_uri": "https://localhost:8080/"
        },
        "outputId": "c0d0ade6-78c4-4843-e179-e07ae041a351"
      },
      "source": [
        "def custom_mode(Arr):\r\n",
        "  #find unique values\r\n",
        "  unique, counts = np.unique(Arr, return_counts=True)\r\n",
        "  d = dict(zip(unique, counts))\r\n",
        "  d = np.array(sorted(d.items(), key=lambda x: x[1]))\r\n",
        "  return d [np.where(d[:,1]==d[-1][1])[0]]\r\n",
        "  \r\n",
        "\r\n",
        "for i in range(0, 2):\r\n",
        " key = df.keys()[i] \r\n",
        " print('COL:',key,'\\nPandas Mode',(np.array(df[key].mode())) ,'\\nCustom Mode',custom_mode(df[key]))\r\n",
        " print('')"
      ],
      "execution_count": 24,
      "outputs": [
        {
          "output_type": "stream",
          "text": [
            "COL: Mthly_HH_Income \n",
            "Pandas Mode [45000] \n",
            "Custom Mode [[45000     4]]\n",
            "\n",
            "COL: Mthly_HH_Expense \n",
            "Pandas Mode [25000] \n",
            "Custom Mode [[25000     8]]\n",
            "\n"
          ],
          "name": "stdout"
        }
      ]
    },
    {
      "cell_type": "markdown",
      "metadata": {
        "id": "HGPGOGDo04O1"
      },
      "source": [
        "##[24] Comment if the data for the first two cols is bi-modal, multi-modal or single modal"
      ]
    },
    {
      "cell_type": "code",
      "metadata": {
        "id": "blysYEAQ04Vs",
        "colab": {
          "base_uri": "https://localhost:8080/",
          "height": 799
        },
        "outputId": "5fdb59e4-ba97-4e2e-b04c-2868ff8d5c01"
      },
      "source": [
        "# ANSWER: BOTH COLOUMS ARE UNI-MODAL\r\n",
        "\r\n",
        "import matplotlib.pyplot as plt\r\n",
        "\r\n",
        "def custom_modeF(Arr):\r\n",
        "  #find unique values\r\n",
        "  unique, counts = np.unique(Arr, return_counts=True)\r\n",
        "  d = dict(zip(unique, counts))\r\n",
        "  d = np.array(sorted(d.items(), key=lambda x: x[1]))\r\n",
        "  return d\r\n",
        "\r\n",
        "\r\n",
        "for i in range(0, 2):\r\n",
        " key = df.keys()[i] \r\n",
        " XY = custom_modeF(df[key])\r\n",
        " plt.figure(key+\"1\")\r\n",
        " fig,ax = plt.subplots(1,2)\r\n",
        " fig.set_size_inches((15,6))\r\n",
        " ax[0].scatter(XY[:,0],XY[:,1])\r\n",
        "\r\n",
        " ax[1].hist(df[key],100,label=key)\r\n",
        " ax[1].legend()\r\n",
        " print('')\r\n",
        " fig.show()\r\n"
      ],
      "execution_count": 25,
      "outputs": [
        {
          "output_type": "stream",
          "text": [
            "\n",
            "\n"
          ],
          "name": "stdout"
        },
        {
          "output_type": "display_data",
          "data": {
            "text/plain": [
              "<Figure size 432x288 with 0 Axes>"
            ]
          },
          "metadata": {
            "tags": []
          }
        },
        {
          "output_type": "display_data",
          "data": {
            "image/png": "[encoded data removed]",
            "text/plain": [
              "<Figure size 1080x432 with 2 Axes>"
            ]
          },
          "metadata": {
            "tags": [],
            "needs_background": "light"
          }
        },
        {
          "output_type": "display_data",
          "data": {
            "text/plain": [
              "<Figure size 432x288 with 0 Axes>"
            ]
          },
          "metadata": {
            "tags": []
          }
        },
        {
          "output_type": "display_data",
          "data": {
            "image/png": "[encoded data removed]",
            "text/plain": [
              "<Figure size 1080x432 with 2 Axes>"
            ]
          },
          "metadata": {
            "tags": [],
            "needs_background": "light"
          }
        }
      ]
    }
  ]
}