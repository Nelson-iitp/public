{
 "cells": [
  {
   "cell_type": "markdown",
   "id": "a8fb4689-70bc-4745-936c-ce32616df606",
   "metadata": {},
   "source": [
    "# TCP Server\n",
    "Source - python Docs [socketserver](https://docs.python.org/3/library/socketserver.html)"
   ]
  },
  {
   "cell_type": "code",
   "execution_count": 2,
   "id": "9d396d96-3bcf-45a6-afa5-204c999c8431",
   "metadata": {},
   "outputs": [],
   "source": [
    "import socketserver\n",
    "import time, random, threading\n",
    "import numpy as np\n",
    "import rlgw\n",
    "from rlgw.model import WORLD, ENV\n",
    "\n",
    "  # Now use the WORLD object to create an ENV object \n",
    "Environment = ENV(  world = WORLD.get_world(\n",
    "                  R=5, C=7, \n",
    "                  SP=(0,0), EP=(4,6), \n",
    "                  RNDSP=True, RNDEP=False, \n",
    "                  EMPTY=-1, RRN=[-5,-5], RRP=[5,5],  \n",
    "                  RD=0.4, PRD=0.5, ER=0, \n",
    "                  MAXTS=5*7*2, \n",
    "                  SID=None, \n",
    "                  name=\"some.world\"),\n",
    "          name=\"some.env\", \n",
    "          penalty=(False, 0),  #<--- if True, imposes penalty on agent for staying in the same cell\n",
    "          always_reinit=False)#<--- if True, always choose a new random initial state from distribution\n",
    "\n",
    "class game_gen:\n",
    "    def __init__(self, env):\n",
    "        self.env=env\n",
    "        self.reset()\n",
    "        \n",
    "    def reset(self):\n",
    "        self.env.reset()\n",
    "        self.done=False\n",
    "        self.ts=0\n",
    "\n",
    "        \n",
    "    def tocsv(self,npA, sep=','):\n",
    "        res=\"\"\n",
    "        for i in range(len(npA)):\n",
    "            res+=str(npA[i])+sep\n",
    "        return res\n",
    "    \n",
    "    def prepare_bytes(self, time_steps):\n",
    "        sep=','\n",
    "        for i in range(time_steps):\n",
    "            if self.done:\n",
    "                self.reset()\n",
    "            \n",
    "            cS = np.copy(self.env.S)\n",
    "            act = self.env.random_action()\n",
    "            nS, Rew, self.done, _ = self.env.step(act)\n",
    "            self.ts+=1\n",
    "            res = str(self.ts) +sep+ str(int(self.done))+sep+ str(act) + sep+ \\\n",
    "                    str(Rew) +sep+ str(len(cS)) +sep+self.tocsv(cS, sep=sep) + self.tocsv(nS, sep=sep)\n",
    "            # timestep, done, action, reward, state_len, cS, nS\n",
    "\n",
    "        return bytes(res, encoding='utf-8')\n",
    "\n"
   ]
  },
  {
   "cell_type": "markdown",
   "id": "8764ba0a-fd86-4051-b922-b2f458eff743",
   "metadata": {
    "tags": []
   },
   "source": [
    "# start server"
   ]
  },
  {
   "cell_type": "code",
   "execution_count": 3,
   "id": "d848d88b-58f5-4465-85b1-6157d8da3a7e",
   "metadata": {
    "tags": []
   },
   "outputs": [
    {
     "name": "stdout",
     "output_type": "stream",
     "text": [
      "Started!\n",
      "Sending: 228  bytes\n",
      "Sending: 228  bytes\n",
      "Sending: 228  bytes\n",
      "Sending: 228  bytes\n",
      "Sending: 228  bytes\n",
      "Sending: 228  bytes\n",
      "Sending: 228  bytes\n",
      "Sending: 228  bytes\n",
      "Sending: 228  bytes\n",
      "Sending: 229  bytes\n",
      "Sending: 229  bytes\n",
      "Sending: 229  bytes\n",
      "Sending: 229  bytes\n",
      "Sending: 229  bytes\n",
      "Sending: 229  bytes\n",
      "Sending: 229  bytes\n",
      "Sending: 229  bytes\n",
      "Sending: 231  bytes\n",
      "Sending: 231  bytes\n",
      "Sending: 231  bytes\n",
      "Sending: 231  bytes\n",
      "Sending: 231  bytes\n",
      "Sending: 231  bytes\n",
      "Sending: 231  bytes\n",
      "Sending: 231  bytes\n",
      "Sending: 231  bytes\n",
      "Sending: 231  bytes\n",
      "Sending: 231  bytes\n",
      "Sending: 231  bytes\n",
      "Sending: 231  bytes\n",
      "Sending: 231  bytes\n",
      "Sending: 233  bytes\n",
      "Sending: 233  bytes\n",
      "Sending: 233  bytes\n",
      "Sending: 233  bytes\n",
      "Sending: 233  bytes\n",
      "Sending: 233  bytes\n",
      "Sending: 233  bytes\n"
     ]
    },
    {
     "ename": "KeyboardInterrupt",
     "evalue": "",
     "output_type": "error",
     "traceback": [
      "\u001b[0;31m---------------------------------------------------------------------------\u001b[0m",
      "\u001b[0;31mKeyboardInterrupt\u001b[0m                         Traceback (most recent call last)",
      "\u001b[0;32m/tmp/ipykernel_1986/4183799432.py\u001b[0m in \u001b[0;36m<module>\u001b[0;34m\u001b[0m\n\u001b[1;32m     20\u001b[0m \u001b[0;32mwith\u001b[0m \u001b[0msocketserver\u001b[0m\u001b[0;34m.\u001b[0m\u001b[0mTCPServer\u001b[0m\u001b[0;34m(\u001b[0m\u001b[0;34m(\u001b[0m\u001b[0mHOST\u001b[0m\u001b[0;34m,\u001b[0m \u001b[0mPORT\u001b[0m\u001b[0;34m)\u001b[0m\u001b[0;34m,\u001b[0m \u001b[0mSERVER\u001b[0m\u001b[0;34m)\u001b[0m \u001b[0;32mas\u001b[0m \u001b[0mserver\u001b[0m\u001b[0;34m:\u001b[0m\u001b[0;34m\u001b[0m\u001b[0;34m\u001b[0m\u001b[0m\n\u001b[1;32m     21\u001b[0m     \u001b[0mprint\u001b[0m\u001b[0;34m(\u001b[0m\u001b[0;34m'Started!'\u001b[0m\u001b[0;34m)\u001b[0m\u001b[0;34m\u001b[0m\u001b[0;34m\u001b[0m\u001b[0m\n\u001b[0;32m---> 22\u001b[0;31m     \u001b[0mserver\u001b[0m\u001b[0;34m.\u001b[0m\u001b[0mserve_forever\u001b[0m\u001b[0;34m(\u001b[0m\u001b[0;34m)\u001b[0m \u001b[0;31m# interrupt the program with Ctrl-C\u001b[0m\u001b[0;34m\u001b[0m\u001b[0;34m\u001b[0m\u001b[0m\n\u001b[0m\u001b[1;32m     23\u001b[0m \u001b[0;34m\u001b[0m\u001b[0m\n\u001b[1;32m     24\u001b[0m \u001b[0;34m\u001b[0m\u001b[0m\n",
      "\u001b[0;32m~/anaconda3/lib/python3.8/socketserver.py\u001b[0m in \u001b[0;36mserve_forever\u001b[0;34m(self, poll_interval)\u001b[0m\n\u001b[1;32m    230\u001b[0m \u001b[0;34m\u001b[0m\u001b[0m\n\u001b[1;32m    231\u001b[0m                 \u001b[0;32mwhile\u001b[0m \u001b[0;32mnot\u001b[0m \u001b[0mself\u001b[0m\u001b[0;34m.\u001b[0m\u001b[0m__shutdown_request\u001b[0m\u001b[0;34m:\u001b[0m\u001b[0;34m\u001b[0m\u001b[0;34m\u001b[0m\u001b[0m\n\u001b[0;32m--> 232\u001b[0;31m                     \u001b[0mready\u001b[0m \u001b[0;34m=\u001b[0m \u001b[0mselector\u001b[0m\u001b[0;34m.\u001b[0m\u001b[0mselect\u001b[0m\u001b[0;34m(\u001b[0m\u001b[0mpoll_interval\u001b[0m\u001b[0;34m)\u001b[0m\u001b[0;34m\u001b[0m\u001b[0;34m\u001b[0m\u001b[0m\n\u001b[0m\u001b[1;32m    233\u001b[0m                     \u001b[0;31m# bpo-35017: shutdown() called during select(), exit immediately.\u001b[0m\u001b[0;34m\u001b[0m\u001b[0;34m\u001b[0m\u001b[0;34m\u001b[0m\u001b[0m\n\u001b[1;32m    234\u001b[0m                     \u001b[0;32mif\u001b[0m \u001b[0mself\u001b[0m\u001b[0;34m.\u001b[0m\u001b[0m__shutdown_request\u001b[0m\u001b[0;34m:\u001b[0m\u001b[0;34m\u001b[0m\u001b[0;34m\u001b[0m\u001b[0m\n",
      "\u001b[0;32m~/anaconda3/lib/python3.8/selectors.py\u001b[0m in \u001b[0;36mselect\u001b[0;34m(self, timeout)\u001b[0m\n\u001b[1;32m    413\u001b[0m         \u001b[0mready\u001b[0m \u001b[0;34m=\u001b[0m \u001b[0;34m[\u001b[0m\u001b[0;34m]\u001b[0m\u001b[0;34m\u001b[0m\u001b[0;34m\u001b[0m\u001b[0m\n\u001b[1;32m    414\u001b[0m         \u001b[0;32mtry\u001b[0m\u001b[0;34m:\u001b[0m\u001b[0;34m\u001b[0m\u001b[0;34m\u001b[0m\u001b[0m\n\u001b[0;32m--> 415\u001b[0;31m             \u001b[0mfd_event_list\u001b[0m \u001b[0;34m=\u001b[0m \u001b[0mself\u001b[0m\u001b[0;34m.\u001b[0m\u001b[0m_selector\u001b[0m\u001b[0;34m.\u001b[0m\u001b[0mpoll\u001b[0m\u001b[0;34m(\u001b[0m\u001b[0mtimeout\u001b[0m\u001b[0;34m)\u001b[0m\u001b[0;34m\u001b[0m\u001b[0;34m\u001b[0m\u001b[0m\n\u001b[0m\u001b[1;32m    416\u001b[0m         \u001b[0;32mexcept\u001b[0m \u001b[0mInterruptedError\u001b[0m\u001b[0;34m:\u001b[0m\u001b[0;34m\u001b[0m\u001b[0;34m\u001b[0m\u001b[0m\n\u001b[1;32m    417\u001b[0m             \u001b[0;32mreturn\u001b[0m \u001b[0mready\u001b[0m\u001b[0;34m\u001b[0m\u001b[0;34m\u001b[0m\u001b[0m\n",
      "\u001b[0;31mKeyboardInterrupt\u001b[0m: "
     ]
    }
   ],
   "source": [
    "games = game_gen(Environment)\n",
    "\n",
    "#<---- as found on python Docs socketserver\n",
    "HOST, PORT = \"localhost\", 9998\n",
    "class SERVER(socketserver.BaseRequestHandler):       \n",
    "    def handle(self):\n",
    "        \"\"\"\n",
    "        In addition to the literal forms, bytes objects can be created in a number of other ways:\n",
    "            A zero-filled bytes object of a specified length: bytes(10)\n",
    "            From an iterable of integers: bytes(range(20))\n",
    "            Copying existing binary data via the buffer protocol: bytes(obj)\n",
    "        \"\"\"\n",
    "        global games\n",
    "        data_bytes = games.prepare_bytes(1)# --> Note: finally data is converted to bytes\n",
    "        print('Sending:', len(data_bytes), ' bytes')\n",
    "        self.request.sendall(data_bytes)\n",
    "        time.sleep(0.1) #<------------------ sleep time b/w handle\n",
    "        \n",
    "\n",
    "with socketserver.TCPServer((HOST, PORT), SERVER) as server:\n",
    "    print('Started!')\n",
    "    server.serve_forever() # interrupt the program with Ctrl-C\n",
    "    \n",
    "        "
   ]
  },
  {
   "cell_type": "code",
   "execution_count": null,
   "id": "5a59a65d-c9ce-4c1a-b429-1868e8deb698",
   "metadata": {},
   "outputs": [],
   "source": []
  }
 ],
 "metadata": {
  "kernelspec": {
   "display_name": "Python 3 (ipykernel)",
   "language": "python",
   "name": "python3"
  },
  "language_info": {
   "codemirror_mode": {
    "name": "ipython",
    "version": 3
   },
   "file_extension": ".py",
   "mimetype": "text/x-python",
   "name": "python",
   "nbconvert_exporter": "python",
   "pygments_lexer": "ipython3",
   "version": "3.8.11"
  }
 },
 "nbformat": 4,
 "nbformat_minor": 5
}
