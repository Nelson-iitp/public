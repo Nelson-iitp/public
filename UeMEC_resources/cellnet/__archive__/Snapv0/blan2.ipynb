{
 "cells": [
  {
   "cell_type": "markdown",
   "metadata": {},
   "source": [
    "# Blank"
   ]
  },
  {
   "cell_type": "code",
   "execution_count": 6,
   "metadata": {},
   "outputs": [],
   "source": [
    "import torch as tt\n",
    "from numpy.random import default_rng\n",
    "rng = default_rng(12)\n"
   ]
  },
  {
   "cell_type": "code",
   "execution_count": 7,
   "metadata": {},
   "outputs": [
    {
     "data": {
      "text/plain": [
       "(torch.Size([500, 4]),\n",
       " torch.Size([500, 3]),\n",
       " tensor([[0.2508, 0.9468, 0.1893, 0.1793],\n",
       "         [0.3499, 0.2305, 0.6704, 0.1151],\n",
       "         [0.8963, 0.8581, 0.0028, 0.5415],\n",
       "         ...,\n",
       "         [0.3004, 0.7876, 0.7642, 0.7006],\n",
       "         [0.7372, 0.8800, 0.9546, 0.7862],\n",
       "         [0.2122, 0.2075, 0.8401, 0.4433]]),\n",
       " tensor([[0.4158, 0.3538, 0.4710],\n",
       "         [0.4563, 0.2655, 0.8062],\n",
       "         [0.3518, 0.3223, 0.6932],\n",
       "         ...,\n",
       "         [0.4134, 0.6258, 0.5769],\n",
       "         [0.3654, 0.7622, 0.9985],\n",
       "         [0.4546, 0.2451, 0.0407]]))"
      ]
     },
     "execution_count": 7,
     "metadata": {},
     "output_type": "execute_result"
    }
   ],
   "source": [
    "in_dim ,out_dim = 4, 3\n",
    "batch_size = 500\n",
    "\n",
    "x_data, y_data = rng.random(size=(batch_size, in_dim,)),  rng.random(size=(batch_size, out_dim,)), \n",
    "\n",
    "x = tt.zeros((batch_size, in_dim,), dtype=tt.float32)\n",
    "x.copy_(tt.tensor(x_data))\n",
    "\n",
    "y = tt.zeros((batch_size, out_dim,), dtype=tt.float32)\n",
    "y.copy_(tt.tensor(y_data))\n",
    "\n",
    "x.shape, y.shape, x, y"
   ]
  },
  {
   "cell_type": "code",
   "execution_count": 8,
   "metadata": {},
   "outputs": [
    {
     "data": {
      "text/plain": [
       "(torch.Size([3, 4]), torch.Size([3]), 4, 3)"
      ]
     },
     "execution_count": 8,
     "metadata": {},
     "output_type": "execute_result"
    }
   ],
   "source": [
    "\n",
    "w = tt.zeros((out_dim, in_dim), dtype=tt.float32, requires_grad=True)\n",
    "b = tt.zeros((out_dim,), dtype=tt.float32, requires_grad=True)\n",
    "\n",
    "\n",
    "w.shape, b.shape, in_dim ,out_dim "
   ]
  },
  {
   "cell_type": "code",
   "execution_count": 9,
   "metadata": {},
   "outputs": [],
   "source": [
    "def zero_grad():\n",
    "    w.grad=None\n",
    "    b.grad=None\n",
    "\n",
    "def show_grad():\n",
    "    print(w.grad, b.grad)\n",
    "\n",
    "def step( lr):\n",
    "    with tt.no_grad():\n",
    "        global w, b\n",
    "        w -= lr*w.grad\n",
    "        b -= lr*b.grad\n",
    "\n",
    "\n",
    "\n",
    "def forward(w,b,x):\n",
    "    return w @ x + b\n",
    "\n",
    "def f1(w,b,X):\n",
    "    return  tt.stack([ (w @ x + b ) for x in X ])\n",
    "\n",
    "\n",
    "def f2(w,b,X):\n",
    "    return (w @ x.T).T + b\n",
    "\n",
    "def mse(pred, truth):\n",
    "    return tt.mean((pred - y)**2)\n",
    "\n",
    "def se(pred, truth):\n",
    "    return (pred - y)**2"
   ]
  },
  {
   "cell_type": "code",
   "execution_count": 10,
   "metadata": {},
   "outputs": [
    {
     "data": {
      "text/plain": [
       "(tensor([[0., 0., 0., 0.],\n",
       "         [0., 0., 0., 0.],\n",
       "         [0., 0., 0., 0.]], requires_grad=True),\n",
       " tensor([0., 0., 0.], requires_grad=True))"
      ]
     },
     "execution_count": 10,
     "metadata": {},
     "output_type": "execute_result"
    }
   ],
   "source": [
    "w, b"
   ]
  },
  {
   "cell_type": "code",
   "execution_count": 14,
   "metadata": {},
   "outputs": [],
   "source": [
    "for _ in range(1000):\n",
    "    pred = f2(w, b, x)\n",
    "    loss = mse(pred, y)\n",
    "    zero_grad() \n",
    "    loss.backward() #<--- zero_grad()  any where before this\n",
    "    step(0.001)     #<---  zero_grad() any where after this\n",
    "#zero_grad() \n"
   ]
  },
  {
   "cell_type": "code",
   "execution_count": 12,
   "metadata": {},
   "outputs": [
    {
     "data": {
      "text/plain": [
       "(tensor([[0.0928, 0.0898, 0.0851, 0.0950],\n",
       "         [0.0861, 0.0878, 0.0882, 0.0913],\n",
       "         [0.0853, 0.0904, 0.0874, 0.0941]], requires_grad=True),\n",
       " tensor([0.1846, 0.1789, 0.1788], requires_grad=True))"
      ]
     },
     "execution_count": 12,
     "metadata": {},
     "output_type": "execute_result"
    }
   ],
   "source": [
    "w, b"
   ]
  }
 ],
 "metadata": {
  "colab": {
   "collapsed_sections": [],
   "name": "Welcome.ipynb",
   "provenance": [],
   "toc_visible": true
  },
  "kernelspec": {
   "display_name": "Python 3 (ipykernel)",
   "language": "python",
   "name": "python3"
  },
  "language_info": {
   "codemirror_mode": {
    "name": "ipython",
    "version": 3
   },
   "file_extension": ".py",
   "mimetype": "text/x-python",
   "name": "python",
   "nbconvert_exporter": "python",
   "pygments_lexer": "ipython3",
   "version": "3.8.10"
  }
 },
 "nbformat": 4,
 "nbformat_minor": 4
}
