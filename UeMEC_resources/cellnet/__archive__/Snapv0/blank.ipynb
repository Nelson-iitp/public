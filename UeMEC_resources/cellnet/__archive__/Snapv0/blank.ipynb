{
 "cells": [
  {
   "cell_type": "markdown",
   "metadata": {},
   "source": [
    "# Blank"
   ]
  },
  {
   "cell_type": "code",
   "execution_count": 1,
   "metadata": {},
   "outputs": [
    {
     "name": "stdout",
     "output_type": "stream",
     "text": [
      "\n",
      " ~  R  E  L  E  A  R  N  ~\n",
      "\n"
     ]
    }
   ],
   "source": [
    "import torch as tt\n",
    "import torch.nn as nn\n",
    "import torch.optim as optim\n",
    "import numpy as np\n",
    "from numpy.random import default_rng\n",
    "import matplotlib.pyplot as plt \n",
    "rng = default_rng(12)\n",
    "import gym\n",
    "import UEMEC.basic as basic\n",
    "import UEMEC.relearn.core as core\n",
    "import UEMEC.relearn.dqn as dqn\n"
   ]
  },
  {
   "cell_type": "code",
   "execution_count": 2,
   "metadata": {},
   "outputs": [],
   "source": [
    "env = gym.make('CartPole-v0')\n",
    "nS, nA = 4, 2"
   ]
  },
  {
   "cell_type": "code",
   "execution_count": 3,
   "metadata": {},
   "outputs": [],
   "source": [
    "mem = core.MEMORY( 10_000, None, \n",
    "        S=((nS,),np.float32),\n",
    "        A=((1,),np.int8),\n",
    "        R=((1,),np.float32),\n",
    "        D=((1,),np.int8),\n",
    "        )"
   ]
  },
  {
   "cell_type": "code",
   "execution_count": 4,
   "metadata": {},
   "outputs": [
    {
     "name": "stdout",
     "output_type": "stream",
     "text": [
      "=-=-=-=-==-=-=-=-=\n",
      "DICT: <class 'UEMEC.relearn.core.MEMORY'>\n",
      "=-=-=-=-==-=-=-=-=\n",
      "rng\t:\tGenerator(PCG64)\n",
      "capacity\t:\t10000\n",
      "buffers\t:\t{'S': array([[0., 0., 0., 0.],\n",
      "       [0., 0., 0., 0.],\n",
      "       [0., 0., 0., 0.],\n",
      "       ...,\n",
      "       [0., 0., 0., 0.],\n",
      "       [0., 0., 0., 0.],\n",
      "       [0., 0., 0., 0.]], dtype=float32), 'A': array([[0],\n",
      "       [0],\n",
      "       [0],\n",
      "       ...,\n",
      "       [0],\n",
      "       [0],\n",
      "       [0]], dtype=int8), 'R': array([[0.],\n",
      "       [0.],\n",
      "       [0.],\n",
      "       ...,\n",
      "       [0.],\n",
      "       [0.],\n",
      "       [0.]], dtype=float32), 'D': array([[0],\n",
      "       [0],\n",
      "       [0],\n",
      "       ...,\n",
      "       [0],\n",
      "       [0],\n",
      "       [0]], dtype=int8)}\n",
      "keys\t:\tdict_keys(['S', 'A', 'R', 'D'])\n",
      "ranger\t:\t[   0    1    2 ... 9997 9998 9999]\n",
      "mask\t:\t[False False False ... False False False]\n",
      "at_max\t:\tFalse\n",
      "ptr\t:\t0\n",
      "ltr\t:\tNone\n",
      "length\t:\t0\n",
      "count\t:\t0\n",
      "=-=-=-=-==-=-=-=-=\n",
      "\n"
     ]
    }
   ],
   "source": [
    "basic.show(mem)"
   ]
  },
  {
   "cell_type": "code",
   "execution_count": 5,
   "metadata": {},
   "outputs": [
    {
     "name": "stdout",
     "output_type": "stream",
     "text": [
      "=-=-=-=-==-=-=-=-=@[MEMORY]=-=-=-=-==-=-=-=-=\n",
      "Length [0]\tCount [0]\n",
      "Capacity[10000]\tPointer [0]\n",
      "=-=-=-=-==-=-=-=-=![MEMORY]=-=-=-=-==-=-=-=-=\n"
     ]
    }
   ],
   "source": [
    "mem.render_all()"
   ]
  },
  {
   "cell_type": "code",
   "execution_count": 6,
   "metadata": {},
   "outputs": [
    {
     "data": {
      "text/plain": [
       "(0, 0)"
      ]
     },
     "execution_count": 6,
     "metadata": {},
     "output_type": "execute_result"
    }
   ],
   "source": [
    "(mem.length,mem.getlength())"
   ]
  },
  {
   "cell_type": "code",
   "execution_count": 7,
   "metadata": {},
   "outputs": [
    {
     "data": {
      "text/plain": [
       "200"
      ]
     },
     "execution_count": 7,
     "metadata": {},
     "output_type": "execute_result"
    }
   ],
   "source": [
    "env._max_episode_steps"
   ]
  },
  {
   "cell_type": "code",
   "execution_count": 8,
   "metadata": {},
   "outputs": [
    {
     "name": "stdout",
     "output_type": "stream",
     "text": [
      "\tstep:[1], action:[1], done:[False], reward:[1.0]\n",
      "\tstep:[2], action:[0], done:[False], reward:[1.0]\n",
      "\tstep:[3], action:[1], done:[False], reward:[1.0]\n",
      "\tstep:[4], action:[1], done:[False], reward:[1.0]\n",
      "\tstep:[5], action:[0], done:[False], reward:[1.0]\n",
      "\tstep:[6], action:[0], done:[False], reward:[1.0]\n",
      "\tstep:[7], action:[0], done:[False], reward:[1.0]\n",
      "\tstep:[8], action:[0], done:[False], reward:[1.0]\n",
      "\tstep:[9], action:[1], done:[False], reward:[1.0]\n",
      "\tstep:[10], action:[0], done:[False], reward:[1.0]\n",
      "\tstep:[11], action:[0], done:[False], reward:[1.0]\n",
      "\tstep:[12], action:[0], done:[False], reward:[1.0]\n",
      "\tstep:[13], action:[1], done:[False], reward:[1.0]\n",
      "\tstep:[14], action:[1], done:[False], reward:[1.0]\n",
      "\tstep:[15], action:[1], done:[False], reward:[1.0]\n",
      "\tstep:[16], action:[0], done:[False], reward:[1.0]\n",
      "\tstep:[17], action:[0], done:[False], reward:[1.0]\n",
      "\tstep:[18], action:[1], done:[False], reward:[1.0]\n",
      "\tstep:[19], action:[0], done:[False], reward:[1.0]\n",
      "\tstep:[20], action:[1], done:[False], reward:[1.0]\n",
      "\tstep:[21], action:[1], done:[False], reward:[1.0]\n",
      "\tstep:[22], action:[0], done:[False], reward:[1.0]\n",
      "\tstep:[23], action:[0], done:[False], reward:[1.0]\n",
      "\tstep:[24], action:[1], done:[True], reward:[1.0]\n",
      "Reward:[24.0]::step:[24]\n"
     ]
    }
   ],
   "source": [
    "tstep=0\n",
    "\n",
    "cs = env.reset()\n",
    "mem.reset(S=cs)\n",
    "total_reward = 0\n",
    "step=0\n",
    "done=False\n",
    "while not done and step<env._max_episode_steps:\n",
    "    step+=1\n",
    "    action = rng.integers(0, nA)\n",
    "    ns, reward, done, _ = env.step(action)\n",
    "    mem.step(S=ns, A=action, R=reward, D=done)\n",
    "    total_reward+=reward\n",
    "    print('\\tstep:[{}], action:[{}], done:[{}], reward:[{}]'.format(step, action, done, reward))\n",
    "tstep+=step\n",
    "print('Reward:[{}]::step:[{}]'.format(total_reward, tstep))"
   ]
  },
  {
   "cell_type": "code",
   "execution_count": 9,
   "metadata": {},
   "outputs": [
    {
     "data": {
      "text/plain": [
       "{'S': array([[-5.4712288e-02, -1.7808874e-01,  1.7663749e-01,  5.6452495e-01],\n",
       "        [ 4.2426115e-04, -3.6216199e-01,  7.3667012e-02,  6.0667706e-01],\n",
       "        [ 5.3703163e-02,  2.2376488e-01, -1.3277583e-02, -2.8514454e-01],\n",
       "        [ 5.8755156e-02, -1.6600989e-01, -1.8914048e-02,  2.8995577e-01],\n",
       "        [ 4.0275332e-02,  2.8731437e-02,  3.8731971e-03,  5.6003700e-03],\n",
       "        [-4.7298543e-02, -3.7068728e-01,  1.6058354e-01,  8.0269694e-01],\n",
       "        [-3.6024369e-02, -5.6370866e-01,  1.3961357e-01,  1.0484986e+00],\n",
       "        [-6.8189786e-03, -1.6814318e-01,  8.5800551e-02,  3.3807671e-01],\n",
       "        [ 4.0849958e-02,  2.2379763e-01,  3.9852047e-03, -2.8585801e-01],\n",
       "        [ 4.4906739e-02, -3.6065313e-01,  4.0139151e-03,  5.7201183e-01]],\n",
       "       dtype=float32),\n",
       " 'A': array([[1],\n",
       "        [1],\n",
       "        [0],\n",
       "        [0],\n",
       "        [0],\n",
       "        [1],\n",
       "        [0],\n",
       "        [1],\n",
       "        [1],\n",
       "        [0]], dtype=int8),\n",
       " 'R': array([[1.],\n",
       "        [1.],\n",
       "        [1.],\n",
       "        [1.],\n",
       "        [1.],\n",
       "        [1.],\n",
       "        [1.],\n",
       "        [1.],\n",
       "        [1.],\n",
       "        [1.]], dtype=float32),\n",
       " 'D': array([[0],\n",
       "        [0],\n",
       "        [0],\n",
       "        [0],\n",
       "        [0],\n",
       "        [0],\n",
       "        [0],\n",
       "        [0],\n",
       "        [0],\n",
       "        [0]], dtype=int8)}"
      ]
     },
     "execution_count": 9,
     "metadata": {},
     "output_type": "execute_result"
    }
   ],
   "source": [
    "mem.read(mem.sample_random(10))"
   ]
  },
  {
   "cell_type": "code",
   "execution_count": 10,
   "metadata": {},
   "outputs": [
    {
     "name": "stdout",
     "output_type": "stream",
     "text": [
      "=-=-=-=-==-=-=-=-=@[MEMORY]=-=-=-=-==-=-=-=-=\n",
      "Length [24]\tCount [25]\n",
      "Capacity[10000]\tPointer [25]\n",
      "____________________________________\n",
      "SLOT: [-1]\t.False.\n",
      "\tS: [[0. 0. 0. 0.]]\n",
      "\tA: [[0]]\n",
      "\tR: [[0.]]\n",
      "\tD: [[0]]\n",
      "=-=-=-=-==-=-=-=-=![MEMORY]=-=-=-=-==-=-=-=-=\n"
     ]
    }
   ],
   "source": [
    "mem.render_last(1)"
   ]
  },
  {
   "cell_type": "code",
   "execution_count": 11,
   "metadata": {},
   "outputs": [],
   "source": [
    "mdev, mdt = 'cuda', tt.float32\n",
    "modelF = lambda : dqn.MLP(nS,[64,64,64,64,64,64],nA, nn.ReLU, mdev, mdt  )\n",
    "optF = lambda model : optim.Adam(model.parameters(), lr=0.00025)\n",
    "hyper = basic.O(** { \n",
    "        'discount'          :1.0, \n",
    "        'tuf'               :20, \n",
    "        'double'            :False, \n",
    "        'modelF'            :modelF, \n",
    "        'optF'              :optF, \n",
    "        'lossF'             :nn.MSELoss,\n",
    "        'state_key'         :'S', \n",
    "        'action_key'        :'A', \n",
    "        'reward_key'        :'R', \n",
    "        'done_key'          :'D', \n",
    "    })\n",
    "\n",
    "#'state_dim'         :env.nS, \n",
    "#'layers_dim'        :[64,64,64], \n",
    "#'action_dim'        :env.nA, \n"
   ]
  },
  {
   "cell_type": "code",
   "execution_count": 12,
   "metadata": {},
   "outputs": [
    {
     "name": "stdout",
     "output_type": "stream",
     "text": [
      "=-=-=-=-==-=-=-=-=\n",
      "DICT: <class 'UEMEC.basic.O'>\n",
      "=-=-=-=-==-=-=-=-=\n",
      "discount\t:\t1.0\n",
      "tuf\t:\t20\n",
      "double\t:\tFalse\n",
      "modelF\t:\t<function <lambda> at 0x00000153EB23C040>\n",
      "optF\t:\t<function <lambda> at 0x00000153EB247CA0>\n",
      "lossF\t:\t<class 'torch.nn.modules.loss.MSELoss'>\n",
      "state_key\t:\tS\n",
      "action_key\t:\tA\n",
      "reward_key\t:\tR\n",
      "done_key\t:\tD\n",
      "=-=-=-=-==-=-=-=-=\n",
      "\n"
     ]
    }
   ],
   "source": [
    "basic.show(hyper)"
   ]
  },
  {
   "cell_type": "code",
   "execution_count": 13,
   "metadata": {},
   "outputs": [
    {
     "data": {
      "text/plain": [
       "MLP(\n",
       "  (SEQL): Sequential(\n",
       "    (0): Linear(in_features=4, out_features=64, bias=True)\n",
       "    (1): ReLU()\n",
       "    (2): Linear(in_features=64, out_features=64, bias=True)\n",
       "    (3): ReLU()\n",
       "    (4): Linear(in_features=64, out_features=64, bias=True)\n",
       "    (5): ReLU()\n",
       "    (6): Linear(in_features=64, out_features=64, bias=True)\n",
       "    (7): ReLU()\n",
       "    (8): Linear(in_features=64, out_features=64, bias=True)\n",
       "    (9): ReLU()\n",
       "    (10): Linear(in_features=64, out_features=64, bias=True)\n",
       "    (11): ReLU()\n",
       "    (12): Linear(in_features=64, out_features=2, bias=True)\n",
       "  )\n",
       ")"
      ]
     },
     "execution_count": 13,
     "metadata": {},
     "output_type": "execute_result"
    }
   ],
   "source": [
    "pie = dqn.DQN(hyper, mdev, mdt)\n",
    "pie.Q"
   ]
  },
  {
   "cell_type": "code",
   "execution_count": 14,
   "metadata": {},
   "outputs": [
    {
     "name": "stdout",
     "output_type": "stream",
     "text": [
      "Episode:[21/20]::Loss:[1.10902738571167]\n",
      "Episode:[41/36]::Loss:[1.0994517803192139]\n",
      "Episode:[61/14]::Loss:[1.089699625968933]\n",
      "Episode:[81/16]::Loss:[1.106101155281067]\n",
      "Episode:[101/21]::Loss:[1.0697786808013916]\n",
      "Episode:[121/20]::Loss:[1.0597941875457764]\n",
      "Episode:[141/52]::Loss:[1.049926996231079]\n",
      "Episode:[161/12]::Loss:[1.0400960445404053]\n",
      "Episode:[181/16]::Loss:[1.0540800094604492]\n",
      "Episode:[201/17]::Loss:[1.0215424299240112]\n",
      "Episode:[221/17]::Loss:[1.0948351621627808]\n",
      "Episode:[241/14]::Loss:[1.0853203535079956]\n",
      "Episode:[261/23]::Loss:[1.0755969285964966]\n",
      "Episode:[281/19]::Loss:[1.0657663345336914]\n",
      "Episode:[301/23]::Loss:[1.0561211109161377]\n",
      "Episode:[321/13]::Loss:[1.050103783607483]\n",
      "Episode:[341/42]::Loss:[1.0443291664123535]\n",
      "Episode:[361/17]::Loss:[1.0276038646697998]\n",
      "Episode:[381/16]::Loss:[1.0171170234680176]\n",
      "Episode:[401/41]::Loss:[1.0103362798690796]\n",
      "Episode:[421/22]::Loss:[1.080325961112976]\n",
      "Episode:[441/18]::Loss:[1.0674618482589722]\n",
      "Episode:[461/12]::Loss:[1.0550496578216553]\n",
      "Episode:[481/18]::Loss:[1.0405445098876953]\n",
      "Episode:[501/10]::Loss:[1.0267648696899414]\n",
      "Episode:[521/17]::Loss:[1.0120823383331299]\n",
      "Episode:[541/21]::Loss:[0.9960449934005737]\n",
      "Episode:[561/15]::Loss:[0.9806361198425293]\n",
      "Episode:[581/24]::Loss:[0.9622661471366882]\n",
      "Episode:[601/26]::Loss:[0.9440126419067383]\n",
      "Episode:[621/10]::Loss:[1.0685439109802246]\n",
      "Episode:[641/17]::Loss:[1.0418481826782227]\n",
      "Episode:[661/27]::Loss:[1.0155352354049683]\n",
      "Episode:[681/45]::Loss:[0.9310226440429688]\n",
      "Episode:[701/15]::Loss:[0.9487532377243042]\n",
      "Episode:[721/46]::Loss:[0.9140714406967163]\n",
      "Episode:[741/14]::Loss:[0.8665225505828857]\n",
      "Episode:[761/25]::Loss:[0.8217359781265259]\n",
      "Episode:[781/27]::Loss:[0.7276540994644165]\n",
      "Episode:[801/21]::Loss:[0.710782527923584]\n",
      "Episode:[821/16]::Loss:[1.0510607957839966]\n",
      "Episode:[841/13]::Loss:[0.8383349776268005]\n",
      "Episode:[861/12]::Loss:[0.8815785050392151]\n",
      "Episode:[881/16]::Loss:[0.7672483921051025]\n",
      "Episode:[901/22]::Loss:[0.6560344099998474]\n",
      "Episode:[921/13]::Loss:[0.554813802242279]\n",
      "Episode:[941/24]::Loss:[0.42197349667549133]\n",
      "Episode:[961/35]::Loss:[0.3148767948150635]\n",
      "Episode:[981/13]::Loss:[0.1901162564754486]\n",
      "Episode:[1001/64]::Loss:[0.09515722095966339]\n",
      "Episode:[1021/38]::Loss:[0.9614690542221069]\n",
      "Episode:[1041/19]::Loss:[0.7029768824577332]\n",
      "Episode:[1061/42]::Loss:[0.4078907072544098]\n",
      "Episode:[1081/15]::Loss:[0.24786706268787384]\n",
      "Episode:[1101/41]::Loss:[0.2141205221414566]\n",
      "Episode:[1121/22]::Loss:[0.01781637780368328]\n",
      "Episode:[1141/24]::Loss:[0.05066239461302757]\n",
      "Episode:[1161/21]::Loss:[0.09689842164516449]\n",
      "Episode:[1181/21]::Loss:[0.12494534254074097]\n",
      "Episode:[1201/15]::Loss:[0.11335791647434235]\n",
      "Episode:[1221/16]::Loss:[1.0782042741775513]\n",
      "Episode:[1241/15]::Loss:[0.9522100687026978]\n",
      "Episode:[1261/17]::Loss:[0.6256215572357178]\n",
      "Episode:[1281/11]::Loss:[0.2491597980260849]\n",
      "Episode:[1301/19]::Loss:[0.04698360711336136]\n",
      "Episode:[1321/24]::Loss:[0.04700373858213425]\n",
      "Episode:[1341/18]::Loss:[1.9651485681533813]\n",
      "Episode:[1361/18]::Loss:[0.1401183009147644]\n",
      "Episode:[1381/55]::Loss:[0.13354438543319702]\n",
      "Episode:[1401/15]::Loss:[0.07176873832941055]\n",
      "Episode:[1421/32]::Loss:[1.375938892364502]\n",
      "Episode:[1441/19]::Loss:[1.4169549942016602]\n",
      "Episode:[1461/26]::Loss:[0.9375132918357849]\n",
      "Episode:[1481/30]::Loss:[0.3572709560394287]\n",
      "Episode:[1501/14]::Loss:[3.2632296085357666]\n",
      "Episode:[1521/25]::Loss:[2.9242541790008545]\n",
      "Episode:[1541/16]::Loss:[0.06321112811565399]\n",
      "Episode:[1561/28]::Loss:[0.00399361364543438]\n",
      "Episode:[1581/19]::Loss:[0.06417874991893768]\n",
      "Episode:[1601/36]::Loss:[0.0042180283926427364]\n",
      "Episode:[1621/59]::Loss:[1.0472407341003418]\n",
      "Episode:[1641/17]::Loss:[4.208162784576416]\n",
      "Episode:[1661/38]::Loss:[0.9338678121566772]\n",
      "Episode:[1681/76]::Loss:[0.6255230903625488]\n",
      "Episode:[1701/11]::Loss:[4.829161167144775]\n",
      "Episode:[1721/28]::Loss:[0.14159831404685974]\n",
      "Episode:[1741/26]::Loss:[0.11926832050085068]\n",
      "Episode:[1761/27]::Loss:[0.10656965523958206]\n",
      "Episode:[1781/19]::Loss:[6.138828277587891]\n",
      "Episode:[1801/11]::Loss:[0.10155985504388809]\n",
      "Episode:[1821/16]::Loss:[1.7132289409637451]\n",
      "Episode:[1841/22]::Loss:[1.3414608240127563]\n",
      "Episode:[1861/18]::Loss:[0.9124917387962341]\n",
      "Episode:[1881/34]::Loss:[7.111257553100586]\n",
      "Episode:[1901/28]::Loss:[0.36936962604522705]\n",
      "Episode:[1921/12]::Loss:[0.21662156283855438]\n",
      "Episode:[1941/13]::Loss:[0.12269699573516846]\n",
      "Episode:[1961/15]::Loss:[0.2810186445713043]\n",
      "Episode:[1981/11]::Loss:[0.1623285412788391]\n",
      "Episode:[2001/60]::Loss:[0.13973656296730042]\n",
      "Episode:[2021/16]::Loss:[10.079849243164062]\n",
      "Episode:[2041/20]::Loss:[1.8419547080993652]\n",
      "Episode:[2061/21]::Loss:[1.2686669826507568]\n",
      "Episode:[2081/30]::Loss:[1.3523000478744507]\n",
      "Episode:[2101/23]::Loss:[0.6594924926757812]\n",
      "Episode:[2121/17]::Loss:[0.11897987127304077]\n",
      "Episode:[2141/26]::Loss:[0.2481226921081543]\n",
      "Episode:[2161/31]::Loss:[0.4285969138145447]\n",
      "Episode:[2181/29]::Loss:[0.6802249550819397]\n",
      "Episode:[2201/26]::Loss:[0.5063897371292114]\n",
      "Episode:[2221/9]::Loss:[1.5919944047927856]\n",
      "Episode:[2241/14]::Loss:[1.8681116104125977]\n",
      "Episode:[2261/24]::Loss:[0.867316484451294]\n",
      "Episode:[2281/31]::Loss:[0.5714139938354492]\n",
      "Episode:[2301/26]::Loss:[0.440774142742157]\n",
      "Episode:[2321/25]::Loss:[0.5723657608032227]\n",
      "Episode:[2341/22]::Loss:[23.237337112426758]\n",
      "Episode:[2361/13]::Loss:[0.4125700294971466]\n",
      "Episode:[2381/11]::Loss:[0.37523898482322693]\n",
      "Episode:[2401/16]::Loss:[0.1612323671579361]\n",
      "Episode:[2421/10]::Loss:[1.313063383102417]\n",
      "Episode:[2441/13]::Loss:[1.5423283576965332]\n",
      "Episode:[2461/16]::Loss:[0.8407202959060669]\n",
      "Episode:[2481/24]::Loss:[1.0329288244247437]\n",
      "Episode:[2501/12]::Loss:[0.27252164483070374]\n",
      "Episode:[2521/11]::Loss:[0.09329394996166229]\n",
      "Episode:[2541/24]::Loss:[0.376523494720459]\n",
      "Episode:[2561/12]::Loss:[0.6836304068565369]\n",
      "Episode:[2581/12]::Loss:[0.8860902786254883]\n",
      "Episode:[2601/11]::Loss:[0.429349422454834]\n",
      "Episode:[2621/14]::Loss:[24.6972713470459]\n",
      "Episode:[2641/11]::Loss:[1.981292724609375]\n",
      "Episode:[2661/11]::Loss:[3.220221996307373]\n",
      "Episode:[2681/45]::Loss:[1.968294382095337]\n",
      "Episode:[2701/15]::Loss:[1.9413608312606812]\n",
      "Episode:[2721/16]::Loss:[30.941373825073242]\n",
      "Episode:[2741/40]::Loss:[0.38106998801231384]\n",
      "Episode:[2761/32]::Loss:[27.050395965576172]\n",
      "Episode:[2781/12]::Loss:[1.2908103466033936]\n",
      "Episode:[2801/16]::Loss:[1.7860661745071411]\n",
      "Episode:[2821/21]::Loss:[26.10240936279297]\n",
      "Episode:[2841/9]::Loss:[2.006340980529785]\n",
      "Episode:[2861/18]::Loss:[2.013266086578369]\n",
      "Episode:[2881/14]::Loss:[1.581192970275879]\n",
      "Episode:[2901/28]::Loss:[1.031754732131958]\n",
      "Episode:[2921/23]::Loss:[1.004589557647705]\n",
      "Episode:[2941/10]::Loss:[0.4832134544849396]\n",
      "Episode:[2961/18]::Loss:[0.3614136576652527]\n",
      "Episode:[2981/24]::Loss:[0.8243944644927979]\n",
      "Episode:[3001/13]::Loss:[0.7338969707489014]\n",
      "Episode:[3021/34]::Loss:[3.3503684997558594]\n",
      "Episode:[3041/22]::Loss:[1.541987419128418]\n",
      "Episode:[3061/24]::Loss:[38.80516815185547]\n",
      "Episode:[3081/62]::Loss:[1.7305868864059448]\n",
      "Episode:[3101/19]::Loss:[1.000627875328064]\n",
      "Episode:[3121/26]::Loss:[39.06330871582031]\n",
      "Episode:[3141/17]::Loss:[0.9830243587493896]\n",
      "Episode:[3161/28]::Loss:[1.6019518375396729]\n",
      "Episode:[3181/24]::Loss:[1.4384182691574097]\n",
      "Episode:[3201/18]::Loss:[1.368462324142456]\n",
      "Episode:[3221/17]::Loss:[49.134498596191406]\n",
      "Episode:[3241/12]::Loss:[74.73014831542969]\n",
      "Episode:[3261/19]::Loss:[37.960044860839844]\n",
      "Episode:[3281/19]::Loss:[9.179468154907227]\n",
      "Episode:[3301/14]::Loss:[10.31097412109375]\n",
      "Episode:[3321/30]::Loss:[9.781368255615234]\n",
      "Episode:[3341/10]::Loss:[6.669388294219971]\n",
      "Episode:[3361/18]::Loss:[4.098995685577393]\n",
      "Episode:[3381/16]::Loss:[2.340125799179077]\n",
      "Episode:[3401/18]::Loss:[1.0324671268463135]\n",
      "Episode:[3421/22]::Loss:[4.593173027038574]\n",
      "Episode:[3441/11]::Loss:[3.113502025604248]\n",
      "Episode:[3461/15]::Loss:[64.93743133544922]\n",
      "Episode:[3481/17]::Loss:[80.45853424072266]\n",
      "Episode:[3501/12]::Loss:[2.422147035598755]\n",
      "Episode:[3521/16]::Loss:[2.2732620239257812]\n",
      "Episode:[3541/12]::Loss:[2.512070655822754]\n",
      "Episode:[3561/12]::Loss:[2.014803409576416]\n",
      "Episode:[3581/33]::Loss:[1.9126906394958496]\n",
      "Episode:[3601/10]::Loss:[71.23574829101562]\n",
      "Episode:[3621/13]::Loss:[4.40789794921875]\n",
      "Episode:[3641/20]::Loss:[2.745412826538086]\n",
      "Episode:[3661/12]::Loss:[2.577169418334961]\n",
      "Episode:[3681/12]::Loss:[1.3658338785171509]\n",
      "Episode:[3701/35]::Loss:[0.6830946803092957]\n",
      "Episode:[3721/58]::Loss:[74.9761734008789]\n",
      "Episode:[3741/22]::Loss:[0.29921966791152954]\n",
      "Episode:[3761/51]::Loss:[0.6553181409835815]\n",
      "Episode:[3781/42]::Loss:[0.2098846435546875]\n",
      "Episode:[3801/14]::Loss:[0.4343559145927429]\n",
      "Episode:[3821/12]::Loss:[2.1104736328125]\n",
      "Episode:[3841/15]::Loss:[2.568344831466675]\n",
      "Episode:[3861/36]::Loss:[1.336592435836792]\n",
      "Episode:[3881/24]::Loss:[0.2461095154285431]\n",
      "Episode:[3901/37]::Loss:[0.21402138471603394]\n",
      "Episode:[3921/12]::Loss:[0.45344775915145874]\n",
      "Episode:[3941/43]::Loss:[0.6883947253227234]\n",
      "Episode:[3961/29]::Loss:[0.5574865341186523]\n",
      "Episode:[3981/16]::Loss:[0.5027140378952026]\n",
      "Episode:[4001/20]::Loss:[0.37865889072418213]\n",
      "Episode:[4021/11]::Loss:[88.0583267211914]\n",
      "Episode:[4041/20]::Loss:[3.2565879821777344]\n",
      "Episode:[4061/19]::Loss:[4.368804931640625]\n",
      "Episode:[4081/35]::Loss:[4.365597724914551]\n",
      "Episode:[4101/15]::Loss:[2.7596852779388428]\n",
      "Episode:[4121/19]::Loss:[2.4297523498535156]\n",
      "Episode:[4141/46]::Loss:[0.7796421647071838]\n",
      "Episode:[4161/14]::Loss:[100.67926788330078]\n",
      "Episode:[4181/15]::Loss:[98.8329086303711]\n",
      "Episode:[4201/16]::Loss:[1.6639461517333984]\n",
      "Episode:[4221/15]::Loss:[1.92581045627594]\n",
      "Episode:[4241/8]::Loss:[1.75895094871521]\n",
      "Episode:[4261/12]::Loss:[78.45262145996094]\n",
      "Episode:[4281/22]::Loss:[3.017763137817383]\n",
      "Episode:[4301/17]::Loss:[3.254793643951416]\n",
      "Episode:[4321/95]::Loss:[3.2937657833099365]\n",
      "Episode:[4341/65]::Loss:[3.0921425819396973]\n",
      "Episode:[4361/19]::Loss:[1.81229829788208]\n",
      "Episode:[4381/31]::Loss:[96.49170684814453]\n",
      "Episode:[4401/13]::Loss:[1.0663052797317505]\n",
      "Episode:[4421/14]::Loss:[2.9356422424316406]\n",
      "Episode:[4441/30]::Loss:[2.5822949409484863]\n",
      "Episode:[4461/11]::Loss:[87.06060791015625]\n",
      "Episode:[4481/20]::Loss:[2.270707845687866]\n",
      "Episode:[4501/38]::Loss:[95.36608123779297]\n",
      "Episode:[4521/34]::Loss:[3.5717475414276123]\n",
      "Episode:[4541/11]::Loss:[5.04636287689209]\n",
      "Episode:[4561/18]::Loss:[3.6442668437957764]\n",
      "Episode:[4581/12]::Loss:[2.9312970638275146]\n",
      "Episode:[4601/39]::Loss:[1.9807883501052856]\n",
      "Episode:[4621/29]::Loss:[1.1688472032546997]\n",
      "Episode:[4641/10]::Loss:[0.5153894424438477]\n",
      "Episode:[4661/11]::Loss:[0.3822134733200073]\n",
      "Episode:[4681/15]::Loss:[0.28766879439353943]\n",
      "Episode:[4701/14]::Loss:[0.4270002841949463]\n",
      "Episode:[4721/18]::Loss:[0.6805631518363953]\n",
      "Episode:[4741/23]::Loss:[0.7607269287109375]\n",
      "Episode:[4761/11]::Loss:[114.5002670288086]\n",
      "Episode:[4781/37]::Loss:[0.21997228264808655]\n",
      "Episode:[4801/13]::Loss:[0.7023727893829346]\n",
      "Episode:[4821/41]::Loss:[1.887289047241211]\n",
      "Episode:[4841/11]::Loss:[2.0764613151550293]\n",
      "Episode:[4861/29]::Loss:[2.1905722618103027]\n",
      "Episode:[4881/10]::Loss:[99.37535858154297]\n",
      "Episode:[4901/8]::Loss:[98.2433090209961]\n",
      "Episode:[4921/40]::Loss:[3.2014944553375244]\n",
      "Episode:[4941/13]::Loss:[4.653885841369629]\n",
      "Episode:[4961/16]::Loss:[4.971185684204102]\n",
      "Episode:[4981/13]::Loss:[4.3452043533325195]\n"
     ]
    },
    {
     "data": {
      "image/png": "[encoded data removed]",
      "text/plain": [
       "<Figure size 432x288 with 1 Axes>"
      ]
     },
     "metadata": {
      "needs_background": "light"
     },
     "output_type": "display_data"
    },
    {
     "data": {
      "image/png": "[encoded data removed]",
      "text/plain": [
       "<Figure size 432x288 with 1 Axes>"
      ]
     },
     "metadata": {
      "needs_background": "light"
     },
     "output_type": "display_data"
    },
    {
     "name": "stdout",
     "output_type": "stream",
     "text": [
      "=-=-=-=-==-=-=-=-=\n",
      "DICT: <class 'UEMEC.relearn.dqn.DQN'>\n",
      "=-=-=-=-==-=-=-=-=\n",
      "hyper\t:\t<UEMEC.basic.O object at 0x00000153EB26BB20>\n",
      "Q\t:\tMLP(\n",
      "  (SEQL): Sequential(\n",
      "    (0): Linear(in_features=4, out_features=64, bias=True)\n",
      "    (1): ReLU()\n",
      "    (2): Linear(in_features=64, out_features=64, bias=True)\n",
      "    (3): ReLU()\n",
      "    (4): Linear(in_features=64, out_features=64, bias=True)\n",
      "    (5): ReLU()\n",
      "    (6): Linear(in_features=64, out_features=64, bias=True)\n",
      "    (7): ReLU()\n",
      "    (8): Linear(in_features=64, out_features=64, bias=True)\n",
      "    (9): ReLU()\n",
      "    (10): Linear(in_features=64, out_features=64, bias=True)\n",
      "    (11): ReLU()\n",
      "    (12): Linear(in_features=64, out_features=2, bias=True)\n",
      "  )\n",
      ")\n",
      "T\t:\tMLP(\n",
      "  (SEQL): Sequential(\n",
      "    (0): Linear(in_features=4, out_features=64, bias=True)\n",
      "    (1): ReLU()\n",
      "    (2): Linear(in_features=64, out_features=64, bias=True)\n",
      "    (3): ReLU()\n",
      "    (4): Linear(in_features=64, out_features=64, bias=True)\n",
      "    (5): ReLU()\n",
      "    (6): Linear(in_features=64, out_features=64, bias=True)\n",
      "    (7): ReLU()\n",
      "    (8): Linear(in_features=64, out_features=64, bias=True)\n",
      "    (9): ReLU()\n",
      "    (10): Linear(in_features=64, out_features=64, bias=True)\n",
      "    (11): ReLU()\n",
      "    (12): Linear(in_features=64, out_features=2, bias=True)\n",
      "  )\n",
      ")\n",
      "lossF\t:\tMSELoss()\n",
      "optimizer\t:\tAdam (\n",
      "Parameter Group 0\n",
      "    amsgrad: False\n",
      "    betas: (0.9, 0.999)\n",
      "    eps: 1e-08\n",
      "    lr: 0.00025\n",
      "    weight_decay: 0\n",
      ")\n",
      "train_count\t:\t498\n",
      "update_count\t:\t24\n",
      "dtype\t:\ttorch.float32\n",
      "device\t:\tcuda\n",
      "=-=-=-=-==-=-=-=-=\n",
      "\n"
     ]
    }
   ],
   "source": [
    "\n",
    "#total_reward = 0\n",
    "epsilon = 1.0\n",
    "epochs = 5000\n",
    "train_freq = 20\n",
    "max_episode_steps=200\n",
    "train_batch_size = 16\n",
    "train_times = 2\n",
    "tstep=0\n",
    "min_mem = 200\n",
    "loss_hist = []\n",
    "eps_hist = []\n",
    "\n",
    "for epoch in range(epochs):\n",
    "    cs = env.reset()\n",
    "    mem.reset(S=cs)\n",
    "    done, step= False, 0\n",
    "    while not done and step<env._max_episode_steps:\n",
    "        step+=1\n",
    "        tstep+=1\n",
    "        action = (rng.integers(0, nA)) if rng.random() < epsilon else (pie.predict(cs))\n",
    "        epsilon -=0.000001\n",
    "        epsilon = max(0.1, epsilon)\n",
    "        eps_hist.append(epsilon)\n",
    "        nS, reward, done, _ = env.step(action)\n",
    "        mem.step( S=ns, A=action, R=reward, D=done)\n",
    "        \n",
    "        \n",
    "        #print('\\tstep:[{}], action:[{}], done:[{}], reward:[{}]'.format(step, action, done, reward))\n",
    "    #if not (tstep % train_freq):\n",
    "    if not (epoch % train_freq):\n",
    "        if mem.length > min_mem:\n",
    "            aloss = pie.mslearn(train_times, mem, train_batch_size )\n",
    "            loss_hist.append(aloss)\n",
    "            print('Episode:[{}/{}]::Loss:[{}]'.format(epoch+1, step, aloss))\n",
    "\n",
    "\n",
    "plt.plot(loss_hist)\n",
    "plt.show()\n",
    "plt.plot(eps_hist)\n",
    "plt.show()\n",
    "basic.show(pie)"
   ]
  },
  {
   "cell_type": "code",
   "execution_count": 15,
   "metadata": {},
   "outputs": [
    {
     "data": {
      "text/plain": [
       "9541"
      ]
     },
     "execution_count": 15,
     "metadata": {},
     "output_type": "execute_result"
    }
   ],
   "source": [
    "mem.length"
   ]
  },
  {
   "cell_type": "code",
   "execution_count": 17,
   "metadata": {},
   "outputs": [
    {
     "name": "stdout",
     "output_type": "stream",
     "text": [
      "Step:[1], Action:[0], Reward:[1.0], Done:[False]\n",
      "Step:[2], Action:[0], Reward:[1.0], Done:[False]\n",
      "Step:[3], Action:[0], Reward:[1.0], Done:[False]\n",
      "Step:[4], Action:[0], Reward:[1.0], Done:[False]\n",
      "Step:[5], Action:[0], Reward:[1.0], Done:[False]\n",
      "Step:[6], Action:[0], Reward:[1.0], Done:[False]\n",
      "Step:[7], Action:[0], Reward:[1.0], Done:[False]\n",
      "Step:[8], Action:[0], Reward:[1.0], Done:[False]\n",
      "Step:[9], Action:[0], Reward:[1.0], Done:[False]\n",
      "Step:[10], Action:[0], Reward:[1.0], Done:[True]\n"
     ]
    }
   ],
   "source": [
    "cs = env.reset()\n",
    "#mem.reset(S=cs)\n",
    "done, step= False, 0\n",
    "while not done and step<env._max_episode_steps:\n",
    "    step+=1\n",
    "    action =  (pie.predict(cs))\n",
    "    nS, reward, done, _ = env.step(action)\n",
    "    print('Step:[{}], Action:[{}], Reward:[{}], Done:[{}]'.format(step, action, reward, done))"
   ]
  }
 ],
 "metadata": {
  "colab": {
   "collapsed_sections": [],
   "name": "Welcome.ipynb",
   "provenance": [],
   "toc_visible": true
  },
  "kernelspec": {
   "display_name": "Python 3 (ipykernel)",
   "language": "python",
   "name": "python3"
  },
  "language_info": {
   "codemirror_mode": {
    "name": "ipython",
    "version": 3
   },
   "file_extension": ".py",
   "mimetype": "text/x-python",
   "name": "python",
   "nbconvert_exporter": "python",
   "pygments_lexer": "ipython3",
   "version": "3.8.10"
  }
 },
 "nbformat": 4,
 "nbformat_minor": 4
}
