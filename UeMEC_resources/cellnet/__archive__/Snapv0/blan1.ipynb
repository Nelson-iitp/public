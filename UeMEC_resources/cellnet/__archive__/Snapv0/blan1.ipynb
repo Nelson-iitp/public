{
 "cells": [
  {
   "cell_type": "markdown",
   "metadata": {},
   "source": [
    "# Blank"
   ]
  },
  {
   "cell_type": "code",
   "execution_count": null,
   "metadata": {},
   "outputs": [],
   "source": [
    "import torch as tt\n",
    "from numpy.random import default_rng\n",
    "rng = default_rng(12)\n"
   ]
  },
  {
   "cell_type": "code",
   "execution_count": null,
   "metadata": {},
   "outputs": [],
   "source": [
    "in_dim ,out_dim = 4, 3\n",
    "batch_size = 500\n",
    "\n",
    "x_data, y_data = rng.random(size=(batch_size, in_dim,)),  rng.random(size=(batch_size, out_dim,)), \n",
    "\n",
    "x = tt.zeros((batch_size, in_dim,), dtype=tt.float32)\n",
    "x.copy_(tt.tensor(x_data))\n",
    "\n",
    "y = tt.zeros((batch_size, out_dim,), dtype=tt.float32)\n",
    "y.copy_(tt.tensor(y_data))\n",
    "\n",
    "x.shape, y.shape, x, y"
   ]
  },
  {
   "cell_type": "code",
   "execution_count": null,
   "metadata": {},
   "outputs": [],
   "source": [
    "\n",
    "w = tt.zeros((out_dim, in_dim), dtype=tt.float32, requires_grad=True)\n",
    "b = tt.zeros((out_dim,), dtype=tt.float32, requires_grad=True)\n",
    "\n",
    "\n",
    "w.shape, b.shape, in_dim ,out_dim "
   ]
  },
  {
   "cell_type": "code",
   "execution_count": null,
   "metadata": {},
   "outputs": [],
   "source": [
    "def zero_grad():\n",
    "    w.grad=None\n",
    "    b.grad=None\n",
    "\n",
    "\n",
    "def show_grad():\n",
    "    print(w.grad, b.grad)\n",
    "\n",
    "def step( lr):\n",
    "    with tt.no_grad():\n",
    "        global w, b\n",
    "        w -= lr*w.grad\n",
    "        b -= lr*b.grad\n",
    "\n",
    "\n",
    "\n",
    "def forward(w,b,x):\n",
    "    return w @ x + b\n",
    "\n",
    "def f1(w,b,X):\n",
    "    return  tt.stack([ (w @ x + b ) for x in X ])\n",
    "\n",
    "\n",
    "def f2(w,b,X):\n",
    "    return (w @ x.T).T + b\n",
    "\n",
    "def mse(pred, truth):\n",
    "    return tt.mean((pred - y)**2)\n",
    "\n",
    "def se(pred, truth):\n",
    "    return (pred - y)**2"
   ]
  },
  {
   "cell_type": "code",
   "execution_count": null,
   "metadata": {},
   "outputs": [],
   "source": [
    "w, b"
   ]
  },
  {
   "cell_type": "code",
   "execution_count": null,
   "metadata": {},
   "outputs": [],
   "source": [
    "for _ in range(1000):\n",
    "    pred = f1(w, b, x)\n",
    "    loss = mse(pred, y)\n",
    "    zero_grad() \n",
    "    loss.backward() #<--- zero_grad()  any where before this\n",
    "    step(0.001)     #<---  zero_grad() any where after this\n",
    "#zero_grad() \n"
   ]
  },
  {
   "cell_type": "code",
   "execution_count": null,
   "metadata": {},
   "outputs": [],
   "source": [
    "w, b"
   ]
  }
 ],
 "metadata": {
  "colab": {
   "collapsed_sections": [],
   "name": "Welcome.ipynb",
   "provenance": [],
   "toc_visible": true
  },
  "kernelspec": {
   "display_name": "Python 3 (ipykernel)",
   "language": "python",
   "name": "python3"
  },
  "language_info": {
   "codemirror_mode": {
    "name": "ipython",
    "version": 3
   },
   "file_extension": ".py",
   "mimetype": "text/x-python",
   "name": "python",
   "nbconvert_exporter": "python",
   "pygments_lexer": "ipython3",
   "version": "3.8.10"
  }
 },
 "nbformat": 4,
 "nbformat_minor": 4
}
