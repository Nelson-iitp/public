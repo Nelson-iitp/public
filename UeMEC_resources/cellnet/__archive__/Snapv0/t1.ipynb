{
 "cells": [
  {
   "cell_type": "markdown",
   "metadata": {},
   "source": [
    "# Blank"
   ]
  },
  {
   "cell_type": "code",
   "execution_count": 1,
   "metadata": {},
   "outputs": [],
   "source": [
    "import UEMEC.rl as rl\n",
    "import UEMEC.basic as basic\n",
    "from extra import cartpole\n",
    "import numpy as np\n",
    "rng = np.random.default_rng(None)"
   ]
  },
  {
   "cell_type": "code",
   "execution_count": 2,
   "metadata": {},
   "outputs": [
    {
     "data": {
      "text/plain": [
       "<extra.cartpole at 0x151967c5ca0>"
      ]
     },
     "execution_count": 2,
     "metadata": {},
     "output_type": "execute_result"
    }
   ],
   "source": [
    "env = cartpole('cpu', 10)\n",
    "env"
   ]
  },
  {
   "cell_type": "code",
   "execution_count": 3,
   "metadata": {},
   "outputs": [
    {
     "data": {
      "text/plain": [
       "0"
      ]
     },
     "execution_count": 3,
     "metadata": {},
     "output_type": "execute_result"
    }
   ],
   "source": [
    "env.memory.count()"
   ]
  },
  {
   "cell_type": "code",
   "execution_count": 4,
   "metadata": {},
   "outputs": [
    {
     "data": {
      "text/plain": [
       "0"
      ]
     },
     "execution_count": 4,
     "metadata": {},
     "output_type": "execute_result"
    }
   ],
   "source": [
    "len(env.memory)"
   ]
  },
  {
   "cell_type": "code",
   "execution_count": 5,
   "metadata": {},
   "outputs": [
    {
     "name": "stdout",
     "output_type": "stream",
     "text": [
      "=-=-=-=-==-=-=-=-=@[MEMORY]=-=-=-=-==-=-=-=-=\n",
      "Device [cpu]\tCount [0]\n",
      "Capacity[10]\tPointer [0]\n",
      "=-=-=-=-==-=-=-=-=![MEMORY]=-=-=-=-==-=-=-=-=\n"
     ]
    }
   ],
   "source": [
    "env.memory.render_all()"
   ]
  },
  {
   "cell_type": "code",
   "execution_count": 6,
   "metadata": {},
   "outputs": [
    {
     "name": "stdout",
     "output_type": "stream",
     "text": [
      "[1]\tAct[1], Rew[1.0], Done[False]\n",
      "[2]\tAct[1], Rew[1.0], Done[False]\n",
      "[3]\tAct[0], Rew[1.0], Done[False]\n",
      "[4]\tAct[1], Rew[1.0], Done[False]\n",
      "[5]\tAct[1], Rew[1.0], Done[False]\n",
      "[6]\tAct[0], Rew[1.0], Done[False]\n",
      "[7]\tAct[1], Rew[1.0], Done[False]\n",
      "[8]\tAct[0], Rew[1.0], Done[False]\n",
      "[9]\tAct[1], Rew[1.0], Done[False]\n",
      "[10]\tAct[0], Rew[1.0], Done[False]\n",
      "[11]\tAct[1], Rew[1.0], Done[False]\n",
      "[12]\tAct[0], Rew[1.0], Done[False]\n",
      "[13]\tAct[0], Rew[1.0], Done[False]\n",
      "[14]\tAct[1], Rew[1.0], Done[True]\n",
      "[1]\tAct[1], Rew[1.0], Done[False]\n",
      "[2]\tAct[0], Rew[1.0], Done[False]\n",
      "[3]\tAct[0], Rew[1.0], Done[False]\n",
      "[4]\tAct[0], Rew[1.0], Done[False]\n",
      "[5]\tAct[1], Rew[1.0], Done[False]\n",
      "[6]\tAct[0], Rew[1.0], Done[False]\n",
      "[7]\tAct[1], Rew[1.0], Done[False]\n",
      "[8]\tAct[0], Rew[1.0], Done[False]\n",
      "[9]\tAct[0], Rew[1.0], Done[False]\n",
      "[10]\tAct[0], Rew[1.0], Done[False]\n",
      "[11]\tAct[1], Rew[1.0], Done[False]\n",
      "[12]\tAct[0], Rew[1.0], Done[False]\n",
      "[13]\tAct[1], Rew[1.0], Done[False]\n",
      "[14]\tAct[0], Rew[1.0], Done[False]\n",
      "[15]\tAct[1], Rew[1.0], Done[False]\n",
      "[16]\tAct[1], Rew[1.0], Done[False]\n",
      "[17]\tAct[0], Rew[1.0], Done[False]\n",
      "[18]\tAct[0], Rew[1.0], Done[False]\n",
      "[19]\tAct[0], Rew[1.0], Done[False]\n",
      "[20]\tAct[1], Rew[1.0], Done[False]\n",
      "[21]\tAct[0], Rew[1.0], Done[True]\n",
      "[1]\tAct[1], Rew[1.0], Done[False]\n",
      "[2]\tAct[1], Rew[1.0], Done[False]\n",
      "[3]\tAct[1], Rew[1.0], Done[False]\n",
      "[4]\tAct[0], Rew[1.0], Done[False]\n",
      "[5]\tAct[0], Rew[1.0], Done[False]\n",
      "[6]\tAct[0], Rew[1.0], Done[False]\n",
      "[7]\tAct[0], Rew[1.0], Done[False]\n",
      "[8]\tAct[1], Rew[1.0], Done[False]\n",
      "[9]\tAct[1], Rew[1.0], Done[False]\n",
      "[10]\tAct[1], Rew[1.0], Done[False]\n",
      "[11]\tAct[0], Rew[1.0], Done[False]\n",
      "[12]\tAct[0], Rew[1.0], Done[False]\n",
      "[13]\tAct[0], Rew[1.0], Done[False]\n",
      "[14]\tAct[1], Rew[1.0], Done[False]\n",
      "[15]\tAct[0], Rew[1.0], Done[False]\n",
      "[16]\tAct[1], Rew[1.0], Done[False]\n",
      "[17]\tAct[0], Rew[1.0], Done[False]\n",
      "[18]\tAct[1], Rew[1.0], Done[False]\n",
      "[19]\tAct[0], Rew[1.0], Done[False]\n",
      "[20]\tAct[0], Rew[1.0], Done[False]\n",
      "[21]\tAct[0], Rew[1.0], Done[False]\n",
      "[22]\tAct[0], Rew[1.0], Done[False]\n",
      "[23]\tAct[0], Rew[1.0], Done[False]\n",
      "[24]\tAct[1], Rew[1.0], Done[False]\n",
      "[25]\tAct[1], Rew[1.0], Done[False]\n",
      "[26]\tAct[1], Rew[1.0], Done[False]\n",
      "[27]\tAct[1], Rew[1.0], Done[False]\n",
      "[28]\tAct[0], Rew[1.0], Done[False]\n",
      "[29]\tAct[0], Rew[1.0], Done[False]\n",
      "[30]\tAct[0], Rew[1.0], Done[False]\n",
      "[31]\tAct[1], Rew[1.0], Done[False]\n",
      "[32]\tAct[0], Rew[1.0], Done[False]\n",
      "[33]\tAct[0], Rew[1.0], Done[False]\n",
      "[34]\tAct[0], Rew[1.0], Done[False]\n",
      "[35]\tAct[0], Rew[1.0], Done[True]\n"
     ]
    }
   ],
   "source": [
    "for _ in range(3):\n",
    "    ts, done = 0, env.start()\n",
    "    while not done:\n",
    "        ts+=1\n",
    "        act = env.spaces['A'].sample(rng)\n",
    "        env.act(act)\n",
    "        done = env.next()\n",
    "        reward = env.R.item()\n",
    "        print('[{}]\\tAct[{}], Rew[{}], Done[{}]'.format(ts, act, reward, done))\n"
   ]
  },
  {
   "cell_type": "code",
   "execution_count": 7,
   "metadata": {},
   "outputs": [],
   "source": [
    "env.memory.seed(None)"
   ]
  },
  {
   "cell_type": "code",
   "execution_count": 8,
   "metadata": {},
   "outputs": [
    {
     "data": {
      "text/plain": [
       "(torch.Size([]),\n",
       " tensor(2),\n",
       " {'S': tensor([-0.1374, -1.3240,  0.2289,  2.1850]),\n",
       "  'A': tensor(0, dtype=torch.int32),\n",
       "  'R': tensor(1.),\n",
       "  'D': tensor(1, dtype=torch.int8)})"
      ]
     },
     "execution_count": 8,
     "metadata": {},
     "output_type": "execute_result"
    }
   ],
   "source": [
    "b=env.memory.sample_last()\n",
    "b.shape, b, env.memory.read(b)"
   ]
  },
  {
   "cell_type": "code",
   "execution_count": 9,
   "metadata": {},
   "outputs": [
    {
     "data": {
      "text/plain": [
       "(torch.Size([9]),\n",
       " tensor([4, 5, 6, 7, 8, 9, 0, 1, 2]),\n",
       " {'S': tensor([[-0.0358, -0.1428,  0.0721,  0.1513],\n",
       "          [-0.0387, -0.3388,  0.0751,  0.4658],\n",
       "          [-0.0455, -0.5349,  0.0844,  0.7812],\n",
       "          [-0.0562, -0.7311,  0.1000,  1.0992],\n",
       "          [-0.0708, -0.5374,  0.1220,  0.8395],\n",
       "          [-0.0815, -0.7340,  0.1388,  1.1679],\n",
       "          [-0.0962, -0.9306,  0.1621,  1.5007],\n",
       "          [-0.1148, -1.1273,  0.1922,  1.8393],\n",
       "          [-0.1374, -1.3240,  0.2289,  2.1850]]),\n",
       "  'A': tensor([1, 0, 0, 0, 1, 0, 0, 0, 0], dtype=torch.int32),\n",
       "  'R': tensor([1., 1., 1., 1., 1., 1., 1., 1., 1.]),\n",
       "  'D': tensor([0, 0, 0, 0, 0, 0, 0, 0, 1], dtype=torch.int8)})"
      ]
     },
     "execution_count": 9,
     "metadata": {},
     "output_type": "execute_result"
    }
   ],
   "source": [
    "b=env.memory.sample_recent(10)\n",
    "b.shape, b, env.memory.read(b)"
   ]
  },
  {
   "cell_type": "code",
   "execution_count": 10,
   "metadata": {},
   "outputs": [
    {
     "data": {
      "text/plain": [
       "(torch.Size([9]),\n",
       " tensor([4, 5, 6, 7, 8, 9, 0, 1, 2]),\n",
       " {'S': tensor([[-0.0358, -0.1428,  0.0721,  0.1513],\n",
       "          [-0.0387, -0.3388,  0.0751,  0.4658],\n",
       "          [-0.0455, -0.5349,  0.0844,  0.7812],\n",
       "          [-0.0562, -0.7311,  0.1000,  1.0992],\n",
       "          [-0.0708, -0.5374,  0.1220,  0.8395],\n",
       "          [-0.0815, -0.7340,  0.1388,  1.1679],\n",
       "          [-0.0962, -0.9306,  0.1621,  1.5007],\n",
       "          [-0.1148, -1.1273,  0.1922,  1.8393],\n",
       "          [-0.1374, -1.3240,  0.2289,  2.1850]]),\n",
       "  'A': tensor([1, 0, 0, 0, 1, 0, 0, 0, 0], dtype=torch.int32),\n",
       "  'R': tensor([1., 1., 1., 1., 1., 1., 1., 1., 1.]),\n",
       "  'D': tensor([0, 0, 0, 0, 0, 0, 0, 0, 1], dtype=torch.int8)})"
      ]
     },
     "execution_count": 10,
     "metadata": {},
     "output_type": "execute_result"
    }
   ],
   "source": [
    "b=env.memory.sample_recent(50)\n",
    "b.shape, b, env.memory.read(b)"
   ]
  }
 ],
 "metadata": {
  "colab": {
   "collapsed_sections": [],
   "name": "Welcome.ipynb",
   "provenance": [],
   "toc_visible": true
  },
  "kernelspec": {
   "display_name": "Python 3 (ipykernel)",
   "language": "python",
   "name": "python3"
  },
  "language_info": {
   "codemirror_mode": {
    "name": "ipython",
    "version": 3
   },
   "file_extension": ".py",
   "mimetype": "text/x-python",
   "name": "python",
   "nbconvert_exporter": "python",
   "pygments_lexer": "ipython3",
   "version": "3.8.10"
  }
 },
 "nbformat": 4,
 "nbformat_minor": 4
}
