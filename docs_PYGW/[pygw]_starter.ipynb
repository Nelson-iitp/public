{
 "cells": [
  {
   "cell_type": "markdown",
   "id": "7dd18b7f",
   "metadata": {},
   "source": [
    "# [ GLOBAL SECTION ]"
   ]
  },
  {
   "cell_type": "code",
   "execution_count": 1,
   "id": "fc00f843",
   "metadata": {},
   "outputs": [],
   "source": [
    "import random, datetime, copy\n",
    "import numpy as np\n",
    "import matplotlib.pyplot as plt\n",
    "\n",
    "import pygw\n",
    "import pygw.common # get_random_range, int2base, base2int, strA\n",
    "from pygw.common import MDLOG\n",
    "from pygw.model import WORLD, ENV\n",
    "import pygw.worlds as worlds\n",
    "import pygw.nets as nets\n",
    "from pygw.agents.dqn import AGENT as DQN\n",
    "from pygw.agents.tql import AGENT as TQL\n",
    "from pygw.agents.basic import AGENT as BASIC"
   ]
  },
  {
   "cell_type": "markdown",
   "id": "8916541b",
   "metadata": {},
   "source": [
    "# [ Create / Load a WORLD ]"
   ]
  },
  {
   "cell_type": "code",
   "execution_count": 2,
   "id": "c5bbb2ad",
   "metadata": {},
   "outputs": [
    {
     "name": "stdout",
     "output_type": "stream",
     "text": [
      "Template World\n"
     ]
    }
   ],
   "source": [
    "world = worlds.TEMPLATE()\n",
    "print(world.name)"
   ]
  },
  {
   "cell_type": "markdown",
   "id": "2c2cdafa",
   "metadata": {},
   "source": [
    "# [ Create ENV ]"
   ]
  },
  {
   "cell_type": "markdown",
   "id": "5a2dca4e",
   "metadata": {},
   "source": [
    "###  ENV variables\n",
    "```\n",
    "        self.FIGSR = 0.8\n",
    "        self.cmap = 'PiYG'\n",
    "        self.spcol = 'green'#  color (start position)\n",
    "        self.epcol = 'red'  #  color (end position)\n",
    "        self.ccol = 'black' #  col (current position)\n",
    "        self.acol = 'tab:grey' # arrow color\n",
    "        self.max_ts = (self.R*self.C)*10\n",
    "        self.max_ts_test = (self.R*self.C)*2\n",
    " ```"
   ]
  },
  {
   "cell_type": "code",
   "execution_count": 3,
   "id": "879405f2",
   "metadata": {},
   "outputs": [
    {
     "data": {
      "image/png": "[encoded data removed]",
      "text/plain": [
       "<Figure size 518.4x216 with 2 Axes>"
      ]
     },
     "metadata": {
      "needs_background": "light"
     },
     "output_type": "display_data"
    },
    {
     "data": {
      "image/png": "[encoded data removed]",
      "text/plain": [
       "<Figure size 518.4x216 with 2 Axes>"
      ]
     },
     "metadata": {
      "needs_background": "light"
     },
     "output_type": "display_data"
    }
   ],
   "source": [
    "env = ENV(world, name=\"GENV\")\n",
    "Tenv = ENV(world, name=\"TENV\")\n",
    "np.copyto(Tenv.Si, env.Si)\n",
    "Tenv.reset()\n",
    "\n",
    "env.FIGSR = 0.6\n",
    "Tenv.FIGSR = 0.6\n",
    "#env.cmap = 'summer'\n",
    "#env.spcol = 'tab:purple'\n",
    "\n",
    "env.render( mode=1, caption=env.name+\" :: \" + str(env.R)+\" x \"+str(env.C))\n",
    "Tenv.render( mode=1, caption=Tenv.name+\" :: \" + str(env.R)+\" x \"+str(env.C))"
   ]
  },
  {
   "cell_type": "markdown",
   "id": "6e063bb2",
   "metadata": {},
   "source": [
    "# [ Test Simulate with BASIC agent ]"
   ]
  },
  {
   "cell_type": "code",
   "execution_count": 4,
   "id": "5a6228e7",
   "metadata": {
    "scrolled": false
   },
   "outputs": [
    {
     "name": "stdout",
     "output_type": "stream",
     "text": [
      "Test Policy: [1, 1, 3, 3, 2, 2, 0, 0]\n",
      "Testing agent { agent_pie } on env [ GENV ]\n",
      "1  --> Action: 1 Current Reward: -1 Cummulative Reward: -1  Final State? [ False ]\n",
      "2  --> Action: 1 Current Reward: -8 Cummulative Reward: -9  Final State? [ False ]\n",
      "3  --> Action: 3 Current Reward: -1 Cummulative Reward: -10  Final State? [ False ]\n",
      "4  --> Action: 3 Current Reward: -1 Cummulative Reward: -11  Final State? [ False ]\n",
      "5  --> Action: 2 Current Reward: -1 Cummulative Reward: -12  Final State? [ False ]\n",
      "6  --> Action: 2 Current Reward: -1 Cummulative Reward: -13  Final State? [ False ]\n",
      "7  --> Action: 0 Current Reward: -1 Cummulative Reward: -14  Final State? [ False ]\n",
      "8  --> Action: 0 Current Reward: -1 Cummulative Reward: -15  Final State? [ False ]\n",
      "9  --> Action: -1 Current Reward: 0 Cummulative Reward: -15  Final State? [ True ]\n"
     ]
    },
    {
     "data": {
      "image/png": "[encoded data removed]",
      "text/plain": [
       "<Figure size 518.4x216 with 2 Axes>"
      ]
     },
     "metadata": {
      "needs_background": "light"
     },
     "output_type": "display_data"
    },
    {
     "name": "stdout",
     "output_type": "stream",
     "text": [
      "Action Sequence: [1, 1, 3, 3, 2, 2, 0, 0, -1]\n",
      "Total Reward: -15\n",
      "Action Sequence: [1, 1, 3, 3, 2, 2, 0, 0, -1]\n",
      "Reward Sequence: [-1, -8, -1, -1, -1, -1, -1, -1, 0]\n",
      "Total Reward: -15\n"
     ]
    }
   ],
   "source": [
    "basic_agt = BASIC(env=env)\n",
    "#test_pie = np.random.randint(0,env.A, size=env.R+env.C)\n",
    "test_pie = [1,1,3,3,2,2,0,0] #<---- agents does a loop back to start position\n",
    "basic_agt.set_pie(test_pie)\n",
    "print('Test Policy:', test_pie)\n",
    "\n",
    "pie, rew, trew, _ = env.test(basic_agt,\n",
    "             #reset_env=True, \n",
    "             #return_info=False, \n",
    "             verbose=3, \n",
    "             mode=1,last_render_only=True,\n",
    "             rprint=print)\n",
    "print('Action Sequence:', pie)\n",
    "print('Reward Sequence:', rew)\n",
    "print('Total Reward:', trew)"
   ]
  },
  {
   "cell_type": "markdown",
   "id": "d4521cc8",
   "metadata": {},
   "source": [
    "# [ Find Optimal Policy using Traditional Q-Learning  ]"
   ]
  },
  {
   "cell_type": "code",
   "execution_count": 5,
   "id": "da8ee22a",
   "metadata": {
    "scrolled": false
   },
   "outputs": [
    {
     "name": "stdout",
     "output_type": "stream",
     "text": [
      "States discovered: 2387\n",
      "Testing agent { agent_tql } on env [ GENV ]\n",
      "1  --> Action: 3 Current Reward: -1 Cummulative Reward: -1  Final State? [ False ]\n",
      "2  --> Action: 3 Current Reward: -1 Cummulative Reward: -2  Final State? [ False ]\n",
      "3  --> Action: 3 Current Reward: 8 Cummulative Reward: 6  Final State? [ False ]\n",
      "4  --> Action: 3 Current Reward: 7 Cummulative Reward: 13  Final State? [ False ]\n",
      "5  --> Action: 0 Current Reward: -1 Cummulative Reward: 12  Final State? [ False ]\n",
      "6  --> Action: 1 Current Reward: -1 Cummulative Reward: 11  Final State? [ False ]\n",
      "7  --> Action: 1 Current Reward: 5 Cummulative Reward: 16  Final State? [ False ]\n",
      "8  --> Action: 1 Current Reward: -1 Cummulative Reward: 15  Final State? [ False ]\n",
      "9  --> Action: 3 Current Reward: -1 Cummulative Reward: 14  Final State? [ False ]\n",
      "10  --> Action: 1 Current Reward: -1 Cummulative Reward: 13  Final State? [ False ]\n",
      "11  --> Action: 1 Current Reward: 0 Cummulative Reward: 13  Final State? [ True ]\n"
     ]
    },
    {
     "data": {
      "image/png": "[encoded data removed]",
      "text/plain": [
       "<Figure size 518.4x216 with 2 Axes>"
      ]
     },
     "metadata": {
      "needs_background": "light"
     },
     "output_type": "display_data"
    },
    {
     "name": "stdout",
     "output_type": "stream",
     "text": [
      "Action Sequence: [3, 3, 3, 3, 0, 1, 1, 1, 3, 1, 1]\n",
      "Total Reward: 13\n",
      "Action Sequence: [3, 3, 3, 3, 0, 1, 1, 1, 3, 1, 1]\n",
      "Reward Sequence: [-1, -1, 8, 7, -1, -1, 5, -1, -1, -1, 0]\n",
      "Total Reward: 13\n",
      "Elapsed time = 0:01:07.660551\n"
     ]
    }
   ],
   "source": [
    "#*********************************************************\n",
    "timestamp_start = datetime.datetime.now()\n",
    "#*********************************************************\n",
    "\n",
    "tql_agt = TQL(env=env)\n",
    "tql_agt.train(M=500_000, lr=0.5, dis=0.99, epsilon=0.3, clear_Q=True, reset_env=True)\n",
    "print('States discovered:', len(tql_agt.Q))\n",
    "pie, rew, trew, _ = env.test(tql_agt,\n",
    "             reset_env=True, \n",
    "             return_info=False, \n",
    "             verbose=3, mode=1, last_render_only=True, rprint=print)\n",
    "print('Action Sequence:', pie)\n",
    "print('Reward Sequence:', rew)\n",
    "print('Total Reward:', trew)\n",
    "\n",
    "# strore results to compare later\n",
    "TQL_RES = [pie, trew]\n",
    "#*********************************************************\n",
    "timestamp_dur = datetime.datetime.now() - timestamp_start\n",
    "print('Elapsed time = ' + str(timestamp_dur))\n",
    "#*********************************************************"
   ]
  },
  {
   "cell_type": "markdown",
   "id": "1b62c37e",
   "metadata": {},
   "source": [
    "# [ Find Optimal Policy using Deep Q-Learning  ]"
   ]
  },
  {
   "cell_type": "code",
   "execution_count": null,
   "id": "3ac2e385",
   "metadata": {
    "scrolled": false
   },
   "outputs": [],
   "source": [
    "#*********************************************************\n",
    "timestamp_start = datetime.datetime.now()\n",
    "#*********************************************************\n",
    "\n",
    "dqn_agt = DQN(env_train=env, env_test=Tenv, \n",
    "              qnet=nets.DQN_D0(env.LEN, env.A, lr=0.01, layer_size=[500,200,50]))\n",
    "\n",
    "_ , _, total_updates, tested_pies, tested_rews, tested_base_eps = \\\n",
    "dqn_agt.train(max_replay_memory = 512*6, \n",
    "              max_episodes = 1500, \n",
    "              dis = 0.99, \n",
    "              epsilonA = [0.05, 0.0001, 0.05, 0.85, 0],\n",
    "              mini_batch_size = 512 * 3,\n",
    "              train_freq = (env.R+env.C)*10,\n",
    "              update_freq = 30, \n",
    "              random_init_state=False,\n",
    "              clear_mem=True, \n",
    "              test_on_update=True,\n",
    "              verbose=1,  test_verbose=1, last_render_only=True, mode=1, rprint=print)\n",
    "\n",
    "print('Done! Total updates mades to TNET:',total_updates)\n",
    "\n",
    "\n",
    "#*********************************************************\n",
    "timestamp_dur = datetime.datetime.now() - timestamp_start\n",
    "print('Elapsed time = ' + str(timestamp_dur))\n",
    "#*********************************************************"
   ]
  },
  {
   "cell_type": "markdown",
   "id": "08bf2e86",
   "metadata": {},
   "source": [
    "## [ Plot the DQN training results ]"
   ]
  },
  {
   "cell_type": "code",
   "execution_count": null,
   "id": "700a906b",
   "metadata": {
    "scrolled": false
   },
   "outputs": [],
   "source": [
    "\n",
    "fix,ax = plt.subplots(2,1, sharex=True, figsize=(16,7))\n",
    "\n",
    "scatX = np.arange(0,total_updates+1,1 )\n",
    "\n",
    "#ax[1].set_title('Epsilon Overtime')\n",
    "ax[1].plot(tested_base_eps, color='tab:purple', linewidth=0.8)\n",
    "ax[1].set_ylim(0,1)\n",
    "ax[1].set_xlim(0,total_updates+1)\n",
    "ax[1].set_ylabel('Epsilon')\n",
    "\n",
    "#ax[0].set_title('Reward Overtime')\n",
    "ax[0].plot(tested_rews, color='tab:blue', linewidth=0.7)\n",
    "ax[0].scatter(scatX,tested_rews, color='tab:blue')\n",
    "ax[0].hlines(tested_rews[-1], 0,total_updates+1 , color='tab:purple')\n",
    "ax[0].set_xlim(0,total_updates+1)\n",
    "ax[0].set_ylabel('Reward')\n",
    "ax[1].set_xlabel('Update#')\n",
    "plt.show()\n",
    "\n",
    "pie, rew, trew, _ = dqn_agt.env_.test(dqn_agt,\n",
    "             reset_env=True, \n",
    "             return_info=False, \n",
    "             verbose=3, mode=1, last_render_only=False, rprint=print)\n",
    "print('Action Sequence:', pie)\n",
    "print('Reward Sequence:', rew)\n",
    "print('Total Reward:', trew)\n",
    "\n",
    "DQN_RES = [pie, trew]"
   ]
  },
  {
   "cell_type": "markdown",
   "id": "cf3161bb",
   "metadata": {},
   "source": [
    "# [ Compare TQL and DQN ]"
   ]
  },
  {
   "cell_type": "code",
   "execution_count": null,
   "id": "e8e30d50",
   "metadata": {},
   "outputs": [],
   "source": [
    "# store results to compare later - DQN_RES, TQN_RES = [pie, trew]\n",
    "\n",
    "\n",
    "basic_agt.set_pie(DQN_RES[0])\n",
    "pie, rew, trew, _ = env.test(basic_agt,\n",
    "             #reset_env=True, \n",
    "             #return_info=False, \n",
    "             verbose=1, \n",
    "             mode=1, last_render_only=True,\n",
    "             rprint=print)\n",
    "\n",
    "\n",
    "\n",
    "basic_agt.set_pie(TQL_RES[0])\n",
    "pie, rew, trew, _ = env.test(basic_agt,\n",
    "             #reset_env=True, \n",
    "             #return_info=False, \n",
    "             verbose=1, \n",
    "             mode=1, last_render_only=True,\n",
    "             rprint=print)\n",
    "\n",
    "\n",
    "print('\\n==============================================')\n",
    "print('DQN-Policy Reward:', DQN_RES[1])\n",
    "print('TQL-Policy Reward:', TQL_RES[1])\n",
    "print('==============================================\\n')"
   ]
  },
  {
   "cell_type": "markdown",
   "id": "8a28175a",
   "metadata": {},
   "source": [
    "# [ ! Done ! ]"
   ]
  }
 ],
 "metadata": {
  "kernelspec": {
   "display_name": "Python 3",
   "language": "python",
   "name": "python3"
  },
  "language_info": {
   "codemirror_mode": {
    "name": "ipython",
    "version": 3
   },
   "file_extension": ".py",
   "mimetype": "text/x-python",
   "name": "python",
   "nbconvert_exporter": "python",
   "pygments_lexer": "ipython3",
   "version": "3.8.8"
  }
 },
 "nbformat": 4,
 "nbformat_minor": 5
}
