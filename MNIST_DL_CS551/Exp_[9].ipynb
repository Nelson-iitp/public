{
 "cells": [
  {
   "cell_type": "code",
   "execution_count": null,
   "metadata": {
    "id": "yBuhN4YlIEcD"
   },
   "outputs": [],
   "source": [
    "%reset"
   ]
  },
  {
   "cell_type": "markdown",
   "metadata": {
    "id": "Pg6oTF3GWchm"
   },
   "source": [
    "# __ REQUIRED __"
   ]
  },
  {
   "cell_type": "markdown",
   "metadata": {
    "id": "ZMF25JggWvvd"
   },
   "source": [
    "## __ sckit-image"
   ]
  },
  {
   "cell_type": "code",
   "execution_count": 1,
   "metadata": {
    "colab": {
     "base_uri": "https://localhost:8080/"
    },
    "executionInfo": {
     "elapsed": 10488,
     "status": "ok",
     "timestamp": 1619390233028,
     "user": {
      "displayName": "Nelson Sharma",
      "photoUrl": "https://lh3.googleusercontent.com/a-/AOh14GiEZkA7qkgqJixjMInZ7ZlOLdnOzRpMhGBnQfuoiQ=s64",
      "userId": "00623570607520034670"
     },
     "user_tz": -330
    },
    "id": "OgZ20Y7KCmmy",
    "outputId": "877b20f7-11cc-4f38-edd6-d73c49de7161"
   },
   "outputs": [
    {
     "name": "stdout",
     "output_type": "stream",
     "text": [
      "Collecting scikit-image\n",
      "\u001b[?25l  Downloading https://files.pythonhosted.org/packages/fe/01/3a830f3df578ea3ed94ee7fd9f91e85c3dec2431d8548ab1c91869e51450/scikit_image-0.18.1-cp37-cp37m-manylinux1_x86_64.whl (29.2MB)\n",
      "\u001b[K     |████████████████████████████████| 29.2MB 130kB/s \n",
      "\u001b[?25hRequirement already satisfied, skipping upgrade: numpy>=1.16.5 in /usr/local/lib/python3.7/dist-packages (from scikit-image) (1.19.5)\n",
      "Requirement already satisfied, skipping upgrade: networkx>=2.0 in /usr/local/lib/python3.7/dist-packages (from scikit-image) (2.5.1)\n",
      "Requirement already satisfied, skipping upgrade: matplotlib!=3.0.0,>=2.0.0 in /usr/local/lib/python3.7/dist-packages (from scikit-image) (3.2.2)\n",
      "Requirement already satisfied, skipping upgrade: pillow!=7.1.0,!=7.1.1,>=4.3.0 in /usr/local/lib/python3.7/dist-packages (from scikit-image) (7.1.2)\n",
      "Requirement already satisfied, skipping upgrade: imageio>=2.3.0 in /usr/local/lib/python3.7/dist-packages (from scikit-image) (2.4.1)\n",
      "Requirement already satisfied, skipping upgrade: tifffile>=2019.7.26 in /usr/local/lib/python3.7/dist-packages (from scikit-image) (2021.4.8)\n",
      "Requirement already satisfied, skipping upgrade: scipy>=1.0.1 in /usr/local/lib/python3.7/dist-packages (from scikit-image) (1.4.1)\n",
      "Requirement already satisfied, skipping upgrade: PyWavelets>=1.1.1 in /usr/local/lib/python3.7/dist-packages (from scikit-image) (1.1.1)\n",
      "Requirement already satisfied, skipping upgrade: decorator<5,>=4.3 in /usr/local/lib/python3.7/dist-packages (from networkx>=2.0->scikit-image) (4.4.2)\n",
      "Requirement already satisfied, skipping upgrade: cycler>=0.10 in /usr/local/lib/python3.7/dist-packages (from matplotlib!=3.0.0,>=2.0.0->scikit-image) (0.10.0)\n",
      "Requirement already satisfied, skipping upgrade: python-dateutil>=2.1 in /usr/local/lib/python3.7/dist-packages (from matplotlib!=3.0.0,>=2.0.0->scikit-image) (2.8.1)\n",
      "Requirement already satisfied, skipping upgrade: pyparsing!=2.0.4,!=2.1.2,!=2.1.6,>=2.0.1 in /usr/local/lib/python3.7/dist-packages (from matplotlib!=3.0.0,>=2.0.0->scikit-image) (2.4.7)\n",
      "Requirement already satisfied, skipping upgrade: kiwisolver>=1.0.1 in /usr/local/lib/python3.7/dist-packages (from matplotlib!=3.0.0,>=2.0.0->scikit-image) (1.3.1)\n",
      "Requirement already satisfied, skipping upgrade: six in /usr/local/lib/python3.7/dist-packages (from cycler>=0.10->matplotlib!=3.0.0,>=2.0.0->scikit-image) (1.15.0)\n",
      "\u001b[31mERROR: albumentations 0.1.12 has requirement imgaug<0.2.7,>=0.2.5, but you'll have imgaug 0.2.9 which is incompatible.\u001b[0m\n",
      "Installing collected packages: scikit-image\n",
      "  Found existing installation: scikit-image 0.16.2\n",
      "    Uninstalling scikit-image-0.16.2:\n",
      "      Successfully uninstalled scikit-image-0.16.2\n",
      "Successfully installed scikit-image-0.18.1\n"
     ]
    }
   ],
   "source": [
    "pip install -U scikit-image"
   ]
  },
  {
   "cell_type": "markdown",
   "metadata": {
    "id": "KGmCvvL-W0T1"
   },
   "source": [
    "## __ module_cs551"
   ]
  },
  {
   "cell_type": "code",
   "execution_count": 2,
   "metadata": {
    "colab": {
     "base_uri": "https://localhost:8080/"
    },
    "executionInfo": {
     "elapsed": 5316,
     "status": "ok",
     "timestamp": 1619390238418,
     "user": {
      "displayName": "Nelson Sharma",
      "photoUrl": "https://lh3.googleusercontent.com/a-/AOh14GiEZkA7qkgqJixjMInZ7ZlOLdnOzRpMhGBnQfuoiQ=s64",
      "userId": "00623570607520034670"
     },
     "user_tz": -330
    },
    "id": "slsYh_YgTYSX",
    "outputId": "6a95312d-3660-4a4a-c04c-730c54b66a24"
   },
   "outputs": [
    {
     "name": "stdout",
     "output_type": "stream",
     "text": [
      "module_cs551\n",
      "Done!\n"
     ]
    }
   ],
   "source": [
    "#execfile('/content/drive/MyDrive/Colab Notebooks/DL/CS551_Assignment_4/code/module_cs551.py')\n",
    "\n",
    "#===============================================================\n",
    "# IMPORTS ======================================================\n",
    "#===============================================================\n",
    "print('module_cs551')\n",
    "import math\n",
    "import os\n",
    "import random\n",
    "import datetime\n",
    "import numpy as np\n",
    "import matplotlib.pyplot as plt\n",
    "from skimage import transform\n",
    "from sklearn.metrics import confusion_matrix\n",
    "#import keract\n",
    "import tensorflow as tf\n",
    "from tensorflow.keras.layers import Input, Conv2D, MaxPooling2D, Flatten, Dense\n",
    "from tensorflow.keras import Model\n",
    "import warnings\n",
    "warnings.filterwarnings(\"ignore\", category=RuntimeWarning)\n",
    "\n",
    "#===============================================================\n",
    "# PERFORMANCE =================================================\n",
    "#===============================================================\n",
    "#------------------------------------------------------------------\n",
    "# Confusion Matrix\n",
    "#------------------------------------------------------------------\n",
    "def _print_header(class_labels):\n",
    "    g_HSTR=''   # HEADER ROW for printing confusing matrix\n",
    "    for i in range(0,len(class_labels)):\n",
    "        g_HSTR+='\\t'+str(class_labels[i])\n",
    "    return  g_HSTR\n",
    "def _print_rows(cm_row, nos_labels):\n",
    "    g_RSTR = ''\n",
    "    for j in range(0,nos_labels):\n",
    "        g_RSTR += '\\t'+ str(cm_row[j])\n",
    "    return g_RSTR\n",
    "def print_conf_matrix(conf_matrix, suffix, class_labels):\n",
    "    g_CMSTR=(suffix+'T\\\\P' + _print_header(class_labels)+'\\n')\n",
    "    nos_l=len(class_labels)\n",
    "    for i in range(0,nos_l):\n",
    "        g_CMSTR+=(suffix+str(class_labels[i]) + _print_rows(conf_matrix[i],nos_l )+'\\n')\n",
    "    return g_CMSTR\n",
    "\n",
    "#------------------------------------------------------------------\n",
    "# Performance Measures\n",
    "#------------------------------------------------------------------\n",
    "def _get_performance(conf_matrix):\n",
    "    nos_class = len(conf_matrix[0,:]) # len of 0th row\n",
    "    perf_measures_array = np.zeros((0,11),dtype ='float64')\n",
    "    for i in range(0,nos_class):\n",
    "        \n",
    "        CLASS_ACTUAL = np.sum(conf_matrix[i,:]) #<---- ROW SUM = NOS TRUE CLASS\n",
    "        CLASS_PRED = np.sum(conf_matrix[:,i])      #<---- COL SUM = NOS PRED CLASS\n",
    "        MSUM = np.sum(conf_matrix)  # = TP + FN + FP + TN\n",
    "        \n",
    "        # compute TP, TN, FP, FN ---------------------------- \n",
    "        TP = conf_matrix[i,i]\n",
    "        FP =  CLASS_PRED - TP\n",
    "        FN = CLASS_ACTUAL - TP\n",
    "        TN =  MSUM- FN - FP - TP #<------------ this methods counts more than true negative\n",
    "        #TN = np.sum(conf_matrix[np.diag_indices(nos_class)]) - TP..\n",
    "\n",
    "        #Accuracy #<-= how many samples correctly classifed out of all samples\n",
    "        ACC = (TP+TN)   /   ( MSUM)  \n",
    "        \n",
    "        #Precision = TP/CLASS_PRED    #<- = how many samples correctly predicted as true out of all samples predicted as true\n",
    "        PRE = (TP)      /   (TP+FP)         #Presicion\n",
    "        \n",
    "        #Sensetivity = TP/CLASS_ACTUAL #<- = how many samples correctly predicted as true out of all actually true samples\n",
    "        SEN = (TP)      /   (TP+FN)         #Sensitivity/Recall\n",
    "        \n",
    "        #Specificity #<-= how many samples correctly predicted false out of all samples predicted as false\n",
    "        SPF = (TN)      /   (TN+FP)         \n",
    "        \n",
    "        # F1-Score #<-= 2*TP / (CLASS_ACTUAL + CLASS_PRED) \n",
    "        F1S = 2*PRE*SEN /   (PRE+SEN)       #F1 score #<-= harmonic mean of Precision and Sensetivity\n",
    "\n",
    "        prefi = np.array([CLASS_ACTUAL , CLASS_PRED, TP, FN, FP, TN, ACC, PRE, SEN, SPF, F1S])\n",
    "        perf_measures_array = np.vstack((perf_measures_array,prefi))\n",
    "        \n",
    "    return perf_measures_array, nos_class\n",
    "def print_performance(conf_matrix, class_labels, do_round=-1):\n",
    "    #header_string = 'Class\\tACC\\tPRE\\tSEN\\tSPF\\tF1S'\n",
    "    header_string = 'Class\\t#True\\t#Pred\\tTPs\\tFNs\\tFPs\\tTNs\\tACC\\tPRE\\tSEN\\tSPF\\tF1S'\n",
    "    perf_measures, nos_class = _get_performance(conf_matrix)\n",
    "    if len(class_labels)!=nos_class:\n",
    "        print('WARNING:: Class label count mismatch!! Cannot print performance')\n",
    "        return -1\n",
    "    #nos_class = len(perf_measures[:,0])\n",
    "    print('Performance for '+str(nos_class)+' classes')\n",
    "    print (header_string)\n",
    "    for i in range(0, nos_class):\n",
    "        if do_round<0:\n",
    "          perf_i = perf_measures [i,:]\n",
    "        else:\n",
    "          perf_i = np.round(perf_measures [i,:],do_round)\n",
    "          \n",
    "        print(\n",
    "              str(class_labels[i])+'\\t'+\n",
    "              str(perf_i[0])+'\\t'+\n",
    "              str(perf_i[1])+'\\t'+\n",
    "              str(perf_i[2])+'\\t'+\n",
    "              str(perf_i[3])+'\\t'+\n",
    "              str(perf_i[4])+'\\t'+\n",
    "              str(perf_i[5])+'\\t'+\n",
    "              str(perf_i[6])+'\\t'+\n",
    "              str(perf_i[7])+'\\t'+\n",
    "              str(perf_i[8])+'\\t'+\n",
    "              str(perf_i[9])+'\\t'+\n",
    "              str(perf_i[10])\n",
    "              )\n",
    "    return nos_class\n",
    "\t\n",
    "#===============================================================\n",
    "# MNIST DATA HELPER ==============================================\n",
    "#===============================================================\n",
    "# Load Training Images\n",
    "def _mnist_images(IMAGE_FILE):\n",
    "  print('> Reading Images from',IMAGE_FILE )\n",
    "  _FILE_IMAGE = open(IMAGE_FILE,\"rb\" ) \n",
    "\n",
    "  # first 4 byte = magic number\n",
    "  _magic = int.from_bytes(_FILE_IMAGE.read(4), \"big\")\n",
    "  print('Magic Number\\t',_magic)\n",
    "\n",
    "  # next 4 byte = nos items\n",
    "  _nos_images = int.from_bytes(_FILE_IMAGE.read(4), \"big\")\n",
    "  print('Nos Images\\t',_nos_images)\n",
    "\n",
    "  # next 4 byte = image dimension Rows\n",
    "  _nos_rows= int.from_bytes(_FILE_IMAGE.read(4), \"big\")\n",
    "  print('Nos Rows\\t',_nos_rows)\n",
    "\n",
    "  # next 4 byte = image dimension Cols\n",
    "  _nos_cols = int.from_bytes(_FILE_IMAGE.read(4), \"big\")\n",
    "  print('Nos Cols\\t',_nos_cols)\n",
    "\n",
    "  _nos_bytes = _nos_rows*_nos_cols\n",
    "  print('Bytes per Image\\t',_nos_bytes)\n",
    "\n",
    "  # next onwards.... one image per _nos_bytes bytes\n",
    "  _buffer = np.frombuffer(_FILE_IMAGE.read(_nos_bytes*_nos_images), \n",
    "                          dtype=np.uint8, count=_nos_bytes*_nos_images, offset=0)\n",
    "  print('ImageBuffer:',_buffer.dtype, _buffer.shape)\n",
    "  _buffer = _buffer.reshape(_nos_images,_nos_rows,_nos_cols)\n",
    "  print('ImageBuffer Reshaped:',_buffer.dtype, _buffer.shape)\n",
    "\n",
    "  _FILE_IMAGE.close()\n",
    "  print('Done\\n' )\n",
    "  return _buffer, _nos_images, _nos_rows, _nos_cols\n",
    "\n",
    "def _mnist_labels(LABEL_FILE):\n",
    "  print('> Reading Labels from',LABEL_FILE )\n",
    "  _FILE_LABEL = open(LABEL_FILE,\"rb\" ) \n",
    "\n",
    "  # first 4 byte = magic number\n",
    "  _magic = int.from_bytes(_FILE_LABEL.read(4), \"big\")\n",
    "  print('Magic Number\\t',_magic)\n",
    "\n",
    "  # next 4 byte = nos items\n",
    "  _nos_labels = int.from_bytes(_FILE_LABEL.read(4), \"big\")\n",
    "  print('Nos Labels\\t',_nos_labels)\n",
    "\n",
    "  # next onwards.... one image per _nos_bytes bytes\n",
    "  _buffer = np.frombuffer(_FILE_LABEL.read(_nos_labels), \n",
    "                          dtype=np.uint8, count=_nos_labels, offset=0)\n",
    "  print('LabelBuffer:',_buffer.dtype, _buffer.shape)\n",
    "\n",
    "  _FILE_LABEL.close()\n",
    "  print('Done\\n' )\n",
    "  return _buffer, _nos_labels\n",
    "\n",
    "#===============================================================\n",
    "# IMAGE TRANSFORMS =============================================\n",
    "#===============================================================\n",
    "\n",
    "# flips horizontal and vertical\n",
    "def _aug_flip(imageA, horz=True, vert=True):\n",
    "  res = imageA\n",
    "  if vert:\n",
    "    res = np.flip(res,1)\n",
    "  if horz:\n",
    "    res = np.flip(res,2)\n",
    "  return res\n",
    "\n",
    "def _aug_shift(imageA, shiftA):\n",
    "  imageT = []\n",
    "  for i in range(0, len(imageA)):\n",
    "    imageT.append(np.roll(np.roll(imageA[i], shiftA[i,0],axis=0),shiftA[i,1],axis=1))\n",
    "  return imageT\n",
    "\n",
    "def _aug_rotate(imageA, radA, opx, opy):\n",
    "  imageT = [] #<<--- appending to list is faster than vstacking\n",
    "  cpx,cpy = int(opx/2), int(opy/2)\n",
    "  for i in range(0, len(imageA)):\n",
    "    imageT.append(transform.warp(imageA[i],\n",
    "                                       transform.AffineTransform(matrix= _get_rotation_matrix_wrtp(radA[i], cpx,cpy)), \n",
    "                                       output_shape=(opx, opy)))\n",
    "  return imageT\n",
    "\n",
    "# tranformation matrices for translation and rotation \n",
    "def _get_translation_matrix(tX,tY):\n",
    "  return np.array([[1,0,tX],[0,1,tY],[0,0,1]])\n",
    "\n",
    "def _get_rotation_matrix_wrtc(tH):\n",
    "  return np.array([[math.cos(tH), -math.sin(tH),  0],\n",
    "                   [math.sin(tH), math.cos(tH),   0],\n",
    "                   [0,            0,              1]])\n",
    "  \n",
    "def _get_rotation_matrix_wrtp(tH, tX, tY):\n",
    "  # rotation wrt to a point = translate to center - rotate - translate back to poit\n",
    "  t1 = _get_translation_matrix(-tX, -tY)\n",
    "  tr = _get_rotation_matrix_wrtc(tH)\n",
    "  t2 = _get_translation_matrix(tX, tY)\n",
    "  return np.matmul(t2, np.matmul(tr,t1))\n",
    "\n",
    "#===============================================================\n",
    "# Model Definition =================================================\n",
    "#===============================================================\n",
    "\n",
    "def get_model(print_summary, model_name, conv_kernels, conv_kernel_size, dense_size):\n",
    "    global _ishape, _nos_classes\n",
    "  \n",
    "    inputL = Input( shape=_ishape, name = \"input\" )\n",
    "\n",
    "    conv_1 =  Conv2D(conv_kernels,                                       #kernels, \n",
    "                          kernel_size=conv_kernel_size,                  #kernel_size\n",
    "                          strides=(1,1), \n",
    "                          padding='valid', \n",
    "                          data_format='channels_last', \n",
    "                          dilation_rate=1, \n",
    "                          activation=tf.nn.leaky_relu, \n",
    "                          use_bias=True, \n",
    "                          kernel_initializer='glorot_uniform', \n",
    "                          bias_initializer='zeros', \n",
    "                          kernel_regularizer=None, \n",
    "                          bias_regularizer=None, \n",
    "                          activity_regularizer=None, \n",
    "                          kernel_constraint=None, \n",
    "                          bias_constraint=None,\n",
    "                          name='conv_1') (inputL) \n",
    "    \n",
    "  \n",
    "    norm_2 = tf.keras.layers.BatchNormalization(\n",
    "                                        axis=-1,\n",
    "                                        momentum=0.99,\n",
    "                                        epsilon=0.001,\n",
    "                                        center=True,\n",
    "                                        scale=True,\n",
    "                                        beta_initializer=\"zeros\",\n",
    "                                        gamma_initializer=\"ones\",\n",
    "                                        moving_mean_initializer=\"zeros\",\n",
    "                                        moving_variance_initializer=\"ones\",\n",
    "                                        beta_regularizer=None,\n",
    "                                        gamma_regularizer=None,\n",
    "                                        beta_constraint=None,\n",
    "                                        gamma_constraint=None,\n",
    "                                        renorm=False,\n",
    "                                        renorm_clipping=None,\n",
    "                                        renorm_momentum=0.99,\n",
    "                                        fused=None,\n",
    "                                        trainable=True,\n",
    "                                        virtual_batch_size=None,\n",
    "                                        adjustment=None,\n",
    "                                        name='norm_2') (conv_1)\n",
    "    \n",
    "\n",
    "    flat_ = Flatten(data_format=None,name='flat_') (norm_2)\n",
    "    den_3 = Dense(dense_size, activation=tf.nn.leaky_relu, name = \"den_3\")(flat_)\n",
    "\n",
    "    outputL = Dense(_nos_classes, activation=tf.nn.softmax, name = \"output\")(den_3)\n",
    "\n",
    "    model=Model(inputs=inputL, outputs=outputL, name=model_name)\n",
    "    #-------------------------------------\n",
    "    if print_summary:\n",
    "        print(model.summary())\n",
    "    return model\n",
    "# =========================================================================================\n",
    "\n",
    "\n",
    "print('Done!')\n",
    "\t\t"
   ]
  },
  {
   "cell_type": "markdown",
   "metadata": {
    "id": "OU0S7wNnYAT5"
   },
   "source": [
    "# [] DATASET LOAD []"
   ]
  },
  {
   "cell_type": "markdown",
   "metadata": {
    "id": "VwF4QbXq6WOr"
   },
   "source": [
    "Dataset : THE MNIST DATABASE of handwritten digit http://yann.lecun.com/exdb/mnist/"
   ]
  },
  {
   "cell_type": "code",
   "execution_count": 3,
   "metadata": {
    "colab": {
     "base_uri": "https://localhost:8080/"
    },
    "executionInfo": {
     "elapsed": 7695,
     "status": "ok",
     "timestamp": 1619390246730,
     "user": {
      "displayName": "Nelson Sharma",
      "photoUrl": "https://lh3.googleusercontent.com/a-/AOh14GiEZkA7qkgqJixjMInZ7ZlOLdnOzRpMhGBnQfuoiQ=s64",
      "userId": "00623570607520034670"
     },
     "user_tz": -330
    },
    "id": "foW0BUtgYCOI",
    "outputId": "6396bfd7-2f2f-444e-91e0-e00843680af0"
   },
   "outputs": [
    {
     "name": "stdout",
     "output_type": "stream",
     "text": [
      "> Reading Images from /content/drive/MyDrive/Colab Notebooks/DL/CS551_Assignment_4/data/train-images.idx3-ubyte\n",
      "Magic Number\t 2051\n",
      "Nos Images\t 60000\n",
      "Nos Rows\t 28\n",
      "Nos Cols\t 28\n",
      "Bytes per Image\t 784\n",
      "ImageBuffer: uint8 (47040000,)\n",
      "ImageBuffer Reshaped: uint8 (60000, 28, 28)\n",
      "Done\n",
      "\n",
      "> Reading Labels from /content/drive/MyDrive/Colab Notebooks/DL/CS551_Assignment_4/data/train-labels.idx1-ubyte\n",
      "Magic Number\t 2049\n",
      "Nos Labels\t 60000\n",
      "LabelBuffer: uint8 (60000,)\n",
      "Done\n",
      "\n",
      "> Reading Images from /content/drive/MyDrive/Colab Notebooks/DL/CS551_Assignment_4/data/t10k-images.idx3-ubyte\n",
      "Magic Number\t 2051\n",
      "Nos Images\t 10000\n",
      "Nos Rows\t 28\n",
      "Nos Cols\t 28\n",
      "Bytes per Image\t 784\n",
      "ImageBuffer: uint8 (7840000,)\n",
      "ImageBuffer Reshaped: uint8 (10000, 28, 28)\n",
      "Done\n",
      "\n",
      "> Reading Labels from /content/drive/MyDrive/Colab Notebooks/DL/CS551_Assignment_4/data/t10k-labels.idx1-ubyte\n",
      "Magic Number\t 2049\n",
      "Nos Labels\t 10000\n",
      "LabelBuffer: uint8 (10000,)\n",
      "Done\n",
      "\n",
      "Input Shape:\t (28, 28, 1)\n",
      "Classes:\t# 10 [0 1 2 3 4 5 6 7 8 9]\n"
     ]
    }
   ],
   "source": [
    "MODEL_DIR = '/content/drive/MyDrive/Colab Notebooks/DL/CS551_Assignment_4/model' # for saving w8s\n",
    "DATA_DIR = '/content/drive/MyDrive/Colab Notebooks/DL/CS551_Assignment_4/data'  # for reading data\n",
    "train_x, nos_train_x, dimH_train_x, dimW_train_x = _mnist_images(os.path.join(DATA_DIR, 'train-images.idx3-ubyte'))\n",
    "train_y, nos_train_y = _mnist_labels(os.path.join(DATA_DIR, 'train-labels.idx1-ubyte'))\n",
    "test_x, nos_test_x, dimH_test_x, dimW_test_x = _mnist_images(os.path.join(DATA_DIR, 't10k-images.idx3-ubyte'))\n",
    "test_y, nos_test_y = _mnist_labels(os.path.join(DATA_DIR, 't10k-labels.idx1-ubyte'))\n",
    "\n",
    "# ---------------------------------------- input shape\n",
    "_ishape = (dimH_train_x, dimW_train_x,1)\n",
    "print('Input Shape:\\t',_ishape)\n",
    "# ---------------------------------------- classes\n",
    "_nos_classes = 10\n",
    "g_LABELS = np.arange(0,_nos_classes,1)\n",
    "print('Classes:\\t#',_nos_classes, g_LABELS)"
   ]
  },
  {
   "cell_type": "markdown",
   "metadata": {
    "id": "G5b9YI-S6GPm"
   },
   "source": [
    "# [] DATASET AUGUMENT []"
   ]
  },
  {
   "cell_type": "markdown",
   "metadata": {
    "id": "v39eifdgeEW_"
   },
   "source": [
    "### FLIP"
   ]
  },
  {
   "cell_type": "code",
   "execution_count": 4,
   "metadata": {
    "executionInfo": {
     "elapsed": 2006,
     "status": "ok",
     "timestamp": 1619390257588,
     "user": {
      "displayName": "Nelson Sharma",
      "photoUrl": "https://lh3.googleusercontent.com/a-/AOh14GiEZkA7qkgqJixjMInZ7ZlOLdnOzRpMhGBnQfuoiQ=s64",
      "userId": "00623570607520034670"
     },
     "user_tz": -330
    },
    "id": "8quBjtqu7EDF"
   },
   "outputs": [],
   "source": [
    "# > flipping images > for each image, flip in 3 diff ways\n",
    "\n",
    "train_x_flipH = _aug_flip(train_x, horz=True, vert=False) # horizontal flip\n",
    "train_x_flipV = _aug_flip(train_x, horz=False, vert=True) # verical flip\n",
    "#train_x_flipD = _aug_flip(train_x, horz=True, vert=True) # horizontal + vertical flip\n",
    "\n",
    "test_x_flipH = _aug_flip(test_x, horz=True, vert=False) # horizontal flip\n",
    "test_x_flipV = _aug_flip(test_x, horz=False, vert=True) # verical flip\n",
    "#test_x_flipD = _aug_flip(test_x, horz=True, vert=True) # horizontal + vertical flip"
   ]
  },
  {
   "cell_type": "markdown",
   "metadata": {
    "id": "pGxHh2rgeHCU"
   },
   "source": [
    "### ROTATE"
   ]
  },
  {
   "cell_type": "code",
   "execution_count": null,
   "metadata": {
    "id": "OR9MwJkBeIfv"
   },
   "outputs": [],
   "source": [
    "# > rotating images > for each image, rotate by random angle b/w -180 to 180\n",
    "\n",
    "rand_ang_train = math.pi*(np.random.random(size=nos_train_x)*2 - 1) # random scaled b/w -180 to 180\n",
    "train_x_rotR = np.array(_aug_rotate(train_x,  rand_ang_train, dimH_train_x, dimW_train_x))\n",
    "\n",
    "rand_ang_test = math.pi*(np.random.random(size=nos_test_x)*2 - 1) # random scaled b/w -180 to 180\n",
    "test_x_rotR = np.array(_aug_rotate(test_x,  rand_ang_test, dimH_test_x, dimW_test_x))"
   ]
  },
  {
   "cell_type": "markdown",
   "metadata": {
    "id": "MLO8AnjGsAMk"
   },
   "source": [
    "### SHIFT"
   ]
  },
  {
   "cell_type": "code",
   "execution_count": null,
   "metadata": {
    "id": "u2DNGBrIr_MV"
   },
   "outputs": [],
   "source": [
    "# > shift images > for each image, shift by random amount +/- 5 in either directions\n",
    "\n",
    "rand_delta_train = (10*(np.random.random(size=(nos_train_x,2))*2 - 1)).astype('int')\n",
    "train_x_shift = np.array(_aug_shift(train_x,  rand_delta_train))\n",
    "\n",
    "rand_delta_test = (10*(np.random.random(size=(nos_test_x,2))*2 - 1)).astype('int')\n",
    "test_x_shift = np.array(_aug_shift(test_x,  rand_delta_test))"
   ]
  },
  {
   "cell_type": "markdown",
   "metadata": {
    "id": "tATf2AMNrbpq"
   },
   "source": [
    "# {} EXP 9 {}"
   ]
  },
  {
   "cell_type": "markdown",
   "metadata": {
    "id": "W0FYCAJiT5u2"
   },
   "source": [
    "##__PREPARE"
   ]
  },
  {
   "cell_type": "code",
   "execution_count": 5,
   "metadata": {
    "executionInfo": {
     "elapsed": 1947,
     "status": "ok",
     "timestamp": 1619390311438,
     "user": {
      "displayName": "Nelson Sharma",
      "photoUrl": "https://lh3.googleusercontent.com/a-/AOh14GiEZkA7qkgqJixjMInZ7ZlOLdnOzRpMhGBnQfuoiQ=s64",
      "userId": "00623570607520034670"
     },
     "user_tz": -330
    },
    "id": "fAW3KU5JnPYk"
   },
   "outputs": [],
   "source": [
    "#~~~~~~~~~~~~~~~~~~~~~~~~~~~\n",
    "_exp_name = 'EXP_9'\n",
    "#~~~~~~~~~~~~~~~~~~~~~~~~~~~\n",
    "# ---------------------------------------- model params\n",
    "_model_name = 'exp_9'\n",
    "_conv_kernels, _kernel_size = 64, (3,3)\n",
    "_dense_size = 128\n",
    "_cost = 'sparse_categorical_crossentropy'\n",
    "_opt = tf.keras.optimizers.RMSprop()  # clipnorm=1 <--- for clipping gradient\n",
    "# ---------------------------------------- training params\n",
    "_batch_size = 500\n",
    "_epochs = 20\n",
    "_val_split = 0.1\n",
    "# ---------------------------------------- LRS callback handler #print('LRS_Callback @epoch:', e, 'LR:', lr) # verbose\n",
    "def _deltaLR(e,lr):\n",
    "  global hist_lr, hist_learn\n",
    "  hist_lr[hist_learn] = lr #<--record learning rate\n",
    "  hist_learn+=1\n",
    "\n",
    "  #----------------------------------------------------\n",
    "  #new_lr = lr # not controlled\n",
    "  if e<=7:\n",
    "    new_lr = lr   #keep unchanged \n",
    "  else:\n",
    "    new_lr = lr*0.75 # decay\n",
    "\n",
    "\n",
    "  #----------------------------------------------------\n",
    "  return new_lr\n",
    "\n",
    "#=============================================================\n",
    "# ---------------------------------------- Training Event handler\n",
    "def _record_batch(b_acc, b_loss):\n",
    "  global hist_bp, hist_batch\n",
    "  hist_bp[hist_batch,0],hist_bp[hist_batch,1] = b_acc, b_loss\n",
    "  hist_batch+=1\n"
   ]
  },
  {
   "cell_type": "markdown",
   "metadata": {
    "id": "PrucCf8C1uuO"
   },
   "source": [
    "##__CALLBACKS"
   ]
  },
  {
   "cell_type": "code",
   "execution_count": 6,
   "metadata": {
    "executionInfo": {
     "elapsed": 2886,
     "status": "ok",
     "timestamp": 1619390312388,
     "user": {
      "displayName": "Nelson Sharma",
      "photoUrl": "https://lh3.googleusercontent.com/a-/AOh14GiEZkA7qkgqJixjMInZ7ZlOLdnOzRpMhGBnQfuoiQ=s64",
      "userId": "00623570607520034670"
     },
     "user_tz": -330
    },
    "id": "4_WnLcOd1t15"
   },
   "outputs": [],
   "source": [
    "\n",
    "#===============================================================\n",
    "# CALLBACK =====================================================\n",
    "#===============================================================\n",
    "cb_LRS = tf.keras.callbacks.LearningRateScheduler(_deltaLR, verbose=0)\n",
    "cb_BASE = tf.keras.callbacks.LambdaCallback(\n",
    "        on_train_begin =  None, #lambda logs: _start_train() ,\n",
    "        on_epoch_begin =  None, #lambda epoch,logs: _start_epoch(epoch) ,\n",
    "        on_batch_begin =  None, #lambda batch,logs: _start_batch(batch),\n",
    "        on_batch_end =    lambda batch,logs: _record_batch(logs['accuracy'], logs['loss']) ,\n",
    "        on_epoch_end =    None, #lambda epoch,logs: _epoch_end(epoch, logs) ,\n",
    "        on_train_end =    None #lambda logs: _print_results(logs['accuracy'], logs['loss'],logs['val_accuracy'], logs['val_loss'])\n",
    "        )\n",
    "cb_ES_val_acc = tf.keras.callbacks.EarlyStopping(\n",
    "        monitor='val_accuracy',  #monitor: Quantity to be monitored.\n",
    "        min_delta=0.00001,  #min_delta: Minimum change in the monitored quantity to qualify as an improvement, i.e. an absolute change of less than min_delta, will count as no improvement.\n",
    "        patience=5,  #patience: Number of epochs with no improvement after which training will be stopped.\n",
    "        verbose=1,  #verbose: verbosity mode.\n",
    "        mode='auto',  #mode: One of {\"auto\", \"min\", \"max\"}. \n",
    "                      #In min mode, training will stop when the quantity monitored has stopped decreasing; \n",
    "                      #in \"max\" mode it will stop when the quantity monitored has stopped increasing; \n",
    "                      #in \"auto\" mode, the direction is automatically inferred from the name of the monitored quantity.\n",
    "        baseline=None,  #baseline: Baseline value for the monitored quantity. Training will stop if the model doesn't show improvement over the baseline.\n",
    "        restore_best_weights=False #restore_best_weights: Whether to restore model weights from the epoch with the best value of the monitored quantity. If False, the model weights obtained at the last step of training are used.\n",
    "        )\n",
    "\n",
    "cb_ES_val_loss = tf.keras.callbacks.EarlyStopping(\n",
    "        monitor='val_loss',  #monitor: Quantity to be monitored.\n",
    "        min_delta=0.00001,  #min_delta: Minimum change in the monitored quantity to qualify as an improvement, i.e. an absolute change of less than min_delta, will count as no improvement.\n",
    "        patience=5,  #patience: Number of epochs with no improvement after which training will be stopped.\n",
    "        verbose=1,  #verbose: verbosity mode.\n",
    "        mode='auto',  #mode: One of {\"auto\", \"min\", \"max\"}. \n",
    "                      #In min mode, training will stop when the quantity monitored has stopped decreasing; \n",
    "                      #in \"max\" mode it will stop when the quantity monitored has stopped increasing; \n",
    "                      #in \"auto\" mode, the direction is automatically inferred from the name of the monitored quantity.\n",
    "        baseline=None,  #baseline: Baseline value for the monitored quantity. Training will stop if the model doesn't show improvement over the baseline.\n",
    "        restore_best_weights=False #restore_best_weights: Whether to restore model weights from the epoch with the best value of the monitored quantity. If False, the model weights obtained at the last step of training are used.\n",
    "        )\n",
    "\n",
    "cb_ES_loss = tf.keras.callbacks.EarlyStopping(\n",
    "        monitor='loss',  #monitor: Quantity to be monitored.\n",
    "        min_delta=0.00001,  #min_delta: Minimum change in the monitored quantity to qualify as an improvement, i.e. an absolute change of less than min_delta, will count as no improvement.\n",
    "        patience=3,  #patience: Number of epochs with no improvement after which training will be stopped.\n",
    "        verbose=1,  #verbose: verbosity mode.\n",
    "        mode='auto',  #mode: One of {\"auto\", \"min\", \"max\"}. \n",
    "                      #In min mode, training will stop when the quantity monitored has stopped decreasing; \n",
    "                      #in \"max\" mode it will stop when the quantity monitored has stopped increasing; \n",
    "                      #in \"auto\" mode, the direction is automatically inferred from the name of the monitored quantity.\n",
    "        baseline=None,  #baseline: Baseline value for the monitored quantity. Training will stop if the model doesn't show improvement over the baseline.\n",
    "        restore_best_weights=True #restore_best_weights: Whether to restore model weights from the epoch with the best value of the monitored quantity. If False, the model weights obtained at the last step of training are used.\n",
    "        )\n",
    "\n",
    "cb_ES_acc = tf.keras.callbacks.EarlyStopping(\n",
    "        monitor='accuracy',  #monitor: Quantity to be monitored.\n",
    "        min_delta=0.00001,  #min_delta: Minimum change in the monitored quantity to qualify as an improvement, i.e. an absolute change of less than min_delta, will count as no improvement.\n",
    "        patience=3,  #patience: Number of epochs with no improvement after which training will be stopped.\n",
    "        verbose=1,  #verbose: verbosity mode.\n",
    "        mode='auto',  #mode: One of {\"auto\", \"min\", \"max\"}. \n",
    "                      #In min mode, training will stop when the quantity monitored has stopped decreasing; \n",
    "                      #in \"max\" mode it will stop when the quantity monitored has stopped increasing; \n",
    "                      #in \"auto\" mode, the direction is automatically inferred from the name of the monitored quantity.\n",
    "        baseline=None,  #baseline: Baseline value for the monitored quantity. Training will stop if the model doesn't show improvement over the baseline.\n",
    "        restore_best_weights=True #restore_best_weights: Whether to restore model weights from the epoch with the best value of the monitored quantity. If False, the model weights obtained at the last step of training are used.\n",
    "        )\n",
    "cb_listr = [ \n",
    "            cb_LRS, \n",
    "            cb_BASE, \n",
    "            cb_ES_val_loss, \n",
    "            cb_ES_val_acc, \n",
    "            cb_ES_loss, \n",
    "            cb_ES_acc, \n",
    "            ]\n"
   ]
  },
  {
   "cell_type": "markdown",
   "metadata": {
    "id": "DvWtiaTTw9c2"
   },
   "source": [
    "##__BEGIN"
   ]
  },
  {
   "cell_type": "code",
   "execution_count": 8,
   "metadata": {
    "colab": {
     "base_uri": "https://localhost:8080/",
     "height": 1000
    },
    "executionInfo": {
     "elapsed": 3507135,
     "status": "ok",
     "timestamp": 1619393864346,
     "user": {
      "displayName": "Nelson Sharma",
      "photoUrl": "https://lh3.googleusercontent.com/a-/AOh14GiEZkA7qkgqJixjMInZ7ZlOLdnOzRpMhGBnQfuoiQ=s64",
      "userId": "00623570607520034670"
     },
     "user_tz": -330
    },
    "id": "Ny2-tZKCvh3c",
    "outputId": "5d6d8fcb-c629-458c-c21d-421604fe9c61"
   },
   "outputs": [
    {
     "name": "stdout",
     "output_type": "stream",
     "text": [
      "# == EXP_9 == #\n",
      "\n",
      "Model Name:\t exp_9\n",
      "Conv Kernels:\t 64  of size  (3, 3)\n",
      "Dense Size:\t 128\n",
      "Cost/Loss:\t sparse_categorical_crossentropy\n",
      "Optimizer:\t <tensorflow.python.keras.optimizer_v2.rmsprop.RMSprop object at 0x7fae6660fb90>\n",
      "\n",
      "\n",
      "Model: \"exp_9\"\n",
      "_________________________________________________________________\n",
      "Layer (type)                 Output Shape              Param #   \n",
      "=================================================================\n",
      "input (InputLayer)           [(None, 28, 28, 1)]       0         \n",
      "_________________________________________________________________\n",
      "conv_1 (Conv2D)              (None, 26, 26, 64)        640       \n",
      "_________________________________________________________________\n",
      "norm_2 (BatchNormalization)  (None, 26, 26, 64)        256       \n",
      "_________________________________________________________________\n",
      "flat_ (Flatten)              (None, 43264)             0         \n",
      "_________________________________________________________________\n",
      "den_3 (Dense)                (None, 128)               5537920   \n",
      "_________________________________________________________________\n",
      "output (Dense)               (None, 10)                1290      \n",
      "=================================================================\n",
      "Total params: 5,540,106\n",
      "Trainable params: 5,539,978\n",
      "Non-trainable params: 128\n",
      "_________________________________________________________________\n",
      "None\n",
      "\n",
      "\n",
      "Training Model:\t exp_9 \n",
      "Total samples:\t (180000,) \n",
      "Batch size:    \t 500 \n",
      "Val Split \t 0.1 \n",
      "Nos. epochs:  \t 20 \n",
      "Nos. batches: \t 6480 \n",
      "\n",
      "Epoch 1/20\n",
      "324/324 [==============================] - 250s 767ms/step - loss: 4.8351 - accuracy: 0.7174 - val_loss: 0.8411 - val_accuracy: 0.8442\n",
      "Epoch 2/20\n",
      "324/324 [==============================] - 249s 768ms/step - loss: 0.3894 - accuracy: 0.9149 - val_loss: 0.4043 - val_accuracy: 0.9089\n",
      "Epoch 3/20\n",
      "324/324 [==============================] - 249s 770ms/step - loss: 0.1926 - accuracy: 0.9474 - val_loss: 0.2320 - val_accuracy: 0.9408\n",
      "Epoch 4/20\n",
      "324/324 [==============================] - 248s 765ms/step - loss: 0.1219 - accuracy: 0.9631 - val_loss: 0.2108 - val_accuracy: 0.9402\n",
      "Epoch 5/20\n",
      "324/324 [==============================] - 247s 764ms/step - loss: 0.0866 - accuracy: 0.9729 - val_loss: 0.1833 - val_accuracy: 0.9481\n",
      "Epoch 6/20\n",
      "324/324 [==============================] - 248s 766ms/step - loss: 0.0663 - accuracy: 0.9784 - val_loss: 0.1825 - val_accuracy: 0.9530\n",
      "Epoch 7/20\n",
      "324/324 [==============================] - 248s 765ms/step - loss: 0.0529 - accuracy: 0.9825 - val_loss: 0.1914 - val_accuracy: 0.9508\n",
      "Epoch 8/20\n",
      "324/324 [==============================] - 248s 765ms/step - loss: 0.0424 - accuracy: 0.9850 - val_loss: 0.2374 - val_accuracy: 0.9455\n",
      "Epoch 9/20\n",
      "324/324 [==============================] - 248s 765ms/step - loss: 0.0262 - accuracy: 0.9913 - val_loss: 0.1649 - val_accuracy: 0.9591\n",
      "Epoch 10/20\n",
      "324/324 [==============================] - 248s 765ms/step - loss: 0.0135 - accuracy: 0.9960 - val_loss: 0.1667 - val_accuracy: 0.9629\n",
      "Epoch 11/20\n",
      "324/324 [==============================] - 247s 762ms/step - loss: 0.0068 - accuracy: 0.9981 - val_loss: 0.1998 - val_accuracy: 0.9594\n",
      "Epoch 12/20\n",
      "324/324 [==============================] - 247s 762ms/step - loss: 0.0033 - accuracy: 0.9994 - val_loss: 0.1744 - val_accuracy: 0.9652\n",
      "Epoch 13/20\n",
      "324/324 [==============================] - 247s 763ms/step - loss: 0.0014 - accuracy: 0.9998 - val_loss: 0.1867 - val_accuracy: 0.9644\n",
      "Epoch 14/20\n",
      "324/324 [==============================] - 247s 764ms/step - loss: 6.0911e-04 - accuracy: 1.0000 - val_loss: 0.1964 - val_accuracy: 0.9652\n",
      "Epoch 00014: early stopping\n",
      "\n",
      "Elapsed time =  0:57:51.337831\n"
     ]
    },
    {
     "data": {
      "image/png": "[encoded data removed]",
      "text/plain": [
       "<Figure size 648x1080 with 4 Axes>"
      ]
     },
     "metadata": {
      "needs_background": "light",
      "tags": []
     },
     "output_type": "display_data"
    },
    {
     "name": "stdout",
     "output_type": "stream",
     "text": [
      "Saved Model Weights at : /content/drive/MyDrive/Colab Notebooks/DL/CS551_Assignment_4/model/exp_9.h5\n",
      "\n",
      "Testing Model:\t exp_9 on samples: (30000, 28, 28) (30000,)\n",
      "938/938 [==============================] - 17s 18ms/step - loss: 0.1847 - accuracy: 0.9682\n",
      "Accuracy: 96.82\n",
      "\n",
      "\tConfusion Matrix [N/A]\n",
      "T\\P\t0\t1\t2\t3\t4\t5\t6\t7\t8\t9\n",
      "0\t2907\t2\t7\t1\t2\t4\t9\t1\t3\t4\n",
      "1\t1\t3372\t7\t4\t5\t2\t7\t7\t0\t0\n",
      "2\t15\t4\t2946\t13\t5\t52\t14\t29\t12\t6\n",
      "3\t2\t0\t33\t2945\t0\t24\t2\t9\t8\t7\n",
      "4\t3\t1\t3\t0\t2903\t0\t4\t4\t6\t22\n",
      "5\t5\t3\t69\t29\t2\t2528\t15\t13\t5\t7\n",
      "6\t25\t5\t29\t0\t7\t8\t2751\t27\t6\t16\n",
      "7\t3\t29\t32\t14\t11\t4\t12\t2957\t5\t17\n",
      "8\t8\t0\t16\t18\t4\t4\t4\t5\t2841\t22\n",
      "9\t15\t9\t11\t16\t33\t9\t12\t16\t11\t2895\n",
      "\n",
      "Performance for 10 classes\n",
      "Class\t#True\t#Pred\tTPs\tFNs\tFPs\tTNs\tACC\tPRE\tSEN\tSPF\tF1S\n",
      "0\t2940.0\t2984.0\t2907.0\t33.0\t77.0\t26983.0\t0.99633\t0.9742\t0.98878\t0.99715\t0.98143\n",
      "1\t3405.0\t3425.0\t3372.0\t33.0\t53.0\t26542.0\t0.99713\t0.98453\t0.99031\t0.99801\t0.98741\n",
      "2\t3096.0\t3153.0\t2946.0\t150.0\t207.0\t26697.0\t0.9881\t0.93435\t0.95155\t0.99231\t0.94287\n",
      "3\t3030.0\t3040.0\t2945.0\t85.0\t95.0\t26875.0\t0.994\t0.96875\t0.97195\t0.99648\t0.97035\n",
      "4\t2946.0\t2972.0\t2903.0\t43.0\t69.0\t26985.0\t0.99627\t0.97678\t0.9854\t0.99745\t0.98107\n",
      "5\t2676.0\t2635.0\t2528.0\t148.0\t107.0\t27217.0\t0.9915\t0.95939\t0.94469\t0.99608\t0.95199\n",
      "6\t2874.0\t2830.0\t2751.0\t123.0\t79.0\t27047.0\t0.99327\t0.97208\t0.9572\t0.99709\t0.96459\n",
      "7\t3084.0\t3068.0\t2957.0\t127.0\t111.0\t26805.0\t0.99207\t0.96382\t0.95882\t0.99588\t0.96131\n",
      "8\t2922.0\t2897.0\t2841.0\t81.0\t56.0\t27022.0\t0.99543\t0.98067\t0.97228\t0.99793\t0.97646\n",
      "9\t3027.0\t2996.0\t2895.0\t132.0\t101.0\t26872.0\t0.99223\t0.96629\t0.95639\t0.99626\t0.96131\n",
      "\n",
      "Total Predictions\t 30000\n",
      "Correct Predictions\t 29045 \t 96.82 %\n",
      "Incorrect Predictions\t 955 \t 3.18 %\n",
      "\n",
      "Elapsed time = 0:58:24.780549\n"
     ]
    }
   ],
   "source": [
    "print('# ==',_exp_name, '== #\\n')\n",
    "print('Model Name:\\t',_model_name)\n",
    "print('Conv Kernels:\\t',_conv_kernels,' of size ',_kernel_size )\n",
    "print('Dense Size:\\t', _dense_size)\n",
    "print('Cost/Loss:\\t', _cost)\n",
    "print('Optimizer:\\t',str(_opt))\n",
    "\n",
    "#@---------------------------------------------------------->> GET DATA\n",
    "_dx, _dy, _tx, _ty = train_x, train_y, test_x, test_y\n",
    "# augument by flip\n",
    "_dx, _dy = np.vstack((_dx,train_x_flipH)), np.hstack((_dy,train_y))\n",
    "_dx, _dy = np.vstack((_dx,train_x_flipV)), np.hstack((_dy,train_y))\n",
    "_tx, _ty = np.vstack((_tx,test_x_flipH)), np.hstack((_ty,test_y))\n",
    "_tx, _ty = np.vstack((_tx,test_x_flipV)), np.hstack((_ty,test_y))\n",
    "\n",
    "#@---------------------------------------------------------->> GET BATCH INFO\n",
    "_nos_batch_per_epoch = math.ceil(len(_dx)/_batch_size)\n",
    "_nos_batch_per_epoch = math.ceil(_nos_batch_per_epoch*(1-_val_split))\n",
    "_nos_batches = _epochs * _nos_batch_per_epoch\n",
    "_trange = np.arange(0,_nos_batches,_nos_batch_per_epoch)\n",
    "#hist_batch, hist_bp, hist_lr = 0, None, None\n",
    "hist_batch,hist_learn = 0,0\n",
    "hist_bp = np.zeros((_nos_batches,2))  #<<-------- Batch history\n",
    "hist_lr = np.zeros(_epochs)           #<<-------- Learn Rate history\n",
    "\n",
    "#@---------------------------------------------------------->> GET MODEL\n",
    "print('\\n')\n",
    "model = get_model(True, _model_name, _conv_kernels, _kernel_size, _dense_size)\n",
    "model.compile(loss=_cost, optimizer=_opt, metrics=['accuracy'])\n",
    "\n",
    "#@---------------------------------------------------------->> TRAIN MODEL\n",
    "timestamp_start = datetime.datetime.now()\n",
    "print('\\n\\nTraining Model:\\t', model.name, \n",
    "      '\\nTotal samples:\\t',_dy.shape,\n",
    "      '\\nBatch size:    \\t',_batch_size,\n",
    "      '\\nVal Split \\t',_val_split,\n",
    "      '\\nNos. epochs:  \\t',_epochs,\n",
    "      '\\nNos. batches: \\t',_nos_batches,'\\n'\n",
    "      )\n",
    "history = model.fit(\n",
    "                    _dx, _dy,\n",
    "                    batch_size=_batch_size,\n",
    "                    epochs=_epochs,\n",
    "                    callbacks=cb_listr,\n",
    "                    validation_split=_val_split,\n",
    "                    shuffle=True,\n",
    "                    verbose=1)\n",
    "\n",
    "\n",
    "print('\\nElapsed time = ',datetime.datetime.now() - timestamp_start)\n",
    "\n",
    "\n",
    "#@---------------------------------------------------------->> PLOT TRAINING RESULTS\n",
    "fig, axs = plt.subplots(4, 1, figsize=(9,15),  constrained_layout=True)\n",
    "\n",
    "axs[0].set_title('Accuracy')\n",
    "axs[0].set_ylim((-.1,1.1))\n",
    "axs[0].plot(history.history['accuracy'],color='tab:green', label='train_acc')\n",
    "axs[0].plot(history.history['val_accuracy'],color='green', linestyle='dotted', label='val_acc')\n",
    "axs[0].legend()\n",
    "\n",
    "axs[1].set_title('Loss')\n",
    "axs[1].plot(history.history['loss'],color='tab:red', label='train_loss')\n",
    "axs[1].plot(history.history['val_loss'],color='red', linestyle='dotted',label='val_loss')\n",
    "axs[1].legend()\n",
    "\n",
    "axs[2].set_title('Batch History')\n",
    "axs[2].set_ylim((-.1,1.1))\n",
    "axs[2].plot(hist_bp[:,1],color='tab:red', label='batch_loss', linewidth=0.8)\n",
    "axs[2].plot(hist_bp[:,0],color='tab:green', label='batch_acc', linewidth=0.8)\n",
    "axs[2].set_xticks(_trange)\n",
    "axs[2].legend()\n",
    "\n",
    "axs[3].set_title('Learning Rate')\n",
    "axs[3].bar(np.arange(0,len(hist_lr)), hist_lr)\n",
    "\n",
    "plt.show()\n",
    "\n",
    "\n",
    "#@---------------------------------------------------------->> SAVE MODEL W8\n",
    "model_path = os.path.join(MODEL_DIR, model.name +'.h5')\n",
    "model.save_weights(model_path)\n",
    "print('Saved Model Weights at : '+ str(model_path))\n",
    "\n",
    "\n",
    "#@---------------------------------------------------------->> TEST MODEL\n",
    "print('\\nTesting Model:\\t', model.name, 'on samples:',_tx.shape,_ty.shape)\n",
    "\n",
    "#@----------------------------------------->> Eval\n",
    "_, accuracy = model.evaluate(_tx, _ty )\n",
    "print('Accuracy: %.2f' % (accuracy*100))\n",
    "\n",
    "#@----------------------------------------->> Predict\n",
    "predictions = model.predict(_tx)\n",
    "predictions_class=np.argmax(predictions, axis=-1)\n",
    "\n",
    "#@----------------------------------------->> conf matrix and performance measures\n",
    "matrix = confusion_matrix( _ty,  predictions_class,   g_LABELS )\n",
    "print('\\n\\tConfusion Matrix [N/A]') \n",
    "print(print_conf_matrix( matrix, '', g_LABELS)) \n",
    "print_performance( matrix ,g_LABELS, do_round=5)\n",
    "\n",
    "#@----------------------------------------->> further investigation if needed\n",
    "pred_correct = np.where(predictions_class==_ty)[0]\n",
    "pred_wrong = np.where(predictions_class!=_ty)[0]\n",
    "pC = len(pred_correct)\n",
    "pW = len(pred_wrong)\n",
    "print('')\n",
    "assert ((pC+pW)==len(_ty))\n",
    "print('Total Predictions\\t',(pC+pW))\n",
    "print('Correct Predictions\\t', pC,'\\t', round((100*pC)/(pC+pW),2),'%')\n",
    "print('Incorrect Predictions\\t', pW,'\\t', round((100*pW)/(pC+pW),2),'%')\n",
    "#@---------------------------------------------------------->> END\n",
    "timestamp_dur = datetime.datetime.now() - timestamp_start\n",
    "print('\\nElapsed time = ' + str(timestamp_dur))"
   ]
  },
  {
   "cell_type": "markdown",
   "metadata": {
    "id": "SqX9Or3MtAAA"
   },
   "source": [
    "\n",
    "\n",
    "---\n",
    "\n"
   ]
  },
  {
   "cell_type": "markdown",
   "metadata": {
    "id": "NjAsGLt95lhW"
   },
   "source": [
    "# _ end _"
   ]
  }
 ],
 "metadata": {
  "colab": {
   "authorship_tag": "ABX9TyPpzAP/o2rcFzqlbVZzKlgS",
   "collapsed_sections": [],
   "mount_file_id": "1uKfmjLysL3qhnTEC9ezMGQ5GHmy3zYMo",
   "name": "Exp_[9].ipynb",
   "provenance": [
    {
     "file_id": "1KrkqhZl83RvhszHJDJ5ymCZ5ycJ67Wo9",
     "timestamp": 1619389974811
    },
    {
     "file_id": "1e2ZEGzi8Q-TRk7_Y_I6Y_ikozeaSW8bE",
     "timestamp": 1619388824528
    },
    {
     "file_id": "147zmDuW6yOU0WOZPKS3gXDVFM3Duh7HD",
     "timestamp": 1619387955316
    },
    {
     "file_id": "15muVPWU4CZEnRk8mz7MvYp_qNMkO4uCs",
     "timestamp": 1619383931960
    },
    {
     "file_id": "1XuewCn-JHMsbp668PJiwYxs5dmIYeE6l",
     "timestamp": 1619383867305
    },
    {
     "file_id": "10SWL2aCEM4vGMyhCOcbl0qMN3OQhgDJx",
     "timestamp": 1618780010640
    }
   ],
   "toc_visible": true
  },
  "kernelspec": {
   "display_name": "Python 3",
   "language": "python",
   "name": "python3"
  },
  "language_info": {
   "codemirror_mode": {
    "name": "ipython",
    "version": 3
   },
   "file_extension": ".py",
   "mimetype": "text/x-python",
   "name": "python",
   "nbconvert_exporter": "python",
   "pygments_lexer": "ipython3",
   "version": "3.8.5"
  }
 },
 "nbformat": 4,
 "nbformat_minor": 1
}
