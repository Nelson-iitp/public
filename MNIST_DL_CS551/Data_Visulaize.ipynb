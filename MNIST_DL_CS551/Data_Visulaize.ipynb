{
 "cells": [
  {
   "cell_type": "markdown",
   "metadata": {
    "id": "yLL9QSqpx5BA"
   },
   "source": [
    "# __ top"
   ]
  },
  {
   "cell_type": "code",
   "execution_count": null,
   "metadata": {
    "colab": {
     "base_uri": "https://localhost:8080/"
    },
    "executionInfo": {
     "elapsed": 6016,
     "status": "ok",
     "timestamp": 1618850044260,
     "user": {
      "displayName": "Nelson Sharma",
      "photoUrl": "https://lh3.googleusercontent.com/a-/AOh14GiEZkA7qkgqJixjMInZ7ZlOLdnOzRpMhGBnQfuoiQ=s64",
      "userId": "00623570607520034670"
     },
     "user_tz": -330
    },
    "id": "yBuhN4YlIEcD",
    "outputId": "dda319b3-ca05-440f-8c16-3e5419879b1b"
   },
   "outputs": [
    {
     "name": "stdout",
     "output_type": "stream",
     "text": [
      "Once deleted, variables cannot be recovered. Proceed (y/[n])? y\n"
     ]
    }
   ],
   "source": [
    "%reset"
   ]
  },
  {
   "cell_type": "markdown",
   "metadata": {
    "id": "Sr3nRW42xuQi"
   },
   "source": [
    "# __ pip"
   ]
  },
  {
   "cell_type": "code",
   "execution_count": 1,
   "metadata": {
    "colab": {
     "base_uri": "https://localhost:8080/"
    },
    "executionInfo": {
     "elapsed": 11022,
     "status": "ok",
     "timestamp": 1618869234697,
     "user": {
      "displayName": "Nelson Sharma",
      "photoUrl": "https://lh3.googleusercontent.com/a-/AOh14GiEZkA7qkgqJixjMInZ7ZlOLdnOzRpMhGBnQfuoiQ=s64",
      "userId": "00623570607520034670"
     },
     "user_tz": -330
    },
    "id": "Vnk9bejMxybe",
    "outputId": "e7fa9a65-fdb2-4868-b62e-6a8f1ed5fed8"
   },
   "outputs": [
    {
     "name": "stdout",
     "output_type": "stream",
     "text": [
      "Collecting scikit-image\n",
      "\u001b[?25l  Downloading https://files.pythonhosted.org/packages/fe/01/3a830f3df578ea3ed94ee7fd9f91e85c3dec2431d8548ab1c91869e51450/scikit_image-0.18.1-cp37-cp37m-manylinux1_x86_64.whl (29.2MB)\n",
      "\u001b[K     |████████████████████████████████| 29.2MB 145kB/s \n",
      "\u001b[?25hRequirement already satisfied, skipping upgrade: imageio>=2.3.0 in /usr/local/lib/python3.7/dist-packages (from scikit-image) (2.4.1)\n",
      "Requirement already satisfied, skipping upgrade: matplotlib!=3.0.0,>=2.0.0 in /usr/local/lib/python3.7/dist-packages (from scikit-image) (3.2.2)\n",
      "Requirement already satisfied, skipping upgrade: tifffile>=2019.7.26 in /usr/local/lib/python3.7/dist-packages (from scikit-image) (2021.4.8)\n",
      "Requirement already satisfied, skipping upgrade: pillow!=7.1.0,!=7.1.1,>=4.3.0 in /usr/local/lib/python3.7/dist-packages (from scikit-image) (7.1.2)\n",
      "Requirement already satisfied, skipping upgrade: networkx>=2.0 in /usr/local/lib/python3.7/dist-packages (from scikit-image) (2.5.1)\n",
      "Requirement already satisfied, skipping upgrade: numpy>=1.16.5 in /usr/local/lib/python3.7/dist-packages (from scikit-image) (1.19.5)\n",
      "Requirement already satisfied, skipping upgrade: PyWavelets>=1.1.1 in /usr/local/lib/python3.7/dist-packages (from scikit-image) (1.1.1)\n",
      "Requirement already satisfied, skipping upgrade: scipy>=1.0.1 in /usr/local/lib/python3.7/dist-packages (from scikit-image) (1.4.1)\n",
      "Requirement already satisfied, skipping upgrade: cycler>=0.10 in /usr/local/lib/python3.7/dist-packages (from matplotlib!=3.0.0,>=2.0.0->scikit-image) (0.10.0)\n",
      "Requirement already satisfied, skipping upgrade: python-dateutil>=2.1 in /usr/local/lib/python3.7/dist-packages (from matplotlib!=3.0.0,>=2.0.0->scikit-image) (2.8.1)\n",
      "Requirement already satisfied, skipping upgrade: kiwisolver>=1.0.1 in /usr/local/lib/python3.7/dist-packages (from matplotlib!=3.0.0,>=2.0.0->scikit-image) (1.3.1)\n",
      "Requirement already satisfied, skipping upgrade: pyparsing!=2.0.4,!=2.1.2,!=2.1.6,>=2.0.1 in /usr/local/lib/python3.7/dist-packages (from matplotlib!=3.0.0,>=2.0.0->scikit-image) (2.4.7)\n",
      "Requirement already satisfied, skipping upgrade: decorator<5,>=4.3 in /usr/local/lib/python3.7/dist-packages (from networkx>=2.0->scikit-image) (4.4.2)\n",
      "Requirement already satisfied, skipping upgrade: six in /usr/local/lib/python3.7/dist-packages (from cycler>=0.10->matplotlib!=3.0.0,>=2.0.0->scikit-image) (1.15.0)\n",
      "\u001b[31mERROR: albumentations 0.1.12 has requirement imgaug<0.2.7,>=0.2.5, but you'll have imgaug 0.2.9 which is incompatible.\u001b[0m\n",
      "Installing collected packages: scikit-image\n",
      "  Found existing installation: scikit-image 0.16.2\n",
      "    Uninstalling scikit-image-0.16.2:\n",
      "      Successfully uninstalled scikit-image-0.16.2\n",
      "Successfully installed scikit-image-0.18.1\n"
     ]
    }
   ],
   "source": [
    "pip install -U scikit-image"
   ]
  },
  {
   "cell_type": "markdown",
   "metadata": {
    "id": "Iu6DyVeFUCnk"
   },
   "source": [
    "#[] PROBLEM STATEMENT []"
   ]
  },
  {
   "cell_type": "markdown",
   "metadata": {
    "id": "IibZXo9bUIe2"
   },
   "source": [
    "Assignment\n",
    "\n",
    "Task: To create a Vanilla CNN for MNIST Handwritten Digit Classification.\n",
    "\n",
    "Dataset : THE MNIST DATABASE of handwritten digit http://yann.lecun.com/exdb/mnist/\n",
    "\n",
    "Data Augmentation : Perform data augmentation to increase the dataset size. eg:\n",
    "\n",
    "● Shift (Left, Right, Top, Down)\n",
    "\n",
    "● Flip\n",
    "\n",
    "● Rotate\n",
    "\n",
    "Network Architecture : Vanilla CNN\n",
    "\n",
    "● Layer 1: Convolution\n",
    "\n",
    "● Layer 2: BatchNormalization\n",
    "\n",
    "● Layer 3: Dense\n",
    "\n",
    "Hyperparameter Tuning : Perform Hyperparameter tuning for optimal results. eg:\n",
    "\n",
    "● No of units for each layer\n",
    "\n",
    "● Adjust the learning rate\n",
    "\n",
    "● Choose optimizer & loss function\n",
    "\n",
    "● Batch size & number of epochs\n",
    "\n",
    "Note : You have to print the classification report for the above task.\n",
    "\n",
    "Reference Links : http://yann.lecun.com/exdb/mnist/ https://nanonets.com/blog/data-augmentation-how-to-use-deep-learning-when-you-have-limited-data-part-2/"
   ]
  },
  {
   "cell_type": "markdown",
   "metadata": {
    "id": "UuPDc8oBT1cZ"
   },
   "source": [
    "# [] IMPORTS []"
   ]
  },
  {
   "cell_type": "code",
   "execution_count": 2,
   "metadata": {
    "executionInfo": {
     "elapsed": 2455,
     "status": "ok",
     "timestamp": 1618869236717,
     "user": {
      "displayName": "Nelson Sharma",
      "photoUrl": "https://lh3.googleusercontent.com/a-/AOh14GiEZkA7qkgqJixjMInZ7ZlOLdnOzRpMhGBnQfuoiQ=s64",
      "userId": "00623570607520034670"
     },
     "user_tz": -330
    },
    "id": "OybnfhD5T3dm"
   },
   "outputs": [],
   "source": [
    "import math\n",
    "import os\n",
    "import random\n",
    "import datetime\n",
    "import numpy as np\n",
    "import matplotlib.pyplot as plt\n",
    "from skimage import transform\n",
    "import warnings\n",
    "warnings.filterwarnings(\"ignore\", category=RuntimeWarning)"
   ]
  },
  {
   "cell_type": "markdown",
   "metadata": {
    "id": "OU0S7wNnYAT5"
   },
   "source": [
    "# [] DATASET LOAD []"
   ]
  },
  {
   "cell_type": "markdown",
   "metadata": {
    "id": "VwF4QbXq6WOr"
   },
   "source": [
    "Dataset : THE MNIST DATABASE of handwritten digit http://yann.lecun.com/exdb/mnist/"
   ]
  },
  {
   "cell_type": "code",
   "execution_count": 3,
   "metadata": {
    "colab": {
     "base_uri": "https://localhost:8080/"
    },
    "executionInfo": {
     "elapsed": 4458,
     "status": "ok",
     "timestamp": 1618869238739,
     "user": {
      "displayName": "Nelson Sharma",
      "photoUrl": "https://lh3.googleusercontent.com/a-/AOh14GiEZkA7qkgqJixjMInZ7ZlOLdnOzRpMhGBnQfuoiQ=s64",
      "userId": "00623570607520034670"
     },
     "user_tz": -330
    },
    "id": "foW0BUtgYCOI",
    "outputId": "d59229a8-fe42-472b-f6ad-2ea0ab0b6d25"
   },
   "outputs": [
    {
     "name": "stdout",
     "output_type": "stream",
     "text": [
      "> Reading Images from /content/drive/MyDrive/Colab Notebooks/DL/CS551_Assignment_4/data/train-images.idx3-ubyte\n",
      "Magic Number\t 2051\n",
      "Nos Images\t 60000\n",
      "Nos Rows\t 28\n",
      "Nos Cols\t 28\n",
      "Bytes per Image\t 784\n",
      "ImageBuffer: uint8 (47040000,)\n",
      "ImageBuffer Reshaped: uint8 (60000, 28, 28)\n",
      "Done\n",
      "\n",
      "> Reading Labels from /content/drive/MyDrive/Colab Notebooks/DL/CS551_Assignment_4/data/train-labels.idx1-ubyte\n",
      "Magic Number\t 2049\n",
      "Nos Labels\t 60000\n",
      "LabelBuffer: uint8 (60000,)\n",
      "Done\n",
      "\n",
      "> Reading Images from /content/drive/MyDrive/Colab Notebooks/DL/CS551_Assignment_4/data/t10k-images.idx3-ubyte\n",
      "Magic Number\t 2051\n",
      "Nos Images\t 10000\n",
      "Nos Rows\t 28\n",
      "Nos Cols\t 28\n",
      "Bytes per Image\t 784\n",
      "ImageBuffer: uint8 (7840000,)\n",
      "ImageBuffer Reshaped: uint8 (10000, 28, 28)\n",
      "Done\n",
      "\n",
      "> Reading Labels from /content/drive/MyDrive/Colab Notebooks/DL/CS551_Assignment_4/data/t10k-labels.idx1-ubyte\n",
      "Magic Number\t 2049\n",
      "Nos Labels\t 10000\n",
      "LabelBuffer: uint8 (10000,)\n",
      "Done\n",
      "\n"
     ]
    }
   ],
   "source": [
    "DATA_DIR = '/content/drive/MyDrive/Colab Notebooks/DL/CS551_Assignment_4/data' #<----------- following 4 files must be present in this dir\n",
    "DATA_FILE_TRAIN_IMAGE =   os.path.join(DATA_DIR, 'train-images.idx3-ubyte')\n",
    "DATA_FILE_TRAIN_LABEL =   os.path.join(DATA_DIR, 'train-labels.idx1-ubyte')\n",
    "DATA_FILE_TEST_IMAGE =    os.path.join(DATA_DIR, 't10k-images.idx3-ubyte')\n",
    "DATA_FILE_TEST_LABEL =    os.path.join(DATA_DIR, 't10k-labels.idx1-ubyte')\n",
    "\n",
    "#@@@@@@@@@@@@@@@@@@@@@@@@@@@@@@@@@@@@@@@@@@@@@@@@@@@@@@@@@@@@@@@@@@@@@@@@@@@\n",
    "# Load Training Images\n",
    "def _mnist_images(IMAGE_FILE):\n",
    "  print('> Reading Images from',IMAGE_FILE )\n",
    "  _FILE_IMAGE = open(IMAGE_FILE,\"rb\" ) \n",
    "\n",
    "  # first 4 byte = magic number\n",
    "  _magic = int.from_bytes(_FILE_IMAGE.read(4), \"big\")\n",
    "  print('Magic Number\\t',_magic)\n",
    "\n",
    "  # next 4 byte = nos items\n",
    "  _nos_images = int.from_bytes(_FILE_IMAGE.read(4), \"big\")\n",
    "  print('Nos Images\\t',_nos_images)\n",
    "\n",
    "  # next 4 byte = image dimension Rows\n",
    "  _nos_rows= int.from_bytes(_FILE_IMAGE.read(4), \"big\")\n",
    "  print('Nos Rows\\t',_nos_rows)\n",
    "\n",
    "  # next 4 byte = image dimension Cols\n",
    "  _nos_cols = int.from_bytes(_FILE_IMAGE.read(4), \"big\")\n",
    "  print('Nos Cols\\t',_nos_cols)\n",
    "\n",
    "  _nos_bytes = _nos_rows*_nos_cols\n",
    "  print('Bytes per Image\\t',_nos_bytes)\n",
    "\n",
    "  # next onwards.... one image per _nos_bytes bytes\n",
    "  _buffer = np.frombuffer(_FILE_IMAGE.read(_nos_bytes*_nos_images), \n",
    "                          dtype=np.uint8, count=_nos_bytes*_nos_images, offset=0)\n",
    "  print('ImageBuffer:',_buffer.dtype, _buffer.shape)\n",
    "  _buffer = _buffer.reshape(_nos_images,_nos_rows,_nos_cols)\n",
    "  print('ImageBuffer Reshaped:',_buffer.dtype, _buffer.shape)\n",
    "\n",
    "  _FILE_IMAGE.close()\n",
    "  print('Done\\n' )\n",
    "  return _buffer, _nos_images, _nos_rows, _nos_cols\n",
    "#@@@@@@@@@@@@@@@@@@@@@@@@@@@@@@@@@@@@@@@@@@@@@@@@@@@@@@@@@@@@@@@@@@@@@@@@@@@\n",
    "def _mnist_labels(LABEL_FILE):\n",
    "  print('> Reading Labels from',LABEL_FILE )\n",
    "  _FILE_LABEL = open(LABEL_FILE,\"rb\" ) \n",
    "\n",
    "  # first 4 byte = magic number\n",
    "  _magic = int.from_bytes(_FILE_LABEL.read(4), \"big\")\n",
    "  print('Magic Number\\t',_magic)\n",
    "\n",
    "  # next 4 byte = nos items\n",
    "  _nos_labels = int.from_bytes(_FILE_LABEL.read(4), \"big\")\n",
    "  print('Nos Labels\\t',_nos_labels)\n",
    "\n",
    "  # next onwards.... one image per _nos_bytes bytes\n",
    "  _buffer = np.frombuffer(_FILE_LABEL.read(_nos_labels), \n",
    "                          dtype=np.uint8, count=_nos_labels, offset=0)\n",
    "  print('LabelBuffer:',_buffer.dtype, _buffer.shape)\n",
    "\n",
    "  _FILE_LABEL.close()\n",
    "  print('Done\\n' )\n",
    "  return _buffer, _nos_labels\n",
    "#@@@@@@@@@@@@@@@@@@@@@@@@@@@@@@@@@@@@@@@@@@@@@@@@@@@@@@@@@@@@@@@@@@@@@@@@@@@\n",
    "#@@@@@@@@@@@@@@@@@@@@@@@@@@@@@@@@@@@@@@@@@@@@@@@@@@@@@@@@@@@@@@@@@@@@@@@@@@@\n",
    "\n",
    "train_x, nos_train_x, dimH_train_x, dimW_train_x = _mnist_images(DATA_FILE_TRAIN_IMAGE)\n",
    "train_y, nos_train_y = _mnist_labels(DATA_FILE_TRAIN_LABEL)\n",
    "\n",
    "test_x, nos_test_x, dimH_test_x, dimW_test_x = _mnist_images(DATA_FILE_TEST_IMAGE)\n",
    "test_y, nos_test_y = _mnist_labels(DATA_FILE_TEST_LABEL)\n",
    "#@@@@@@@@@@@@@@@@@@@@@@@@@@@@@@@@@@@@@@@@@@@@@@@@@@@@@@@@@@@@@@@@@@@@@@@@@@@\n"
   ]
  },
  {
   "cell_type": "markdown",
   "metadata": {
    "id": "G5b9YI-S6GPm"
   },
   "source": [
    "# [] DATASET AUGUMENT []"
   ]
  },
  {
   "cell_type": "markdown",
   "metadata": {
    "id": "l4MdvRqy6ZTW"
   },
   "source": [
    "Data Augmentation : Perform data augmentation to increase the dataset size. eg:\n",
    "\n",
    "● Shift (Left, Right, Top, Down)\n",
    "\n",
    "● Flip\n",
    "\n",
    "● Rotate"
   ]
  },
  {
   "cell_type": "code",
   "execution_count": 4,
   "metadata": {
    "executionInfo": {
     "elapsed": 4456,
     "status": "ok",
     "timestamp": 1618869238741,
     "user": {
      "displayName": "Nelson Sharma",
      "photoUrl": "https://lh3.googleusercontent.com/a-/AOh14GiEZkA7qkgqJixjMInZ7ZlOLdnOzRpMhGBnQfuoiQ=s64",
      "userId": "00623570607520034670"
     },
     "user_tz": -330
    },
    "id": "ORGgs2IaaTaH"
   },
   "outputs": [],
   "source": [
    "# flips horizontal and vertical\n",
    "def _aug_flip(imageA, horz=True, vert=True):\n",
    "  res = imageA\n",
    "  if vert:\n",
    "    res = np.flip(res,1)\n",
    "  if horz:\n",
    "    res = np.flip(res,2)\n",
    "  return res\n",
    "\n",
    "def _aug_shift(imageA, shiftA):\n",
    "  imageT = []\n",
    "  for i in range(0, len(imageA)):\n",
    "    imageT.append(np.roll(np.roll(imageA[i], shiftA[i,0],axis=0),shiftA[i,1],axis=1))\n",
    "  return imageT\n",
    "\n",
    "def _aug_rotate(imageA, radA, opx, opy):\n",
    "  imageT = [] #<<--- appending to list is faster than vstacking\n",
    "  cpx,cpy = int(opx/2), int(opy/2)\n",
    "  for i in range(0, len(imageA)):\n",
    "    imageT.append(transform.warp(imageA[i],\n",
    "                                       transform.AffineTransform(matrix= _get_rotation_matrix_wrtp(radA[i], cpx,cpy)), \n",
    "                                       output_shape=(opx, opy)))\n",
    "  return imageT\n",
    "\n",
    "# tranformation matrices for translation and rotation \n",
    "def _get_translation_matrix(tX,tY):\n",
    "  return np.array([[1,0,tX],[0,1,tY],[0,0,1]])\n",
    "\n",
    "def _get_rotation_matrix_wrtc(tH):\n",
    "  return np.array([[math.cos(tH), -math.sin(tH),  0],\n",
    "                   [math.sin(tH), math.cos(tH),   0],\n",
    "                   [0,            0,              1]])\n",
    "  \n",
    "def _get_rotation_matrix_wrtp(tH, tX, tY):\n",
    "  # rotation wrt to a point = translate to center - rotate - translate back to poit\n",
    "  t1 = _get_translation_matrix(-tX, -tY)\n",
    "  tr = _get_rotation_matrix_wrtc(tH)\n",
    "  t2 = _get_translation_matrix(tX, tY)\n",
    "  return np.matmul(t2, np.matmul(tr,t1))\n",
    "  "
   ]
  },
  {
   "cell_type": "markdown",
   "metadata": {
    "id": "fAB8mdaQSMA1"
   },
   "source": [
    "## __ apply augmentation"
   ]
  },
  {
   "cell_type": "markdown",
   "metadata": {
    "id": "v39eifdgeEW_"
   },
   "source": [
    "### FLIP"
   ]
  },
  {
   "cell_type": "code",
   "execution_count": 5,
   "metadata": {
    "executionInfo": {
     "elapsed": 4451,
     "status": "ok",
     "timestamp": 1618869238742,
     "user": {
      "displayName": "Nelson Sharma",
      "photoUrl": "https://lh3.googleusercontent.com/a-/AOh14GiEZkA7qkgqJixjMInZ7ZlOLdnOzRpMhGBnQfuoiQ=s64",
      "userId": "00623570607520034670"
     },
     "user_tz": -330
    },
    "id": "8quBjtqu7EDF"
   },
   "outputs": [],
   "source": [
    "# > flipping images > for each image, flip in 3 diff ways\n",
    "\n",
    "train_x_flipH = _aug_flip(train_x, horz=True, vert=False) # horizontal flip\n",
    "train_x_flipV = _aug_flip(train_x, horz=False, vert=True) # verical flip\n",
    "train_x_flipD = _aug_flip(train_x, horz=True, vert=True) # horizontal + vertical flip\n",
    "\n",
    "test_x_flipH = _aug_flip(test_x, horz=True, vert=False) # horizontal flip\n",
    "test_x_flipV = _aug_flip(test_x, horz=False, vert=True) # verical flip\n",
    "test_x_flipD = _aug_flip(test_x, horz=True, vert=True) # horizontal + vertical flip"
   ]
  },
  {
   "cell_type": "markdown",
   "metadata": {
    "id": "pGxHh2rgeHCU"
   },
   "source": [
    "### ROTATE"
   ]
  },
  {
   "cell_type": "code",
   "execution_count": 6,
   "metadata": {
    "executionInfo": {
     "elapsed": 27822,
     "status": "ok",
     "timestamp": 1618869262117,
     "user": {
      "displayName": "Nelson Sharma",
      "photoUrl": "https://lh3.googleusercontent.com/a-/AOh14GiEZkA7qkgqJixjMInZ7ZlOLdnOzRpMhGBnQfuoiQ=s64",
      "userId": "00623570607520034670"
     },
     "user_tz": -330
    },
    "id": "OR9MwJkBeIfv"
   },
   "outputs": [],
   "source": [
    "# > rotating images > for each image, rotate by random angle b/w -180 to 180\n",
    "\n",
    "rand_ang_train = math.pi*(np.random.random(size=nos_train_x)*2 - 1) # random scaled b/w -180 to 180\n",
    "train_x_rotR = np.array(_aug_rotate(train_x,  rand_ang_train, dimH_train_x, dimW_train_x))\n",
    "\n",
    "rand_ang_test = math.pi*(np.random.random(size=nos_test_x)*2 - 1) # random scaled b/w -180 to 180\n",
    "test_x_rotR = np.array(_aug_rotate(test_x,  rand_ang_test, dimH_test_x, dimW_test_x))"
   ]
  },
  {
   "cell_type": "markdown",
   "metadata": {
    "id": "MLO8AnjGsAMk"
   },
   "source": [
    "### SHIFT"
   ]
  },
  {
   "cell_type": "code",
   "execution_count": 7,
   "metadata": {
    "executionInfo": {
     "elapsed": 30299,
     "status": "ok",
     "timestamp": 1618869264598,
     "user": {
      "displayName": "Nelson Sharma",
      "photoUrl": "https://lh3.googleusercontent.com/a-/AOh14GiEZkA7qkgqJixjMInZ7ZlOLdnOzRpMhGBnQfuoiQ=s64",
      "userId": "00623570607520034670"
     },
     "user_tz": -330
    },
    "id": "u2DNGBrIr_MV"
   },
   "outputs": [],
   "source": [
    "# > shift images > for each image, shift by random amount +/- 5 in either directions\n",
    "\n",
    "rand_delta_train = (10*(np.random.random(size=(nos_train_x,2))*2 - 1)).astype('int')\n",
    "train_x_shift = np.array(_aug_shift(train_x,  rand_delta_train))\n",
    "\n",
    "rand_delta_test = (10*(np.random.random(size=(nos_test_x,2))*2 - 1)).astype('int')\n",
    "test_x_shift = np.array(_aug_shift(test_x,  rand_delta_test))"
   ]
  },
  {
   "cell_type": "markdown",
   "metadata": {
    "id": "Z1v8Tx020_1I"
   },
   "source": [
    "## __ view augmentation"
   ]
  },
  {
   "cell_type": "code",
   "execution_count": 8,
   "metadata": {
    "colab": {
     "base_uri": "https://localhost:8080/",
     "height": 209
    },
    "executionInfo": {
     "elapsed": 31121,
     "status": "ok",
     "timestamp": 1618869265437,
     "user": {
      "displayName": "Nelson Sharma",
      "photoUrl": "https://lh3.googleusercontent.com/a-/AOh14GiEZkA7qkgqJixjMInZ7ZlOLdnOzRpMhGBnQfuoiQ=s64",
      "userId": "00623570607520034670"
     },
     "user_tz": -330
    },
    "id": "aCOZVa3koSzv",
    "outputId": "e0a376bd-7571-460d-d97f-736ef0d4ca63"
   },
   "outputs": [
    {
     "name": "stdout",
     "output_type": "stream",
     "text": [
      "48992 / 60000 \tLabel: 7\n"
     ]
    },
    {
     "data": {
      "image/png": "[encoded data removed]",
      "text/plain": [
       "<Figure size 1152x432 with 6 Axes>"
      ]
     },
     "metadata": {
      "needs_background": "light",
      "tags": []
     },
     "output_type": "display_data"
    }
   ],
   "source": [
    "# plot random digit\n",
    "di=random.randint(0,nos_train_x-1)\n",
    "print(di,'/',nos_train_x, '\\tLabel:', train_y[di])\n",
    "fig,ax = plt.subplots(1,6, figsize=(16,6), sharey=True)\n",
    "\n",
    "ax[0].imshow(train_x[di])\n",
    "ax[0].set_xlabel('train_x')\n",
    "\n",
    "ax[1].imshow(train_x_flipH[di])\n",
    "ax[1].set_xlabel('H-Flip')\n",
    "\n",
    "ax[2].imshow(train_x_flipV[di])\n",
    "ax[2].set_xlabel('V-Flip')\n",
    "\n",
    "ax[3].imshow(train_x_flipD[di]) \n",
    "ax[3].set_xlabel('D-Flip')\n",
    "\n",
    "ax[4].imshow(train_x_rotR[di])\n",
    "ax[4].vlines(14, 0, 18)\n",
    "ax[4].hlines(14, 0, 18)\n",
    "ax[4].set_xlabel('Rot@ '+str(round(rand_ang_train[di]*180/math.pi,2))+ ' deg')\n",
    "\n",
    "ax[5].imshow(train_x_shift[di]) \n",
    "ax[5].set_xlabel('Shift@ '+str(rand_delta_train[di]))\n",
    "\n",
    "\n",
    "plt.show()"
   ]
  }
 ],
 "metadata": {
  "colab": {
   "authorship_tag": "ABX9TyNVDiHIAWEa3AC/vVTHgKWH",
   "collapsed_sections": [],
   "mount_file_id": "1b3qmH2upsWFxVh1bJgCd2mRzg5r-noK7",
   "name": "exp_0.ipynb",
   "provenance": [
    {
     "file_id": "10SWL2aCEM4vGMyhCOcbl0qMN3OQhgDJx",
     "timestamp": 1618849909626
    }
   ],
   "toc_visible": true
  },
  "kernelspec": {
   "display_name": "Python 3",
   "language": "python",
   "name": "python3"
  },
  "language_info": {
   "codemirror_mode": {
    "name": "ipython",
    "version": 3
   },
   "file_extension": ".py",
   "mimetype": "text/x-python",
   "name": "python",
   "nbconvert_exporter": "python",
   "pygments_lexer": "ipython3",
   "version": "3.8.5"
  }
 },
 "nbformat": 4,
 "nbformat_minor": 1
}
