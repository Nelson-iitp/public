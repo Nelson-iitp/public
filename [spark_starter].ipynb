{
 "cells": [
  {
   "cell_type": "markdown",
   "id": "54d2f07a-b590-429c-8a82-2b05aa41405c",
   "metadata": {
    "tags": []
   },
   "source": [
    "<span style=\"font-size:36px\">Spark Starter</span><br> <span style=\"font-size:26px\"> *Working with Apache Spark using pyspark*</span><br><hr>\n",
    "<span style=\"font-size:18px;color:#A43562\">\n",
    "Important Links:\n",
    "* [Apache Spark Official Documentation](https://spark.apache.org/docs/latest/index.html)\n",
    "* [Spark Components - Cluster Overview](https://spark.apache.org/docs/latest/cluster-overview.html)\n",
    "* [RDD Programming Guide](https://spark.apache.org/docs/latest/rdd-programming-guide.html)\n",
    "* [SQL Programming Guide](https://spark.apache.org/docs/latest/sql-programming-guide.html)\n",
    "* [pyspark ~ Python API](https://spark.apache.org/docs/latest/api/python/getting_started/index.html)\n",
    "    * [DataFrame Creation](https://spark.apache.org/docs/latest/api/python/getting_started/quickstart.html#DataFrame-Creation)\n",
    "    * [Working with SQL](https://spark.apache.org/docs/latest/api/python/getting_started/quickstart.html#Working-with-SQL)\n",
    "    * [SQL Core Classes](https://spark.apache.org/docs/latest/api/python/reference/pyspark.sql.html)\n",
    "* [Official Example Code](https://spark.apache.org/examples.html)\n",
    "</span><hr>\n",
    "\n",
    "<span style=\"font-size:14px;color:#4500FF\">\n",
    "Install spark on your server\n",
    "\n",
    "<code> sudo apt install spark </code>\n",
    "\n",
    "*spark can be accessed from command line using the spark-shell command (here the shell acts as a driver program)*\n",
    "\n",
    "<code> spark-shell -c spark.driver.bindAddress=127.0.0.1 </code>\n",
    "\n",
    "\n",
    "Install the pyspark package using pip\n",
    "\n",
    "<code> pip install pyspark </code>\n",
    "</span>\n",
    "<hr>\n"
   ]
  },
  {
   "cell_type": "markdown",
   "id": "8f9ab886-b6fe-4bd8-9fdc-3c46791882c8",
   "metadata": {},
   "source": [
    "# ~ pyspark\n",
    "\n",
    "<span style=\"font-size:18px;font-family:Corbel;color:#003300\">\n",
    "\n",
    "*make sure both spark & pyspark have installed correctly on the system*\n",
    "</span>"
   ]
  },
  {
   "cell_type": "code",
   "execution_count": 1,
   "id": "a241d170-8637-4fcd-a0ee-7548cbf74f73",
   "metadata": {},
   "outputs": [
    {
     "name": "stdout",
     "output_type": "stream",
     "text": [
      "Name: pyspark\n",
      "Version: 3.1.2\n",
      "Summary: Apache Spark Python API\n",
      "Home-page: https://github.com/apache/spark/tree/master/python\n",
      "Author: Spark Developers\n",
      "Author-email: dev@spark.apache.org\n",
      "License: http://www.apache.org/licenses/LICENSE-2.0\n",
      "Location: /home/iitp/anaconda3/lib/python3.8/site-packages\n",
      "Requires: py4j\n",
      "Required-by: \n",
      "Note: you may need to restart the kernel to use updated packages.\n"
     ]
    }
   ],
   "source": [
    "pip show pyspark"
   ]
  },
  {
   "cell_type": "markdown",
   "id": "fb948b24-97ab-40ed-8614-18fc76568540",
   "metadata": {},
   "source": [
    "# ~ Imports"
   ]
  },
  {
   "cell_type": "code",
   "execution_count": 2,
   "id": "107329b9-65e8-4d41-8865-559b430ad1ba",
   "metadata": {},
   "outputs": [],
   "source": [
    "import pyspark, random, os, shutil, datetime\n",
    "import matplotlib.pyplot as plt\n",
    "import numpy as np"
   ]
  },
  {
   "cell_type": "markdown",
   "id": "655ea60c-565b-4f26-a92f-b92849e53f35",
   "metadata": {},
   "source": [
    "# ~ Spark *session* & *context*\n",
    "\n",
    "<span style=\"font-size:18px;font-family:Corbel;color:#003300\">\n",
    "\n",
    "Spark session is a **unified entry point** of a spark application from Spark 2.0. It provides a way to interact with various spark's functionality with a lesser number of constructs. Instead of having a spark context, hive context, SQL context, now all of it is encapsulated in a Spark session.\n",
    "\n",
    "* SparkContext: Refer [Official Documentation](https://spark.apache.org/docs/latest/cluster-overview.html)\n",
    "* [Glossary](https://spark.apache.org/docs/latest/cluster-overview.html#glossary) of Cluster Components\n",
    "\n",
    "NOTE: *Multiple sessions may share the same context, it provides isolation for users working in the same cluster.*\n",
    "    \n",
    "</span>"
   ]
  },
  {
   "cell_type": "markdown",
   "id": "a9918a10-6b3b-4a5c-9cda-0bfdff6ccd85",
   "metadata": {},
   "source": [
    "## Create a *Session*"
   ]
  },
  {
   "cell_type": "code",
   "execution_count": 3,
   "id": "aa67789b-4e03-4fc5-8dd6-a51428c5ec78",
   "metadata": {},
   "outputs": [
    {
     "data": {
      "text/html": [
       "\n",
       "            <div>\n",
       "                <p><b>SparkSession - in-memory</b></p>\n",
       "                \n",
       "        <div>\n",
       "            <p><b>SparkContext</b></p>\n",
       "\n",
       "            <p><a href=\"http://vmu1800:4040\">Spark UI</a></p>\n",
       "\n",
       "            <dl>\n",
       "              <dt>Version</dt>\n",
       "                <dd><code>v3.1.2</code></dd>\n",
       "              <dt>Master</dt>\n",
       "                <dd><code>local[*]</code></dd>\n",
       "              <dt>AppName</dt>\n",
       "                <dd><code>CS555</code></dd>\n",
       "            </dl>\n",
       "        </div>\n",
       "        \n",
       "            </div>\n",
       "        "
      ],
      "text/plain": [
       "<pyspark.sql.session.SparkSession at 0x7fc31923adc0>"
      ]
     },
     "execution_count": 3,
     "metadata": {},
     "output_type": "execute_result"
    }
   ],
   "source": [
    "start_time = datetime.datetime.now() # record the start time\n",
    "\n",
    "# earlier ... \n",
    "\"\"\"\n",
    "from pyspark import SparkContext, SparkConf\n",
    "sc = SparkContext(conf=SparkConf().setAppName('CS555').setMaster(\"local\"))\n",
    "\"\"\"\n",
    "\n",
    "# using a spark session\n",
    "from pyspark.sql import SparkSession\n",
    "spark = SparkSession.builder.appName('CS555').getOrCreate()  # to stop session use spark.stop()\n",
    "spark"
   ]
  },
  {
   "cell_type": "markdown",
   "id": "8a4f29e4-67d7-4a1f-8a03-c57891eef9fa",
   "metadata": {
    "tags": []
   },
   "source": [
    "## Get *context* object"
   ]
  },
  {
   "cell_type": "code",
   "execution_count": 4,
   "id": "55bf700e-036a-4010-8763-36f23e3ae9bd",
   "metadata": {},
   "outputs": [
    {
     "name": "stdout",
     "output_type": "stream",
     "text": [
      "sparkContext: <SparkContext master=local[*] appName=CS555>\n"
     ]
    }
   ],
   "source": [
    "sc = spark.sparkContext\n",
    "print('sparkContext:',sc)"
   ]
  },
  {
   "cell_type": "markdown",
   "id": "4b63a5a2-758c-432d-a081-6b6067c1f9c1",
   "metadata": {},
   "source": [
    "# ~ RDD - Resilient Distributed Datasets\n",
    "\n",
    "<span style=\"font-size:18px;font-family:Corbel;color:#003300\">\n",
    "\n",
    "Refer the official [RDD Programming guide](https://spark.apache.org/docs/latest/rdd-programming-guide.html)\n",
    "\n",
    "* **[RDDs](https://spark.apache.org/docs/latest/rdd-programming-guide.html#resilient-distributed-datasets-rdds)** are **immutable** collection of datasets that work in parallel\n",
    " \n",
    "* **[Transformations](https://spark.apache.org/docs/latest/rdd-programming-guide.html#transformations)** are lazy operations on RDDs - stores operations (in a DAG) rather than actual transformation\n",
    "* **[Actions](https://spark.apache.org/docs/latest/rdd-programming-guide.html#actions)** on RDDs produce results (using the operations stored in DAG)\n",
    "\n",
    "</span>"
   ]
  },
  {
   "cell_type": "markdown",
   "id": "cd2c79b8-d26c-40b3-b536-19b17c7470ac",
   "metadata": {},
   "source": [
    "## Creating RDDs\n",
    "\n",
    "<span style=\"font-size:20px;color:#A43562\">Using *sc.parallelize()*</span>"
   ]
  },
  {
   "cell_type": "markdown",
   "id": "5039c015-5d83-49b3-90c3-66204f3be376",
   "metadata": {},
   "source": [
    "### Example [A]"
   ]
  },
  {
   "cell_type": "markdown",
   "id": "7a4050b3-8037-48ac-abfa-31f47af65a05",
   "metadata": {},
   "source": [
    "<span style=\"font-size:16px;color:#DA4512\">~ create RDDs</span>"
   ]
  },
  {
   "cell_type": "code",
   "execution_count": 5,
   "id": "37ab2ce1-e6a3-459e-9ba0-d290327ab9e7",
   "metadata": {
    "tags": []
   },
   "outputs": [
    {
     "name": "stdout",
     "output_type": "stream",
     "text": [
      "<class 'pyspark.rdd.RDD'> ParallelCollectionRDD[0] at readRDDFromFile at PythonRDD.scala:274\n",
      "<class 'pyspark.rdd.RDD'> ParallelCollectionRDD[1] at readRDDFromFile at PythonRDD.scala:274\n"
     ]
    }
   ],
   "source": [
    "RDD_array1 = sc.parallelize(np.random.randint(0,10,size=10),numSlices=5)\n",
    "RDD_array2 = sc.parallelize(np.random.randint(0,10,size=10),numSlices=3)\n",
    "print(type(RDD_array1),RDD_array1)\n",
    "print(type(RDD_array2),RDD_array2)"
   ]
  },
  {
   "cell_type": "markdown",
   "id": "7cbe0daa-d3bb-47a3-9782-02dd6786a239",
   "metadata": {},
   "source": [
    "<span style=\"font-size:16px;color:#DA4512\">~ collect values</span>"
   ]
  },
  {
   "cell_type": "code",
   "execution_count": 6,
   "id": "4b9d36fa-4a32-4da3-bd3f-9e0f3bb7a69a",
   "metadata": {},
   "outputs": [
    {
     "name": "stdout",
     "output_type": "stream",
     "text": [
      "<class 'list'> 10 [2, 7, 3, 2, 5, 1, 7, 1, 5, 9]\n",
      "<class 'list'> 10 [8, 7, 4, 1, 1, 2, 6, 2, 7, 5]\n"
     ]
    }
   ],
   "source": [
    "a1 = RDD_array1.collect() # 'collect' is an action\n",
    "a2 = RDD_array2.collect()\n",
    "print(type(a1), len(a1),  a1)\n",
    "print(type(a2), len(a2), a2)"
   ]
  },
  {
   "cell_type": "markdown",
   "id": "3462284a-fc5f-4819-9b27-757e59e5eed1",
   "metadata": {},
   "source": [
    "<span style=\"font-size:16px;color:#DA4512\">~ collect glom values ( .. see [glom function](https://spark.apache.org/docs/latest/api/python/reference/api/pyspark.RDD.glom.html))</span>"
   ]
  },
  {
   "cell_type": "code",
   "execution_count": 7,
   "id": "e304f4de-9e61-48a6-affe-77aa0a9bf496",
   "metadata": {},
   "outputs": [
    {
     "name": "stdout",
     "output_type": "stream",
     "text": [
      "<class 'list'> 5 [[2, 7], [3, 2], [5, 1], [7, 1], [5, 9]]\n",
      "<class 'list'> 3 [[8, 7, 4], [1, 1, 2], [6, 2, 7, 5]]\n"
     ]
    }
   ],
   "source": [
    "g1 = RDD_array1.glom().collect()\n",
    "g2 = RDD_array2.glom().collect()\n",
    "print(type(g1), len(g1),  g1)\n",
    "print(type(g2), len(g2), g2)"
   ]
  },
  {
   "cell_type": "markdown",
   "id": "6885a4ac-20dc-4cb2-8de7-72eb6ed1bca7",
   "metadata": {},
   "source": [
    "<span style=\"font-size:16px;color:#DA4512\">~ transformation **map(x)**</span>"
   ]
  },
  {
   "cell_type": "code",
   "execution_count": 8,
   "id": "b7216ecb-befb-4cdc-93de-2b61f2f8c6e8",
   "metadata": {},
   "outputs": [
    {
     "name": "stdout",
     "output_type": "stream",
     "text": [
      "<class 'pyspark.rdd.PipelinedRDD'> PythonRDD[4] at RDD at PythonRDD.scala:53\n",
      "<class 'list'> [16, 14, 8, 2, 2, 4, 12, 4, 14, 10]\n"
     ]
    }
   ],
   "source": [
    "RDD_array3 = RDD_array2.map(lambda x: x*2) # 'map' is a transformation\n",
    "print(type(RDD_array3),RDD_array3)\n",
    "a3 = RDD_array3.collect()\n",
    "print(type(a3),  a3)"
   ]
  },
  {
   "cell_type": "markdown",
   "id": "90029c25-c3d0-4b58-8cb0-a8ae9a48fa2c",
   "metadata": {},
   "source": [
    "<span style=\"font-size:16px;color:#DA4512\">~ transformation **union(x)**</span>"
   ]
  },
  {
   "cell_type": "code",
   "execution_count": 9,
   "id": "c5d48947-f53f-4ff7-8c77-a67ef9a1b4ae",
   "metadata": {},
   "outputs": [
    {
     "name": "stdout",
     "output_type": "stream",
     "text": [
      "<class 'pyspark.rdd.RDD'> UnionRDD[7] at union at NativeMethodAccessorImpl.java:0\n",
      "<class 'list'> [2, 7, 3, 2, 5, 1, 7, 1, 5, 9, 8, 7, 4, 1, 1, 2, 6, 2, 7, 5] Sum: 85\n"
     ]
    }
   ],
   "source": [
    "RDD_array4 = RDD_array1.union(RDD_array2) # 'union' is a transformation\n",
    "print(type(RDD_array4),RDD_array4)\n",
    "a4 = RDD_array4.collect()\n",
    "print(type(a4),  a4, 'Sum:',sum(a4))"
   ]
  },
  {
   "cell_type": "markdown",
   "id": "ebbeb25c-c65e-43ff-8279-e149502ace98",
   "metadata": {},
   "source": [
    "<span style=\"font-size:16px;color:#DA4512\">~ action **reduce(x,y)**</span>"
   ]
  },
  {
   "cell_type": "code",
   "execution_count": 10,
   "id": "c68f54c2-8311-4602-93b0-57c8c3a94c63",
   "metadata": {},
   "outputs": [
    {
     "name": "stdout",
     "output_type": "stream",
     "text": [
      "<class 'numpy.int64'> Sum: 85\n"
     ]
    }
   ],
   "source": [
    "a5 = RDD_array4.reduce(lambda x,y: x+y)  # 'reduce' is an action\n",
    "print(type(a5), 'Sum:', a5)"
   ]
  },
  {
   "cell_type": "markdown",
   "id": "462297b2-bf21-48c6-923a-2df5f7599748",
   "metadata": {},
   "source": [
    "### Example [B]"
   ]
  },
  {
   "cell_type": "markdown",
   "id": "e2907450-e16b-4828-9733-52771ff8b348",
   "metadata": {},
   "source": [
    "<span style=\"font-size:16px;color:#DA4512\">~ create RDDs</span>"
   ]
  },
  {
   "cell_type": "code",
   "execution_count": 11,
   "id": "0b6d6986-b97d-4702-b510-7848b281329d",
   "metadata": {},
   "outputs": [
    {
     "name": "stdout",
     "output_type": "stream",
     "text": [
      "<class 'pyspark.rdd.RDD'> ParallelCollectionRDD[9] at readRDDFromFile at PythonRDD.scala:274\n"
     ]
    }
   ],
   "source": [
    "RDD_Names = sc.parallelize(['Alice', 'Bob', 'Charlie', 'David', 'Eli', \n",
    "                            'Felix', 'George', 'Hank', 'John', 'Isabel'])\n",
    "print(type(RDD_Names),RDD_Names)"
   ]
  },
  {
   "cell_type": "markdown",
   "id": "2eac077d-3b50-48d1-9a70-b4261ebc0990",
   "metadata": {},
   "source": [
    "<span style=\"font-size:16px;color:#DA4512\">~ transformation **filter(x)**</span>"
   ]
  },
  {
   "cell_type": "code",
   "execution_count": 12,
   "id": "066ca3b7-ee9f-4c64-9590-7fe44257d430",
   "metadata": {},
   "outputs": [
    {
     "name": "stdout",
     "output_type": "stream",
     "text": [
      "<class 'pyspark.rdd.PipelinedRDD'> PythonRDD[10] at RDD at PythonRDD.scala:53\n",
      "['Bob', 'Eli', 'Hank', 'John']\n"
     ]
    }
   ],
   "source": [
    "RDD_Info = RDD_Names.filter(lambda x: len(x)<=4)\n",
    "print(type(RDD_Info),RDD_Info)\n",
    "info = RDD_Info.collect()\n",
    "print(info)"
   ]
  },
  {
   "cell_type": "markdown",
   "id": "f47d4a93-4ee6-4e8f-b26d-b48d5a1b14a0",
   "metadata": {},
   "source": [
    "<span style=\"font-size:16px;color:#DA4512\">~ map(x) and reduce(x,y)</span>"
   ]
  },
  {
   "cell_type": "code",
   "execution_count": 13,
   "id": "1e7e8423-e007-48ef-8624-7a155b68568a",
   "metadata": {},
   "outputs": [
    {
     "name": "stdout",
     "output_type": "stream",
     "text": [
      "counts [3, 3, 4, 4]\n",
      "14\n"
     ]
    }
   ],
   "source": [
    "RDD_counts = RDD_Info.map(lambda x: len(x))\n",
    "counts = RDD_counts.collect()\n",
    "print('counts',counts)\n",
    "summation = RDD_counts.reduce(lambda x,y: x+y)\n",
    "print(summation)"
   ]
  },
  {
   "cell_type": "markdown",
   "id": "2b8ac965-2e6e-44ac-b6a6-212564228ed1",
   "metadata": {},
   "source": [
    "<span style=\"font-size:16px;color:#DA4512\">~ One liner</span>"
   ]
  },
  {
   "cell_type": "code",
   "execution_count": 14,
   "id": "4c7fcf0a-0b4c-4921-b196-26a6a56b0ee7",
   "metadata": {},
   "outputs": [
    {
     "name": "stdout",
     "output_type": "stream",
     "text": [
      "14\n"
     ]
    }
   ],
   "source": [
    "one_liner = RDD_Names.filter(lambda x: len(x)<=4).map(lambda x: len(x)).reduce(lambda x,y: x+y)\n",
    "print(one_liner)"
   ]
  },
  {
   "cell_type": "markdown",
   "id": "8fc5b417-2df6-47ef-9fcc-c91297a410a4",
   "metadata": {},
   "source": [
    "## Creating RDDs\n",
    "\n",
    "<span style=\"font-size:20px;color:#A43562\">from *external files/objects*</span>"
   ]
  },
  {
   "cell_type": "markdown",
   "id": "eb5ecaf7-fd17-4070-af2b-a79584947f16",
   "metadata": {},
   "source": [
    "<span style=\"font-size:16px;color:#DA4512\">~ Obtain data from yahoo finance ( .. See [Ticker Symbols](https://finance.yahoo.com/lookup/))</span>"
   ]
  },
  {
   "cell_type": "code",
   "execution_count": 15,
   "id": "eb8b9d62-3c51-44ae-b1f0-9e47c41c37aa",
   "metadata": {},
   "outputs": [
    {
     "name": "stdout",
     "output_type": "stream",
     "text": [
      "True\n"
     ]
    }
   ],
   "source": [
    "import pandas_datareader\n",
    "pdr=pandas_datareader.data.DataReader('googl', 'yahoo', \n",
    "                start=datetime.datetime(2010, 8, 1), \n",
    "                end=datetime.datetime(2016, 11, 30)).to_csv('stocks.csv', sep=',') \n",
    "print('stocks.csv' in os.listdir(\"./\"))"
   ]
  },
  {
   "cell_type": "markdown",
   "id": "fdac0932-f6ad-4e45-ba07-bfd8850d5485",
   "metadata": {},
   "source": [
    "<span style=\"font-size:16px;color:#DA4512\">~ Create RDD from CSV</span>"
   ]
  },
  {
   "cell_type": "code",
   "execution_count": 16,
   "id": "96cdc620-9db6-427c-8e13-fb78a8a401d1",
   "metadata": {},
   "outputs": [
    {
     "name": "stdout",
     "output_type": "stream",
     "text": [
      "Count: 1597\n",
      "<class 'list'> 1597 \n",
      "[-] 2016-11-30,791.510009765625,773.1500244140625,789.0999755859375,775.8800048828125,2279100.0,775.8800048828125\n",
      "[H] Date,High,Low,Open,Close,Volume,Adj Close\n"
     ]
    }
   ],
   "source": [
    "RDD_F = sc.textFile(\"stocks.csv\")\n",
    "\n",
    "cf = RDD_F.count() # 'count' is an action\n",
    "print('Count:',cf)\n",
    "\n",
    "data = RDD_F.collect() # 'collect' is an action\n",
    "print(type(data), len(data), '\\n[-]', data[-1])\n",
    "\n",
    "first = RDD_F.first() # 'first' is an action\n",
    "print('[H]',first) #<---- shall be used for schema"
   ]
  },
  {
   "cell_type": "markdown",
   "id": "1580f2ab-661e-414a-8b5d-dfb78029f4f2",
   "metadata": {},
   "source": [
    "<span style=\"font-size:16px;color:#DA4512\">~ function for parsing</span> ( .. see [Data-Types](https://spark.apache.org/docs/latest/sql-ref-datatypes.html))"
   ]
  },
  {
   "cell_type": "code",
   "execution_count": 17,
   "id": "c22c318a-455a-461d-b97c-1e41ea6feb55",
   "metadata": {},
   "outputs": [],
   "source": [
    "def parse(xs):\n",
    "    \"\"\" parses each row of data and converts to appropiate data type\"\"\"\n",
    "    global first\n",
    "    if xs!=first:\n",
    "        x = xs.split(\",\")\n",
    "        return [datetime.datetime.strptime(x[0],\"%Y-%m-%d\"), \n",
    "                float(x[1]), float(x[2]), float(x[3]), float(x[4]), float(x[5]), float(x[6])]\n",
    "    else:\n",
    "        return None "
   ]
  },
  {
   "cell_type": "markdown",
   "id": "9d53185b-e7ee-41d8-9de5-0af37f61a43c",
   "metadata": {},
   "source": [
    "<span style=\"font-size:16px;color:#DA4512\">~ create a **DataFrame**</span> ( .. see [sql.DataFrame](https://spark.apache.org/docs/latest/api/python/reference/api/pyspark.sql.DataFrame.html))"
   ]
  },
  {
   "cell_type": "code",
   "execution_count": 18,
   "id": "17cda365-abd0-4d12-8279-6753171ab352",
   "metadata": {},
   "outputs": [
    {
     "name": "stdout",
     "output_type": "stream",
     "text": [
      "<class 'pyspark.sql.dataframe.DataFrame'> 1596\n"
     ]
    }
   ],
   "source": [
    "dframe = RDD_F.map(parse).filter(lambda x: x!=None).toDF(first.split(','))\n",
    "print(type(dframe), dframe.count())"
   ]
  },
  {
   "cell_type": "markdown",
   "id": "4a1376cd-ff82-4a81-a7e0-70a9f0155372",
   "metadata": {},
   "source": [
    "<span style=\"font-size:16px;color:#DA4512\">~ Schema</span>"
   ]
  },
  {
   "cell_type": "code",
   "execution_count": 19,
   "id": "224f31e7-87ce-4741-9a1b-1f4c71260bab",
   "metadata": {},
   "outputs": [
    {
     "name": "stdout",
     "output_type": "stream",
     "text": [
      "root\n",
      " |-- Date: timestamp (nullable = true)\n",
      " |-- High: double (nullable = true)\n",
      " |-- Low: double (nullable = true)\n",
      " |-- Open: double (nullable = true)\n",
      " |-- Close: double (nullable = true)\n",
      " |-- Volume: double (nullable = true)\n",
      " |-- Adj Close: double (nullable = true)\n",
      "\n"
     ]
    }
   ],
   "source": [
    "dframe.printSchema()"
   ]
  },
  {
   "cell_type": "markdown",
   "id": "c8f2c2be-ff4d-40be-b60c-8d5dccdd2567",
   "metadata": {},
   "source": [
    "<span style=\"font-size:16px;color:#DA4512\">~ Data</span>"
   ]
  },
  {
   "cell_type": "code",
   "execution_count": 20,
   "id": "ff4b0038-f5c2-4daa-a3e0-cd846e53585b",
   "metadata": {},
   "outputs": [
    {
     "name": "stdout",
     "output_type": "stream",
     "text": [
      "+-------------------+------------------+------------------+------------------+------------------+---------+------------------+\n",
      "|               Date|              High|               Low|              Open|             Close|   Volume|         Adj Close|\n",
      "+-------------------+------------------+------------------+------------------+------------------+---------+------------------+\n",
      "|2010-08-02 00:00:00| 246.8868865966797|243.71371459960938|   244.73974609375|245.45045471191406|3713683.0|245.45045471191406|\n",
      "|2010-08-03 00:00:00|246.47647094726562|243.62362670898438|245.49549865722656|      245.16015625|3600995.0|      245.16015625|\n",
      "|2010-08-04 00:00:00|253.75375366210938|245.77076721191406|246.33633422851562| 253.4134063720703|7617375.0| 253.4134063720703|\n",
      "|2010-08-05 00:00:00|254.55455017089844| 252.0320281982422| 253.1981964111328|254.30430603027344|4835959.0|254.30430603027344|\n",
      "|2010-08-06 00:00:00| 253.1231231689453| 248.2732696533203| 252.9529571533203|250.36036682128906|6632361.0|250.36036682128906|\n",
      "|2010-08-09 00:00:00| 253.0030059814453|250.93092346191406|251.37637329101562| 252.9279327392578|3740656.0| 252.9279327392578|\n",
      "|2010-08-10 00:00:00| 253.2532501220703|249.53453063964844|251.42642211914062| 252.1071014404297|4143852.0| 252.1071014404297|\n",
      "|2010-08-11 00:00:00|249.24925231933594|245.99600219726562|249.11412048339844|246.11611938476562|4441554.0|246.11611938476562|\n",
      "|2010-08-12 00:00:00|247.62261962890625|241.49649047851562|242.21221923828125|246.25125122070312|4404791.0|246.25125122070312|\n",
      "|2010-08-13 00:00:00|245.84083557128906| 243.2482452392578| 244.7447509765625| 243.4184112548828|3865531.0| 243.4184112548828|\n",
      "|2010-08-16 00:00:00|   245.18017578125|240.49049377441406| 242.0820770263672| 243.0380401611328|2607390.0| 243.0380401611328|\n",
      "|2010-08-17 00:00:00|247.59759521484375| 243.2582550048828|244.50950622558594|245.50550842285156|3777619.0|245.50550842285156|\n",
      "|2010-08-18 00:00:00|245.68067932128906|241.01602172851562|245.46546936035156|241.31631469726562|5367427.0|241.31631469726562|\n",
      "|2010-08-19 00:00:00|241.49649047851562|233.85885620117188|240.74574279785156|234.21922302246094|7842150.0|234.21922302246094|\n",
      "|2010-08-20 00:00:00|236.03103637695312|230.74073791503906|234.21922302246094|231.24124145507812|7827365.0|231.24124145507812|\n",
      "|2010-08-23 00:00:00|234.35935974121094|229.09410095214844|230.98098754882812|232.26727294921875|5966428.0|232.26727294921875|\n",
      "|2010-08-24 00:00:00|229.41441345214844|225.68568420410156|229.07908630371094|225.92091369628906|5519875.0|225.92091369628906|\n",
      "|2010-08-25 00:00:00|229.13414001464844| 225.2252197265625| 225.2252197265625|227.53753662109375|5179016.0|227.53753662109375|\n",
      "|2010-08-26 00:00:00|228.85885620117188|225.44544982910156| 228.2582550048828|225.71571350097656|3550446.0|225.71571350097656|\n",
      "|2010-08-27 00:00:00| 230.2252197265625|224.04904174804688|226.50650024414062|229.64463806152344|4620175.0|229.64463806152344|\n",
      "+-------------------+------------------+------------------+------------------+------------------+---------+------------------+\n",
      "only showing top 20 rows\n",
      "\n"
     ]
    }
   ],
   "source": [
    "dframe.show() # or use .describe()"
   ]
  },
  {
   "cell_type": "markdown",
   "id": "b0953ede-a800-4ebe-9ec0-7e4a2efad3fb",
   "metadata": {},
   "source": [
    "<span style=\"font-size:16px;color:#DA4512\">~ Description</span>"
   ]
  },
  {
   "cell_type": "code",
   "execution_count": 21,
   "id": "0bbef61b-efc8-4588-88c5-68401670e68e",
   "metadata": {},
   "outputs": [
    {
     "name": "stdout",
     "output_type": "stream",
     "text": [
      "+-------+------------------+------------------+------------------+------------------+------------------+------------------+\n",
      "|summary|              High|               Low|              Open|             Close|            Volume|         Adj Close|\n",
      "+-------+------------------+------------------+------------------+------------------+------------------+------------------+\n",
      "|  count|              1596|              1596|              1596|              1596|              1596|              1596|\n",
      "|   mean|485.22888260078906|477.06231170310116|481.39391910103626|481.21028618107465| 3864040.488095238|481.21028618107465|\n",
      "| stddev| 176.8806721737977| 173.9654572315556|175.60862773625627|175.43533974166664|2724199.6578315045|175.43533974166664|\n",
      "|    min|227.66265869140625|224.04904174804688| 225.2252197265625| 225.2352294921875|          520600.0| 225.2352294921875|\n",
      "|    max|             839.0| 829.0399780273438|             838.5|  835.739990234375|        2.961995E7|  835.739990234375|\n",
      "+-------+------------------+------------------+------------------+------------------+------------------+------------------+\n",
      "\n"
     ]
    }
   ],
   "source": [
    "dframe.describe().show()"
   ]
  },
  {
   "cell_type": "markdown",
   "id": "e412281d-de8a-4b18-a323-452cfd322932",
   "metadata": {},
   "source": [
    "<span style=\"font-size:16px;color:#DA4512\">~ Plot Data</span>"
   ]
  },
  {
   "cell_type": "code",
   "execution_count": 22,
   "id": "0248b153-422a-4a5b-91e0-65e854f92e45",
   "metadata": {},
   "outputs": [
    {
     "data": {
      "image/png": "[encoded data removed]",
      "text/plain": [
       "<Figure size 1152x360 with 1 Axes>"
      ]
     },
     "metadata": {
      "needs_background": "light"
     },
     "output_type": "display_data"
    }
   ],
   "source": [
    "d = dframe.select(['Date', 'Close']).sort('Date')\n",
    "dx = d.select(['Date']).collect()\n",
    "dy = d.select(['Close']).collect()\n",
    "plt.figure(figsize=(16,5))\n",
    "plt.xlabel('Date')\n",
    "plt.ylabel('Close')\n",
    "plt.plot(dx, dy, linewidth=0.7)\n",
    "plt.show()"
   ]
  },
  {
   "cell_type": "markdown",
   "id": "3029f04c-36a6-4bae-8296-598f03eb6ad7",
   "metadata": {},
   "source": [
    "<span style=\"font-size:16px;color:#DA4512\">~ Plot Recent Data</span>"
   ]
  },
  {
   "cell_type": "code",
   "execution_count": 23,
   "id": "f6d54091-76b7-4cc5-86c3-f2af2c52ece5",
   "metadata": {},
   "outputs": [
    {
     "name": "stdout",
     "output_type": "stream",
     "text": [
      "Samples: 987\n"
     ]
    },
    {
     "data": {
      "image/png": "[encoded data removed]",
      "text/plain": [
       "<Figure size 1152x360 with 1 Axes>"
      ]
     },
     "metadata": {
      "needs_background": "light"
     },
     "output_type": "display_data"
    }
   ],
   "source": [
    "df = dframe.filter(\n",
    "            dframe.Date > datetime.datetime.strptime('2013-1-1', \"%Y-%m-%d\")\n",
    "                    ).select(['Date', 'Close']).sort('Date')\n",
    "dx = df.select(['Date']).collect()\n",
    "dy = df.select(['Close']).collect()\n",
    "print('Samples:',len(dx))\n",
    "plt.figure(figsize=(16,5))\n",
    "plt.xlabel('Date')\n",
    "plt.ylabel('Close')\n",
    "plt.plot(dx, dy, linewidth=0.7)\n",
    "plt.show()"
   ]
  },
  {
   "cell_type": "markdown",
   "id": "fcf9fd54-ccc9-46a2-83a7-f319ce83b83c",
   "metadata": {},
   "source": [
    "<span style=\"font-size:16px;color:#DA4512\">~ SQL Queries ( .. see [SQL-Guide](https://spark.apache.org/docs/2.2.0/sql-programming-guide.html))</span>"
   ]
  },
  {
   "cell_type": "code",
   "execution_count": 24,
   "id": "1dba4e5c-b772-4656-b7c1-9a3223f51129",
   "metadata": {},
   "outputs": [
    {
     "name": "stdout",
     "output_type": "stream",
     "text": [
      "+-------------------+------------------+\n",
      "|               Date|             Close|\n",
      "+-------------------+------------------+\n",
      "|2013-01-02 00:00:00|361.98699951171875|\n",
      "|2013-01-03 00:00:00|362.19720458984375|\n",
      "|2013-01-04 00:00:00| 369.3543395996094|\n",
      "|2013-01-07 00:00:00|367.74273681640625|\n",
      "|2013-01-08 00:00:00|367.01702880859375|\n",
      "|2013-01-09 00:00:00|  369.429443359375|\n",
      "|2013-01-10 00:00:00| 371.1111145019531|\n",
      "|2013-01-11 00:00:00| 370.3653564453125|\n",
      "|2013-01-14 00:00:00|361.98699951171875|\n",
      "|2013-01-15 00:00:00|362.82781982421875|\n",
      "|2013-01-16 00:00:00|357.95294189453125|\n",
      "|2013-01-17 00:00:00| 356.0160217285156|\n",
      "|2013-01-18 00:00:00|352.60760498046875|\n",
      "|2013-01-22 00:00:00| 351.7867736816406|\n",
      "|2013-01-23 00:00:00| 371.1211242675781|\n",
      "|2013-01-24 00:00:00|377.48248291015625|\n",
      "|2013-01-25 00:00:00|377.21221923828125|\n",
      "|2013-01-28 00:00:00| 375.7407531738281|\n",
      "|2013-01-29 00:00:00|377.21722412109375|\n",
      "|2013-01-30 00:00:00|377.29229736328125|\n",
      "+-------------------+------------------+\n",
      "only showing top 20 rows\n",
      "\n"
     ]
    }
   ],
   "source": [
    "# Register the DataFrame as a SQL temporary view\n",
    "df.createOrReplaceTempView(\"stock\")\n",
    "# Write and execute an SQL statement\n",
    "sqlDF = spark.sql(\"SELECT * FROM stock\")\n",
    "sqlDF.show()"
   ]
  },
  {
   "cell_type": "markdown",
   "id": "d8496f5f-2e51-4726-b2ce-5b6240465db4",
   "metadata": {},
   "source": [
    "<span style=\"font-size:16px;color:#DA4512\">~ SQL Queries using SQLContext( .. see [SQL-Guide](https://spark.apache.org/docs/2.2.0/sql-programming-guide.html))</span>"
   ]
  },
  {
   "cell_type": "code",
   "execution_count": 25,
   "id": "2265c3ec-7f8a-4528-81fc-76296aeb504c",
   "metadata": {},
   "outputs": [
    {
     "name": "stdout",
     "output_type": "stream",
     "text": [
      "+-------------------+------------------+\n",
      "|               Date|             Close|\n",
      "+-------------------+------------------+\n",
      "|2013-01-02 00:00:00|361.98699951171875|\n",
      "|2013-01-03 00:00:00|362.19720458984375|\n",
      "|2013-01-04 00:00:00| 369.3543395996094|\n",
      "|2013-01-07 00:00:00|367.74273681640625|\n",
      "|2013-01-08 00:00:00|367.01702880859375|\n",
      "|2013-01-09 00:00:00|  369.429443359375|\n",
      "|2013-01-10 00:00:00| 371.1111145019531|\n",
      "|2013-01-11 00:00:00| 370.3653564453125|\n",
      "|2013-01-14 00:00:00|361.98699951171875|\n",
      "|2013-01-15 00:00:00|362.82781982421875|\n",
      "|2013-01-16 00:00:00|357.95294189453125|\n",
      "|2013-01-17 00:00:00| 356.0160217285156|\n",
      "|2013-01-18 00:00:00|352.60760498046875|\n",
      "|2013-01-22 00:00:00| 351.7867736816406|\n",
      "|2013-01-23 00:00:00| 371.1211242675781|\n",
      "|2013-01-24 00:00:00|377.48248291015625|\n",
      "|2013-01-25 00:00:00|377.21221923828125|\n",
      "|2013-01-28 00:00:00| 375.7407531738281|\n",
      "|2013-01-29 00:00:00|377.21722412109375|\n",
      "|2013-01-30 00:00:00|377.29229736328125|\n",
      "+-------------------+------------------+\n",
      "only showing top 20 rows\n",
      "\n"
     ]
    }
   ],
   "source": [
    "# Load a text file and convert each line to a dictionary.\n",
    "from pyspark.sql import SQLContext\n",
    "sqlContext = SQLContext(sc)\n",
    "sqlContext.sql(\"SELECT * FROM stock\").show()"
   ]
  },
  {
   "cell_type": "markdown",
   "id": "8a3d36d2-0fb2-4f10-ad79-87374bf65c8d",
   "metadata": {},
   "source": [
    "<span style=\"font-size:16px;color:#DA4512\">~ Check Catalog</span>"
   ]
  },
  {
   "cell_type": "code",
   "execution_count": 26,
   "id": "17dcf38b-ee70-4e0c-9917-1fcfcf845782",
   "metadata": {},
   "outputs": [
    {
     "name": "stdout",
     "output_type": "stream",
     "text": [
      "Databases: [Database(name='default', description='default database', locationUri='file:/home/iitp/alpha/sparker/spark-warehouse')]\n",
      "Tables: [Table(name='stock', database=None, description=None, tableType='TEMPORARY', isTemporary=True)]\n"
     ]
    }
   ],
   "source": [
    "db = spark.catalog.listDatabases()\n",
    "tb = spark.catalog.listTables()\n",
    "print('Databases:', db)\n",
    "print('Tables:',tb)"
   ]
  },
  {
   "cell_type": "markdown",
   "id": "1fdff1e4-e181-4a16-823d-4d6f3202216d",
   "metadata": {},
   "source": [
    "# ~ Price Forecasting\n",
    "\n",
    "*Not using spark.mllib*"
   ]
  },
  {
   "cell_type": "markdown",
   "id": "890705d7-389f-4037-b2c7-38c167ffd1a9",
   "metadata": {},
   "source": [
    "## Using LSTM Model"
   ]
  },
  {
   "cell_type": "markdown",
   "id": "3e78225f-b7fb-4fd8-a657-91388dd0d3bc",
   "metadata": {},
   "source": [
    "<span style=\"font-size:16px;color:#DA4512\">~ Prepare</span>"
   ]
  },
  {
   "cell_type": "code",
   "execution_count": 27,
   "id": "d8ef7bcc-690e-4237-b9d8-45b5ffa21f1d",
   "metadata": {},
   "outputs": [
    {
     "name": "stdout",
     "output_type": "stream",
     "text": [
      "Number of rows and columns: (987, 2)\n",
      "Split-Dataset: 987 Train: 789 Test: 198\n",
      "Time-Steps: 20\n",
      "Final shape: (769, 20, 1) (769,)\n"
     ]
    },
    {
     "data": {
      "image/png": "[encoded data removed]",
      "text/plain": [
       "<Figure size 1152x360 with 1 Axes>"
      ]
     },
     "metadata": {
      "needs_background": "light"
     },
     "output_type": "display_data"
    }
   ],
   "source": [
    "import tensorflow as tf\n",
    "from tensorflow.keras.models import Sequential\n",
    "from tensorflow.keras.layers import Input, Dropout, Dense, RepeatVector, TimeDistributed, Flatten, LSTM\n",
    "from tensorflow.keras import Model\n",
    "import pandas as pd\n",
    "from sklearn.metrics import confusion_matrix\n",
    "from sklearn.preprocessing import StandardScaler, MinMaxScaler\n",
    "from sklearn.discriminant_analysis import LinearDiscriminantAnalysis as LDA\n",
    "from sklearn.preprocessing import MinMaxScaler, StandardScaler\n",
    "from sklearn.metrics import mean_squared_error\n",
    "from sklearn.metrics import mean_absolute_error\n",
    "\n",
    "# convert to Pandas Data frame \n",
    "dfx = df.toPandas()\n",
    "N = len(dfx)\n",
    "tr = int(N*0.80) #<- train-test split ration\n",
    "timesteps = 20\n",
    "print('Number of rows and columns:', dfx.shape)\n",
    "print('Split-Dataset:',N,'Train:',tr,'Test:',N-tr)\n",
    "print('Time-Steps:',timesteps)\n",
    "\n",
    "# prepare data\n",
    "training_set = dfx.iloc[:tr, 1:2].values\n",
    "test_set = dfx.iloc[tr:, 1:2].values\n",
    "plt.figure(figsize=(16,5))\n",
    "plt.plot(training_set)\n",
    "\n",
    "# Feature Scaling\n",
    "scal = MinMaxScaler(feature_range = (0, 1))\n",
    "training_set_scaled = scal.fit_transform(training_set)\n",
    "\n",
    "# Creating a data structure with time-steps and 1 output\n",
    "X_train = []\n",
    "y_train = []\n",
    "for i in range(timesteps, tr):\n",
    "    X_train.append(training_set_scaled[i-timesteps:i, 0])\n",
    "    y_train.append(training_set_scaled[i, 0])\n",
    "X_train, y_train = np.array(X_train), np.array(y_train)\n",
    "X_train = np.reshape(X_train, (X_train.shape[0], X_train.shape[1], 1))\n",
    "print('Final shape:',X_train.shape,y_train.shape)"
   ]
  },
  {
   "cell_type": "markdown",
   "id": "d22786a5-78f2-4ee3-b4a8-1aae876711fc",
   "metadata": {},
   "source": [
    "<span style=\"font-size:16px;color:#DA4512\">~ Build LSTM</span>"
   ]
  },
  {
   "cell_type": "code",
   "execution_count": 28,
   "id": "7f0df6ba-b68f-4b04-a902-822a4446f714",
   "metadata": {},
   "outputs": [
    {
     "name": "stdout",
     "output_type": "stream",
     "text": [
      "Model: \"sequential\"\n",
      "_________________________________________________________________\n",
      "Layer (type)                 Output Shape              Param #   \n",
      "=================================================================\n",
      "lstm (LSTM)                  (None, 20, 50)            10400     \n",
      "_________________________________________________________________\n",
      "dropout (Dropout)            (None, 20, 50)            0         \n",
      "_________________________________________________________________\n",
      "lstm_1 (LSTM)                (None, 20, 50)            20200     \n",
      "_________________________________________________________________\n",
      "dropout_1 (Dropout)          (None, 20, 50)            0         \n",
      "_________________________________________________________________\n",
      "lstm_2 (LSTM)                (None, 20, 50)            20200     \n",
      "_________________________________________________________________\n",
      "dropout_2 (Dropout)          (None, 20, 50)            0         \n",
      "_________________________________________________________________\n",
      "lstm_3 (LSTM)                (None, 50)                20200     \n",
      "_________________________________________________________________\n",
      "dropout_3 (Dropout)          (None, 50)                0         \n",
      "_________________________________________________________________\n",
      "dense (Dense)                (None, 1)                 51        \n",
      "=================================================================\n",
      "Total params: 71,051\n",
      "Trainable params: 71,051\n",
      "Non-trainable params: 0\n",
      "_________________________________________________________________\n",
      "None\n"
     ]
    }
   ],
   "source": [
    "model = Sequential()\n",
    "model.add(LSTM(units = 50, return_sequences = True, input_shape = (X_train.shape[1], 1)))\n",
    "model.add(Dropout(0.2))\n",
    "model.add(LSTM(units = 50, return_sequences = True))\n",
    "model.add(Dropout(0.2))\n",
    "model.add(LSTM(units = 50, return_sequences = True))\n",
    "model.add(Dropout(0.2))\n",
    "model.add(LSTM(units = 50))\n",
    "model.add(Dropout(0.2))\n",
    "model.add(Dense(units = 1))\n",
    "model.compile(optimizer = 'adam', loss = 'mean_squared_error')\n",
    "print(model.summary())\n",
    "cb_ES_loss = tf.keras.callbacks.EarlyStopping(\n",
    "        monitor='loss',  #monitor: Quantity to be monitored.\n",
    "        min_delta=0.001,  #min_delta: Minimum change in the monitored quantity to qualify as an improvement, i.e. an absolute change of less than min_delta, will count as no improvement.\n",
    "        patience=25,  #patience: Number of epochs with no improvement after which training will be stopped.\n",
    "        verbose=1,  #verbose: verbosity mode.\n",
    "        mode='auto',  #mode: One of {\"auto\", \"min\", \"max\"}. \n",
    "                      #In min mode, training will stop when the quantity monitored has stopped decreasing; \n",
    "                      #in \"max\" mode it will stop when the quantity monitored has stopped increasing; \n",
    "                      #in \"auto\" mode, the direction is automatically inferred from the name of the monitored quantity.\n",
    "        baseline=None,  #baseline: Baseline value for the monitored quantity. Training will stop if the model doesn't show improvement over the baseline.\n",
    "        restore_best_weights=True #restore_best_weights: Whether to restore model weights from the epoch with the best value of the monitored quantity. If False, the model weights obtained at the last step of training are used.\n",
    "        )\n",
    "cb_list = [cb_ES_loss]"
   ]
  },
  {
   "cell_type": "markdown",
   "id": "f15273f9-37a2-47fb-8afa-aae60fd28e24",
   "metadata": {},
   "source": [
    "<span style=\"font-size:16px;color:#DA4512\">~ Training</span>"
   ]
  },
  {
   "cell_type": "code",
   "execution_count": 29,
   "id": "eaebfde1-2947-444b-b733-55354428413e",
   "metadata": {},
   "outputs": [
    {
     "name": "stdout",
     "output_type": "stream",
     "text": [
      "Epoch 1/100\n",
      "25/25 [==============================] - 7s 31ms/step - loss: 0.0441\n",
      "Epoch 2/100\n",
      "25/25 [==============================] - 1s 33ms/step - loss: 0.0082\n",
      "Epoch 3/100\n",
      "25/25 [==============================] - 1s 31ms/step - loss: 0.0061\n",
      "Epoch 4/100\n",
      "25/25 [==============================] - 1s 32ms/step - loss: 0.0058\n",
      "Epoch 5/100\n",
      "25/25 [==============================] - 1s 33ms/step - loss: 0.0066\n",
      "Epoch 6/100\n",
      "25/25 [==============================] - 1s 31ms/step - loss: 0.0075\n",
      "Epoch 7/100\n",
      "25/25 [==============================] - 1s 32ms/step - loss: 0.0058\n",
      "Epoch 8/100\n",
      "25/25 [==============================] - 1s 32ms/step - loss: 0.0056\n",
      "Epoch 9/100\n",
      "25/25 [==============================] - 1s 31ms/step - loss: 0.0052\n",
      "Epoch 10/100\n",
      "25/25 [==============================] - 1s 32ms/step - loss: 0.0052\n",
      "Epoch 11/100\n",
      "25/25 [==============================] - 1s 32ms/step - loss: 0.0051\n",
      "Epoch 12/100\n",
      "25/25 [==============================] - 1s 31ms/step - loss: 0.0050\n",
      "Epoch 13/100\n",
      "25/25 [==============================] - 1s 33ms/step - loss: 0.0075\n",
      "Epoch 14/100\n",
      "25/25 [==============================] - 1s 31ms/step - loss: 0.0048\n",
      "Epoch 15/100\n",
      "25/25 [==============================] - 1s 32ms/step - loss: 0.0047\n",
      "Epoch 16/100\n",
      "25/25 [==============================] - 1s 32ms/step - loss: 0.0048\n",
      "Epoch 17/100\n",
      "25/25 [==============================] - 1s 32ms/step - loss: 0.0081\n",
      "Epoch 18/100\n",
      "25/25 [==============================] - 1s 34ms/step - loss: 0.0056\n",
      "Epoch 19/100\n",
      "25/25 [==============================] - 1s 32ms/step - loss: 0.0047\n",
      "Epoch 20/100\n",
      "25/25 [==============================] - 1s 32ms/step - loss: 0.0048\n",
      "Epoch 21/100\n",
      "25/25 [==============================] - 1s 32ms/step - loss: 0.0061\n",
      "Epoch 22/100\n",
      "25/25 [==============================] - 1s 31ms/step - loss: 0.0054\n",
      "Epoch 23/100\n",
      "25/25 [==============================] - 1s 31ms/step - loss: 0.0041\n",
      "Epoch 24/100\n",
      "25/25 [==============================] - 1s 34ms/step - loss: 0.0042\n",
      "Epoch 25/100\n",
      "25/25 [==============================] - 1s 31ms/step - loss: 0.0041\n",
      "Epoch 26/100\n",
      "25/25 [==============================] - 1s 31ms/step - loss: 0.0042\n",
      "Epoch 27/100\n",
      "25/25 [==============================] - 1s 32ms/step - loss: 0.0041\n",
      "Epoch 28/100\n",
      "25/25 [==============================] - 1s 32ms/step - loss: 0.0044\n",
      "Epoch 29/100\n",
      "25/25 [==============================] - 1s 33ms/step - loss: 0.0045\n",
      "Epoch 30/100\n",
      "25/25 [==============================] - 1s 32ms/step - loss: 0.0041\n",
      "Epoch 31/100\n",
      "25/25 [==============================] - 1s 33ms/step - loss: 0.0039\n",
      "Epoch 32/100\n",
      "25/25 [==============================] - 1s 32ms/step - loss: 0.0039\n",
      "Epoch 33/100\n",
      "25/25 [==============================] - 1s 31ms/step - loss: 0.0044\n",
      "Epoch 34/100\n",
      "25/25 [==============================] - 1s 31ms/step - loss: 0.0048\n",
      "Epoch 35/100\n",
      "25/25 [==============================] - 1s 33ms/step - loss: 0.0038\n",
      "Epoch 36/100\n",
      "25/25 [==============================] - 1s 31ms/step - loss: 0.0035\n",
      "Epoch 37/100\n",
      "25/25 [==============================] - 1s 31ms/step - loss: 0.0057\n",
      "Epoch 38/100\n",
      "25/25 [==============================] - 1s 31ms/step - loss: 0.0038\n",
      "Epoch 39/100\n",
      "25/25 [==============================] - 1s 30ms/step - loss: 0.0040\n",
      "Epoch 40/100\n",
      "25/25 [==============================] - 1s 31ms/step - loss: 0.0033\n",
      "Epoch 41/100\n",
      "25/25 [==============================] - 1s 30ms/step - loss: 0.0038\n",
      "Epoch 42/100\n",
      "25/25 [==============================] - 1s 32ms/step - loss: 0.0039\n",
      "Epoch 43/100\n",
      "25/25 [==============================] - 1s 30ms/step - loss: 0.0031\n",
      "Epoch 44/100\n",
      "25/25 [==============================] - 1s 31ms/step - loss: 0.0039\n",
      "Epoch 45/100\n",
      "25/25 [==============================] - 1s 32ms/step - loss: 0.0033\n",
      "Epoch 46/100\n",
      "25/25 [==============================] - 1s 32ms/step - loss: 0.0048\n",
      "Epoch 47/100\n",
      "25/25 [==============================] - 1s 30ms/step - loss: 0.0034\n",
      "Epoch 48/100\n",
      "25/25 [==============================] - 1s 32ms/step - loss: 0.0033\n",
      "Epoch 49/100\n",
      "25/25 [==============================] - 1s 31ms/step - loss: 0.0037\n",
      "Epoch 50/100\n",
      "25/25 [==============================] - 1s 30ms/step - loss: 0.0041\n",
      "Epoch 51/100\n",
      "25/25 [==============================] - 1s 30ms/step - loss: 0.0042\n",
      "Epoch 52/100\n",
      "25/25 [==============================] - 1s 32ms/step - loss: 0.0032\n",
      "Epoch 53/100\n",
      "25/25 [==============================] - 1s 32ms/step - loss: 0.0033\n",
      "Epoch 54/100\n",
      "25/25 [==============================] - 1s 32ms/step - loss: 0.0030\n",
      "Epoch 55/100\n",
      "25/25 [==============================] - 1s 31ms/step - loss: 0.0028\n",
      "Epoch 56/100\n",
      "25/25 [==============================] - 1s 31ms/step - loss: 0.0032\n",
      "Epoch 57/100\n",
      "25/25 [==============================] - 1s 30ms/step - loss: 0.0029\n",
      "Epoch 58/100\n",
      "25/25 [==============================] - 1s 31ms/step - loss: 0.0028\n",
      "Epoch 59/100\n",
      "25/25 [==============================] - 1s 31ms/step - loss: 0.0034\n",
      "Epoch 60/100\n",
      "25/25 [==============================] - 1s 32ms/step - loss: 0.0028\n",
      "Epoch 61/100\n",
      "25/25 [==============================] - 1s 30ms/step - loss: 0.0028\n",
      "Epoch 62/100\n",
      "25/25 [==============================] - 1s 31ms/step - loss: 0.0026\n",
      "Epoch 63/100\n",
      "25/25 [==============================] - 1s 30ms/step - loss: 0.0032\n",
      "Epoch 64/100\n",
      "25/25 [==============================] - 1s 31ms/step - loss: 0.0024\n",
      "Epoch 65/100\n",
      "25/25 [==============================] - 1s 30ms/step - loss: 0.0028\n",
      "Epoch 66/100\n",
      "25/25 [==============================] - 1s 30ms/step - loss: 0.0025\n",
      "Epoch 67/100\n",
      "25/25 [==============================] - 1s 31ms/step - loss: 0.0027\n",
      "Epoch 68/100\n",
      "25/25 [==============================] - 1s 31ms/step - loss: 0.0024\n",
      "Epoch 69/100\n",
      "25/25 [==============================] - 1s 32ms/step - loss: 0.0036\n",
      "Epoch 70/100\n",
      "25/25 [==============================] - 1s 32ms/step - loss: 0.0026\n",
      "Epoch 71/100\n",
      "25/25 [==============================] - 1s 30ms/step - loss: 0.0026\n",
      "Epoch 72/100\n",
      "25/25 [==============================] - 1s 31ms/step - loss: 0.0025\n",
      "Epoch 73/100\n",
      "25/25 [==============================] - 1s 30ms/step - loss: 0.0025\n",
      "Epoch 74/100\n",
      "25/25 [==============================] - 1s 31ms/step - loss: 0.0023\n",
      "Epoch 75/100\n",
      "25/25 [==============================] - 1s 31ms/step - loss: 0.0023\n",
      "Epoch 76/100\n",
      "25/25 [==============================] - 1s 31ms/step - loss: 0.0023\n",
      "Epoch 77/100\n",
      "25/25 [==============================] - 1s 31ms/step - loss: 0.0020\n",
      "Epoch 78/100\n",
      "25/25 [==============================] - 1s 30ms/step - loss: 0.0034\n",
      "Epoch 79/100\n",
      "25/25 [==============================] - 1s 31ms/step - loss: 0.0026\n",
      "Epoch 80/100\n",
      "25/25 [==============================] - 1s 30ms/step - loss: 0.0021\n",
      "Restoring model weights from the end of the best epoch.\n",
      "Epoch 00080: early stopping\n",
      "0.0020998583640903234\n"
     ]
    },
    {
     "data": {
      "image/png": "[encoded data removed]",
      "text/plain": [
       "<Figure size 432x288 with 1 Axes>"
      ]
     },
     "metadata": {
      "needs_background": "light"
     },
     "output_type": "display_data"
    }
   ],
   "source": [
    "hist = model.fit(X_train, y_train, epochs = 100, batch_size = 32, verbose=1, callbacks=cb_list)\n",
    "plt.plot(hist.history['loss'], color='tab:red', linewidth=0.6)\n",
    "print(hist.history['loss'][-1])"
   ]
  },
  {
   "cell_type": "markdown",
   "id": "69af76d9-431f-4571-b988-cf68b4b80d2a",
   "metadata": {},
   "source": [
    "<span style=\"font-size:16px;color:#DA4512\">~ Plot Results</span>"
   ]
  },
  {
   "cell_type": "code",
   "execution_count": 30,
   "id": "0073b56e-b5ca-419d-a3a6-93e54bc74005",
   "metadata": {},
   "outputs": [
    {
     "name": "stdout",
     "output_type": "stream",
     "text": [
      "(178, 20)\n",
      "(178, 20, 1)\n",
      "6/6 [==============================] - 1s 10ms/step - loss: 0.0029\n"
     ]
    },
    {
     "data": {
      "image/png": "[encoded data removed]",
      "text/plain": [
       "<Figure size 864x360 with 1 Axes>"
      ]
     },
     "metadata": {
      "needs_background": "light"
     },
     "output_type": "display_data"
    },
    {
     "name": "stdout",
     "output_type": "stream",
     "text": [
      "MSE: 0.001963524255773025\n"
     ]
    }
   ],
   "source": [
    "dataset_train = dfx.iloc[:tr, 1:2]\n",
    "dataset_test = dfx.iloc[tr:, 1:2]\n",
    "dataset_total = pd.concat((dataset_train, dataset_test), axis = 0)\n",
    "inputs = dataset_total[len(dataset_total) - len(dataset_test) - timesteps:].values\n",
    "inputs = inputs.reshape(-1,1)\n",
    "inputs = scal.transform(inputs)\n",
    "X_test = []\n",
    "y_test = []\n",
    "for i in range(timesteps, N-tr):\n",
    "    X_test.append(inputs[i-timesteps:i, 0])\n",
    "    y_test.append(inputs[i, 0])\n",
    "X_test, y_test = np.array(X_test), np.array(y_test)\n",
    "print(X_test.shape)\n",
    "X_test = np.reshape(X_test, (X_test.shape[0], X_test.shape[1], 1))\n",
    "print(X_test.shape)\n",
    "# (459, 60, 1)\n",
    "model.evaluate(X_test, y_test,verbose=1)\n",
    "predicted_stock_price = model.predict(X_test)[:,0]\n",
    "predicted_stock_price1 = model.predict(X_train)[:,0]\n",
    "#predicted_stock_price = scal.inverse_transform(predicted_stock_price)\n",
    "y_g = np.hstack((y_train,y_test))\n",
    "y_p = np.hstack((predicted_stock_price1,predicted_stock_price))\n",
    "\n",
    "plt.figure(figsize=(12,5))\n",
    "plt.plot(y_g, color = 'tab:green', label = 'true', linewidth=0.8)\n",
    "plt.plot(y_p, color = 'tab:red', label = 'cast', linewidth=0.8)\n",
    "plt.vlines(tr,0,np.max(y_g), color='black', linestyles='dashed')\n",
    "plt.title('Stock Price Prediction')\n",
    "plt.xlabel('Time')\n",
    "plt.ylabel('Stock Price')\n",
    "plt.legend()\n",
    "plt.show()\n",
    "\n",
    "MSE = np.mean((y_g - y_p)**2)\n",
    "print('MSE:', MSE)"
   ]
  },
  {
   "cell_type": "markdown",
   "id": "3862209e-0904-4d7a-a678-f08ecf39312c",
   "metadata": {},
   "source": [
    "## using PROPHET Algorithm"
   ]
  },
  {
   "cell_type": "code",
   "execution_count": 31,
   "id": "b669ff2d-6b54-452e-a4eb-80cb9c9c5d0b",
   "metadata": {},
   "outputs": [
    {
     "name": "stderr",
     "output_type": "stream",
     "text": [
      "Importing plotly failed. Interactive plots will not work.\n"
     ]
    },
    {
     "data": {
      "image/png": "[encoded data removed]",
      "text/plain": [
       "<Figure size 720x432 with 1 Axes>"
      ]
     },
     "metadata": {},
     "output_type": "display_data"
    }
   ],
   "source": [
    "from prophet import Prophet\n",
    "sel_pd=df.toPandas()\n",
    "data = sel_pd[[\"Date\",\"Close\"]]\n",
    "data = data.rename(columns = {\"Date\":\"ds\",'Close':\"y\"})\n",
    "m = Prophet(daily_seasonality = True)\n",
    "m.fit(data) \n",
    "future = m.make_future_dataframe(periods=365*2) \n",
    "prediction = m.predict(future)\n",
    "m.plot(prediction)\n",
    "plt.ylabel(\"Close\")\n",
    "plt.show()"
   ]
  },
  {
   "cell_type": "markdown",
   "id": "ed7f6303-7baf-4cdf-a07e-3cd4abfe6e40",
   "metadata": {},
   "source": [
    "# ~ Structured API - DataFrame & Datasets\n",
    "\n",
    "<span style=\"font-size:18px;font-family:Corbel;color:#003300\">\n",
    "\n",
    "Why structed API? - DataFrames are faster than RDDs. Refer this [seminar](https://www.youtube.com/watch?v=Ofk7G3GD9jk)\n",
    "\n",
    "Creating DataFrames: Refer [Official Documentation](https://spark.apache.org/docs/latest/api/python/getting_started/quickstart.html#DataFrame-Creation)\n",
    "    \n",
    "</span>"
   ]
  },
  {
   "cell_type": "markdown",
   "id": "492ab9b5-d191-44fc-a431-0ac3e4cbde30",
   "metadata": {},
   "source": [
    "## Reading Data"
   ]
  },
  {
   "cell_type": "code",
   "execution_count": 32,
   "id": "9851b493-015f-4f48-abe0-1f676a90a4a7",
   "metadata": {},
   "outputs": [
    {
     "name": "stdout",
     "output_type": "stream",
     "text": [
      "<class 'pyspark.sql.dataframe.DataFrame'> 1596\n",
      "root\n",
      " |-- Date: string (nullable = true)\n",
      " |-- High: double (nullable = true)\n",
      " |-- Low: double (nullable = true)\n",
      " |-- Open: double (nullable = true)\n",
      " |-- Close: double (nullable = true)\n",
      " |-- Volume: double (nullable = true)\n",
      " |-- Adj Close: double (nullable = true)\n",
      "\n",
      "\n",
      "SELECT\n",
      "+----------+---------+\n",
      "|      Date|   Volume|\n",
      "+----------+---------+\n",
      "|2010-08-02|3713683.0|\n",
      "|2010-08-03|3600995.0|\n",
      "|2010-08-04|7617375.0|\n",
      "|2010-08-05|4835959.0|\n",
      "|2010-08-06|6632361.0|\n",
      "|2010-08-09|3740656.0|\n",
      "|2010-08-10|4143852.0|\n",
      "|2010-08-11|4441554.0|\n",
      "|2010-08-12|4404791.0|\n",
      "|2010-08-13|3865531.0|\n",
      "|2010-08-16|2607390.0|\n",
      "|2010-08-17|3777619.0|\n",
      "|2010-08-18|5367427.0|\n",
      "|2010-08-19|7842150.0|\n",
      "|2010-08-20|7827365.0|\n",
      "|2010-08-23|5966428.0|\n",
      "|2010-08-24|5519875.0|\n",
      "|2010-08-25|5179016.0|\n",
      "|2010-08-26|3550446.0|\n",
      "|2010-08-27|4620175.0|\n",
      "+----------+---------+\n",
      "only showing top 20 rows\n",
      "\n",
      "\n",
      "FILTER & SELECT\n",
      "+----------+---------+------------------+\n",
      "|      Date|   Volume|         Adj Close|\n",
      "+----------+---------+------------------+\n",
      "|2010-08-04|7617375.0| 253.4134063720703|\n",
      "|2010-08-05|4835959.0|254.30430603027344|\n",
      "|2010-08-06|6632361.0|250.36036682128906|\n",
      "|2010-08-10|4143852.0| 252.1071014404297|\n",
      "|2010-08-11|4441554.0|246.11611938476562|\n",
      "|2010-08-12|4404791.0|246.25125122070312|\n",
      "|2010-08-18|5367427.0|241.31631469726562|\n",
      "|2010-08-19|7842150.0|234.21922302246094|\n",
      "|2010-08-20|7827365.0|231.24124145507812|\n",
      "|2010-08-23|5966428.0|232.26727294921875|\n",
      "|2010-08-24|5519875.0|225.92091369628906|\n",
      "|2010-08-25|5179016.0|227.53753662109375|\n",
      "|2010-08-27|4620175.0|229.64463806152344|\n",
      "|2010-09-01|6450143.0|230.39540100097656|\n",
      "|2010-09-03|5075719.0|235.38539123535156|\n",
      "|2010-09-08|4798796.0|235.52552795410156|\n",
      "|2010-09-09|4856339.0| 238.3283233642578|\n",
      "|2010-09-13|4478517.0|241.37637329101562|\n",
      "|2010-09-14|4428567.0|240.45545959472656|\n",
      "|2010-09-15|4800794.0|240.56056213378906|\n",
      "+----------+---------+------------------+\n",
      "only showing top 20 rows\n",
      "\n"
     ]
    }
   ],
   "source": [
    "dataset = spark.read.option('header',\n",
    "                            'true' #<---- the csv has a header\n",
    "                           ).csv(\"stocks.csv\", \n",
    "                                inferSchema=True) # add infer schema to load in proper data type\n",
    "\n",
    "print(type(dataset), dataset.count())\n",
    "dataset.printSchema()\n",
    "#dataset.show() # or use .describe()\n",
    "print('\\nSELECT')\n",
    "dataset.select(['Date','Volume']).show()\n",
    "\n",
    "print('\\nFILTER & SELECT')\n",
    "dataset.filter(dataset.Volume>=4000000).select([\"Date\",\"Volume\",\"Adj Close\"]).show()"
   ]
  },
  {
   "cell_type": "markdown",
   "id": "727719aa-fae6-4978-8182-7d1d2cdf69d7",
   "metadata": {
    "tags": []
   },
   "source": [
    "<span style=\"font-size:22px;color:#DA4512\">See more @ \n",
    "* [Spark Core Documentation](https://spark.apache.org/docs/latest/api/python/reference/pyspark.html)\n",
    "* [Spark SQL Documentation](https://spark.apache.org/docs/latest/api/python/reference/pyspark.sql.html)\n",
    "</span>"
   ]
  },
  {
   "cell_type": "markdown",
   "id": "e2364842-d022-43fe-bf04-e4b4b22bac17",
   "metadata": {
    "tags": []
   },
   "source": [
    "# DONE!\n",
    "\n",
    "<span style=\"font-size:16px;color:#DA4512\">~ close spark session</span>"
   ]
  },
  {
   "cell_type": "code",
   "execution_count": 33,
   "id": "9f02481b-b1e6-49e8-9410-932c566c4b21",
   "metadata": {},
   "outputs": [
    {
     "name": "stdout",
     "output_type": "stream",
     "text": [
      "Session Duration: 0:02:04.935531\n"
     ]
    }
   ],
   "source": [
    "spark.stop()\n",
    "\n",
    "stop_time = datetime.datetime.now()\n",
    "elapsed_time = stop_time-start_time\n",
    "print('Session Duration:', elapsed_time)"
   ]
  },
  {
   "cell_type": "markdown",
   "id": "6b13c80b-7ce9-43ab-aa41-78b8a760fd3b",
   "metadata": {},
   "source": [
    "<span style=\"font-size:16px;color:#F0050F\">~~ The End ~~</span>"
   ]
  }
 ],
 "metadata": {
  "kernelspec": {
   "display_name": "Python 3",
   "language": "python",
   "name": "python3"
  },
  "language_info": {
   "codemirror_mode": {
    "name": "ipython",
    "version": 3
   },
   "file_extension": ".py",
   "mimetype": "text/x-python",
   "name": "python",
   "nbconvert_exporter": "python",
   "pygments_lexer": "ipython3",
   "version": "3.8.8"
  },
  "toc-autonumbering": true
 },
 "nbformat": 4,
 "nbformat_minor": 5
}
