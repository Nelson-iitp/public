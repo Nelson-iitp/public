{
  "nbformat": 4,
  "nbformat_minor": 0,
  "metadata": {
    "colab": {
      "name": "2121CS07_code.ipynb",
      "provenance": [],
      "collapsed_sections": [],
      "toc_visible": true
    },
    "kernelspec": {
      "name": "python3",
      "display_name": "Python 3"
    },
    "language_info": {
      "name": "python"
    }
  },
  "cells": [
    {
      "cell_type": "markdown",
      "metadata": {
        "id": "GdKbVPOnYW6y"
      },
      "source": [
        "CS575 Applied Time Series Analysis - Mini Project (April 2021)\n",
        "\n",
        "Submitted by - 2121CS07, Nelson Sharma"
      ]
    },
    {
      "cell_type": "code",
      "metadata": {
        "id": "IPqvQGVXtd_8",
        "colab": {
          "base_uri": "https://localhost:8080/"
        },
        "outputId": "8d255828-7fc4-411c-f201-d1a65f768d4b"
      },
      "source": [
        "%reset"
      ],
      "execution_count": null,
      "outputs": [
        {
          "output_type": "stream",
          "text": [
            "Once deleted, variables cannot be recovered. Proceed (y/[n])? y\n"
          ],
          "name": "stdout"
        }
      ]
    },
    {
      "cell_type": "markdown",
      "metadata": {
        "id": "8df5vdxpF5sI"
      },
      "source": [
        "# __ install statsmodels==0.12.2"
      ]
    },
    {
      "cell_type": "code",
      "metadata": {
        "id": "jeaAKD9_Fq5J",
        "colab": {
          "base_uri": "https://localhost:8080/"
        },
        "outputId": "cce90ecd-327e-45be-f3de-c85fd2a46954"
      },
      "source": [
        "pip install statsmodels==0.12.2"
      ],
      "execution_count": null,
      "outputs": [
        {
          "output_type": "stream",
          "text": [
            "Collecting statsmodels==0.12.2\n",
            "\u001b[?25l  Downloading https://files.pythonhosted.org/packages/da/69/8eef30a6237c54f3c0b524140e2975f4b1eea3489b45eb3339574fc8acee/statsmodels-0.12.2-cp37-cp37m-manylinux1_x86_64.whl (9.5MB)\n",
            "\u001b[K     |████████████████████████████████| 9.5MB 5.2MB/s \n",
            "\u001b[?25hRequirement already satisfied: numpy>=1.15 in /usr/local/lib/python3.7/dist-packages (from statsmodels==0.12.2) (1.19.5)\n",
            "Requirement already satisfied: scipy>=1.1 in /usr/local/lib/python3.7/dist-packages (from statsmodels==0.12.2) (1.4.1)\n",
            "Requirement already satisfied: patsy>=0.5 in /usr/local/lib/python3.7/dist-packages (from statsmodels==0.12.2) (0.5.1)\n",
            "Requirement already satisfied: pandas>=0.21 in /usr/local/lib/python3.7/dist-packages (from statsmodels==0.12.2) (1.1.5)\n",
            "Requirement already satisfied: six in /usr/local/lib/python3.7/dist-packages (from patsy>=0.5->statsmodels==0.12.2) (1.15.0)\n",
            "Requirement already satisfied: pytz>=2017.2 in /usr/local/lib/python3.7/dist-packages (from pandas>=0.21->statsmodels==0.12.2) (2018.9)\n",
            "Requirement already satisfied: python-dateutil>=2.7.3 in /usr/local/lib/python3.7/dist-packages (from pandas>=0.21->statsmodels==0.12.2) (2.8.1)\n",
            "Installing collected packages: statsmodels\n",
            "  Found existing installation: statsmodels 0.10.2\n",
            "    Uninstalling statsmodels-0.10.2:\n",
            "      Successfully uninstalled statsmodels-0.10.2\n",
            "Successfully installed statsmodels-0.12.2\n"
          ],
          "name": "stdout"
        }
      ]
    },
    {
      "cell_type": "code",
      "metadata": {
        "id": "gTvY8Cz42ol-"
      },
      "source": [
        "pip show statsmodels"
      ],
      "execution_count": null,
      "outputs": []
    },
    {
      "cell_type": "markdown",
      "metadata": {
        "id": "U8pLxFp_F0Ni"
      },
      "source": [
        "# [] IMPORTS []"
      ]
    },
    {
      "cell_type": "code",
      "metadata": {
        "id": "IBarw6Wjt0zZ"
      },
      "source": [
        "import datetime\n",
        "import os\n",
        "import random\n",
        "import numpy as np\n",
        "import pandas as pd\n",
        "import matplotlib\n",
        "import matplotlib.pyplot as plt\n",
        "import seaborn as sns\n",
        "\n",
        "import statsmodels.tsa as tsa\n",
        "from statsmodels.tsa.arima.model import ARIMA\n",
        "from statsmodels.graphics.tsaplots import plot_acf, plot_pacf\n",
        "from statsmodels.tools.sm_exceptions import ConvergenceWarning\n",
        "\n",
        "import tensorflow as tf\n",
        "from tensorflow.keras.models import Sequential\n",
        "from tensorflow.keras.layers import Input, Dropout, Dense, RepeatVector, TimeDistributed, Flatten, LSTM\n",
        "\n",
        "from tensorflow.keras import Model\n",
        "\n",
        "from sklearn.metrics import confusion_matrix\n",
        "from sklearn.preprocessing import StandardScaler\n",
        "from sklearn.discriminant_analysis import LinearDiscriminantAnalysis as LDA\n",
        "from sklearn.preprocessing import MinMaxScaler, StandardScaler\n",
        "\n",
        "import warnings\n",
        "warnings.filterwarnings(\"ignore\", category=RuntimeWarning)\n",
        "warnings.simplefilter('ignore', ConvergenceWarning)\n",
        "warnings.simplefilter('ignore', UserWarning)\n"
      ],
      "execution_count": null,
      "outputs": []
    },
    {
      "cell_type": "markdown",
      "metadata": {
        "id": "-jnobbbcuidA"
      },
      "source": [
        "# [] GLOBAL []"
      ]
    },
    {
      "cell_type": "code",
      "metadata": {
        "id": "08MTR0RDt1u2",
        "colab": {
          "base_uri": "https://localhost:8080/"
        },
        "outputId": "71a2bf04-41d5-4ca9-c6dc-c9622a62e6c4"
      },
      "source": [
        "MITDB_SEL_REC = ['116','215','210','233','214','228','221','119','203','106']\n",
        "\n",
        "_SEL_REC = ['I54']\n",
        "##############################################################################################################################3\n",
        "# global variables\n",
        "##############################################################################################################################3\n",
        "# Resampled every signal to this rate for consistency\n",
        "BASIC_SRATE = 128 #Hz\n",
        "print('Basic sampling rate(Hz):',BASIC_SRATE)\n",
        "\n",
        "DATASET_DIR = '/content/drive/MyDrive/cs575_mini_project/dataset'\n",
        "print('DATASET DIR ::',DATASET_DIR)\n",
        "\n",
        "DATASET_DIR_NPY = '/content/drive/MyDrive/cs575_mini_project/db_npy'\n",
        "print('DATASET_NPY DIR ::',DATASET_DIR_NPY)\n",
        "\n",
        "# std annotation \n",
        "std_annotations = os.path.join(DATASET_DIR,'ANTS.txt')\n",
        "print('STD ANN FILE ::',std_annotations)\n",
        "\n",
        "# >------ load standard labels ------------------------------------------\n",
        "std_ant = np.loadtxt(std_annotations, dtype='str',delimiter=\"\\t\")\n",
        "# <------ load standard labels ------------------------------------------\n",
        "\n",
        "#-----------------------------------------------------------------------------\n",
        "# Seperate out stand beat and non-beat annotations using 'annotations.txt'\n",
        "beat_ants = []\n",
        "non_beat_ants = []\n",
        "print('\\nStandard Labels::')\n",
        "for a in std_ant:\n",
        "    # a[0] =  # standard label (char)\n",
        "    # a[1] =  # type of label\n",
        "    # a[2]  = # description (str)\n",
        "    print(a[0]+'\\t'+a[1]+'\\t'+a[2])\n",
        "    if a[1]=='b': #<<--- is a beat-annotation\n",
        "        beat_ants.append(a[0])\n",
        "    else:\n",
        "        non_beat_ants.append(a[0])\n",
        "\n",
        "print('')\n",
        "print('beat-annotation:',len(beat_ants))\n",
        "print('non-beat-annotation:',len(non_beat_ants))\n",
        "#-----------------------------------------------------------------------------\n",
        "\n",
        "#-----------------------------------------------------------------------------\n",
        "# data file identifiers \n",
        "g_BEAT = '_BEAT.npy'         #<<--- beat annotations\n",
        "g_NBEAT = '_NBEAT.npy'       #<<--- non-beat annotations\n",
        "g_SIG2 = '_SIG_II.npy'     #<<--- Signal Data (Removed manual gain)\n",
        "#-----------------------------------------------------------------------------\n",
        "# define a mapping dictionary\n",
        "custom_ants = [ '_N','_S','_V','_F','_Q']\n",
        "custom_cols = { '_N':'tab:green',\n",
        "               '_S':'tab:red',\n",
        "               '_V':'tab:blue',\n",
        "               '_F':'tab:purple',\n",
        "               '_Q':'tab:pink'}\n",
        "custom_mapping = {\n",
        "                    'N': '_N',\n",
        "                    'L': '_N',\n",
        "                    'R': '_N',\n",
        "                    'B': '_N',\n",
        "                    'A': '_S',\n",
        "                    'a': '_S',\n",
        "                    'J': '_S',\n",
        "                    'S': '_S',\n",
        "                    'V': '_V',\n",
        "                    'r': '_V',\n",
        "                    'F': '_F',\n",
        "                    'e': '_S',\n",
        "                    'j': '_S',\n",
        "                    'n': '_S',\n",
        "                    'E': '_V',\n",
        "                    'f': '_Q',\n",
        "                    '/': '_Q',\n",
        "                    'Q': '_Q',\n",
        "                    '?': '_Q',\n",
        "                }\n",
        "\n",
        "##############################################################################################################################3\n",
        "# CLASS DEFS\n",
        "##############################################################################################################################3\n",
        "#REC_MINt, REC_MAXt = 0, 1800\n",
        "#REC_MINs, REC_MAXs = REC_MINt*BASIC_SRATE, REC_MAXt*BASIC_SRATE\n",
        "class ecgDatabase:\n",
        "    def __init__(self, db_name, db_path):\n",
        "        self.db_name = db_name\n",
        "        self.db_path = db_path\n",
        "        self._prepare()\n",
        "        \n",
        "    def _prepare(self):\n",
        "        self.record_list = np.loadtxt(os.path.join(self.db_path,'RECORDS'), dtype='str',delimiter=\"\\n\")\n",
        "        if len(self.record_list.shape)==0:\n",
        "            self.record_list = np.array([self.record_list])\n",
        "        # prepare a dictionary of ecgRecord objects\n",
        "        self.records = {}\n",
        "        for irec in self.record_list:\n",
        "            self.records[irec] = ecgRecord(irec,os.path.join(self.db_path))\n",
        "        #print('Prepared', len(self.records.keys()), 'records')\n",
        "        return\n",
        "        \n",
        "    def get_record(self, rec_name):\n",
        "        if rec_name in self.records.keys():\n",
        "            this_rec = self.records[rec_name]\n",
        "            if not this_rec.isloaded:\n",
        "                this_rec.loadfromdisk()\n",
        "            return this_rec\n",
        "        else:\n",
        "            return None\n",
        "        \n",
        "class ecgRecord:\n",
        "    def __init__(self, arg_recname, arg_path):\n",
        "        self.path = arg_path\n",
        "        self.name = arg_recname\n",
        "        self.isloaded = False\n",
        "        \n",
        "\n",
        "    def loadfromdisk(self):\n",
        "        #print('\\nLoading Record:', self.name)\n",
        "        \n",
        "        #<<---------------------------------------------\n",
        "        # Load Signal Data\n",
        "        #<<---------------------------------------------\n",
        "        self.signal_file = os.path.join(self.path,self.name + g_SIG2)\n",
        "        self.iSignal = np.load(self.signal_file)\n",
        "        #print('Signal Length =',self.iSignal.shape)\n",
        "        #print('Signal Duration =',len(self.iSignal)/BASIC_SRATE, 'sec')\n",
        "        \n",
        "        #<<---------------------------------------------\n",
        "        # Load Beat-Annotation (Labels)\n",
        "        #<<---------------------------------------------\n",
        "        self.beat_file = os.path.join(self.path,self.name + g_BEAT)\n",
        "        self.iBeat = np.load(self.beat_file)\n",
        "        #print('beats:',self.iBeat.shape)\n",
        "        # seperate out R-peaks and Labels (note both are in string format)\n",
        "        self.iRpeaks = self.iBeat[:,0].astype('int') #<<-- convert sampling locations to integer\n",
        "        self.iLabels = self.iBeat[:,1]               #<<-- labels remain as string\n",
        "        self.nos_beats = len(self.iRpeaks)\n",
        "        #<<---------------------------------------------\n",
        "        # Load Non-Beat-Annotation\n",
        "        #<<---------------------------------------------\n",
        "        #nbeat_file = os.path.join(idbPath,iRecord + g_NBEAT)\n",
        "        #iNbeat = np.load(nbeat_file)\n",
        "        #print('non-beats:',iNbeat.shape)\n",
        "        # seperate out R-peaks and non-beats (note both are in string format)\n",
        "        #inRpeaks = iNbeat[:,0].astype('int') #<<-- convert sampling locations to integer\n",
        "        #inLabels = iNbeat[:,1] #<<-- labels remain as string\n",
        "        #<<---------------------------------------------\n",
        "        # assign object vars\n",
        "        #<<---------------------------------------------\n",
        "\n",
        "        self.isloaded = True\n",
        "        return self.isloaded\n",
        "\n",
        "    # for mapping custom labels   ** rec.mLabels = rec.map_beat_labels(custom_mapping)\n",
        "    def map_beat_labels(self, aami_mapping):\n",
        "        iLabels = np.zeros(len(self.iLabels), dtype='U2')       \n",
        "        for i in range(0,len(self.iLabels)):\n",
        "            iLabels[i]=aami_mapping[self.iLabels[i]]\n",
        "        return iLabels\n",
        "\n",
        "    def get_beats_indices_of_label(self, self_label_list, lable_to_find):\n",
        "        #return np.where(((self.iRpeaks >= pf) & (self.iRpeaks < pt) & (self_label_list==lable_to_find)))[0]\n",
        "        return np.where( (self_label_list==lable_to_find) )[0]\n",
        "        \n",
        "    def get_signal_slice_fd(self,pf, pt):\n",
        "        signal_slice = self.iSignal[pf:pt]\n",
        "        signal_list = np.where((self.iRpeaks>=pf) & (self.iRpeaks<pt))[0]\n",
        "        return signal_slice, signal_list\n",
        "\n",
        "    def get_signal_slice_rri(self, Rpeaki, minus_i, plus_i ,signal_pad_left, signal_pad_right ):\n",
        "        RpeakL = self.iRpeaks[Rpeaki-minus_i]+signal_pad_left\n",
        "        RpeakC = self.iRpeaks[Rpeaki]\n",
        "        RpeakR = self.iRpeaks[Rpeaki+plus_i]-signal_pad_right\n",
        "        pf,pt = RpeakL,RpeakR\n",
        "        signal_slice=self.iSignal[pf:pt]\n",
        "        signal_list = np.where((self.iRpeaks>=pf) & (self.iRpeaks<pt))[0]\n",
        "        return signal_slice, signal_list, pf, pt\n",
        "\n",
        "    def get_signal_slice_rri_1(self, Rpeaki, minus_i, plus_i ,signal_pad_left, signal_pad_right ):\n",
        "        return self.iSignal[self.iRpeaks[Rpeaki-minus_i]+signal_pad_left:self.iRpeaks[Rpeaki+plus_i]-signal_pad_right]\n",
        "#-------------------------------------------------------------------------------------------------------------------\n",
        "#    def get_signal_slice_ap(self, Rpeak, left_samples, right_samples ):\n",
        "#        signal_slice = self.iSignal[Rpeak-left_samples:Rpeak+right_samples]\n",
        "#        Rpeaki = np.where(self.iRpeaks==Rpeak)[0][0]\n",
        "#        return signal_slice, Rpeaki\n",
        "    def get_signal_slice_api(self, Rpeaki, left_samples, right_samples ):\n",
        "        Rpeak = self.iRpeaks[Rpeaki]\n",
        "        signal_slice = self.iSignal[Rpeak-left_samples:Rpeak+right_samples]\n",
        "        return signal_slice, Rpeaki\n",
        "#-------------------------------------------------------------------------------------------------------------------\n",
        "\n",
        "##############################################################################################################################3\n",
        "# TSA\n",
        "##############################################################################################################################3\n",
        "# <<---------------- define adf and kpss testing\n",
        "def adf_test(timeseries, p_threshold , max_lags=None, details = False):\n",
        "  res=\"\"\n",
        "  res += '\\nADF-Test Hypothesis \\t Series is Non-Stationary\\n'\n",
        "  dftest =  tsa.stattools.adfuller(timeseries,  regression='c', maxlag=max_lags, autolag=None )\n",
        "  dfoutput = pd.Series(dftest[0:4], index=['Test Statistic','p-value','#Lags Used','Number of Observations Used'])\n",
        "  for key,value in dftest[4].items():\n",
        "    dfoutput['Critical Value (%s)'%key] =  (value, getHres(dftest[0],value) )\n",
        "\n",
        "  if details:\n",
        "    res+=str(dfoutput)+\"\\n\"\n",
        "  #if dftest[1]<p_threshold: # hypothesis is false = Rejected\n",
        "  #if dftest[1]>p_threshold: # hypothesis is true = cannot reject\n",
        "  resb =  (dftest[1]>=p_threshold)\n",
        "  res+= \"ADF-Test Result \\t \"+str( resb )\n",
        "  \n",
        "  return res, resb, dftest[1]\n",
        "\n",
        "def getHres(test_stat, crit_val):\n",
        "  if test_stat<crit_val:\n",
        "    return \"Hypothesis: False\"\n",
        "  else:\n",
        "    return \"Hypothesis: True\"\n",
        "\n",
        "#%%\n",
        "\n",
        "# plot Autocorr and Partial Autocorr ------------------\n",
        "\n",
        "def plotCF(Y, Lags, include_L0):\n",
        "  fig, (ax1,ax2) = plt.subplots(1,2,figsize=(16,8))\n",
        "  plot_acf(Y,lags=Lags,zero=include_L0,ax=ax1)\n",
        "  plot_pacf(Y,lags=Lags,zero=include_L0,ax=ax2)\n",
        "  plt.show()\n",
        "  \n",
        "# TS analysis\n",
        "def TSA(signal_slice, eo):\n",
        "    \n",
        "    data = pd.Series( (signal_slice))\n",
        "    model_ARIMA = ARIMA(endog=signal_slice, order=eo)\n",
        "    result_ARIMA = model_ARIMA.fit()\n",
        "    return model_ARIMA, result_ARIMA\n",
        "#%%\n",
        "\n",
        "# <<----------------  define performace params\n",
        "def get_MSE(e,s):\n",
        "  N=len(e)\n",
        "  return np.sum((e-s)**2)/N\n",
        "\n",
        "\n",
        "##############################################################################################################################3\n",
        "# PERF\n",
        "##############################################################################################################################3\n",
        "\n",
        "#===============================================================\n",
        "# PERFORMANCE =================================================\n",
        "#===============================================================\n",
        "#------------------------------------------------------------------\n",
        "# Confusion Matrix\n",
        "#------------------------------------------------------------------\n",
        "def _print_header(class_labels):\n",
        "    g_HSTR=''   # HEADER ROW for printing confusing matrix\n",
        "    for i in range(0,len(class_labels)):\n",
        "        g_HSTR+='\\t'+str(class_labels[i])\n",
        "    return  g_HSTR\n",
        "def _print_rows(cm_row, nos_labels):\n",
        "    g_RSTR = ''\n",
        "    for j in range(0,nos_labels):\n",
        "        g_RSTR += '\\t'+ str(cm_row[j])\n",
        "    return g_RSTR\n",
        "def print_conf_matrix(conf_matrix, suffix, class_labels):\n",
        "    g_CMSTR=(suffix+'T\\\\P' + _print_header(class_labels)+'\\n')\n",
        "    nos_l=len(class_labels)\n",
        "    for i in range(0,nos_l):\n",
        "        g_CMSTR+=(suffix+str(class_labels[i]) + _print_rows(conf_matrix[i],nos_l )+'\\n')\n",
        "    return g_CMSTR\n",
        "\n",
        "#------------------------------------------------------------------\n",
        "# Performance Measures\n",
        "#------------------------------------------------------------------\n",
        "def _get_performance(conf_matrix):\n",
        "    nos_class = len(conf_matrix[0,:]) # len of 0th row\n",
        "    perf_measures_array = np.zeros((0,11),dtype ='float64')\n",
        "    for i in range(0,nos_class):\n",
        "        \n",
        "        CLASS_ACTUAL = np.sum(conf_matrix[i,:]) #<---- ROW SUM = NOS TRUE CLASS\n",
        "        CLASS_PRED = np.sum(conf_matrix[:,i])      #<---- COL SUM = NOS PRED CLASS\n",
        "        MSUM = np.sum(conf_matrix)  # = TP + FN + FP + TN\n",
        "        \n",
        "        # compute TP, TN, FP, FN ---------------------------- \n",
        "        TP = conf_matrix[i,i]\n",
        "        FP =  CLASS_PRED - TP\n",
        "        FN = CLASS_ACTUAL - TP\n",
        "        TN =  MSUM- FN - FP - TP #<------------ this methods counts more than true negative\n",
        "        #TN = np.sum(conf_matrix[np.diag_indices(nos_class)]) - TP..\n",
        "\n",
        "        #Accuracy #<-= how many samples correctly classifed out of all samples\n",
        "        ACC = (TP+TN)   /   ( MSUM)  \n",
        "        \n",
        "        #Precision = TP/CLASS_PRED    #<- = how many samples correctly predicted as true out of all samples predicted as true\n",
        "        PRE = (TP)      /   (TP+FP)         #Presicion\n",
        "        \n",
        "        #Sensetivity = TP/CLASS_ACTUAL #<- = how many samples correctly predicted as true out of all actually true samples\n",
        "        SEN = (TP)      /   (TP+FN)         #Sensitivity/Recall\n",
        "        \n",
        "        #Specificity #<-= how many samples correctly predicted false out of all samples predicted as false\n",
        "        SPF = (TN)      /   (TN+FP)         \n",
        "        \n",
        "        # F1-Score #<-= 2*TP / (CLASS_ACTUAL + CLASS_PRED) \n",
        "        F1S = 2*PRE*SEN /   (PRE+SEN)       #F1 score #<-= harmonic mean of Precision and Sensetivity\n",
        "\n",
        "        prefi = np.array([CLASS_ACTUAL , CLASS_PRED, TP, FN, FP, TN, ACC, PRE, SEN, SPF, F1S])\n",
        "        perf_measures_array = np.vstack((perf_measures_array,prefi))\n",
        "        \n",
        "    return perf_measures_array, nos_class\n",
        "def print_performance(conf_matrix, class_labels, do_round=-1):\n",
        "    #header_string = 'Class\\tACC\\tPRE\\tSEN\\tSPF\\tF1S'\n",
        "    header_string = 'Class\\t#True\\t#Pred\\tTPs\\tFNs\\tFPs\\tTNs\\tACC\\tPRE\\tSEN\\tSPF\\tF1S'\n",
        "    perf_measures, nos_class = _get_performance(conf_matrix)\n",
        "    if len(class_labels)!=nos_class:\n",
        "        print('WARNING:: Class label count mismatch!! Cannot print performance')\n",
        "        return -1\n",
        "    #nos_class = len(perf_measures[:,0])\n",
        "    print('Performance for '+str(nos_class)+' classes')\n",
        "    print (header_string)\n",
        "    for i in range(0, nos_class):\n",
        "        if do_round<0:\n",
        "          perf_i = perf_measures [i,:]\n",
        "        else:\n",
        "          perf_i = np.round(perf_measures [i,:],do_round)\n",
        "          \n",
        "        print(\n",
        "              str(class_labels[i])+'\\t'+\n",
        "              str(perf_i[0])+'\\t'+\n",
        "              str(perf_i[1])+'\\t'+\n",
        "              str(perf_i[2])+'\\t'+\n",
        "              str(perf_i[3])+'\\t'+\n",
        "              str(perf_i[4])+'\\t'+\n",
        "              str(perf_i[5])+'\\t'+\n",
        "              str(perf_i[6])+'\\t'+\n",
        "              str(perf_i[7])+'\\t'+\n",
        "              str(perf_i[8])+'\\t'+\n",
        "              str(perf_i[9])+'\\t'+\n",
        "              str(perf_i[10])\n",
        "              )\n",
        "    return nos_class\n",
        "\t"
      ],
      "execution_count": null,
      "outputs": [
        {
          "output_type": "stream",
          "text": [
            "Basic sampling rate(Hz): 128\n",
            "DATASET DIR :: /content/drive/MyDrive/cs575_mini_project/dataset\n",
            "DATASET_NPY DIR :: /content/drive/MyDrive/cs575_mini_project/db_npy\n",
            "STD ANN FILE :: /content/drive/MyDrive/cs575_mini_project/dataset/ANTS.txt\n",
            "\n",
            "Standard Labels::\n",
            "N\tb\tNormal beat\n",
            "L\tb\tLeft bundle branch block beat\n",
            "R\tb\tRight bundle branch block beat\n",
            "B\tb\tBundle branch block beat (unspecified)\n",
            "A\tb\tAtrial premature beat\n",
            "a\tb\tAberrated atrial premature beat\n",
            "J\tb\tNodal (junctional) premature beat\n",
            "S\tb\tSupraventricular premature or ectopic beat (atrial or nodal)\n",
            "V\tb\tPremature ventricular contraction\n",
            "r\tb\tR-on-T premature ventricular contraction\n",
            "F\tb\tFusion of ventricular and normal beat\n",
            "e\tb\tAtrial escape beat\n",
            "j\tb\tNodal (junctional) escape beat\n",
            "n\tb\tSupraventricular escape beat (atrial or nodal)\n",
            "E\tb\tVentricular escape beat\n",
            "/\tb\tPaced beat\n",
            "f\tb\tFusion of paced and normal beat\n",
            "Q\tb\tUnclassifiable \n",
            "?\tb\tBeat not classified during learning\n",
            "[\tn\tStart of ventricular flutter/fibrillation\n",
            "!\tn\tVentricular flutter wave\n",
            "]\tn\tEnd of ventricular flutter/fibrillation\n",
            "x\tn\tNon-conducted P-wave (blocked APC)\n",
            "(\tn\tWaveform onset\n",
            ")\tn\tWaveform end\n",
            "p\tn\tPeak of P-wave\n",
            "t\tn\tPeak of T-wave\n",
            "u\tn\tPeak of U-wave\n",
            "`\tn\tPQ junction\n",
            "'\tn\tJ-point\n",
            "^\tn\t(Non-captured) pacemaker artifact\n",
            "|\tn\tIsolated QRS-like artifact [1]\n",
            "~\tn\tChange in signal quality [1]\n",
            "+\tn\tRhythm change [2]\n",
            "s\tn\tST segment change [2]\n",
            "T\tn\tT-wave change [2]\n",
            "*\tn\tSystole\n",
            "D\tn\tDiastole\n",
            "=\tn\tMeasurement annotation [2]\n",
            "\"\tn\tComment annotation [2]\n",
            "@\tn\tLink to external data [3]\n",
            "\n",
            "beat-annotation: 19\n",
            "non-beat-annotation: 22\n"
          ],
          "name": "stdout"
        }
      ]
    },
    {
      "cell_type": "markdown",
      "metadata": {
        "id": "Zirzfw2wHJ9t"
      },
      "source": [
        "# [] METHOD #1 - Linear []"
      ]
    },
    {
      "cell_type": "markdown",
      "metadata": {
        "id": "bOypGI0wwDAS"
      },
      "source": [
        "## LA Classifier"
      ]
    },
    {
      "cell_type": "code",
      "metadata": {
        "id": "SJ4DR6BTp-Sj"
      },
      "source": [
        "class LAEncoder:\n",
        "    def __init__(self, arg_name, minus_i, plus_i, signal_padl, signal_padr, arima_eo):\n",
        "        self.name = arg_name\n",
        "        self.mi, self.pi = minus_i, plus_i\n",
        "        self.spl, self.spr = signal_padl,signal_padr\n",
        "        self.arima_tuple = arima_eo\n",
        "        \n",
        "\n",
        "    def do_encode(self, rec, bindex, nlabel):\n",
        "        signal = rec.get_signal_slice_rri_1(bindex, self.mi, self.pi, self.spl, self.spr)\n",
        "        mtsa, rtsa = TSA(signal, self.arima_tuple) # (depends,1,depends_q)\n",
        "        encoded_ = np.hstack((rtsa.params,nlabel))\n",
        "        return encoded_\n",
        "    #######################################################\n",
        "\n",
        "class LAClassifier:\n",
        "    def __init__(self, arg_name, arg_encoder, arg_Nlabel, arg_Alabel):\n",
        "        self.name = arg_name\n",
        "        self.encoder = arg_encoder\n",
        "        self._n = arg_Nlabel\n",
        "        self._a = arg_Alabel\n",
        "        \n",
        "    def _do_begin(self, rec, B_):\n",
        "        print('Begin on rec:',rec.name,B_.shape)\n",
        "        data_hist = []\n",
        "\n",
        "        for ii in range(0,len(B_)):\n",
        "            i=B_[ii]\n",
        "            if rec.mLabels[i]==self._n:\n",
        "                lab=0\n",
        "            elif rec.mLabels[i]==self._a:\n",
        "                lab=1\n",
        "            else:\n",
        "                print('label not learned, skipping beat @index', i, ' label =',rec.mLabels[i])\n",
        "                continue\n",
        "\n",
        "            #print('Encoding...')\n",
        "            encoded_beat = self.encoder.do_encode(rec, i, lab)\n",
        "            \n",
        "\n",
        "            #print('LDA...')\n",
        "            lda_x, lda_y = np.expand_dims(encoded_beat[0:-1],axis=0), encoded_beat[-1]\n",
        "            #lda_xx1,lda_xx2 = self.lda1.transform(lda_x),self.lda2.transform(lda_x)\n",
        "\n",
        "            pb1, pb2=self.lda1.predict(lda_x),self.lda2.predict(lda_x)\n",
        "            data_hist.append(np.hstack((encoded_beat,pb1,pb2)))\n",
        "            #predictions_prog=np.argmax(self.MLPmodel.predict(lda_xx2), axis=-1)\n",
        "            print(ii, '#'+str(i),'\\tTrue:',lab,'\\tPred:',pb1,pb2)\n",
        "\n",
        "        print('End of record interval')\n",
        "        return data_hist\n",
        "        \n",
        "    \n",
        "\n",
        "    def do_init(self, rec,  use_beats=10, use_mapped_labels = True, random_train_beats=True):\n",
        "\n",
        "        print('Init Classifier...')\n",
        "        # <<-- Choose NN and AA\n",
        "        if use_mapped_labels:\n",
        "            print('Use mapped labels')\n",
        "            mLabels_p,mLabels_c,mLabels_n = rec.mLabels[0:-2],rec.mLabels[1:-1],rec.mLabels[2:]\n",
        "        else:\n",
        "            print('Use original labels')\n",
        "            mLabels_p,mLabels_c,mLabels_n = rec.iLabels[0:-2],rec.iLabels[1:-1],rec.iLabels[2:]\n",
        "\n",
        "        ##############################################################################################################\n",
        "\n",
        "        NN_ = np.where((mLabels_p==self._n)&(mLabels_c==self._n)&(mLabels_n==self._n))[0]+1 # True Normal:\n",
        "        #N_ = np.where((mLabels_c==self._n))[0]+1 # Any Normal: All Normal beats\n",
        "        #AA_ = np.where((mLabels_c!=self._n))[0] + 1 # All Abnormal beats\n",
        "        A_ = np.where((mLabels_c==self._a))[0] + 1 # Abnormal beats\n",
        "\n",
        "        nncount = min(len(NN_),use_beats)\n",
        "        aacount = min(len(A_),use_beats)\n",
        "\n",
        "        # either take from begin or randomly\n",
        "        if random_train_beats:\n",
        "            print('Random beats for training...')\n",
        "            for_train_N = np.random.choice(NN_,size=nncount,replace=False)  #<--- rand True Normal\n",
        "            for_train_A = np.random.choice(A_,size=aacount,replace=False)  #<--- rand Abnormal beats\n",
        "        else:  \n",
        "            print('Initial beats for training...')  \n",
        "            for_train_N = NN_[0:nncount]  #<--- first 10 beats True Normal\n",
        "            for_train_A = A_[0:aacount]  #<--- first 10 beats Abnormal beats\n",
        "\n",
        "        self.skip_beats = use_beats\n",
        "\n",
        "        self.data_listN=[]\n",
        "        self.data_listA=[]\n",
        "        print('Encoding...',nncount,aacount )\n",
        "        # initialize lda\n",
        "        for i in range(0,nncount):\n",
        "            self.data_listN.append(self.encoder.do_encode(rec, for_train_N[i], 0))\n",
        "        for i in range(0,aacount):\n",
        "            self.data_listA.append(self.encoder.do_encode(rec, for_train_A[i], 1))\n",
        "        \n",
        "        \n",
        "        # first choose use_beats\n",
        "\n",
        "        data_ = np.vstack((np.array(self.data_listN),np.array(self.data_listA)))\n",
        "        np.random.shuffle(data_)\n",
        "\n",
        "        \n",
        "\n",
        "        #print('LDA...') #LDA(n_components=1)\n",
        "        lda_x, lda_y = data_[:,0:-1], data_[:,-1]\n",
        "        self.lda1 = LDA(solver='eigen', shrinkage=None,store_covariance=True)  #shrinkage='auto'\n",
        "        self.lda2 = LDA(solver='svd', shrinkage=None, store_covariance=True)\n",
        "\n",
        "        clf1, clf2 = self.lda1.fit(lda_x, lda_y), self.lda2.fit(lda_x, lda_y)\n",
        "        print('LDA_1:', clf1.score(lda_x, lda_y))\n",
        "        print('LDA_2:', clf2.score(lda_x, lda_y))\n",
        " \n",
        "        lda_xx1, lda_xx2 = self.lda1.transform(lda_x), self.lda2.transform(lda_x)\n",
        "        #print('COV1',self.lda1.classes_ ,'\\n', )\n",
        "\n",
        "        #print('COV2',self.lda2.classes_ ,'\\n',self.lda2.covariance_ )\n",
        "\n",
        "\n",
        "#------>>> X_testF = lda.transform(X_train)\n",
        "        x_0,x_1 = np.where(lda_y==0)[0],np.where(lda_y==1)[0]\n",
        "        xt_0,xt_1 = lda_xx1[x_0],lda_xx1[x_1]\n",
        "        #plt.figure(figsize=(12,4))\n",
        "        \n",
        "        #plt.show()\n",
        "\n",
        "        x_02,x_12 = np.where(lda_y==0)[0],np.where(lda_y==1)[0]\n",
        "        xt_02,xt_12 = lda_xx2[x_02],lda_xx2[x_12]\n",
        "        #plt.figure(figsize=(12,4))\n",
        "\n",
        "        fig,ax = plt.subplots(1,2, figsize=(8,4))\n",
        "        ax[0].imshow(self.lda1.covariance_)\n",
        "        ax[0].set_title('Covariance Matrix - LDA 1')\n",
        "        ax[1].scatter( x_0,xt_0, color='tab:green', marker='.' )\n",
        "        ax[1].scatter( x_1,xt_1, color='tab:red', marker='.' )\n",
        "        ax[1].set_title('Transformed Data - LDA 1')\n",
        "        #plt.legend()\n",
        "        plt.show()\n",
        "\n",
        "\n",
        "        fig,ax = plt.subplots(1,2, figsize=(8,4))\n",
        "        ax[0].imshow(self.lda2.covariance_)\n",
        "        ax[0].set_title('Covariance Matrix - LDA 2')\n",
        "        ax[1].set_title('Transformed Data - LDA 2')\n",
        "        ax[1].scatter( x_02,xt_02, color='tab:green', marker='.' )\n",
        "        ax[1].scatter( x_12,xt_12, color='tab:red', marker='.')\n",
        "        #plt.legend()\n",
        "\n",
        "        plt.show()\n",
        "\n",
        "        \n",
        "        return self.skip_beats, self.lda1, self.lda2\n",
        "\n",
        "\n",
        "\n"
      ],
      "execution_count": null,
      "outputs": []
    },
    {
      "cell_type": "markdown",
      "metadata": {
        "id": "RQ22qXcwpmrp"
      },
      "source": [
        "## Select Dataset"
      ]
    },
    {
      "cell_type": "code",
      "metadata": {
        "id": "I2nuyEK19cEw"
      },
      "source": [
        "print(os.listdir(DATASET_DIR))\n",
        "print(os.listdir(DATASET_DIR_NPY))"
      ],
      "execution_count": null,
      "outputs": []
    },
    {
      "cell_type": "code",
      "metadata": {
        "id": "C0XJGELx9ctM",
        "colab": {
          "base_uri": "https://localhost:8080/"
        },
        "outputId": "6fd94a08-717c-4f74-e9f7-fbbd2cff3fe6"
      },
      "source": [
        "sel_db_name = 'mitdb_npy'\n",
        "sel_db_path = os.path.join(DATASET_DIR_NPY, sel_db_name)\n",
        "sel_db_files = os.listdir(sel_db_path)\n",
        "print(sel_db_path,',', len(sel_db_files) )\n",
        "\n",
        "dbo = ecgDatabase(sel_db_name, sel_db_path)\n",
        "print(dbo.record_list.shape,dbo.record_list)"
      ],
      "execution_count": null,
      "outputs": [
        {
          "output_type": "stream",
          "text": [
            "/content/drive/MyDrive/cs575_mini_project/db_npy/mitdb_npy , 144\n",
            "(43,) ['100' '101' '103' '105' '106' '108' '109' '111' '112' '113' '114' '115'\n",
            " '116' '117' '118' '119' '121' '122' '123' '124' '200' '201' '202' '203'\n",
            " '205' '208' '209' '210' '212' '213' '214' '215' '219' '220' '221' '222'\n",
            " '223' '228' '230' '231' '232' '233' '234']\n"
          ],
          "name": "stdout"
        }
      ]
    },
    {
      "cell_type": "markdown",
      "metadata": {
        "id": "xBeNtDIjJ7C1"
      },
      "source": [
        "## Select Record"
      ]
    },
    {
      "cell_type": "code",
      "metadata": {
        "colab": {
          "base_uri": "https://localhost:8080/"
        },
        "id": "nq_6sF5gOFSY",
        "outputId": "55d9711c-c810-4b6c-b772-a9765392be8e"
      },
      "source": [
        "recn = '214' # ['116', '215', '210', '233', '214', '228', '221', '119', '203', '106']\n",
        "rec = dbo.get_record(recn)\n",
        "print(rec.name, '\\t'+str(rec.nos_beats)+ ' beats')\n",
        "rec.mLabels = rec.map_beat_labels(custom_mapping)# <<-- custom lables"
      ],
      "execution_count": null,
      "outputs": [
        {
          "output_type": "stream",
          "text": [
            "214 \t2262 beats\n"
          ],
          "name": "stdout"
        }
      ]
    },
    {
      "cell_type": "markdown",
      "metadata": {
        "id": "98Epq0RoIq9J"
      },
      "source": [
        "## Set Params"
      ]
    },
    {
      "cell_type": "code",
      "metadata": {
        "id": "bfBe3ZjtTybZ",
        "colab": {
          "base_uri": "https://localhost:8080/"
        },
        "outputId": "b962fe48-70d9-4b20-8ce9-c5d05a1f6758"
      },
      "source": [
        "arima_param = (4,1,4) # (p,d,q)\n",
        "mi,pi,spl,spr = 0,1,-32,32    # minus_i, plus_i ,signal_pad_left, signal_pad_right (in samples)\n",
        "Lab_N, Lab_V = \"_N\",\"_V\"\n",
        "training_beats = 80        # beats to initialize - train on each type - total 2x\n",
        "print('arima param:',arima_param)\n",
        "print('signal slice params:',mi,pi,spl,spr)"
      ],
      "execution_count": null,
      "outputs": [
        {
          "output_type": "stream",
          "text": [
            "arima param: (4, 1, 4)\n",
            "signal slice params: 0 1 -32 32\n"
          ],
          "name": "stdout"
        }
      ]
    },
    {
      "cell_type": "markdown",
      "metadata": {
        "id": "ZC3Kn14IWnUL"
      },
      "source": [
        "## Train Classifier"
      ]
    },
    {
      "cell_type": "code",
      "metadata": {
        "id": "m9ilGuPe78rI",
        "colab": {
          "base_uri": "https://localhost:8080/",
          "height": 647
        },
        "outputId": "9721fc7c-9b7f-4d11-de0e-95a130eefd46"
      },
      "source": [
        "xEncoder = LAEncoder(\"encoder_1\", mi,pi,spl,spr,arima_param)\n",
        "xClassifier = LAClassifier(\"classifier_1\", xEncoder, Lab_N, Lab_V)\n",
        "rskip_beats, rlda, rMLPmodel = xClassifier.do_init(rec,\n",
        "                                                          use_beats=training_beats, \n",
        "                                                          use_mapped_labels = True\n",
        "                                                          )\n"
      ],
      "execution_count": null,
      "outputs": [
        {
          "output_type": "stream",
          "text": [
            "Init Classifier...\n",
            "Use mapped labels\n",
            "Random beats for training...\n",
            "Encoding... 80 80\n",
            "LDA_1: 0.9125\n",
            "LDA_2: 0.9125\n"
          ],
          "name": "stdout"
        },
        {
          "output_type": "display_data",
          "data": {
            "image/png": "[encoded data removed]",
            "text/plain": [
              "<Figure size 576x288 with 2 Axes>"
            ]
          },
          "metadata": {
            "tags": [],
            "needs_background": "light"
          }
        },
        {
          "output_type": "display_data",
          "data": {
            "image/png": "[encoded data removed]",
            "text/plain": [
              "<Figure size 576x288 with 2 Axes>"
            ]
          },
          "metadata": {
            "tags": [],
            "needs_background": "light"
          }
        }
      ]
    },
    {
      "cell_type": "markdown",
      "metadata": {
        "id": "utUH_EvTJxPB"
      },
      "source": [
        "## Test"
      ]
    },
    {
      "cell_type": "code",
      "metadata": {
        "id": "nAHnhlFaJwhu",
        "colab": {
          "base_uri": "https://localhost:8080/"
        },
        "outputId": "0dee4077-581d-4395-e6dd-b27497bdc6ba"
      },
      "source": [
        "timestamp_start = datetime.datetime.now()\n",
        "\n",
        "mLabels_c = rec.mLabels[1:-1]\n",
        "q = np.hstack(( np.random.choice( np.where((mLabels_c==\"_V\"))[0]+1, size= 100,replace=False),\n",
        " np.random.choice( np.where((mLabels_c==\"_N\"))[0]+1, size= 100,replace=False)))\n",
        "print(\"...begin encoding and prediction on samples:\",len(q))\n",
        "data_hist_r = xClassifier._do_begin(rec, q)\n",
        "\n",
        "print('\\nElapsed time = ',datetime.datetime.now() - timestamp_start)"
      ],
      "execution_count": null,
      "outputs": [
        {
          "output_type": "stream",
          "text": [
            "...begin encoding and prediction on samples: 200\n",
            "Begin on rec: 214 (200,)\n",
            "0 #288 \tTrue: 1 \tPred: [1.] [1.]\n",
            "1 #1881 \tTrue: 1 \tPred: [1.] [1.]\n",
            "2 #216 \tTrue: 1 \tPred: [1.] [1.]\n",
            "3 #1310 \tTrue: 1 \tPred: [0.] [0.]\n",
            "4 #2224 \tTrue: 1 \tPred: [1.] [1.]\n",
            "5 #189 \tTrue: 1 \tPred: [1.] [1.]\n",
            "6 #2218 \tTrue: 1 \tPred: [1.] [1.]\n",
            "7 #2151 \tTrue: 1 \tPred: [1.] [1.]\n",
            "8 #442 \tTrue: 1 \tPred: [1.] [1.]\n",
            "9 #957 \tTrue: 1 \tPred: [1.] [1.]\n",
            "10 #325 \tTrue: 1 \tPred: [0.] [0.]\n",
            "11 #1738 \tTrue: 1 \tPred: [1.] [1.]\n",
            "12 #220 \tTrue: 1 \tPred: [1.] [1.]\n",
            "13 #1576 \tTrue: 1 \tPred: [1.] [1.]\n",
            "14 #1741 \tTrue: 1 \tPred: [1.] [1.]\n",
            "15 #707 \tTrue: 1 \tPred: [1.] [1.]\n",
            "16 #674 \tTrue: 1 \tPred: [1.] [1.]\n",
            "17 #1182 \tTrue: 1 \tPred: [1.] [1.]\n",
            "18 #1754 \tTrue: 1 \tPred: [1.] [1.]\n",
            "19 #772 \tTrue: 1 \tPred: [1.] [1.]\n",
            "20 #334 \tTrue: 1 \tPred: [1.] [1.]\n",
            "21 #1573 \tTrue: 1 \tPred: [1.] [1.]\n",
            "22 #379 \tTrue: 1 \tPred: [1.] [1.]\n",
            "23 #1063 \tTrue: 1 \tPred: [1.] [1.]\n",
            "24 #645 \tTrue: 1 \tPred: [1.] [1.]\n",
            "25 #206 \tTrue: 1 \tPred: [1.] [1.]\n",
            "26 #1491 \tTrue: 1 \tPred: [1.] [1.]\n",
            "27 #1589 \tTrue: 1 \tPred: [1.] [1.]\n",
            "28 #1172 \tTrue: 1 \tPred: [1.] [1.]\n",
            "29 #2231 \tTrue: 1 \tPred: [1.] [1.]\n",
            "30 #1964 \tTrue: 1 \tPred: [1.] [1.]\n",
            "31 #1261 \tTrue: 1 \tPred: [1.] [1.]\n",
            "32 #564 \tTrue: 1 \tPred: [1.] [1.]\n",
            "33 #1119 \tTrue: 1 \tPred: [1.] [1.]\n",
            "34 #1592 \tTrue: 1 \tPred: [1.] [1.]\n",
            "35 #448 \tTrue: 1 \tPred: [1.] [1.]\n",
            "36 #1075 \tTrue: 1 \tPred: [1.] [1.]\n",
            "37 #1898 \tTrue: 1 \tPred: [0.] [0.]\n",
            "38 #399 \tTrue: 1 \tPred: [1.] [1.]\n",
            "39 #1087 \tTrue: 1 \tPred: [1.] [1.]\n",
            "40 #1304 \tTrue: 1 \tPred: [1.] [1.]\n",
            "41 #105 \tTrue: 1 \tPred: [1.] [1.]\n",
            "42 #2179 \tTrue: 1 \tPred: [1.] [1.]\n",
            "43 #458 \tTrue: 1 \tPred: [0.] [0.]\n",
            "44 #1595 \tTrue: 1 \tPred: [1.] [1.]\n",
            "45 #119 \tTrue: 1 \tPred: [1.] [1.]\n",
            "46 #382 \tTrue: 1 \tPred: [1.] [1.]\n",
            "47 #974 \tTrue: 1 \tPred: [1.] [1.]\n",
            "48 #1806 \tTrue: 1 \tPred: [1.] [1.]\n",
            "49 #7 \tTrue: 1 \tPred: [0.] [0.]\n",
            "50 #695 \tTrue: 1 \tPred: [1.] [1.]\n",
            "51 #909 \tTrue: 1 \tPred: [1.] [1.]\n",
            "52 #1395 \tTrue: 1 \tPred: [1.] [1.]\n",
            "53 #99 \tTrue: 1 \tPred: [1.] [1.]\n",
            "54 #202 \tTrue: 1 \tPred: [0.] [0.]\n",
            "55 #1994 \tTrue: 1 \tPred: [1.] [1.]\n",
            "56 #522 \tTrue: 1 \tPred: [1.] [1.]\n",
            "57 #11 \tTrue: 1 \tPred: [1.] [1.]\n",
            "58 #1565 \tTrue: 1 \tPred: [1.] [1.]\n",
            "59 #307 \tTrue: 1 \tPred: [0.] [0.]\n",
            "60 #2041 \tTrue: 1 \tPred: [1.] [1.]\n",
            "61 #1546 \tTrue: 1 \tPred: [1.] [1.]\n",
            "62 #1022 \tTrue: 1 \tPred: [1.] [1.]\n",
            "63 #1779 \tTrue: 1 \tPred: [1.] [1.]\n",
            "64 #1055 \tTrue: 1 \tPred: [1.] [1.]\n",
            "65 #1145 \tTrue: 1 \tPred: [1.] [1.]\n",
            "66 #591 \tTrue: 1 \tPred: [1.] [1.]\n",
            "67 #825 \tTrue: 1 \tPred: [1.] [1.]\n",
            "68 #2024 \tTrue: 1 \tPred: [1.] [1.]\n",
            "69 #1854 \tTrue: 1 \tPred: [1.] [1.]\n",
            "70 #1515 \tTrue: 1 \tPred: [1.] [1.]\n",
            "71 #1082 \tTrue: 1 \tPred: [1.] [1.]\n",
            "72 #1502 \tTrue: 1 \tPred: [1.] [1.]\n",
            "73 #984 \tTrue: 1 \tPred: [1.] [1.]\n",
            "74 #815 \tTrue: 1 \tPred: [1.] [1.]\n",
            "75 #163 \tTrue: 1 \tPred: [1.] [1.]\n",
            "76 #378 \tTrue: 1 \tPred: [1.] [1.]\n",
            "77 #1047 \tTrue: 1 \tPred: [1.] [1.]\n",
            "78 #1532 \tTrue: 1 \tPred: [1.] [1.]\n",
            "79 #108 \tTrue: 1 \tPred: [1.] [1.]\n",
            "80 #1970 \tTrue: 1 \tPred: [1.] [1.]\n",
            "81 #1484 \tTrue: 1 \tPred: [1.] [1.]\n",
            "82 #1699 \tTrue: 1 \tPred: [1.] [1.]\n",
            "83 #1627 \tTrue: 1 \tPred: [1.] [1.]\n",
            "84 #2114 \tTrue: 1 \tPred: [1.] [1.]\n",
            "85 #1410 \tTrue: 1 \tPred: [1.] [1.]\n",
            "86 #893 \tTrue: 1 \tPred: [1.] [1.]\n",
            "87 #1016 \tTrue: 1 \tPred: [1.] [1.]\n",
            "88 #1000 \tTrue: 1 \tPred: [1.] [1.]\n",
            "89 #1149 \tTrue: 1 \tPred: [1.] [1.]\n",
            "90 #1598 \tTrue: 1 \tPred: [1.] [1.]\n",
            "91 #692 \tTrue: 1 \tPred: [1.] [1.]\n",
            "92 #1057 \tTrue: 1 \tPred: [1.] [1.]\n",
            "93 #1544 \tTrue: 1 \tPred: [0.] [0.]\n",
            "94 #861 \tTrue: 1 \tPred: [1.] [1.]\n",
            "95 #1800 \tTrue: 1 \tPred: [1.] [1.]\n",
            "96 #1782 \tTrue: 1 \tPred: [1.] [1.]\n",
            "97 #2253 \tTrue: 1 \tPred: [1.] [1.]\n",
            "98 #1457 \tTrue: 1 \tPred: [0.] [0.]\n",
            "99 #44 \tTrue: 1 \tPred: [1.] [1.]\n",
            "100 #1749 \tTrue: 0 \tPred: [0.] [0.]\n",
            "101 #1259 \tTrue: 0 \tPred: [0.] [0.]\n",
            "102 #2109 \tTrue: 0 \tPred: [0.] [0.]\n",
            "103 #980 \tTrue: 0 \tPred: [0.] [0.]\n",
            "104 #235 \tTrue: 0 \tPred: [0.] [0.]\n",
            "105 #1798 \tTrue: 0 \tPred: [0.] [0.]\n",
            "106 #1404 \tTrue: 0 \tPred: [0.] [0.]\n",
            "107 #1236 \tTrue: 0 \tPred: [0.] [0.]\n",
            "108 #2158 \tTrue: 0 \tPred: [0.] [0.]\n",
            "109 #1892 \tTrue: 0 \tPred: [0.] [0.]\n",
            "110 #347 \tTrue: 0 \tPred: [0.] [0.]\n",
            "111 #1265 \tTrue: 0 \tPred: [0.] [0.]\n",
            "112 #506 \tTrue: 0 \tPred: [0.] [0.]\n",
            "113 #534 \tTrue: 0 \tPred: [0.] [0.]\n",
            "114 #1241 \tTrue: 0 \tPred: [0.] [0.]\n",
            "115 #1480 \tTrue: 0 \tPred: [0.] [0.]\n",
            "116 #1869 \tTrue: 0 \tPred: [0.] [0.]\n",
            "117 #1301 \tTrue: 0 \tPred: [0.] [0.]\n",
            "118 #70 \tTrue: 0 \tPred: [0.] [0.]\n",
            "119 #1129 \tTrue: 0 \tPred: [0.] [0.]\n",
            "120 #1330 \tTrue: 0 \tPred: [1.] [1.]\n",
            "121 #1440 \tTrue: 0 \tPred: [0.] [0.]\n",
            "122 #964 \tTrue: 0 \tPred: [1.] [1.]\n",
            "123 #478 \tTrue: 0 \tPred: [0.] [0.]\n",
            "124 #2211 \tTrue: 0 \tPred: [0.] [0.]\n",
            "125 #1505 \tTrue: 0 \tPred: [0.] [0.]\n",
            "126 #1293 \tTrue: 0 \tPred: [0.] [0.]\n",
            "127 #1593 \tTrue: 0 \tPred: [1.] [1.]\n",
            "128 #447 \tTrue: 0 \tPred: [0.] [0.]\n",
            "129 #48 \tTrue: 0 \tPred: [0.] [0.]\n",
            "130 #1984 \tTrue: 0 \tPred: [0.] [0.]\n",
            "131 #1177 \tTrue: 0 \tPred: [0.] [0.]\n",
            "132 #1084 \tTrue: 0 \tPred: [0.] [0.]\n",
            "133 #1040 \tTrue: 0 \tPred: [0.] [0.]\n",
            "134 #1242 \tTrue: 0 \tPred: [0.] [0.]\n",
            "135 #1382 \tTrue: 0 \tPred: [0.] [0.]\n",
            "136 #1653 \tTrue: 0 \tPred: [0.] [0.]\n",
            "137 #880 \tTrue: 0 \tPred: [0.] [0.]\n",
            "138 #514 \tTrue: 0 \tPred: [0.] [0.]\n",
            "139 #1737 \tTrue: 0 \tPred: [0.] [0.]\n",
            "140 #1299 \tTrue: 0 \tPred: [0.] [0.]\n",
            "141 #543 \tTrue: 0 \tPred: [0.] [0.]\n",
            "142 #78 \tTrue: 0 \tPred: [0.] [0.]\n",
            "143 #222 \tTrue: 0 \tPred: [0.] [0.]\n",
            "144 #117 \tTrue: 0 \tPred: [0.] [0.]\n",
            "145 #1058 \tTrue: 0 \tPred: [0.] [0.]\n",
            "146 #1300 \tTrue: 0 \tPred: [0.] [0.]\n",
            "147 #256 \tTrue: 0 \tPred: [0.] [0.]\n",
            "148 #1861 \tTrue: 0 \tPred: [0.] [0.]\n",
            "149 #1868 \tTrue: 0 \tPred: [0.] [0.]\n",
            "150 #1066 \tTrue: 0 \tPred: [0.] [0.]\n",
            "151 #536 \tTrue: 0 \tPred: [0.] [0.]\n",
            "152 #229 \tTrue: 0 \tPred: [0.] [0.]\n",
            "153 #1418 \tTrue: 0 \tPred: [0.] [0.]\n",
            "154 #57 \tTrue: 0 \tPred: [0.] [0.]\n",
            "155 #145 \tTrue: 0 \tPred: [0.] [0.]\n",
            "156 #2124 \tTrue: 0 \tPred: [0.] [0.]\n",
            "157 #31 \tTrue: 0 \tPred: [0.] [0.]\n",
            "158 #2005 \tTrue: 0 \tPred: [0.] [0.]\n",
            "159 #1888 \tTrue: 0 \tPred: [0.] [0.]\n",
            "160 #1406 \tTrue: 0 \tPred: [0.] [0.]\n",
            "161 #1209 \tTrue: 0 \tPred: [0.] [0.]\n",
            "162 #2161 \tTrue: 0 \tPred: [0.] [0.]\n",
            "163 #1237 \tTrue: 0 \tPred: [0.] [0.]\n",
            "164 #1481 \tTrue: 0 \tPred: [0.] [0.]\n",
            "165 #1340 \tTrue: 0 \tPred: [0.] [0.]\n",
            "166 #1824 \tTrue: 0 \tPred: [0.] [0.]\n",
            "167 #82 \tTrue: 0 \tPred: [0.] [0.]\n",
            "168 #794 \tTrue: 0 \tPred: [1.] [1.]\n",
            "169 #2254 \tTrue: 0 \tPred: [0.] [0.]\n",
            "170 #1094 \tTrue: 0 \tPred: [0.] [0.]\n",
            "171 #2134 \tTrue: 0 \tPred: [0.] [0.]\n",
            "172 #1658 \tTrue: 0 \tPred: [0.] [0.]\n",
            "173 #2257 \tTrue: 0 \tPred: [0.] [0.]\n",
            "174 #2141 \tTrue: 0 \tPred: [0.] [0.]\n",
            "175 #664 \tTrue: 0 \tPred: [0.] [0.]\n",
            "176 #1783 \tTrue: 0 \tPred: [0.] [0.]\n",
            "177 #555 \tTrue: 0 \tPred: [0.] [0.]\n",
            "178 #510 \tTrue: 0 \tPred: [1.] [1.]\n",
            "179 #17 \tTrue: 0 \tPred: [0.] [0.]\n",
            "180 #369 \tTrue: 0 \tPred: [0.] [0.]\n",
            "181 #1758 \tTrue: 0 \tPred: [0.] [0.]\n",
            "182 #1232 \tTrue: 0 \tPred: [0.] [0.]\n",
            "183 #237 \tTrue: 0 \tPred: [0.] [0.]\n",
            "184 #1639 \tTrue: 0 \tPred: [0.] [0.]\n",
            "185 #2226 \tTrue: 0 \tPred: [0.] [0.]\n",
            "186 #118 \tTrue: 0 \tPred: [0.] [0.]\n",
            "187 #1285 \tTrue: 0 \tPred: [0.] [0.]\n",
            "188 #37 \tTrue: 0 \tPred: [0.] [0.]\n",
            "189 #760 \tTrue: 0 \tPred: [0.] [0.]\n",
            "190 #2019 \tTrue: 0 \tPred: [0.] [0.]\n",
            "191 #657 \tTrue: 0 \tPred: [0.] [0.]\n",
            "192 #1128 \tTrue: 0 \tPred: [0.] [0.]\n",
            "193 #872 \tTrue: 0 \tPred: [0.] [0.]\n",
            "194 #1812 \tTrue: 0 \tPred: [0.] [0.]\n",
            "195 #1380 \tTrue: 0 \tPred: [0.] [0.]\n",
            "196 #351 \tTrue: 0 \tPred: [0.] [0.]\n",
            "197 #2038 \tTrue: 0 \tPred: [0.] [0.]\n",
            "198 #1608 \tTrue: 0 \tPred: [0.] [0.]\n",
            "199 #27 \tTrue: 0 \tPred: [0.] [0.]\n",
            "End of record interval\n",
            "\n",
            "Elapsed time =  0:02:02.951507\n"
          ],
          "name": "stdout"
        }
      ]
    },
    {
      "cell_type": "markdown",
      "metadata": {
        "id": "ksyJ7uWzQvz1"
      },
      "source": [
        "## Result [LDA_1]"
      ]
    },
    {
      "cell_type": "code",
      "metadata": {
        "colab": {
          "base_uri": "https://localhost:8080/",
          "height": 1000
        },
        "id": "B5XTwLNRQxQu",
        "outputId": "25d7e1c7-81fe-49ea-8a2e-7aaa826f2a41"
      },
      "source": [
        "##############################################################################################\n",
        "res_ = np.array(data_hist_r)\n",
        "g_LABELS = np.array([0,1])\n",
        "res_pred_y = res_[:,-2]\n",
        "res_true_y = res_[:,-3]\n",
        "res_x = res_[:,0:-3]\n",
        "\n",
        "\n",
        "matrix = confusion_matrix( res_true_y,  res_pred_y,   g_LABELS )\n",
        "print('\\n\\tConfusion Matrix [N/A]')\n",
        "print(print_conf_matrix( matrix, '', g_LABELS))\n",
        "print_performance( matrix ,g_LABELS, do_round=5)\n",
        "\n",
        "pred_correct = np.where(res_pred_y==res_true_y)[0]\n",
        "pred_wrong = np.where(res_pred_y!=res_true_y)[0]\n",
        "pC = len(pred_correct)\n",
        "pW = len(pred_wrong)\n",
        "print('')\n",
        "assert ((pC+pW)==len(res_true_y))\n",
        "print('Total Predictions\\t',(pC+pW))\n",
        "print('Correct Predictions\\t', pC,'\\t', round((100*pC)/(pC+pW),2),'%')\n",
        "print('Incorrect Predictions\\t', pW,'\\t', round((100*pW)/(pC+pW),2),'%')\n",
        "\n",
        "##############################################################################################\n",
        "RT = xClassifier.lda1.transform(res_x)\n",
        "\n",
        "x_0,x_1 = np.where(res_true_y==0)[0],np.where(res_true_y==1)[0]\n",
        "xt_0,xt_1 = RT[x_0],RT[x_1]\n",
        "plt.figure(figsize=(12,4))\n",
        "plt.title('Truth')\n",
        "plt.scatter( x_0,xt_0, color='tab:green', marker='.' )\n",
        "plt.scatter( x_1,xt_1, color='tab:red', marker='.' )\n",
        "plt.show()\n",
        "\n",
        "x_0p,x_1p = np.where(res_pred_y==0)[0],np.where(res_pred_y==1)[0]\n",
        "xt_0p,xt_1p = RT[x_0p],RT[x_1p]\n",
        "plt.figure(figsize=(12,4))\n",
        "plt.title('Predictions')\n",
        "plt.scatter( x_0p,xt_0p, color='tab:green', marker='+' )\n",
        "plt.scatter( x_1p,xt_1p, color='tab:red', marker='+' )\n",
        "plt.show()\n",
        "\n",
        "x_0p,x_1p = np.where(res_pred_y==0)[0],np.where(res_pred_y==1)[0]\n",
        "xt_0p,xt_1p = RT[x_0p],RT[x_1p]\n",
        "plt.figure(figsize=(12,4))\n",
        "\n",
        "plt.scatter( pred_wrong,RT[pred_wrong], color='tab:pink', marker='s', label='wrong predictions' )\n",
        "#plt.scatter( pred_correct,RT[pred_correct], color='black', marker='.' )\n",
        "#plt.scatter( x_0,xt_0, color='tab:green', marker='x',label='true normals' )\n",
        "#plt.scatter( x_1,xt_1, color='tab:red', marker='x',label='true normals' )\n",
        "plt.scatter( x_0p,xt_0p, color='tab:green', marker='+' , label='pred normals')\n",
        "plt.scatter( x_1p,xt_1p, color='tab:red', marker='+', label='pred abnormals' )\n",
        "\n",
        "plt.legend()\n",
        "plt.show()"
      ],
      "execution_count": null,
      "outputs": [
        {
          "output_type": "stream",
          "text": [
            "\n",
            "\tConfusion Matrix [N/A]\n",
            "T\\P\t0\t1\n",
            "0\t95\t5\n",
            "1\t9\t91\n",
            "\n",
            "Performance for 2 classes\n",
            "Class\t#True\t#Pred\tTPs\tFNs\tFPs\tTNs\tACC\tPRE\tSEN\tSPF\tF1S\n",
            "0\t100.0\t104.0\t95.0\t5.0\t9.0\t91.0\t0.93\t0.91346\t0.95\t0.91\t0.93137\n",
            "1\t100.0\t96.0\t91.0\t9.0\t5.0\t95.0\t0.93\t0.94792\t0.91\t0.95\t0.92857\n",
            "\n",
            "Total Predictions\t 200\n",
            "Correct Predictions\t 186 \t 93.0 %\n",
            "Incorrect Predictions\t 14 \t 7.0 %\n"
          ],
          "name": "stdout"
        },
        {
          "output_type": "display_data",
          "data": {
            "image/png": "[encoded data removed]",
            "text/plain": [
              "<Figure size 864x288 with 1 Axes>"
            ]
          },
          "metadata": {
            "tags": [],
            "needs_background": "light"
          }
        },
        {
          "output_type": "display_data",
          "data": {
            "image/png": "[encoded data removed]",
            "text/plain": [
              "<Figure size 864x288 with 1 Axes>"
            ]
          },
          "metadata": {
            "tags": [],
            "needs_background": "light"
          }
        },
        {
          "output_type": "display_data",
          "data": {
            "image/png": "[encoded data removed]",
            "text/plain": [
              "<Figure size 864x288 with 1 Axes>"
            ]
          },
          "metadata": {
            "tags": [],
            "needs_background": "light"
          }
        }
      ]
    },
    {
      "cell_type": "markdown",
      "metadata": {
        "id": "luzMNzN8Odyh"
      },
      "source": [
        "## Result [LDA_2]"
      ]
    },
    {
      "cell_type": "code",
      "metadata": {
        "colab": {
          "base_uri": "https://localhost:8080/",
          "height": 1000
        },
        "id": "_nHj8NaSOfPa",
        "outputId": "25f13e1f-fc7e-4b0f-9dbe-d77f568a231b"
      },
      "source": [
        "\n",
        "##############################################################################################\n",
        "res_ = np.array(data_hist_r)\n",
        "g_LABELS = np.array([0,1])\n",
        "res_pred_y = res_[:,-1]\n",
        "res_true_y = res_[:,-3]\n",
        "res_x = res_[:,0:-3]\n",
        "\n",
        "\n",
        "matrix = confusion_matrix( res_true_y,  res_pred_y,   g_LABELS )\n",
        "print('\\n\\tConfusion Matrix [N/A]')\n",
        "print(print_conf_matrix( matrix, '', g_LABELS))\n",
        "print_performance( matrix ,g_LABELS, do_round=5)\n",
        "\n",
        "pred_correct = np.where(res_pred_y==res_true_y)[0]\n",
        "pred_wrong = np.where(res_pred_y!=res_true_y)[0]\n",
        "pC = len(pred_correct)\n",
        "pW = len(pred_wrong)\n",
        "print('')\n",
        "assert ((pC+pW)==len(res_true_y))\n",
        "print('Total Predictions\\t',(pC+pW))\n",
        "print('Correct Predictions\\t', pC,'\\t', round((100*pC)/(pC+pW),2),'%')\n",
        "print('Incorrect Predictions\\t', pW,'\\t', round((100*pW)/(pC+pW),2),'%')\n",
        "\n",
        "##############################################################################################\n",
        "RT = xClassifier.lda2.transform(res_x)\n",
        "\n",
        "x_0,x_1 = np.where(res_true_y==0)[0],np.where(res_true_y==1)[0]\n",
        "xt_0,xt_1 = RT[x_0],RT[x_1]\n",
        "plt.figure(figsize=(12,4))\n",
        "plt.title('Truth')\n",
        "plt.scatter( x_0,xt_0, color='tab:green', marker='.' )\n",
        "plt.scatter( x_1,xt_1, color='tab:red', marker='.' )\n",
        "plt.show()\n",
        "\n",
        "x_0p,x_1p = np.where(res_pred_y==0)[0],np.where(res_pred_y==1)[0]\n",
        "xt_0p,xt_1p = RT[x_0p],RT[x_1p]\n",
        "plt.figure(figsize=(12,4))\n",
        "plt.title('Predictions')\n",
        "plt.scatter( x_0p,xt_0p, color='tab:green', marker='+' )\n",
        "plt.scatter( x_1p,xt_1p, color='tab:red', marker='+' )\n",
        "plt.show()\n",
        "\n",
        "x_0p,x_1p = np.where(res_pred_y==0)[0],np.where(res_pred_y==1)[0]\n",
        "xt_0p,xt_1p = RT[x_0p],RT[x_1p]\n",
        "plt.figure(figsize=(12,4))\n",
        "plt.scatter( pred_wrong,RT[pred_wrong], color='tab:red', marker='x' )\n",
        "plt.scatter( pred_correct,RT[pred_correct], color='tab:green', marker='.' )\n",
        "\n",
        "plt.show()\n",
        "\n"
      ],
      "execution_count": null,
      "outputs": [
        {
          "output_type": "stream",
          "text": [
            "\n",
            "\tConfusion Matrix [N/A]\n",
            "T\\P\t0\t1\n",
            "0\t99\t1\n",
            "1\t1\t99\n",
            "\n",
            "Performance for 2 classes\n",
            "Class\t#True\t#Pred\tTPs\tFNs\tFPs\tTNs\tACC\tPRE\tSEN\tSPF\tF1S\n",
            "0\t100.0\t100.0\t99.0\t1.0\t1.0\t99.0\t0.99\t0.99\t0.99\t0.99\t0.99\n",
            "1\t100.0\t100.0\t99.0\t1.0\t1.0\t99.0\t0.99\t0.99\t0.99\t0.99\t0.99\n",
            "\n",
            "Total Predictions\t 200\n",
            "Correct Predictions\t 198 \t 99.0 %\n",
            "Incorrect Predictions\t 2 \t 1.0 %\n"
          ],
          "name": "stdout"
        },
        {
          "output_type": "display_data",
          "data": {
            "image/png": "[encoded data removed]",
            "text/plain": [
              "<Figure size 864x288 with 1 Axes>"
            ]
          },
          "metadata": {
            "tags": [],
            "needs_background": "light"
          }
        },
        {
          "output_type": "display_data",
          "data": {
            "image/png": "[encoded data removed]",
            "text/plain": [
              "<Figure size 864x288 with 1 Axes>"
            ]
          },
          "metadata": {
            "tags": [],
            "needs_background": "light"
          }
        },
        {
          "output_type": "display_data",
          "data": {
            "image/png": "[encoded data removed]",
            "text/plain": [
              "<Figure size 864x288 with 1 Axes>"
            ]
          },
          "metadata": {
            "tags": [],
            "needs_background": "light"
          }
        }
      ]
    },
    {
      "cell_type": "markdown",
      "metadata": {
        "id": "-tMfusY81YNf"
      },
      "source": [
        "# [] METHOD #2 LSTM AE []"
      ]
    },
    {
      "cell_type": "markdown",
      "metadata": {
        "id": "9zJp-PEUXSl5"
      },
      "source": [
        "## Set Params"
      ]
    },
    {
      "cell_type": "code",
      "metadata": {
        "colab": {
          "base_uri": "https://localhost:8080/"
        },
        "id": "garC0iaS75Pn",
        "outputId": "76f019e2-4942-4df4-cc2a-9485a46f2320"
      },
      "source": [
        "lsamp, rsamp = int(0.1*BASIC_SRATE),int(0.4*BASIC_SRATE)+1\n",
        "seqlen=lsamp+rsamp\n",
        "print(lsamp,',',rsamp,',',seqlen)"
      ],
      "execution_count": null,
      "outputs": [
        {
          "output_type": "stream",
          "text": [
            "12 , 52 , 64\n"
          ],
          "name": "stdout"
        }
      ]
    },
    {
      "cell_type": "markdown",
      "metadata": {
        "id": "fTi7s99vXZii"
      },
      "source": [
        "## Select Dataset"
      ]
    },
    {
      "cell_type": "code",
      "metadata": {
        "colab": {
          "base_uri": "https://localhost:8080/"
        },
        "id": "6OHzcEZP28dO",
        "outputId": "9f9b8d75-6b7e-43d3-f0dc-87a749950173"
      },
      "source": [
        "print(os.listdir(DATASET_DIR))\n",
        "print(os.listdir(DATASET_DIR_NPY))"
      ],
      "execution_count": null,
      "outputs": [
        {
          "output_type": "stream",
          "text": [
            "['ANTS.txt', 'db_01', 'db_test']\n",
            "['annotations.txt', 'incartdb_npy', 'mitdb_npy', 'svdb_npy']\n"
          ],
          "name": "stdout"
        }
      ]
    },
    {
      "cell_type": "code",
      "metadata": {
        "colab": {
          "base_uri": "https://localhost:8080/"
        },
        "id": "VJ7Qe5nu28dQ",
        "outputId": "f42caf2d-d42c-4da6-d460-fcbbe3304399"
      },
      "source": [
        "sel_db_name = 'mitdb_npy'\n",
        "sel_db_path = os.path.join(DATASET_DIR_NPY, sel_db_name)\n",
        "sel_db_files = os.listdir(sel_db_path)\n",
        "print(sel_db_path,',', len(sel_db_files) )\n",
        "print(INCDB_SEL_REC)\n",
        "print(MITDB_SEL_REC)\n",
        "dbo = ecgDatabase(sel_db_name, sel_db_path)\n",
        "print(dbo.record_list.shape,dbo.record_list)"
      ],
      "execution_count": null,
      "outputs": [
        {
          "output_type": "stream",
          "text": [
            "/content/drive/MyDrive/cs575_mini_project/db_npy/mitdb_npy , 144\n",
            "['I39', 'I01', 'I08', 'I18', 'I65', 'I72', 'I46', 'I36', 'I37', 'I35']\n",
            "['116', '215', '210', '233', '214', '228', '221', '119', '203', '106']\n",
            "(43,) ['100' '101' '103' '105' '106' '108' '109' '111' '112' '113' '114' '115'\n",
            " '116' '117' '118' '119' '121' '122' '123' '124' '200' '201' '202' '203'\n",
            " '205' '208' '209' '210' '212' '213' '214' '215' '219' '220' '221' '222'\n",
            " '223' '228' '230' '231' '232' '233' '234']\n"
          ],
          "name": "stdout"
        }
      ]
    },
    {
      "cell_type": "markdown",
      "metadata": {
        "id": "dbiMkTWy28c3"
      },
      "source": [
        "## Select Record"
      ]
    },
    {
      "cell_type": "code",
      "metadata": {
        "colab": {
          "base_uri": "https://localhost:8080/"
        },
        "id": "uqN1F3d228dR",
        "outputId": "6662708e-0572-4288-86a0-7f98851f5f4a"
      },
      "source": [
        "recn = '215'\n",
        "rec = dbo.get_record(recn)\n",
        "print(rec.name, '\\t'+str(rec.nos_beats)+ ' beats')\n",
        "rec.mLabels = rec.map_beat_labels(custom_mapping)# <<-- custom lables"
      ],
      "execution_count": null,
      "outputs": [
        {
          "output_type": "stream",
          "text": [
            "215 \t3363 beats\n"
          ],
          "name": "stdout"
        }
      ]
    },
    {
      "cell_type": "code",
      "metadata": {
        "colab": {
          "base_uri": "https://localhost:8080/"
        },
        "id": "xJJjjFbo3ysL",
        "outputId": "ad9265cd-e58f-4aa0-fb24-4c8a3e9e30a1"
      },
      "source": [
        "ql = np.where(rec.mLabels==\"_N\")[0]\n",
        "print(ql.shape,ql)"
      ],
      "execution_count": null,
      "outputs": [
        {
          "output_type": "stream",
          "text": [
            "(2302,) [   0    1    2 ... 2409 2410 2411]\n"
          ],
          "name": "stdout"
        }
      ]
    },
    {
      "cell_type": "code",
      "metadata": {
        "id": "biIo04BCXzrJ"
      },
      "source": [
        ""
      ],
      "execution_count": null,
      "outputs": []
    },
    {
      "cell_type": "markdown",
      "metadata": {
        "id": "6YacxGx13XFY"
      },
      "source": [
        "## Select Signal (Beat)"
      ]
    },
    {
      "cell_type": "code",
      "metadata": {
        "colab": {
          "base_uri": "https://localhost:8080/",
          "height": 299
        },
        "id": "wSXqf1hd3Yik",
        "outputId": "9b189099-330f-409e-a06b-248db6c70634"
      },
      "source": [
        "bindex = 2924\n",
        "signal, _ = rec.get_signal_slice_api(bindex, lsamp, rsamp )\n",
        "print(signal.shape)\n",
        "plt.plot(signal)\n",
        "print('Label:', rec.mLabels[bindex])"
      ],
      "execution_count": null,
      "outputs": [
        {
          "output_type": "stream",
          "text": [
            "(64,)\n",
            "Label: _V\n"
          ],
          "name": "stdout"
        },
        {
          "output_type": "display_data",
          "data": {
            "image/png": "[encoded data removed]",
            "text/plain": [
              "<Figure size 432x288 with 1 Axes>"
            ]
          },
          "metadata": {
            "tags": [],
            "needs_background": "light"
          }
        }
      ]
    },
    {
      "cell_type": "markdown",
      "metadata": {
        "id": "lHwEJkXHcrMm"
      },
      "source": [
        "### ADF Test, ACF, PACF"
      ]
    },
    {
      "cell_type": "code",
      "metadata": {
        "id": "sgcNlPKScdn5",
        "colab": {
          "base_uri": "https://localhost:8080/",
          "height": 686
        },
        "outputId": "7001a447-b9b8-4217-d2e1-e0acbc8d7ee4"
      },
      "source": [
        "# ADF Test\n",
        "pval_thresh = 0.05\n",
        "Ares, Aresb, Atest = adf_test(signal,pval_thresh, details=True)\n",
        "print(Ares)\n",
        "\n",
        "# plot ACF, PACF\n",
        "Lags_CF = int(len(signal)/2)-1 #128*2 #int(len(signal)/2)-1\n",
        "plotCF(signal, Lags_CF, True)\n"
      ],
      "execution_count": null,
      "outputs": [
        {
          "output_type": "stream",
          "text": [
            "\n",
            "ADF-Test Hypothesis \t Series is Non-Stationary\n",
            "Test Statistic                                                -2.88517\n",
            "p-value                                                         0.0471\n",
            "#Lags Used                                                          11\n",
            "Number of Observations Used                                         52\n",
            "Critical Value (1%)             (-3.562878534649522, Hypothesis: True)\n",
            "Critical Value (5%)             (-2.918973284023669, Hypothesis: True)\n",
            "Critical Value (10%)           (-2.597393446745562, Hypothesis: False)\n",
            "dtype: object\n",
            "ADF-Test Result \t False\n"
          ],
          "name": "stdout"
        },
        {
          "output_type": "display_data",
          "data": {
            "image/png": "[encoded data removed]",
            "text/plain": [
              "<Figure size 1152x576 with 2 Axes>"
            ]
          },
          "metadata": {
            "tags": [],
            "needs_background": "light"
          }
        }
      ]
    },
    {
      "cell_type": "markdown",
      "metadata": {
        "id": "fT8ThT5n3AIf"
      },
      "source": [
        "## LSTM-AE model"
      ]
    },
    {
      "cell_type": "code",
      "metadata": {
        "id": "HvksqXzK1a_n"
      },
      "source": [
        "def get_model_LAE(n_in, Print_Summary=True, do_compile= True):\n",
        "    # define model\n",
        "    lmodel = Sequential() #samples, timesteps, features\n",
        "    lmodel.add(LSTM(64, activation='elu', input_shape=(n_in,1))) \n",
        "    lmodel.add(RepeatVector(n_in))\n",
        "    lmodel.add(LSTM(64, activation='elu', return_sequences=True))\n",
        "    lmodel.add(TimeDistributed(Dense(1)))\n",
        "\n",
        "    if do_compile:\n",
        "        lmodel.compile(optimizer=tf.optimizers.Adam(),loss='mse',)\n",
        "\n",
        "    if Print_Summary:\n",
        "        print(lmodel.summary())\n",
        "    return lmodel\n",
        "\n",
        "#========================================================================================"
      ],
      "execution_count": null,
      "outputs": []
    },
    {
      "cell_type": "markdown",
      "metadata": {
        "id": "dcfV6M6m83O-"
      },
      "source": [
        "## Learn Rate Control"
      ]
    },
    {
      "cell_type": "code",
      "metadata": {
        "id": "jyZS-zAx3ifI"
      },
      "source": [
        "def _deltaLR(e,lr):\n",
        "  #----------------------------------------------------\n",
        "  new_lr = lr # not controlled\n",
        "\n",
        "    #if e%200==0:\n",
        "    #    new_lr = lr*0.9999\n",
        "    #    print('LR CALLBACK:',e,'\\tSET LR: ', new_lr)\n",
        "    #else:\n",
        "    #    new_lr = lr\n",
        "  #----------------------------------------------------\n",
        "    return new_lr"
      ],
      "execution_count": null,
      "outputs": []
    },
    {
      "cell_type": "markdown",
      "metadata": {
        "id": "jKKRCHB38527"
      },
      "source": [
        "## Callbacks"
      ]
    },
    {
      "cell_type": "code",
      "metadata": {
        "id": "0ELu_si_3Ajf"
      },
      "source": [
        "cb_ES_loss = tf.keras.callbacks.EarlyStopping(\n",
        "        monitor='loss',  #monitor: Quantity to be monitored.\n",
        "        min_delta=0.001,  #min_delta: Minimum change in the monitored quantity to qualify as an improvement, i.e. an absolute change of less than min_delta, will count as no improvement.\n",
        "        patience=50,  #patience: Number of epochs with no improvement after which training will be stopped.\n",
        "        verbose=1,  #verbose: verbosity mode.\n",
        "        mode='auto',  #mode: One of {\"auto\", \"min\", \"max\"}. \n",
        "                      #In min mode, training will stop when the quantity monitored has stopped decreasing; \n",
        "                      #in \"max\" mode it will stop when the quantity monitored has stopped increasing; \n",
        "                      #in \"auto\" mode, the direction is automatically inferred from the name of the monitored quantity.\n",
        "        baseline=None,  #baseline: Baseline value for the monitored quantity. Training will stop if the model doesn't show improvement over the baseline.\n",
        "        restore_best_weights=True #restore_best_weights: Whether to restore model weights from the epoch with the best value of the monitored quantity. If False, the model weights obtained at the last step of training are used.\n",
        "        )\n",
        "#cb_LRS = tf.keras.callbacks.LearningRateScheduler(_deltaLR, verbose=0)\n",
        "\n",
        "cb_list = [cb_ES_loss] #<< - cb_LRS dont use Learn rate control"
      ],
      "execution_count": null,
      "outputs": []
    },
    {
      "cell_type": "markdown",
      "metadata": {
        "id": "7TyzlvOp8_K3"
      },
      "source": [
        "## Model Init"
      ]
    },
    {
      "cell_type": "code",
      "metadata": {
        "colab": {
          "base_uri": "https://localhost:8080/"
        },
        "id": "TYqIg0w-C0qM",
        "outputId": "8e42a8d3-26dc-4617-ab2d-683fa5ef25aa"
      },
      "source": [
        "model = get_model_LAE(seqlen)"
      ],
      "execution_count": null,
      "outputs": [
        {
          "output_type": "stream",
          "text": [
            "Model: \"sequential_6\"\n",
            "_________________________________________________________________\n",
            "Layer (type)                 Output Shape              Param #   \n",
            "=================================================================\n",
            "lstm_12 (LSTM)               (None, 64)                16896     \n",
            "_________________________________________________________________\n",
            "repeat_vector_6 (RepeatVecto (None, 64, 64)            0         \n",
            "_________________________________________________________________\n",
            "lstm_13 (LSTM)               (None, 64, 64)            33024     \n",
            "_________________________________________________________________\n",
            "time_distributed_6 (TimeDist (None, 64, 1)             65        \n",
            "=================================================================\n",
            "Total params: 49,985\n",
            "Trainable params: 49,985\n",
            "Non-trainable params: 0\n",
            "_________________________________________________________________\n",
            "None\n"
          ],
          "name": "stdout"
        }
      ]
    },
    {
      "cell_type": "markdown",
      "metadata": {
        "id": "526u0f6lIahX"
      },
      "source": [
        "### Train single beat"
      ]
    },
    {
      "cell_type": "code",
      "metadata": {
        "colab": {
          "base_uri": "https://localhost:8080/",
          "height": 332
        },
        "id": "xDOy41sI1b4a",
        "outputId": "b4a9fb5f-7ff0-4000-879f-2908a87ea691"
      },
      "source": [
        "seq_len = len(signal)\n",
        "assert (seqlen==seq_len)\n",
        "sequence = signal.reshape((1, seq_len, 1))\n",
        "# reshape input into [samples, timesteps, features]\n",
        "print(sequence.shape)\n",
        "\n",
        "history = model.fit(sequence, sequence, epochs=1000, verbose=0, callbacks=cb_list)\n",
        "plt.title('Loss')\n",
        "plt.plot(history.history['loss'],color='tab:red', label='train_loss')\n",
        "plt.legend()\n",
        "plt.show()"
      ],
      "execution_count": null,
      "outputs": [
        {
          "output_type": "stream",
          "text": [
            "(1, 64, 1)\n",
            "Restoring model weights from the end of the best epoch.\n",
            "Epoch 00256: early stopping\n"
          ],
          "name": "stdout"
        },
        {
          "output_type": "display_data",
          "data": {
            "image/png": "[encoded data removed]",
            "text/plain": [
              "<Figure size 432x288 with 1 Axes>"
            ]
          },
          "metadata": {
            "tags": [],
            "needs_background": "light"
          }
        }
      ]
    },
    {
      "cell_type": "markdown",
      "metadata": {
        "id": "LFN6_Lolvrg3"
      },
      "source": [
        "### Test for threshold"
      ]
    },
    {
      "cell_type": "code",
      "metadata": {
        "colab": {
          "base_uri": "https://localhost:8080/",
          "height": 300
        },
        "id": "-gbv-ochvzze",
        "outputId": "6df77f1a-1365-47af-e816-d64d83b4e0d1"
      },
      "source": [
        "\n",
        "mLabels_c = rec.mLabels[1:-1]\n",
        "q = np.hstack(( np.random.choice( np.where((mLabels_c==\"_V\"))[0]+1, size= 100,replace=False),\n",
        " np.random.choice( np.where((mLabels_c==\"_N\"))[0]+1, size= 100,replace=False)))\n",
        "print(\"...begin encoding and prediction on samples:\",len(q))\n",
        "\n",
        "pred_dict = {\"_V\":[],\"_N\":[]}\n",
        "for bindex in q :\n",
        "    signal_, _ = rec.get_signal_slice_api(bindex, lsamp, rsamp )\n",
        "    assert (len(signal_)==seqlen)\n",
        "    sequence = signal_.reshape((1, seqlen, 1))\n",
        "    yhat = model.predict(sequence, verbose=0)\n",
        "    dE = np.abs(yhat[0,:,0] - sequence[0,:,0])\n",
        "    MAE = np.sum(dE)\n",
        "    pred_dict[rec.mLabels[bindex]].append(MAE)\n",
        "\n",
        "plt.figure(figsize=(12,4))\n",
        "plt.ylim(0,50)\n",
        "plt.scatter(np.arange(0,len(pred_dict[\"_V\"]),1),pred_dict[\"_V\"], color='tab:red')\n",
        "plt.scatter(np.arange(0,len(pred_dict[\"_N\"]),1),pred_dict[\"_N\"], color='tab:green')\n",
        "#plt.hlines(20,0,100)\n",
        "plt.ylabel('MAE')\n",
        "plt.xlabel('Sample#')\n",
        "plt.show()"
      ],
      "execution_count": null,
      "outputs": [
        {
          "output_type": "stream",
          "text": [
            "...begin encoding and prediction on samples: 200\n"
          ],
          "name": "stdout"
        },
        {
          "output_type": "display_data",
          "data": {
            "image/png": "[encoded data removed]",
            "text/plain": [
              "<Figure size 864x288 with 1 Axes>"
            ]
          },
          "metadata": {
            "tags": [],
            "needs_background": "light"
          }
        }
      ]
    },
    {
      "cell_type": "markdown",
      "metadata": {
        "id": "pKHyCcMIBdNI"
      },
      "source": [
        "### Recreate beat"
      ]
    },
    {
      "cell_type": "code",
      "metadata": {
        "colab": {
          "base_uri": "https://localhost:8080/",
          "height": 829
        },
        "id": "S85Fn9IXEZZ6",
        "outputId": "27f51867-12e6-4ed9-f1da-96a509e30a30"
      },
      "source": [
        "bindex = 807\n",
        "signal, _ = rec.get_signal_slice_api(bindex, lsamp, rsamp )\n",
        "print(signal.shape)\n",
        "plt.plot(signal)\n",
        "print('Label:', rec.mLabels[bindex])\n",
        "seq_len = len(signal)\n",
        "assert (seqlen==seq_len)\n",
        "sequence = signal.reshape((1, seq_len, 1))\n",
        "# reshape input into [samples, timesteps, features]\n",
        "print(sequence.shape)\n",
        "plt.show()\n",
        "\n",
        "yhat = model.predict(sequence, verbose=0)\n",
        "dE = np.abs(yhat[0,:,0] - sequence[0,:,0])\n",
        "MAE = np.sum(dE)\n",
        "print('MAE:', MAE)\n",
        "\n",
        "plt.figure(figsize=(8,4))\n",
        "plt.plot(sequence[0,:,0],color='green',linestyle='dotted', label='true')\n",
        "plt.plot(yhat[0,:,0],color='red',linewidth=0.7,label='pred')\n",
        "plt.legend()\n",
        "plt.show()\n",
        "plt.plot(dE,color='tab:purple',linewidth=0.7)\n",
        "plt.show()"
      ],
      "execution_count": null,
      "outputs": [
        {
          "output_type": "stream",
          "text": [
            "(64,)\n",
            "Label: _V\n",
            "(1, 64, 1)\n"
          ],
          "name": "stdout"
        },
        {
          "output_type": "display_data",
          "data": {
            "image/png": "[encoded data removed]",
            "text/plain": [
              "<Figure size 432x288 with 1 Axes>"
            ]
          },
          "metadata": {
            "tags": [],
            "needs_background": "light"
          }
        },
        {
          "output_type": "stream",
          "text": [
            "MAE: 7.3471143489796145\n"
          ],
          "name": "stdout"
        },
        {
          "output_type": "display_data",
          "data": {
            "image/png": "[encoded data removed]",
            "text/plain": [
              "<Figure size 576x288 with 1 Axes>"
            ]
          },
          "metadata": {
            "tags": [],
            "needs_background": "light"
          }
        },
        {
          "output_type": "display_data",
          "data": {
            "image/png": "[encoded data removed]",
            "text/plain": [
              "<Figure size 432x288 with 1 Axes>"
            ]
          },
          "metadata": {
            "tags": [],
            "needs_background": "light"
          }
        }
      ]
    },
    {
      "cell_type": "markdown",
      "metadata": {
        "id": "ZdOji-V_IIDw"
      },
      "source": [
        "## Train on Full Record"
      ]
    },
    {
      "cell_type": "code",
      "metadata": {
        "id": "a9E428j3IHNr"
      },
      "source": [
        "def _train_LAE(rec, sequence_length, use_beats, _nL ,use_mapped_labels=True,random_train_beats=True):\n",
        "    print('Init Classifier...')\n",
        "    # <<-- Choose NN and AA\n",
        "    if use_mapped_labels:\n",
        "        print('Use mapped labels')\n",
        "        mLabels_p,mLabels_c,mLabels_n = rec.mLabels[0:-2],rec.mLabels[1:-1],rec.mLabels[2:]\n",
        "    else:\n",
        "        print('Use original labels')\n",
        "        mLabels_p,mLabels_c,mLabels_n = rec.iLabels[0:-2],rec.iLabels[1:-1],rec.iLabels[2:]\n",
        "\n",
        "    ##############################################################################################################\n",
        "\n",
        "    NN_ = np.where((mLabels_p==_nL)&(mLabels_c==_nL)&(mLabels_n==_nL))[0]+1 # True Normal:\n",
        "    #N_ = np.where((mLabels_c==self._n))[0]+1 # Any Normal: All Normal beats\n",
        "    #AA_ = np.where((mLabels_c!=self._n))[0] + 1 # All Abnormal beats\n",
        "    #A_ = np.where((mLabels_c==_aL))[0] + 1 # Abnormal beats\n",
        "\n",
        "    nncount = min(len(NN_),use_beats)\n",
        "    #aacount = min(len(A_),use_beats)\n",
        "\n",
        "    # either take from begin or randomly\n",
        "    if random_train_beats:\n",
        "        print('Random beats for training...')\n",
        "        for_train_N = np.random.choice(NN_,size=nncount,replace=False)  #<--- rand True Normal\n",
        "        #for_train_A = np.random.choice(A_,size=aacount,replace=False)  #<--- rand Abnormal beats\n",
        "    else:  \n",
        "        print('Initial beats for training...')  \n",
        "        for_train_N = NN_[0:nncount]  #<--- first 10 beats True Normal\n",
        "        #for_train_A = A_[0:aacount]  #<--- first 10 beats Abnormal beats\n",
        "\n",
        "    data_listN=[]\n",
        "    print('Learning...',nncount )    \n",
        "\n",
        "     # reshape input into [samples, timesteps, features]\n",
        "    for i in range(0,nncount):\n",
        "        bindex = for_train_N[i]\n",
        "        signal_, _ = rec.get_signal_slice_api(bindex, lsamp, rsamp )\n",
        "        assert (sequence_length==len(signal_))\n",
        "        data_listN.append(signal_)\n",
        "        \n",
        "    #for i in range(0,aacount):\n",
        "    #    bindex = for_train_A[i]\n",
        "    #    signal_, _ = rec.get_signal_slice_api(bindex, lsamp, rsamp )\n",
        "    #    assert (sequence_length==len(signal_))\n",
        "    #    data_listA.append(signal_)\n",
        "\n",
        "\n",
        "    # first choose use_beats\n",
        "    sequenceN = np.array(data_listN).reshape((len(data_listN), sequence_length, 1))\n",
        "    #sequenceA = np.array(data_listA).reshape((len(data_listA), sequence_length, 1))\n",
        "\n",
        "    data_ = sequenceN #np.vstack((sequenceN,sequenceA))\n",
        "    np.random.shuffle(data_)\n",
        "\n",
        "    modelLAE = get_model_LAE(sequence_length)\n",
        "\n",
        "    history = modelLAE.fit(data_, data_, epochs=1000, verbose=1, callbacks=cb_list)\n",
        "    plt.title('Loss')\n",
        "    plt.plot(history.history['loss'],color='tab:red', label='train_loss')\n",
        "    plt.legend()\n",
        "    plt.show()\n",
        "\n",
        "\n",
        "    return modelLAE"
      ],
      "execution_count": null,
      "outputs": []
    },
    {
      "cell_type": "markdown",
      "metadata": {
        "id": "Wu4i04q0HwKL"
      },
      "source": [
        "### Select *Record*"
      ]
    },
    {
      "cell_type": "code",
      "metadata": {
        "colab": {
          "base_uri": "https://localhost:8080/"
        },
        "id": "F9bCUYbMi2wG",
        "outputId": "810a9107-674a-4d68-dc3c-d9905060b601"
      },
      "source": [
        "#['I39', 'I01', 'I08', 'I18', 'I65', 'I72', 'I46', 'I36', 'I37', 'I35']\n",
        "#['116', '215', '210', '233', '214', '228', '221', '119', '203', '106']\n",
        "recn = '106'\n",
        "rec = dbo.get_record(recn)\n",
        "print(rec.name, '\\t'+str(rec.nos_beats)+ ' beats')\n",
        "rec.mLabels = rec.map_beat_labels(custom_mapping)# <<-- custom lables\n",
        "ql = np.where(rec.mLabels==\"_V\")[0]\n",
        "print(ql.shape)"
      ],
      "execution_count": null,
      "outputs": [
        {
          "output_type": "stream",
          "text": [
            "106 \t2027 beats\n",
            "(520,)\n"
          ],
          "name": "stdout"
        }
      ]
    },
    {
      "cell_type": "markdown",
      "metadata": {
        "id": "4xT9ZP7NYHz0"
      },
      "source": [
        "### Start Training"
      ]
    },
    {
      "cell_type": "code",
      "metadata": {
        "colab": {
          "base_uri": "https://localhost:8080/",
          "height": 1000
        },
        "id": "r6-e4HSOHvVX",
        "outputId": "ef58ff4a-7f4b-47f2-824d-e591816d9baf"
      },
      "source": [
        "use_beatsX=100\n",
        "modelX = _train_LAE(rec, seqlen, use_beatsX, \"_N\",use_mapped_labels=True,random_train_beats=True)\n",
        "print(rec.name)"
      ],
      "execution_count": null,
      "outputs": [
        {
          "output_type": "stream",
          "text": [
            "Init Classifier...\n",
            "Use mapped labels\n",
            "Random beats for training...\n",
            "Learning... 100\n",
            "Model: \"sequential_41\"\n",
            "_________________________________________________________________\n",
            "Layer (type)                 Output Shape              Param #   \n",
            "=================================================================\n",
            "lstm_54 (LSTM)               (None, 64)                16896     \n",
            "_________________________________________________________________\n",
            "repeat_vector_27 (RepeatVect (None, 64, 64)            0         \n",
            "_________________________________________________________________\n",
            "lstm_55 (LSTM)               (None, 64, 64)            33024     \n",
            "_________________________________________________________________\n",
            "time_distributed_27 (TimeDis (None, 64, 1)             65        \n",
            "=================================================================\n",
            "Total params: 49,985\n",
            "Trainable params: 49,985\n",
            "Non-trainable params: 0\n",
            "_________________________________________________________________\n",
            "None\n",
            "Epoch 1/1000\n",
            "4/4 [==============================] - 3s 62ms/step - loss: 0.2118\n",
            "Epoch 2/1000\n",
            "4/4 [==============================] - 0s 63ms/step - loss: 0.1856\n",
            "Epoch 3/1000\n",
            "4/4 [==============================] - 0s 62ms/step - loss: 0.1876\n",
            "Epoch 4/1000\n",
            "4/4 [==============================] - 0s 67ms/step - loss: 0.1862\n",
            "Epoch 5/1000\n",
            "4/4 [==============================] - 0s 62ms/step - loss: 0.1879\n",
            "Epoch 6/1000\n",
            "4/4 [==============================] - 0s 63ms/step - loss: 0.1862\n",
            "Epoch 7/1000\n",
            "4/4 [==============================] - 0s 68ms/step - loss: 0.1904\n",
            "Epoch 8/1000\n",
            "4/4 [==============================] - 0s 65ms/step - loss: 0.1884\n",
            "Epoch 9/1000\n",
            "4/4 [==============================] - 0s 68ms/step - loss: 0.1872\n",
            "Epoch 10/1000\n",
            "4/4 [==============================] - 0s 63ms/step - loss: 0.1861\n",
            "Epoch 11/1000\n",
            "4/4 [==============================] - 0s 66ms/step - loss: 0.1791\n",
            "Epoch 12/1000\n",
            "4/4 [==============================] - 0s 67ms/step - loss: 0.1588\n",
            "Epoch 13/1000\n",
            "4/4 [==============================] - 0s 69ms/step - loss: 0.1413\n",
            "Epoch 14/1000\n",
            "4/4 [==============================] - 0s 69ms/step - loss: 0.1404\n",
            "Epoch 15/1000\n",
            "4/4 [==============================] - 0s 69ms/step - loss: 0.1378\n",
            "Epoch 16/1000\n",
            "4/4 [==============================] - 0s 78ms/step - loss: 0.1293\n",
            "Epoch 17/1000\n",
            "4/4 [==============================] - 0s 93ms/step - loss: 0.1351\n",
            "Epoch 18/1000\n",
            "4/4 [==============================] - 0s 92ms/step - loss: 0.1307\n",
            "Epoch 19/1000\n",
            "4/4 [==============================] - 0s 81ms/step - loss: 0.1259\n",
            "Epoch 20/1000\n",
            "4/4 [==============================] - 0s 75ms/step - loss: 0.1270\n",
            "Epoch 21/1000\n",
            "4/4 [==============================] - 0s 79ms/step - loss: 0.1257\n",
            "Epoch 22/1000\n",
            "4/4 [==============================] - 0s 84ms/step - loss: 0.1211\n",
            "Epoch 23/1000\n",
            "4/4 [==============================] - 0s 92ms/step - loss: 0.1176\n",
            "Epoch 24/1000\n",
            "4/4 [==============================] - 0s 87ms/step - loss: 0.1085\n",
            "Epoch 25/1000\n",
            "4/4 [==============================] - 0s 82ms/step - loss: 0.1007\n",
            "Epoch 26/1000\n",
            "4/4 [==============================] - 0s 81ms/step - loss: 0.0897\n",
            "Epoch 27/1000\n",
            "4/4 [==============================] - 0s 93ms/step - loss: 0.0801\n",
            "Epoch 28/1000\n",
            "4/4 [==============================] - 0s 88ms/step - loss: 0.0903\n",
            "Epoch 29/1000\n",
            "4/4 [==============================] - 0s 82ms/step - loss: 0.0732\n",
            "Epoch 30/1000\n",
            "4/4 [==============================] - 0s 86ms/step - loss: 0.0539\n",
            "Epoch 31/1000\n",
            "4/4 [==============================] - 0s 86ms/step - loss: 0.0497\n",
            "Epoch 32/1000\n",
            "4/4 [==============================] - 0s 92ms/step - loss: 0.0400\n",
            "Epoch 33/1000\n",
            "4/4 [==============================] - 0s 84ms/step - loss: 0.0406\n",
            "Epoch 34/1000\n",
            "4/4 [==============================] - 0s 74ms/step - loss: 0.0412\n",
            "Epoch 35/1000\n",
            "4/4 [==============================] - 0s 78ms/step - loss: 0.0548\n",
            "Epoch 36/1000\n",
            "4/4 [==============================] - 0s 78ms/step - loss: 0.0427\n",
            "Epoch 37/1000\n",
            "4/4 [==============================] - 0s 80ms/step - loss: 0.0434\n",
            "Epoch 38/1000\n",
            "4/4 [==============================] - 0s 73ms/step - loss: 0.0323\n",
            "Epoch 39/1000\n",
            "4/4 [==============================] - 0s 76ms/step - loss: 0.0332\n",
            "Epoch 40/1000\n",
            "4/4 [==============================] - 0s 78ms/step - loss: 0.0312\n",
            "Epoch 41/1000\n",
            "4/4 [==============================] - 0s 76ms/step - loss: 0.0294\n",
            "Epoch 42/1000\n",
            "4/4 [==============================] - 0s 76ms/step - loss: 0.0292\n",
            "Epoch 43/1000\n",
            "4/4 [==============================] - 0s 72ms/step - loss: 0.0323\n",
            "Epoch 44/1000\n",
            "4/4 [==============================] - 0s 84ms/step - loss: 0.0319\n",
            "Epoch 45/1000\n",
            "4/4 [==============================] - 0s 77ms/step - loss: 0.0291\n",
            "Epoch 46/1000\n",
            "4/4 [==============================] - 0s 72ms/step - loss: 0.0273\n",
            "Epoch 47/1000\n",
            "4/4 [==============================] - 0s 72ms/step - loss: 0.0298\n",
            "Epoch 48/1000\n",
            "4/4 [==============================] - 0s 75ms/step - loss: 0.0348\n",
            "Epoch 49/1000\n",
            "4/4 [==============================] - 0s 77ms/step - loss: 0.0324\n",
            "Epoch 50/1000\n",
            "4/4 [==============================] - 0s 74ms/step - loss: 0.0303\n",
            "Epoch 51/1000\n",
            "4/4 [==============================] - 0s 75ms/step - loss: 0.0317\n",
            "Epoch 52/1000\n",
            "4/4 [==============================] - 0s 78ms/step - loss: 0.0293\n",
            "Epoch 53/1000\n",
            "4/4 [==============================] - 0s 73ms/step - loss: 0.0264\n",
            "Epoch 54/1000\n",
            "4/4 [==============================] - 0s 75ms/step - loss: 0.0272\n",
            "Epoch 55/1000\n",
            "4/4 [==============================] - 0s 73ms/step - loss: 0.0273\n",
            "Epoch 56/1000\n",
            "4/4 [==============================] - 0s 72ms/step - loss: 0.0253\n",
            "Epoch 57/1000\n",
            "4/4 [==============================] - 0s 78ms/step - loss: 0.0246\n",
            "Epoch 58/1000\n",
            "4/4 [==============================] - 0s 76ms/step - loss: 0.0234\n",
            "Epoch 59/1000\n",
            "4/4 [==============================] - 0s 75ms/step - loss: 0.0239\n",
            "Epoch 60/1000\n",
            "4/4 [==============================] - 0s 79ms/step - loss: 0.0248\n",
            "Epoch 61/1000\n",
            "4/4 [==============================] - 0s 82ms/step - loss: 0.0305\n",
            "Epoch 62/1000\n",
            "4/4 [==============================] - 0s 68ms/step - loss: 0.0256\n",
            "Epoch 63/1000\n",
            "4/4 [==============================] - 0s 65ms/step - loss: 0.0224\n",
            "Epoch 64/1000\n",
            "4/4 [==============================] - 0s 74ms/step - loss: 0.0233\n",
            "Epoch 65/1000\n",
            "4/4 [==============================] - 0s 66ms/step - loss: 0.0215\n",
            "Epoch 66/1000\n",
            "4/4 [==============================] - 0s 67ms/step - loss: 0.0270\n",
            "Epoch 67/1000\n",
            "4/4 [==============================] - 0s 70ms/step - loss: 0.0240\n",
            "Epoch 68/1000\n",
            "4/4 [==============================] - 0s 68ms/step - loss: 0.0247\n",
            "Epoch 69/1000\n",
            "4/4 [==============================] - 0s 67ms/step - loss: 0.0212\n",
            "Epoch 70/1000\n",
            "4/4 [==============================] - 0s 71ms/step - loss: 0.0207\n",
            "Epoch 71/1000\n",
            "4/4 [==============================] - 0s 71ms/step - loss: 0.0212\n",
            "Epoch 72/1000\n",
            "4/4 [==============================] - 0s 66ms/step - loss: 0.0210\n",
            "Epoch 73/1000\n",
            "4/4 [==============================] - 0s 69ms/step - loss: 0.0279\n",
            "Epoch 74/1000\n",
            "4/4 [==============================] - 0s 67ms/step - loss: 0.0319\n",
            "Epoch 75/1000\n",
            "4/4 [==============================] - 0s 71ms/step - loss: 0.0235\n",
            "Epoch 76/1000\n",
            "4/4 [==============================] - 0s 75ms/step - loss: 0.0211\n",
            "Epoch 77/1000\n",
            "4/4 [==============================] - 0s 67ms/step - loss: 0.0218\n",
            "Epoch 78/1000\n",
            "4/4 [==============================] - 0s 71ms/step - loss: 0.0221\n",
            "Epoch 79/1000\n",
            "4/4 [==============================] - 0s 70ms/step - loss: 0.0239\n",
            "Epoch 80/1000\n",
            "4/4 [==============================] - 0s 74ms/step - loss: 0.0217\n",
            "Epoch 81/1000\n",
            "4/4 [==============================] - 0s 89ms/step - loss: 0.0212\n",
            "Epoch 82/1000\n",
            "4/4 [==============================] - 0s 82ms/step - loss: 0.0204\n",
            "Epoch 83/1000\n",
            "4/4 [==============================] - 0s 77ms/step - loss: 0.0194\n",
            "Epoch 84/1000\n",
            "4/4 [==============================] - 0s 79ms/step - loss: 0.0221\n",
            "Epoch 85/1000\n",
            "4/4 [==============================] - 0s 72ms/step - loss: 0.0248\n",
            "Epoch 86/1000\n",
            "4/4 [==============================] - 0s 74ms/step - loss: 0.0224\n",
            "Epoch 87/1000\n",
            "4/4 [==============================] - 0s 84ms/step - loss: 0.0212\n",
            "Epoch 88/1000\n",
            "4/4 [==============================] - 0s 79ms/step - loss: 0.0213\n",
            "Epoch 89/1000\n",
            "4/4 [==============================] - 0s 76ms/step - loss: 0.0201\n",
            "Epoch 90/1000\n",
            "4/4 [==============================] - 0s 79ms/step - loss: 0.0227\n",
            "Epoch 91/1000\n",
            "4/4 [==============================] - 0s 81ms/step - loss: 0.0227\n",
            "Epoch 92/1000\n",
            "4/4 [==============================] - 0s 73ms/step - loss: 0.0287\n",
            "Epoch 93/1000\n",
            "4/4 [==============================] - 0s 75ms/step - loss: 0.0220\n",
            "Epoch 94/1000\n",
            "4/4 [==============================] - 0s 81ms/step - loss: 0.0204\n",
            "Epoch 95/1000\n",
            "4/4 [==============================] - 0s 71ms/step - loss: 0.0203\n",
            "Epoch 96/1000\n",
            "4/4 [==============================] - 0s 74ms/step - loss: 0.0192\n",
            "Epoch 97/1000\n",
            "4/4 [==============================] - 0s 70ms/step - loss: 0.0187\n",
            "Epoch 98/1000\n",
            "4/4 [==============================] - 0s 68ms/step - loss: 0.0196\n",
            "Epoch 99/1000\n",
            "4/4 [==============================] - 0s 73ms/step - loss: 0.0197\n",
            "Epoch 100/1000\n",
            "4/4 [==============================] - 0s 72ms/step - loss: 0.0200\n",
            "Epoch 101/1000\n",
            "4/4 [==============================] - 0s 72ms/step - loss: 0.0192\n",
            "Epoch 102/1000\n",
            "4/4 [==============================] - 0s 73ms/step - loss: 0.0219\n",
            "Epoch 103/1000\n",
            "4/4 [==============================] - 0s 65ms/step - loss: 0.0195\n",
            "Epoch 104/1000\n",
            "4/4 [==============================] - 0s 67ms/step - loss: 0.0195\n",
            "Epoch 105/1000\n",
            "4/4 [==============================] - 0s 66ms/step - loss: 0.0176\n",
            "Epoch 106/1000\n",
            "4/4 [==============================] - 0s 67ms/step - loss: 0.0223\n",
            "Epoch 107/1000\n",
            "4/4 [==============================] - 0s 65ms/step - loss: 0.0268\n",
            "Epoch 108/1000\n",
            "4/4 [==============================] - 0s 68ms/step - loss: 0.0246\n",
            "Epoch 109/1000\n",
            "4/4 [==============================] - 0s 66ms/step - loss: 0.0230\n",
            "Epoch 110/1000\n",
            "4/4 [==============================] - 0s 69ms/step - loss: 0.0207\n",
            "Epoch 111/1000\n",
            "4/4 [==============================] - 0s 69ms/step - loss: 0.0236\n",
            "Epoch 112/1000\n",
            "4/4 [==============================] - 0s 66ms/step - loss: 0.0215\n",
            "Epoch 113/1000\n",
            "4/4 [==============================] - 0s 68ms/step - loss: 0.0213\n",
            "Epoch 114/1000\n",
            "4/4 [==============================] - 0s 69ms/step - loss: 0.0180\n",
            "Epoch 115/1000\n",
            "4/4 [==============================] - 0s 73ms/step - loss: 0.0183\n",
            "Epoch 116/1000\n",
            "4/4 [==============================] - 0s 63ms/step - loss: 0.0188\n",
            "Epoch 117/1000\n",
            "4/4 [==============================] - 0s 72ms/step - loss: 0.0190\n",
            "Epoch 118/1000\n",
            "4/4 [==============================] - 0s 74ms/step - loss: 0.0190\n",
            "Epoch 119/1000\n",
            "4/4 [==============================] - 0s 70ms/step - loss: 0.0196\n",
            "Epoch 120/1000\n",
            "4/4 [==============================] - 0s 72ms/step - loss: 0.0194\n",
            "Epoch 121/1000\n",
            "4/4 [==============================] - 0s 70ms/step - loss: 0.0185\n",
            "Epoch 122/1000\n",
            "4/4 [==============================] - 0s 79ms/step - loss: 0.0172\n",
            "Epoch 123/1000\n",
            "4/4 [==============================] - 0s 73ms/step - loss: 0.0219\n",
            "Epoch 124/1000\n",
            "4/4 [==============================] - 0s 65ms/step - loss: 0.0238\n",
            "Epoch 125/1000\n",
            "4/4 [==============================] - 0s 72ms/step - loss: 0.0235\n",
            "Epoch 126/1000\n",
            "4/4 [==============================] - 0s 71ms/step - loss: 0.0223\n",
            "Epoch 127/1000\n",
            "4/4 [==============================] - 0s 69ms/step - loss: 0.0176\n",
            "Epoch 128/1000\n",
            "4/4 [==============================] - 0s 77ms/step - loss: 0.0179\n",
            "Epoch 129/1000\n",
            "4/4 [==============================] - 0s 73ms/step - loss: 0.0216\n",
            "Epoch 130/1000\n",
            "4/4 [==============================] - 0s 71ms/step - loss: 0.0222\n",
            "Epoch 131/1000\n",
            "4/4 [==============================] - 0s 67ms/step - loss: 0.0288\n",
            "Epoch 132/1000\n",
            "4/4 [==============================] - 0s 67ms/step - loss: 0.0262\n",
            "Epoch 133/1000\n",
            "4/4 [==============================] - 0s 70ms/step - loss: 0.0210\n",
            "Epoch 134/1000\n",
            "4/4 [==============================] - 0s 65ms/step - loss: 0.0238\n",
            "Epoch 135/1000\n",
            "4/4 [==============================] - 0s 70ms/step - loss: 0.0200\n",
            "Epoch 136/1000\n",
            "4/4 [==============================] - 0s 71ms/step - loss: 0.0218\n",
            "Epoch 137/1000\n",
            "4/4 [==============================] - 0s 68ms/step - loss: 0.0199\n",
            "Epoch 138/1000\n",
            "4/4 [==============================] - 0s 65ms/step - loss: 0.0203\n",
            "Epoch 139/1000\n",
            "4/4 [==============================] - 0s 74ms/step - loss: 0.0178\n",
            "Epoch 140/1000\n",
            "4/4 [==============================] - 0s 69ms/step - loss: 0.0175\n",
            "Epoch 141/1000\n",
            "4/4 [==============================] - 0s 70ms/step - loss: 0.0184\n",
            "Epoch 142/1000\n",
            "4/4 [==============================] - 0s 63ms/step - loss: 0.0181\n",
            "Epoch 143/1000\n",
            "4/4 [==============================] - 0s 68ms/step - loss: 0.0195\n",
            "Epoch 144/1000\n",
            "4/4 [==============================] - 0s 64ms/step - loss: 0.0184\n",
            "Epoch 145/1000\n",
            "4/4 [==============================] - 0s 64ms/step - loss: 0.0175\n",
            "Epoch 146/1000\n",
            "4/4 [==============================] - 0s 70ms/step - loss: 0.0173\n",
            "Epoch 147/1000\n",
            "4/4 [==============================] - 0s 70ms/step - loss: 0.0200\n",
            "Epoch 148/1000\n",
            "4/4 [==============================] - 0s 71ms/step - loss: 0.0215\n",
            "Epoch 149/1000\n",
            "4/4 [==============================] - 0s 78ms/step - loss: 0.0201\n",
            "Epoch 150/1000\n",
            "4/4 [==============================] - 0s 78ms/step - loss: 0.0197\n",
            "Epoch 151/1000\n",
            "4/4 [==============================] - 0s 78ms/step - loss: 0.0198\n",
            "Epoch 152/1000\n",
            "4/4 [==============================] - 0s 68ms/step - loss: 0.0183\n",
            "Epoch 153/1000\n",
            "4/4 [==============================] - 0s 73ms/step - loss: 0.0192\n",
            "Epoch 154/1000\n",
            "4/4 [==============================] - 0s 66ms/step - loss: 0.0186\n",
            "Epoch 155/1000\n",
            "4/4 [==============================] - 0s 68ms/step - loss: 0.0190\n",
            "Restoring model weights from the end of the best epoch.\n",
            "Epoch 00155: early stopping\n"
          ],
          "name": "stdout"
        },
        {
          "output_type": "display_data",
          "data": {
            "image/png": "[encoded data removed]",
            "text/plain": [
              "<Figure size 432x288 with 1 Axes>"
            ]
          },
          "metadata": {
            "tags": [],
            "needs_background": "light"
          }
        },
        {
          "output_type": "stream",
          "text": [
            "106\n"
          ],
          "name": "stdout"
        }
      ]
    },
    {
      "cell_type": "markdown",
      "metadata": {
        "id": "iiiaT4riUhiL"
      },
      "source": [
        "### Start Testing"
      ]
    },
    {
      "cell_type": "code",
      "metadata": {
        "colab": {
          "base_uri": "https://localhost:8080/",
          "height": 924
        },
        "id": "NSGLdHmIUkdV",
        "outputId": "4ce4aa31-90e2-4512-f92d-1b37e7f6f9fe"
      },
      "source": [
        "use_beats_testN=200\n",
        "use_beats_testA=100\n",
        "use_mapped_labels=True\n",
        "print('\\nTesting...')\n",
        "\n",
        "#qN = np.random.choice( np.where((mLabels_c==\"_N\"))[0]+1, size= use_beats_testN, replace=False)\n",
        "#qA = np.random.choice( np.where((mLabels_c==\"_V\"))[0]+1, size= use_beats_testA, replace=False)\n",
        "if use_mapped_labels:\n",
        "    print('Use mapped labels')\n",
        "    mLabels_p,mLabels_c,mLabels_n = rec.mLabels[0:-2],rec.mLabels[1:-1],rec.mLabels[2:]\n",
        "else:\n",
        "    print('Use original labels')\n",
        "    mLabels_p,mLabels_c,mLabels_n = rec.iLabels[0:-2],rec.iLabels[1:-1],rec.iLabels[2:]\n",
        "\n",
        "qN = np.where((mLabels_c==\"_N\"))[0]+1\n",
        "qA = np.where((mLabels_c==\"_V\"))[0]+1\n",
        "\n",
        "takes = min(len(qN),len(qA))\n",
        "\n",
        "qN = np.random.choice(qN, size=takes, replace=False)\n",
        "qA = np.random.choice(qA, size=takes, replace=False)\n",
        "\n",
        "q = np.hstack((qA,qN))\n",
        "#q= np.arange(0,rec.nos_beats-1)\n",
        "print(\"...begin encoding and prediction on samples:\",len(q), len(qN), len(qA))\n",
        "\n",
        "pred_dict = {\"_V\":[],\"_N\":[]}\n",
        "for bindex in q :\n",
        "    signal_, _ = rec.get_signal_slice_api(bindex, lsamp, rsamp )\n",
        "    assert (seqlen == len(signal_))\n",
        "    sequence = signal_.reshape((1,seqlen, 1))\n",
        "    yhat = modelX.predict(sequence, verbose=0)\n",
        "    dE = np.abs(yhat[0,:,0] - sequence[0,:,0])\n",
        "    MAE = np.sum(dE)\n",
        "    pred_dict[rec.mLabels[bindex]].append(MAE)\n",
        "\n",
        "plt.figure(figsize=(12,4))\n",
        "plt.ylim(0,50)\n",
        "\n",
        "\n",
        "plt.scatter(np.arange(0,len(pred_dict[\"_V\"]),1),pred_dict[\"_V\"], color='tab:red')\n",
        "plt.scatter(np.arange(0,len(pred_dict[\"_N\"]),1),pred_dict[\"_N\"], color='tab:green')\n",
        "#plt.hlines(20,0,100)\n",
        "plt.ylabel('MAE')\n",
        "plt.xlabel('Sample#')\n",
        "plt.show()\n",
        "#-------------------------------------\n",
        "\n",
        "\n",
        "\n",
        "Npd = np.array(pred_dict[\"_N\"])\n",
        "Apd = np.array(pred_dict[\"_V\"])\n",
        "\n",
        "pthresh = 0.98 #90 % data\n",
        "data_ = np.hstack((Npd, Apd))\n",
        "\n",
        "\n",
        "fig,ax = plt.subplots(1,2,figsize=(8,4),  sharey=True)\n",
        "\n",
        "n_pbin, n_bin, _ = ax[0].hist( Npd, bins=100, range=(0, np.max(Nss)), density=True)\n",
        "C_pbin, C_bin, _ = ax[1].hist( Npd, bins=100, range=(0, np.max(Nss)), density=True, cumulative=True)\n",
        "\n",
        "q_index = np.where(C_pbin>=pthresh)[0][0]\n",
        "q_thresh = C_bin[q_index]\n",
        "ax[1].vlines(q_thresh,0,1)\n",
        "ax[0].set_title('PDF')\n",
        "ax[0].set_xlabel('MAE')\n",
        "ax[1].set_title('CDF')\n",
        "ax[1].set_xlabel('MAE: threshold = '+str(q_thresh)+ ' ['+str(round(pthresh*100,2))+'%]')\n",
        "plt.show()\n",
        "#c_pbin, c_bin, _ = plt.hist( train_x, bins=100, range=(0, np.max(Nss)), cumulative=True)\n",
        "\n",
        "TP_ = len(np.where(Npd<=q_thresh)[0]) # TP\n",
        "FN_ = len(np.where(Npd>q_thresh)[0])  # FN\n",
        "\n",
        "FP_ = len(np.where(Apd<=q_thresh)[0]) # FP\n",
        "TN_ = len(np.where(Apd>q_thresh)[0])  # TN\n",
        "\n",
        "acc_ = (TP_+TN_) / len(data_)\n",
        "print('Accuracy: %.2f' % (acc_*100))\n",
        "\n",
        "\n",
        "\n",
        "plt.figure(figsize=(12,4))\n",
        "plt.ylim(0,50)\n",
        "plt.title('Acc:'+str(acc_))\n",
        "plt.scatter(np.arange(0,len(pred_dict[\"_V\"]),1),pred_dict[\"_V\"], color='tab:red')\n",
        "plt.scatter(np.arange(0,len(pred_dict[\"_N\"]),1),pred_dict[\"_N\"], color='tab:green')\n",
        "plt.hlines(q_thresh,0,takes,color='black')\n",
        "\n",
        "_=plt.ylabel('MAE')\n",
        "_=plt.xlabel('Sample#')\n",
        "\n",
        "#for i in range(0,len(pths)):\n",
        "\n"
      ],
      "execution_count": null,
      "outputs": [
        {
          "output_type": "stream",
          "text": [
            "\n",
            "Testing...\n",
            "Use mapped labels\n",
            "...begin encoding and prediction on samples: 1040 520 520\n"
          ],
          "name": "stdout"
        },
        {
          "output_type": "display_data",
          "data": {
            "image/png": "[encoded data removed]",
            "text/plain": [
              "<Figure size 864x288 with 1 Axes>"
            ]
          },
          "metadata": {
            "tags": [],
            "needs_background": "light"
          }
        },
        {
          "output_type": "display_data",
          "data": {
            "image/png": "[encoded data removed]",
            "text/plain": [
              "<Figure size 576x288 with 2 Axes>"
            ]
          },
          "metadata": {
            "tags": [],
            "needs_background": "light"
          }
        },
        {
          "output_type": "stream",
          "text": [
            "Accuracy: 97.98\n"
          ],
          "name": "stdout"
        },
        {
          "output_type": "display_data",
          "data": {
            "image/png": "[encoded data removed]",
            "text/plain": [
              "<Figure size 864x288 with 1 Axes>"
            ]
          },
          "metadata": {
            "tags": [],
            "needs_background": "light"
          }
        }
      ]
    },
    {
      "cell_type": "markdown",
      "metadata": {
        "id": "vvqYK4zXmKUF"
      },
      "source": [
        "\n",
        "\n",
        "---\n",
        "\n",
        "# [] _______ []\n",
        "\n",
        "---\n",
        "\n"
      ]
    },
    {
      "cell_type": "markdown",
      "metadata": {
        "id": "MM8J-GZaRHei"
      },
      "source": [
        "# [_] ARCHIVE [_]"
      ]
    }
  ]
}