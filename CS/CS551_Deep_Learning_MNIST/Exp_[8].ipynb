{
 "cells": [
  {
   "cell_type": "code",
   "execution_count": null,
   "metadata": {
    "id": "yBuhN4YlIEcD"
   },
   "outputs": [],
   "source": [
    "%reset"
   ]
  },
  {
   "cell_type": "markdown",
   "metadata": {
    "id": "Pg6oTF3GWchm"
   },
   "source": [
    "# __ REQUIRED __"
   ]
  },
  {
   "cell_type": "markdown",
   "metadata": {
    "id": "ZMF25JggWvvd"
   },
   "source": [
    "## __ sckit-image"
   ]
  },
  {
   "cell_type": "code",
   "execution_count": 1,
   "metadata": {
    "colab": {
     "base_uri": "https://localhost:8080/"
    },
    "executionInfo": {
     "elapsed": 10593,
     "status": "ok",
     "timestamp": 1619388960118,
     "user": {
      "displayName": "Nelson Sharma",
      "photoUrl": "https://lh3.googleusercontent.com/a-/AOh14GiEZkA7qkgqJixjMInZ7ZlOLdnOzRpMhGBnQfuoiQ=s64",
      "userId": "00623570607520034670"
     },
     "user_tz": -330
    },
    "id": "OgZ20Y7KCmmy",
    "outputId": "cb0d902e-fb6f-48a1-f9a2-5a092cf1582e"
   },
   "outputs": [
    {
     "name": "stdout",
     "output_type": "stream",
     "text": [
      "Collecting scikit-image\n",
      "\u001b[?25l  Downloading https://files.pythonhosted.org/packages/fe/01/3a830f3df578ea3ed94ee7fd9f91e85c3dec2431d8548ab1c91869e51450/scikit_image-0.18.1-cp37-cp37m-manylinux1_x86_64.whl (29.2MB)\n",
      "\u001b[K     |████████████████████████████████| 29.2MB 133kB/s \n",
      "\u001b[?25hRequirement already satisfied, skipping upgrade: matplotlib!=3.0.0,>=2.0.0 in /usr/local/lib/python3.7/dist-packages (from scikit-image) (3.2.2)\n",
      "Requirement already satisfied, skipping upgrade: scipy>=1.0.1 in /usr/local/lib/python3.7/dist-packages (from scikit-image) (1.4.1)\n",
      "Requirement already satisfied, skipping upgrade: PyWavelets>=1.1.1 in /usr/local/lib/python3.7/dist-packages (from scikit-image) (1.1.1)\n",
      "Requirement already satisfied, skipping upgrade: numpy>=1.16.5 in /usr/local/lib/python3.7/dist-packages (from scikit-image) (1.19.5)\n",
      "Requirement already satisfied, skipping upgrade: imageio>=2.3.0 in /usr/local/lib/python3.7/dist-packages (from scikit-image) (2.4.1)\n",
      "Requirement already satisfied, skipping upgrade: networkx>=2.0 in /usr/local/lib/python3.7/dist-packages (from scikit-image) (2.5.1)\n",
      "Requirement already satisfied, skipping upgrade: tifffile>=2019.7.26 in /usr/local/lib/python3.7/dist-packages (from scikit-image) (2021.4.8)\n",
      "Requirement already satisfied, skipping upgrade: pillow!=7.1.0,!=7.1.1,>=4.3.0 in /usr/local/lib/python3.7/dist-packages (from scikit-image) (7.1.2)\n",
      "Requirement already satisfied, skipping upgrade: pyparsing!=2.0.4,!=2.1.2,!=2.1.6,>=2.0.1 in /usr/local/lib/python3.7/dist-packages (from matplotlib!=3.0.0,>=2.0.0->scikit-image) (2.4.7)\n",
      "Requirement already satisfied, skipping upgrade: cycler>=0.10 in /usr/local/lib/python3.7/dist-packages (from matplotlib!=3.0.0,>=2.0.0->scikit-image) (0.10.0)\n",
      "Requirement already satisfied, skipping upgrade: kiwisolver>=1.0.1 in /usr/local/lib/python3.7/dist-packages (from matplotlib!=3.0.0,>=2.0.0->scikit-image) (1.3.1)\n",
      "Requirement already satisfied, skipping upgrade: python-dateutil>=2.1 in /usr/local/lib/python3.7/dist-packages (from matplotlib!=3.0.0,>=2.0.0->scikit-image) (2.8.1)\n",
      "Requirement already satisfied, skipping upgrade: decorator<5,>=4.3 in /usr/local/lib/python3.7/dist-packages (from networkx>=2.0->scikit-image) (4.4.2)\n",
      "Requirement already satisfied, skipping upgrade: six in /usr/local/lib/python3.7/dist-packages (from cycler>=0.10->matplotlib!=3.0.0,>=2.0.0->scikit-image) (1.15.0)\n",
      "\u001b[31mERROR: albumentations 0.1.12 has requirement imgaug<0.2.7,>=0.2.5, but you'll have imgaug 0.2.9 which is incompatible.\u001b[0m\n",
      "Installing collected packages: scikit-image\n",
      "  Found existing installation: scikit-image 0.16.2\n",
      "    Uninstalling scikit-image-0.16.2:\n",
      "      Successfully uninstalled scikit-image-0.16.2\n",
      "Successfully installed scikit-image-0.18.1\n"
     ]
    }
   ],
   "source": [
    "pip install -U scikit-image"
   ]
  },
  {
   "cell_type": "markdown",
   "metadata": {
    "id": "KGmCvvL-W0T1"
   },
   "source": [
    "## __ module_cs551"
   ]
  },
  {
   "cell_type": "code",
   "execution_count": 2,
   "metadata": {
    "colab": {
     "base_uri": "https://localhost:8080/"
    },
    "executionInfo": {
     "elapsed": 4416,
     "status": "ok",
     "timestamp": 1619388967021,
     "user": {
      "displayName": "Nelson Sharma",
      "photoUrl": "https://lh3.googleusercontent.com/a-/AOh14GiEZkA7qkgqJixjMInZ7ZlOLdnOzRpMhGBnQfuoiQ=s64",
      "userId": "00623570607520034670"
     },
     "user_tz": -330
    },
    "id": "slsYh_YgTYSX",
    "outputId": "04f6ab60-1e6c-48f2-cef6-64eea2ea2ba7"
   },
   "outputs": [
    {
     "name": "stdout",
     "output_type": "stream",
     "text": [
      "module_cs551\n",
      "Done!\n"
     ]
    }
   ],
   "source": [
    "#execfile('/content/drive/MyDrive/Colab Notebooks/DL/CS551_Assignment_4/code/module_cs551.py')\n",
    "\n",
    "#===============================================================\n",
    "# IMPORTS ======================================================\n",
    "#===============================================================\n",
    "print('module_cs551')\n",
    "import math\n",
    "import os\n",
    "import random\n",
    "import datetime\n",
    "import numpy as np\n",
    "import matplotlib.pyplot as plt\n",
    "from skimage import transform\n",
    "from sklearn.metrics import confusion_matrix\n",
    "#import keract\n",
    "import tensorflow as tf\n",
    "from tensorflow.keras.layers import Input, Conv2D, MaxPooling2D, Flatten, Dense\n",
    "from tensorflow.keras import Model\n",
    "import warnings\n",
    "warnings.filterwarnings(\"ignore\", category=RuntimeWarning)\n",
    "\n",
    "#===============================================================\n",
    "# PERFORMANCE =================================================\n",
    "#===============================================================\n",
    "#------------------------------------------------------------------\n",
    "# Confusion Matrix\n",
    "#------------------------------------------------------------------\n",
    "def _print_header(class_labels):\n",
    "    g_HSTR=''   # HEADER ROW for printing confusing matrix\n",
    "    for i in range(0,len(class_labels)):\n",
    "        g_HSTR+='\\t'+str(class_labels[i])\n",
    "    return  g_HSTR\n",
    "def _print_rows(cm_row, nos_labels):\n",
    "    g_RSTR = ''\n",
    "    for j in range(0,nos_labels):\n",
    "        g_RSTR += '\\t'+ str(cm_row[j])\n",
    "    return g_RSTR\n",
    "def print_conf_matrix(conf_matrix, suffix, class_labels):\n",
    "    g_CMSTR=(suffix+'T\\\\P' + _print_header(class_labels)+'\\n')\n",
    "    nos_l=len(class_labels)\n",
    "    for i in range(0,nos_l):\n",
    "        g_CMSTR+=(suffix+str(class_labels[i]) + _print_rows(conf_matrix[i],nos_l )+'\\n')\n",
    "    return g_CMSTR\n",
    "\n",
    "#------------------------------------------------------------------\n",
    "# Performance Measures\n",
    "#------------------------------------------------------------------\n",
    "def _get_performance(conf_matrix):\n",
    "    nos_class = len(conf_matrix[0,:]) # len of 0th row\n",
    "    perf_measures_array = np.zeros((0,11),dtype ='float64')\n",
    "    for i in range(0,nos_class):\n",
    "        \n",
    "        CLASS_ACTUAL = np.sum(conf_matrix[i,:]) #<---- ROW SUM = NOS TRUE CLASS\n",
    "        CLASS_PRED = np.sum(conf_matrix[:,i])      #<---- COL SUM = NOS PRED CLASS\n",
    "        MSUM = np.sum(conf_matrix)  # = TP + FN + FP + TN\n",
    "        \n",
    "        # compute TP, TN, FP, FN ---------------------------- \n",
    "        TP = conf_matrix[i,i]\n",
    "        FP =  CLASS_PRED - TP\n",
    "        FN = CLASS_ACTUAL - TP\n",
    "        TN =  MSUM- FN - FP - TP #<------------ this methods counts more than true negative\n",
    "        #TN = np.sum(conf_matrix[np.diag_indices(nos_class)]) - TP..\n",
    "\n",
    "        #Accuracy #<-= how many samples correctly classifed out of all samples\n",
    "        ACC = (TP+TN)   /   ( MSUM)  \n",
    "        \n",
    "        #Precision = TP/CLASS_PRED    #<- = how many samples correctly predicted as true out of all samples predicted as true\n",
    "        PRE = (TP)      /   (TP+FP)         #Presicion\n",
    "        \n",
    "        #Sensetivity = TP/CLASS_ACTUAL #<- = how many samples correctly predicted as true out of all actually true samples\n",
    "        SEN = (TP)      /   (TP+FN)         #Sensitivity/Recall\n",
    "        \n",
    "        #Specificity #<-= how many samples correctly predicted false out of all samples predicted as false\n",
    "        SPF = (TN)      /   (TN+FP)         \n",
    "        \n",
    "        # F1-Score #<-= 2*TP / (CLASS_ACTUAL + CLASS_PRED) \n",
    "        F1S = 2*PRE*SEN /   (PRE+SEN)       #F1 score #<-= harmonic mean of Precision and Sensetivity\n",
    "\n",
    "        prefi = np.array([CLASS_ACTUAL , CLASS_PRED, TP, FN, FP, TN, ACC, PRE, SEN, SPF, F1S])\n",
    "        perf_measures_array = np.vstack((perf_measures_array,prefi))\n",
    "        \n",
    "    return perf_measures_array, nos_class\n",
    "def print_performance(conf_matrix, class_labels, do_round=-1):\n",
    "    #header_string = 'Class\\tACC\\tPRE\\tSEN\\tSPF\\tF1S'\n",
    "    header_string = 'Class\\t#True\\t#Pred\\tTPs\\tFNs\\tFPs\\tTNs\\tACC\\tPRE\\tSEN\\tSPF\\tF1S'\n",
    "    perf_measures, nos_class = _get_performance(conf_matrix)\n",
    "    if len(class_labels)!=nos_class:\n",
    "        print('WARNING:: Class label count mismatch!! Cannot print performance')\n",
    "        return -1\n",
    "    #nos_class = len(perf_measures[:,0])\n",
    "    print('Performance for '+str(nos_class)+' classes')\n",
    "    print (header_string)\n",
    "    for i in range(0, nos_class):\n",
    "        if do_round<0:\n",
    "          perf_i = perf_measures [i,:]\n",
    "        else:\n",
    "          perf_i = np.round(perf_measures [i,:],do_round)\n",
    "          \n",
    "        print(\n",
    "              str(class_labels[i])+'\\t'+\n",
    "              str(perf_i[0])+'\\t'+\n",
    "              str(perf_i[1])+'\\t'+\n",
    "              str(perf_i[2])+'\\t'+\n",
    "              str(perf_i[3])+'\\t'+\n",
    "              str(perf_i[4])+'\\t'+\n",
    "              str(perf_i[5])+'\\t'+\n",
    "              str(perf_i[6])+'\\t'+\n",
    "              str(perf_i[7])+'\\t'+\n",
    "              str(perf_i[8])+'\\t'+\n",
    "              str(perf_i[9])+'\\t'+\n",
    "              str(perf_i[10])\n",
    "              )\n",
    "    return nos_class\n",
    "\t\n",
    "#===============================================================\n",
    "# MNIST DATA HELPER ==============================================\n",
    "#===============================================================\n",
    "# Load Training Images\n",
    "def _mnist_images(IMAGE_FILE):\n",
    "  print('> Reading Images from',IMAGE_FILE )\n",
    "  _FILE_IMAGE = open(IMAGE_FILE,\"rb\" ) \n",
    "\n",
    "  # first 4 byte = magic number\n",
    "  _magic = int.from_bytes(_FILE_IMAGE.read(4), \"big\")\n",
    "  print('Magic Number\\t',_magic)\n",
    "\n",
    "  # next 4 byte = nos items\n",
    "  _nos_images = int.from_bytes(_FILE_IMAGE.read(4), \"big\")\n",
    "  print('Nos Images\\t',_nos_images)\n",
    "\n",
    "  # next 4 byte = image dimension Rows\n",
    "  _nos_rows= int.from_bytes(_FILE_IMAGE.read(4), \"big\")\n",
    "  print('Nos Rows\\t',_nos_rows)\n",
    "\n",
    "  # next 4 byte = image dimension Cols\n",
    "  _nos_cols = int.from_bytes(_FILE_IMAGE.read(4), \"big\")\n",
    "  print('Nos Cols\\t',_nos_cols)\n",
    "\n",
    "  _nos_bytes = _nos_rows*_nos_cols\n",
    "  print('Bytes per Image\\t',_nos_bytes)\n",
    "\n",
    "  # next onwards.... one image per _nos_bytes bytes\n",
    "  _buffer = np.frombuffer(_FILE_IMAGE.read(_nos_bytes*_nos_images), \n",
    "                          dtype=np.uint8, count=_nos_bytes*_nos_images, offset=0)\n",
    "  print('ImageBuffer:',_buffer.dtype, _buffer.shape)\n",
    "  _buffer = _buffer.reshape(_nos_images,_nos_rows,_nos_cols)\n",
    "  print('ImageBuffer Reshaped:',_buffer.dtype, _buffer.shape)\n",
    "\n",
    "  _FILE_IMAGE.close()\n",
    "  print('Done\\n' )\n",
    "  return _buffer, _nos_images, _nos_rows, _nos_cols\n",
    "\n",
    "def _mnist_labels(LABEL_FILE):\n",
    "  print('> Reading Labels from',LABEL_FILE )\n",
    "  _FILE_LABEL = open(LABEL_FILE,\"rb\" ) \n",
    "\n",
    "  # first 4 byte = magic number\n",
    "  _magic = int.from_bytes(_FILE_LABEL.read(4), \"big\")\n",
    "  print('Magic Number\\t',_magic)\n",
    "\n",
    "  # next 4 byte = nos items\n",
    "  _nos_labels = int.from_bytes(_FILE_LABEL.read(4), \"big\")\n",
    "  print('Nos Labels\\t',_nos_labels)\n",
    "\n",
    "  # next onwards.... one image per _nos_bytes bytes\n",
    "  _buffer = np.frombuffer(_FILE_LABEL.read(_nos_labels), \n",
    "                          dtype=np.uint8, count=_nos_labels, offset=0)\n",
    "  print('LabelBuffer:',_buffer.dtype, _buffer.shape)\n",
    "\n",
    "  _FILE_LABEL.close()\n",
    "  print('Done\\n' )\n",
    "  return _buffer, _nos_labels\n",
    "\n",
    "#===============================================================\n",
    "# IMAGE TRANSFORMS =============================================\n",
    "#===============================================================\n",
    "\n",
    "# flips horizontal and vertical\n",
    "def _aug_flip(imageA, horz=True, vert=True):\n",
    "  res = imageA\n",
    "  if vert:\n",
    "    res = np.flip(res,1)\n",
    "  if horz:\n",
    "    res = np.flip(res,2)\n",
    "  return res\n",
    "\n",
    "def _aug_shift(imageA, shiftA):\n",
    "  imageT = []\n",
    "  for i in range(0, len(imageA)):\n",
    "    imageT.append(np.roll(np.roll(imageA[i], shiftA[i,0],axis=0),shiftA[i,1],axis=1))\n",
    "  return imageT\n",
    "\n",
    "def _aug_rotate(imageA, radA, opx, opy):\n",
    "  imageT = [] #<<--- appending to list is faster than vstacking\n",
    "  cpx,cpy = int(opx/2), int(opy/2)\n",
    "  for i in range(0, len(imageA)):\n",
    "    imageT.append(transform.warp(imageA[i],\n",
    "                                       transform.AffineTransform(matrix= _get_rotation_matrix_wrtp(radA[i], cpx,cpy)), \n",
    "                                       output_shape=(opx, opy)))\n",
    "  return imageT\n",
    "\n",
    "# tranformation matrices for translation and rotation \n",
    "def _get_translation_matrix(tX,tY):\n",
    "  return np.array([[1,0,tX],[0,1,tY],[0,0,1]])\n",
    "\n",
    "def _get_rotation_matrix_wrtc(tH):\n",
    "  return np.array([[math.cos(tH), -math.sin(tH),  0],\n",
    "                   [math.sin(tH), math.cos(tH),   0],\n",
    "                   [0,            0,              1]])\n",
    "  \n",
    "def _get_rotation_matrix_wrtp(tH, tX, tY):\n",
    "  # rotation wrt to a point = translate to center - rotate - translate back to poit\n",
    "  t1 = _get_translation_matrix(-tX, -tY)\n",
    "  tr = _get_rotation_matrix_wrtc(tH)\n",
    "  t2 = _get_translation_matrix(tX, tY)\n",
    "  return np.matmul(t2, np.matmul(tr,t1))\n",
    "\n",
    "#===============================================================\n",
    "# Model Definition =================================================\n",
    "#===============================================================\n",
    "\n",
    "def get_model(print_summary, model_name, conv_kernels, conv_kernel_size, dense_size):\n",
    "    global _ishape, _nos_classes\n",
    "  \n",
    "    inputL = Input( shape=_ishape, name = \"input\" )\n",
    "\n",
    "    conv_1 =  Conv2D(conv_kernels,                                       #kernels, \n",
    "                          kernel_size=conv_kernel_size,                  #kernel_size\n",
    "                          strides=(1,1), \n",
    "                          padding='valid', \n",
    "                          data_format='channels_last', \n",
    "                          dilation_rate=1, \n",
    "                          activation=tf.nn.leaky_relu, \n",
    "                          use_bias=True, \n",
    "                          kernel_initializer='glorot_uniform', \n",
    "                          bias_initializer='zeros', \n",
    "                          kernel_regularizer=None, \n",
    "                          bias_regularizer=None, \n",
    "                          activity_regularizer=None, \n",
    "                          kernel_constraint=None, \n",
    "                          bias_constraint=None,\n",
    "                          name='conv_1') (inputL) \n",
    "    \n",
    "  \n",
    "    norm_2 = tf.keras.layers.BatchNormalization(\n",
    "                                        axis=-1,\n",
    "                                        momentum=0.99,\n",
    "                                        epsilon=0.001,\n",
    "                                        center=True,\n",
    "                                        scale=True,\n",
    "                                        beta_initializer=\"zeros\",\n",
    "                                        gamma_initializer=\"ones\",\n",
    "                                        moving_mean_initializer=\"zeros\",\n",
    "                                        moving_variance_initializer=\"ones\",\n",
    "                                        beta_regularizer=None,\n",
    "                                        gamma_regularizer=None,\n",
    "                                        beta_constraint=None,\n",
    "                                        gamma_constraint=None,\n",
    "                                        renorm=False,\n",
    "                                        renorm_clipping=None,\n",
    "                                        renorm_momentum=0.99,\n",
    "                                        fused=None,\n",
    "                                        trainable=True,\n",
    "                                        virtual_batch_size=None,\n",
    "                                        adjustment=None,\n",
    "                                        name='norm_2') (conv_1)\n",
    "    \n",
    "\n",
    "    flat_ = Flatten(data_format=None,name='flat_') (norm_2)\n",
    "    den_3 = Dense(dense_size, activation=tf.nn.leaky_relu, name = \"den_3\")(flat_)\n",
    "\n",
    "    outputL = Dense(_nos_classes, activation=tf.nn.softmax, name = \"output\")(den_3)\n",
    "\n",
    "    model=Model(inputs=inputL, outputs=outputL, name=model_name)\n",
    "    #-------------------------------------\n",
    "    if print_summary:\n",
    "        print(model.summary())\n",
    "    return model\n",
    "# =========================================================================================\n",
    "\n",
    "\n",
    "print('Done!')\n",
    "\t\t"
   ]
  },
  {
   "cell_type": "markdown",
   "metadata": {
    "id": "OU0S7wNnYAT5"
   },
   "source": [
    "# [] DATASET LOAD []"
   ]
  },
  {
   "cell_type": "markdown",
   "metadata": {
    "id": "VwF4QbXq6WOr"
   },
   "source": [
    "Dataset : THE MNIST DATABASE of handwritten digit http://yann.lecun.com/exdb/mnist/"
   ]
  },
  {
   "cell_type": "code",
   "execution_count": 3,
   "metadata": {
    "colab": {
     "base_uri": "https://localhost:8080/"
    },
    "executionInfo": {
     "elapsed": 8729,
     "status": "ok",
     "timestamp": 1619388977347,
     "user": {
      "displayName": "Nelson Sharma",
      "photoUrl": "https://lh3.googleusercontent.com/a-/AOh14GiEZkA7qkgqJixjMInZ7ZlOLdnOzRpMhGBnQfuoiQ=s64",
      "userId": "00623570607520034670"
     },
     "user_tz": -330
    },
    "id": "foW0BUtgYCOI",
    "outputId": "9cbd2ca6-6e6e-4fae-dcc3-6faad4215c8b"
   },
   "outputs": [
    {
     "name": "stdout",
     "output_type": "stream",
     "text": [
      "> Reading Images from /content/drive/MyDrive/Colab Notebooks/DL/CS551_Assignment_4/data/train-images.idx3-ubyte\n",
      "Magic Number\t 2051\n",
      "Nos Images\t 60000\n",
      "Nos Rows\t 28\n",
      "Nos Cols\t 28\n",
      "Bytes per Image\t 784\n",
      "ImageBuffer: uint8 (47040000,)\n",
      "ImageBuffer Reshaped: uint8 (60000, 28, 28)\n",
      "Done\n",
      "\n",
      "> Reading Labels from /content/drive/MyDrive/Colab Notebooks/DL/CS551_Assignment_4/data/train-labels.idx1-ubyte\n",
      "Magic Number\t 2049\n",
      "Nos Labels\t 60000\n",
      "LabelBuffer: uint8 (60000,)\n",
      "Done\n",
      "\n",
      "> Reading Images from /content/drive/MyDrive/Colab Notebooks/DL/CS551_Assignment_4/data/t10k-images.idx3-ubyte\n",
      "Magic Number\t 2051\n",
      "Nos Images\t 10000\n",
      "Nos Rows\t 28\n",
      "Nos Cols\t 28\n",
      "Bytes per Image\t 784\n",
      "ImageBuffer: uint8 (7840000,)\n",
      "ImageBuffer Reshaped: uint8 (10000, 28, 28)\n",
      "Done\n",
      "\n",
      "> Reading Labels from /content/drive/MyDrive/Colab Notebooks/DL/CS551_Assignment_4/data/t10k-labels.idx1-ubyte\n",
      "Magic Number\t 2049\n",
      "Nos Labels\t 10000\n",
      "LabelBuffer: uint8 (10000,)\n",
      "Done\n",
      "\n",
      "Input Shape:\t (28, 28, 1)\n",
      "Classes:\t# 10 [0 1 2 3 4 5 6 7 8 9]\n"
     ]
    }
   ],
   "source": [
    "MODEL_DIR = '/content/drive/MyDrive/Colab Notebooks/DL/CS551_Assignment_4/model' # for saving w8s\n",
    "DATA_DIR = '/content/drive/MyDrive/Colab Notebooks/DL/CS551_Assignment_4/data'  # for reading data\n",
    "train_x, nos_train_x, dimH_train_x, dimW_train_x = _mnist_images(os.path.join(DATA_DIR, 'train-images.idx3-ubyte'))\n",
    "train_y, nos_train_y = _mnist_labels(os.path.join(DATA_DIR, 'train-labels.idx1-ubyte'))\n",
    "test_x, nos_test_x, dimH_test_x, dimW_test_x = _mnist_images(os.path.join(DATA_DIR, 't10k-images.idx3-ubyte'))\n",
    "test_y, nos_test_y = _mnist_labels(os.path.join(DATA_DIR, 't10k-labels.idx1-ubyte'))\n",
    "\n",
    "# ---------------------------------------- input shape\n",
    "_ishape = (dimH_train_x, dimW_train_x,1)\n",
    "print('Input Shape:\\t',_ishape)\n",
    "# ---------------------------------------- classes\n",
    "_nos_classes = 10\n",
    "g_LABELS = np.arange(0,_nos_classes,1)\n",
    "print('Classes:\\t#',_nos_classes, g_LABELS)"
   ]
  },
  {
   "cell_type": "markdown",
   "metadata": {
    "id": "G5b9YI-S6GPm"
   },
   "source": [
    "# [] DATASET AUGUMENT []"
   ]
  },
  {
   "cell_type": "markdown",
   "metadata": {
    "id": "v39eifdgeEW_"
   },
   "source": [
    "### FLIP"
   ]
  },
  {
   "cell_type": "code",
   "execution_count": null,
   "metadata": {
    "id": "8quBjtqu7EDF"
   },
   "outputs": [],
   "source": [
    "# > flipping images > for each image, flip in 3 diff ways\n",
    "\n",
    "train_x_flipH = _aug_flip(train_x, horz=True, vert=False) # horizontal flip\n",
    "train_x_flipV = _aug_flip(train_x, horz=False, vert=True) # verical flip\n",
    "train_x_flipD = _aug_flip(train_x, horz=True, vert=True) # horizontal + vertical flip\n",
    "\n",
    "test_x_flipH = _aug_flip(test_x, horz=True, vert=False) # horizontal flip\n",
    "test_x_flipV = _aug_flip(test_x, horz=False, vert=True) # verical flip\n",
    "test_x_flipD = _aug_flip(test_x, horz=True, vert=True) # horizontal + vertical flip"
   ]
  },
  {
   "cell_type": "markdown",
   "metadata": {
    "id": "pGxHh2rgeHCU"
   },
   "source": [
    "### ROTATE"
   ]
  },
  {
   "cell_type": "code",
   "execution_count": null,
   "metadata": {
    "id": "OR9MwJkBeIfv"
   },
   "outputs": [],
   "source": [
    "# > rotating images > for each image, rotate by random angle b/w -180 to 180\n",
    "\n",
    "rand_ang_train = math.pi*(np.random.random(size=nos_train_x)*2 - 1) # random scaled b/w -180 to 180\n",
    "train_x_rotR = np.array(_aug_rotate(train_x,  rand_ang_train, dimH_train_x, dimW_train_x))\n",
    "\n",
    "rand_ang_test = math.pi*(np.random.random(size=nos_test_x)*2 - 1) # random scaled b/w -180 to 180\n",
    "test_x_rotR = np.array(_aug_rotate(test_x,  rand_ang_test, dimH_test_x, dimW_test_x))"
   ]
  },
  {
   "cell_type": "markdown",
   "metadata": {
    "id": "MLO8AnjGsAMk"
   },
   "source": [
    "### SHIFT"
   ]
  },
  {
   "cell_type": "code",
   "execution_count": 4,
   "metadata": {
    "executionInfo": {
     "elapsed": 4189,
     "status": "ok",
     "timestamp": 1619389090265,
     "user": {
      "displayName": "Nelson Sharma",
      "photoUrl": "https://lh3.googleusercontent.com/a-/AOh14GiEZkA7qkgqJixjMInZ7ZlOLdnOzRpMhGBnQfuoiQ=s64",
      "userId": "00623570607520034670"
     },
     "user_tz": -330
    },
    "id": "u2DNGBrIr_MV"
   },
   "outputs": [],
   "source": [
    "# > shift images > for each image, shift by random amount +/- 5 in either directions\n",
    "\n",
    "rand_delta_train = (10*(np.random.random(size=(nos_train_x,2))*2 - 1)).astype('int')\n",
    "train_x_shift = np.array(_aug_shift(train_x,  rand_delta_train))\n",
    "\n",
    "rand_delta_test = (10*(np.random.random(size=(nos_test_x,2))*2 - 1)).astype('int')\n",
    "test_x_shift = np.array(_aug_shift(test_x,  rand_delta_test))"
   ]
  },
  {
   "cell_type": "markdown",
   "metadata": {
    "id": "tATf2AMNrbpq"
   },
   "source": [
    "# {} EXP 8 {}"
   ]
  },
  {
   "cell_type": "markdown",
   "metadata": {
    "id": "W0FYCAJiT5u2"
   },
   "source": [
    "##__PREPARE"
   ]
  },
  {
   "cell_type": "code",
   "execution_count": 5,
   "metadata": {
    "executionInfo": {
     "elapsed": 1901,
     "status": "ok",
     "timestamp": 1619389221408,
     "user": {
      "displayName": "Nelson Sharma",
      "photoUrl": "https://lh3.googleusercontent.com/a-/AOh14GiEZkA7qkgqJixjMInZ7ZlOLdnOzRpMhGBnQfuoiQ=s64",
      "userId": "00623570607520034670"
     },
     "user_tz": -330
    },
    "id": "fAW3KU5JnPYk"
   },
   "outputs": [],
   "source": [
    "#~~~~~~~~~~~~~~~~~~~~~~~~~~~\n",
    "_exp_name = 'EXP_8'\n",
    "#~~~~~~~~~~~~~~~~~~~~~~~~~~~\n",
    "# ---------------------------------------- model params\n",
    "_model_name = 'exp_8'\n",
    "_conv_kernels, _kernel_size = 32, (3,3)\n",
    "_dense_size = 128\n",
    "_cost = 'sparse_categorical_crossentropy'\n",
    "_opt = tf.keras.optimizers.RMSprop()  # clipnorm=1 <--- for clipping gradient\n",
    "# ---------------------------------------- training params\n",
    "_batch_size = 500\n",
    "_epochs = 20\n",
    "_val_split = 0.1\n",
    "# ---------------------------------------- LRS callback handler #print('LRS_Callback @epoch:', e, 'LR:', lr) # verbose\n",
    "def _deltaLR(e,lr):\n",
    "  global hist_lr, hist_learn\n",
    "  hist_lr[hist_learn] = lr #<--record learning rate\n",
    "  hist_learn+=1\n",
    "\n",
    "  #----------------------------------------------------\n",
    "  #new_lr = lr # not controlled\n",
    "  if e<=7:\n",
    "    new_lr = lr   #keep unchanged \n",
    "  else:\n",
    "    new_lr = lr*0.75 # decay\n",
    "\n",
    "\n",
    "  #----------------------------------------------------\n",
    "  return new_lr\n",
    "\n",
    "#=============================================================\n",
    "# ---------------------------------------- Training Event handler\n",
    "def _record_batch(b_acc, b_loss):\n",
    "  global hist_bp, hist_batch\n",
    "  hist_bp[hist_batch,0],hist_bp[hist_batch,1] = b_acc, b_loss\n",
    "  hist_batch+=1\n"
   ]
  },
  {
   "cell_type": "markdown",
   "metadata": {
    "id": "PrucCf8C1uuO"
   },
   "source": [
    "##__CALLBACKS"
   ]
  },
  {
   "cell_type": "code",
   "execution_count": 6,
   "metadata": {
    "executionInfo": {
     "elapsed": 2700,
     "status": "ok",
     "timestamp": 1619389222216,
     "user": {
      "displayName": "Nelson Sharma",
      "photoUrl": "https://lh3.googleusercontent.com/a-/AOh14GiEZkA7qkgqJixjMInZ7ZlOLdnOzRpMhGBnQfuoiQ=s64",
      "userId": "00623570607520034670"
     },
     "user_tz": -330
    },
    "id": "4_WnLcOd1t15"
   },
   "outputs": [],
   "source": [
    "\n",
    "#===============================================================\n",
    "# CALLBACK =====================================================\n",
    "#===============================================================\n",
    "cb_LRS = tf.keras.callbacks.LearningRateScheduler(_deltaLR, verbose=0)\n",
    "cb_BASE = tf.keras.callbacks.LambdaCallback(\n",
    "        on_train_begin =  None, #lambda logs: _start_train() ,\n",
    "        on_epoch_begin =  None, #lambda epoch,logs: _start_epoch(epoch) ,\n",
    "        on_batch_begin =  None, #lambda batch,logs: _start_batch(batch),\n",
    "        on_batch_end =    lambda batch,logs: _record_batch(logs['accuracy'], logs['loss']) ,\n",
    "        on_epoch_end =    None, #lambda epoch,logs: _epoch_end(epoch, logs) ,\n",
    "        on_train_end =    None #lambda logs: _print_results(logs['accuracy'], logs['loss'],logs['val_accuracy'], logs['val_loss'])\n",
    "        )\n",
    "cb_ES_val_acc = tf.keras.callbacks.EarlyStopping(\n",
    "        monitor='val_accuracy',  #monitor: Quantity to be monitored.\n",
    "        min_delta=0.00001,  #min_delta: Minimum change in the monitored quantity to qualify as an improvement, i.e. an absolute change of less than min_delta, will count as no improvement.\n",
    "        patience=5,  #patience: Number of epochs with no improvement after which training will be stopped.\n",
    "        verbose=1,  #verbose: verbosity mode.\n",
    "        mode='auto',  #mode: One of {\"auto\", \"min\", \"max\"}. \n",
    "                      #In min mode, training will stop when the quantity monitored has stopped decreasing; \n",
    "                      #in \"max\" mode it will stop when the quantity monitored has stopped increasing; \n",
    "                      #in \"auto\" mode, the direction is automatically inferred from the name of the monitored quantity.\n",
    "        baseline=None,  #baseline: Baseline value for the monitored quantity. Training will stop if the model doesn't show improvement over the baseline.\n",
    "        restore_best_weights=False #restore_best_weights: Whether to restore model weights from the epoch with the best value of the monitored quantity. If False, the model weights obtained at the last step of training are used.\n",
    "        )\n",
    "\n",
    "cb_ES_val_loss = tf.keras.callbacks.EarlyStopping(\n",
    "        monitor='val_loss',  #monitor: Quantity to be monitored.\n",
    "        min_delta=0.00001,  #min_delta: Minimum change in the monitored quantity to qualify as an improvement, i.e. an absolute change of less than min_delta, will count as no improvement.\n",
    "        patience=5,  #patience: Number of epochs with no improvement after which training will be stopped.\n",
    "        verbose=1,  #verbose: verbosity mode.\n",
    "        mode='auto',  #mode: One of {\"auto\", \"min\", \"max\"}. \n",
    "                      #In min mode, training will stop when the quantity monitored has stopped decreasing; \n",
    "                      #in \"max\" mode it will stop when the quantity monitored has stopped increasing; \n",
    "                      #in \"auto\" mode, the direction is automatically inferred from the name of the monitored quantity.\n",
    "        baseline=None,  #baseline: Baseline value for the monitored quantity. Training will stop if the model doesn't show improvement over the baseline.\n",
    "        restore_best_weights=False #restore_best_weights: Whether to restore model weights from the epoch with the best value of the monitored quantity. If False, the model weights obtained at the last step of training are used.\n",
    "        )\n",
    "\n",
    "cb_ES_loss = tf.keras.callbacks.EarlyStopping(\n",
    "        monitor='loss',  #monitor: Quantity to be monitored.\n",
    "        min_delta=0.00001,  #min_delta: Minimum change in the monitored quantity to qualify as an improvement, i.e. an absolute change of less than min_delta, will count as no improvement.\n",
    "        patience=3,  #patience: Number of epochs with no improvement after which training will be stopped.\n",
    "        verbose=1,  #verbose: verbosity mode.\n",
    "        mode='auto',  #mode: One of {\"auto\", \"min\", \"max\"}. \n",
    "                      #In min mode, training will stop when the quantity monitored has stopped decreasing; \n",
    "                      #in \"max\" mode it will stop when the quantity monitored has stopped increasing; \n",
    "                      #in \"auto\" mode, the direction is automatically inferred from the name of the monitored quantity.\n",
    "        baseline=None,  #baseline: Baseline value for the monitored quantity. Training will stop if the model doesn't show improvement over the baseline.\n",
    "        restore_best_weights=True #restore_best_weights: Whether to restore model weights from the epoch with the best value of the monitored quantity. If False, the model weights obtained at the last step of training are used.\n",
    "        )\n",
    "\n",
    "cb_ES_acc = tf.keras.callbacks.EarlyStopping(\n",
    "        monitor='accuracy',  #monitor: Quantity to be monitored.\n",
    "        min_delta=0.00001,  #min_delta: Minimum change in the monitored quantity to qualify as an improvement, i.e. an absolute change of less than min_delta, will count as no improvement.\n",
    "        patience=3,  #patience: Number of epochs with no improvement after which training will be stopped.\n",
    "        verbose=1,  #verbose: verbosity mode.\n",
    "        mode='auto',  #mode: One of {\"auto\", \"min\", \"max\"}. \n",
    "                      #In min mode, training will stop when the quantity monitored has stopped decreasing; \n",
    "                      #in \"max\" mode it will stop when the quantity monitored has stopped increasing; \n",
    "                      #in \"auto\" mode, the direction is automatically inferred from the name of the monitored quantity.\n",
    "        baseline=None,  #baseline: Baseline value for the monitored quantity. Training will stop if the model doesn't show improvement over the baseline.\n",
    "        restore_best_weights=True #restore_best_weights: Whether to restore model weights from the epoch with the best value of the monitored quantity. If False, the model weights obtained at the last step of training are used.\n",
    "        )\n",
    "cb_listr = [ \n",
    "            cb_LRS, \n",
    "            cb_BASE, \n",
    "            cb_ES_val_loss, \n",
    "            cb_ES_val_acc, \n",
    "            cb_ES_loss, \n",
    "            cb_ES_acc, \n",
    "            ]\n"
   ]
  },
  {
   "cell_type": "markdown",
   "metadata": {
    "id": "DvWtiaTTw9c2"
   },
   "source": [
    "##__BEGIN"
   ]
  },
  {
   "cell_type": "code",
   "execution_count": 7,
   "metadata": {
    "colab": {
     "base_uri": "https://localhost:8080/",
     "height": 1000
    },
    "executionInfo": {
     "elapsed": 1473549,
     "status": "ok",
     "timestamp": 1619390693068,
     "user": {
      "displayName": "Nelson Sharma",
      "photoUrl": "https://lh3.googleusercontent.com/a-/AOh14GiEZkA7qkgqJixjMInZ7ZlOLdnOzRpMhGBnQfuoiQ=s64",
      "userId": "00623570607520034670"
     },
     "user_tz": -330
    },
    "id": "Ny2-tZKCvh3c",
    "outputId": "4c3a1e73-8ee5-49c0-ac46-78360c6681d9"
   },
   "outputs": [
    {
     "name": "stdout",
     "output_type": "stream",
     "text": [
      "# == EXP_8 == #\n",
      "\n",
      "Model Name:\t exp_8\n",
      "Conv Kernels:\t 32  of size  (3, 3)\n",
      "Dense Size:\t 128\n",
      "Cost/Loss:\t sparse_categorical_crossentropy\n",
      "Optimizer:\t <tensorflow.python.keras.optimizer_v2.rmsprop.RMSprop object at 0x7fb06af2f090>\n",
      "\n",
      "\n",
      "Model: \"exp_8\"\n",
      "_________________________________________________________________\n",
      "Layer (type)                 Output Shape              Param #   \n",
      "=================================================================\n",
      "input (InputLayer)           [(None, 28, 28, 1)]       0         \n",
      "_________________________________________________________________\n",
      "conv_1 (Conv2D)              (None, 26, 26, 32)        320       \n",
      "_________________________________________________________________\n",
      "norm_2 (BatchNormalization)  (None, 26, 26, 32)        128       \n",
      "_________________________________________________________________\n",
      "flat_ (Flatten)              (None, 21632)             0         \n",
      "_________________________________________________________________\n",
      "den_3 (Dense)                (None, 128)               2769024   \n",
      "_________________________________________________________________\n",
      "output (Dense)               (None, 10)                1290      \n",
      "=================================================================\n",
      "Total params: 2,770,762\n",
      "Trainable params: 2,770,698\n",
      "Non-trainable params: 64\n",
      "_________________________________________________________________\n",
      "None\n",
      "\n",
      "\n",
      "Training Model:\t exp_8 \n",
      "Total samples:\t (120000,) \n",
      "Batch size:    \t 500 \n",
      "Val Split \t 0.1 \n",
      "Nos. epochs:  \t 20 \n",
      "Nos. batches: \t 4320 \n",
      "\n",
      "Epoch 1/20\n",
      "216/216 [==============================] - 83s 379ms/step - loss: 2.6019 - accuracy: 0.6035 - val_loss: 1.4243 - val_accuracy: 0.6467\n",
      "Epoch 2/20\n",
      "216/216 [==============================] - 81s 375ms/step - loss: 0.4775 - accuracy: 0.8610 - val_loss: 0.8156 - val_accuracy: 0.7734\n",
      "Epoch 3/20\n",
      "216/216 [==============================] - 81s 375ms/step - loss: 0.2603 - accuracy: 0.9189 - val_loss: 0.6288 - val_accuracy: 0.8328\n",
      "Epoch 4/20\n",
      "216/216 [==============================] - 81s 375ms/step - loss: 0.1784 - accuracy: 0.9433 - val_loss: 0.7120 - val_accuracy: 0.8077\n",
      "Epoch 5/20\n",
      "216/216 [==============================] - 81s 375ms/step - loss: 0.1307 - accuracy: 0.9569 - val_loss: 0.5695 - val_accuracy: 0.8557\n",
      "Epoch 6/20\n",
      "216/216 [==============================] - 81s 374ms/step - loss: 0.0971 - accuracy: 0.9672 - val_loss: 0.5977 - val_accuracy: 0.8566\n",
      "Epoch 7/20\n",
      "216/216 [==============================] - 81s 375ms/step - loss: 0.0754 - accuracy: 0.9744 - val_loss: 0.5847 - val_accuracy: 0.8572\n",
      "Epoch 8/20\n",
      "216/216 [==============================] - 81s 374ms/step - loss: 0.0615 - accuracy: 0.9798 - val_loss: 0.5529 - val_accuracy: 0.8687\n",
      "Epoch 9/20\n",
      "216/216 [==============================] - 81s 374ms/step - loss: 0.0354 - accuracy: 0.9883 - val_loss: 0.5498 - val_accuracy: 0.8782\n",
      "Epoch 10/20\n",
      "216/216 [==============================] - 81s 374ms/step - loss: 0.0170 - accuracy: 0.9952 - val_loss: 0.5536 - val_accuracy: 0.8812\n",
      "Epoch 11/20\n",
      "216/216 [==============================] - 81s 373ms/step - loss: 0.0082 - accuracy: 0.9982 - val_loss: 0.5212 - val_accuracy: 0.8917\n",
      "Epoch 12/20\n",
      "216/216 [==============================] - 81s 373ms/step - loss: 0.0035 - accuracy: 0.9995 - val_loss: 0.5282 - val_accuracy: 0.8988\n",
      "Epoch 13/20\n",
      "216/216 [==============================] - 80s 372ms/step - loss: 0.0017 - accuracy: 0.9999 - val_loss: 0.5189 - val_accuracy: 0.9019\n",
      "Epoch 14/20\n",
      "216/216 [==============================] - 81s 373ms/step - loss: 7.7631e-04 - accuracy: 1.0000 - val_loss: 0.5457 - val_accuracy: 0.9009\n",
      "Epoch 15/20\n",
      "216/216 [==============================] - 81s 373ms/step - loss: 3.8054e-04 - accuracy: 1.0000 - val_loss: 0.5603 - val_accuracy: 0.9032\n",
      "Epoch 16/20\n",
      "216/216 [==============================] - 81s 373ms/step - loss: 2.7621e-04 - accuracy: 1.0000 - val_loss: 0.5530 - val_accuracy: 0.9053\n",
      "Epoch 17/20\n",
      "216/216 [==============================] - 81s 374ms/step - loss: 1.3600e-04 - accuracy: 1.0000 - val_loss: 0.5695 - val_accuracy: 0.9041\n",
      "Epoch 18/20\n",
      "216/216 [==============================] - 81s 373ms/step - loss: 9.8498e-05 - accuracy: 1.0000 - val_loss: 0.5802 - val_accuracy: 0.9040\n",
      "Restoring model weights from the end of the best epoch.\n",
      "Epoch 00018: early stopping\n",
      "Epoch 00018: early stopping\n",
      "\n",
      "Elapsed time =  0:24:15.645637\n"
     ]
    },
    {
     "data": {
      "image/png": "[encoded data removed]",
      "text/plain": [
       "<Figure size 648x1080 with 4 Axes>"
      ]
     },
     "metadata": {
      "needs_background": "light",
      "tags": []
     },
     "output_type": "display_data"
    },
    {
     "name": "stdout",
     "output_type": "stream",
     "text": [
      "Saved Model Weights at : /content/drive/MyDrive/Colab Notebooks/DL/CS551_Assignment_4/model/exp_8.h5\n",
      "\n",
      "Testing Model:\t exp_8 on samples: (20000, 28, 28) (20000,)\n",
      "625/625 [==============================] - 7s 11ms/step - loss: 0.3319 - accuracy: 0.9397\n",
      "Accuracy: 93.97\n",
      "\n",
      "\tConfusion Matrix [N/A]\n",
      "T\\P\t0\t1\t2\t3\t4\t5\t6\t7\t8\t9\n",
      "0\t1851\t0\t15\t5\t3\t5\t32\t4\t27\t18\n",
      "1\t1\t2228\t9\t6\t5\t1\t6\t6\t6\t2\n",
      "2\t15\t3\t1925\t47\t3\t10\t17\t15\t25\t4\n",
      "3\t0\t3\t30\t1916\t0\t33\t0\t6\t17\t15\n",
      "4\t8\t8\t4\t0\t1826\t0\t36\t8\t3\t71\n",
      "5\t15\t4\t18\t69\t2\t1625\t13\t6\t18\t14\n",
      "6\t21\t11\t8\t0\t31\t6\t1813\t1\t22\t3\n",
      "7\t9\t14\t35\t23\t7\t7\t0\t1914\t2\t45\n",
      "8\t23\t0\t11\t20\t6\t15\t12\t2\t1828\t31\n",
      "9\t10\t6\t4\t22\t34\t11\t7\t27\t29\t1868\n",
      "\n",
      "Performance for 10 classes\n",
      "Class\t#True\t#Pred\tTPs\tFNs\tFPs\tTNs\tACC\tPRE\tSEN\tSPF\tF1S\n",
      "0\t1960.0\t1953.0\t1851.0\t109.0\t102.0\t17938.0\t0.98945\t0.94777\t0.94439\t0.99435\t0.94608\n",
      "1\t2270.0\t2277.0\t2228.0\t42.0\t49.0\t17681.0\t0.99545\t0.97848\t0.9815\t0.99724\t0.97999\n",
      "2\t2064.0\t2059.0\t1925.0\t139.0\t134.0\t17802.0\t0.98635\t0.93492\t0.93266\t0.99253\t0.93379\n",
      "3\t2020.0\t2108.0\t1916.0\t104.0\t192.0\t17788.0\t0.9852\t0.90892\t0.94851\t0.98932\t0.92829\n",
      "4\t1964.0\t1917.0\t1826.0\t138.0\t91.0\t17945.0\t0.98855\t0.95253\t0.92974\t0.99495\t0.94099\n",
      "5\t1784.0\t1713.0\t1625.0\t159.0\t88.0\t18128.0\t0.98765\t0.94863\t0.91087\t0.99517\t0.92937\n",
      "6\t1916.0\t1936.0\t1813.0\t103.0\t123.0\t17961.0\t0.9887\t0.93647\t0.94624\t0.9932\t0.94133\n",
      "7\t2056.0\t1989.0\t1914.0\t142.0\t75.0\t17869.0\t0.98915\t0.96229\t0.93093\t0.99582\t0.94635\n",
      "8\t1948.0\t1977.0\t1828.0\t120.0\t149.0\t17903.0\t0.98655\t0.92463\t0.9384\t0.99175\t0.93146\n",
      "9\t2018.0\t2071.0\t1868.0\t150.0\t203.0\t17779.0\t0.98235\t0.90198\t0.92567\t0.98871\t0.91367\n",
      "\n",
      "Total Predictions\t 20000\n",
      "Correct Predictions\t 18794 \t 93.97 %\n",
      "Incorrect Predictions\t 1206 \t 6.03 %\n",
      "\n",
      "Elapsed time = 0:24:30.083475\n"
     ]
    }
   ],
   "source": [
    "print('# ==',_exp_name, '== #\\n')\n",
    "print('Model Name:\\t',_model_name)\n",
    "print('Conv Kernels:\\t',_conv_kernels,' of size ',_kernel_size )\n",
    "print('Dense Size:\\t', _dense_size)\n",
    "print('Cost/Loss:\\t', _cost)\n",
    "print('Optimizer:\\t',str(_opt))\n",
    "\n",
    "#@---------------------------------------------------------->> GET DATA\n",
    "_dx, _dy, _tx, _ty = train_x, train_y, test_x, test_y\n",
    "# augument by shift\n",
    "_dx, _dy = np.vstack((_dx,train_x_shift)), np.hstack((_dy,train_y))\n",
    "_tx, _ty = np.vstack((_tx,test_x_shift)), np.hstack((_ty,test_y))\n",
    "\n",
    "#@---------------------------------------------------------->> GET BATCH INFO\n",
    "_nos_batch_per_epoch = math.ceil(len(_dx)/_batch_size)\n",
    "_nos_batch_per_epoch = math.ceil(_nos_batch_per_epoch*(1-_val_split))\n",
    "_nos_batches = _epochs * _nos_batch_per_epoch\n",
    "_trange = np.arange(0,_nos_batches,_nos_batch_per_epoch)\n",
    "#hist_batch, hist_bp, hist_lr = 0, None, None\n",
    "hist_batch,hist_learn = 0,0\n",
    "hist_bp = np.zeros((_nos_batches,2))  #<<-------- Batch history\n",
    "hist_lr = np.zeros(_epochs)           #<<-------- Learn Rate history\n",
    "\n",
    "#@---------------------------------------------------------->> GET MODEL\n",
    "print('\\n')\n",
    "model = get_model(True, _model_name, _conv_kernels, _kernel_size, _dense_size)\n",
    "model.compile(loss=_cost, optimizer=_opt, metrics=['accuracy'])\n",
    "\n",
    "#@---------------------------------------------------------->> TRAIN MODEL\n",
    "timestamp_start = datetime.datetime.now()\n",
    "print('\\n\\nTraining Model:\\t', model.name, \n",
    "      '\\nTotal samples:\\t',_dy.shape,\n",
    "      '\\nBatch size:    \\t',_batch_size,\n",
    "      '\\nVal Split \\t',_val_split,\n",
    "      '\\nNos. epochs:  \\t',_epochs,\n",
    "      '\\nNos. batches: \\t',_nos_batches,'\\n'\n",
    "      )\n",
    "history = model.fit(\n",
    "                    _dx, _dy,\n",
    "                    batch_size=_batch_size,\n",
    "                    epochs=_epochs,\n",
    "                    callbacks=cb_listr,\n",
    "                    validation_split=_val_split,\n",
    "                    shuffle=True,\n",
    "                    verbose=1)\n",
    "\n",
    "\n",
    "print('\\nElapsed time = ',datetime.datetime.now() - timestamp_start)\n",
    "\n",
    "\n",
    "#@---------------------------------------------------------->> PLOT TRAINING RESULTS\n",
    "fig, axs = plt.subplots(4, 1, figsize=(9,15),  constrained_layout=True)\n",
    "\n",
    "axs[0].set_title('Accuracy')\n",
    "axs[0].set_ylim((-.1,1.1))\n",
    "axs[0].plot(history.history['accuracy'],color='tab:green', label='train_acc')\n",
    "axs[0].plot(history.history['val_accuracy'],color='green', linestyle='dotted', label='val_acc')\n",
    "axs[0].legend()\n",
    "\n",
    "axs[1].set_title('Loss')\n",
    "axs[1].plot(history.history['loss'],color='tab:red', label='train_loss')\n",
    "axs[1].plot(history.history['val_loss'],color='red', linestyle='dotted',label='val_loss')\n",
    "axs[1].legend()\n",
    "\n",
    "axs[2].set_title('Batch History')\n",
    "axs[2].set_ylim((-.1,1.1))\n",
    "axs[2].plot(hist_bp[:,1],color='tab:red', label='batch_loss', linewidth=0.8)\n",
    "axs[2].plot(hist_bp[:,0],color='tab:green', label='batch_acc', linewidth=0.8)\n",
    "axs[2].set_xticks(_trange)\n",
    "axs[2].legend()\n",
    "\n",
    "axs[3].set_title('Learning Rate')\n",
    "axs[3].bar(np.arange(0,len(hist_lr)), hist_lr)\n",
    "\n",
    "plt.show()\n",
    "\n",
    "\n",
    "#@---------------------------------------------------------->> SAVE MODEL W8\n",
    "model_path = os.path.join(MODEL_DIR, model.name +'.h5')\n",
    "model.save_weights(model_path)\n",
    "print('Saved Model Weights at : '+ str(model_path))\n",
    "\n",
    "\n",
    "#@---------------------------------------------------------->> TEST MODEL\n",
    "print('\\nTesting Model:\\t', model.name, 'on samples:',_tx.shape,_ty.shape)\n",
    "\n",
    "#@----------------------------------------->> Eval\n",
    "_, accuracy = model.evaluate(_tx, _ty )\n",
    "print('Accuracy: %.2f' % (accuracy*100))\n",
    "\n",
    "#@----------------------------------------->> Predict\n",
    "predictions = model.predict(_tx)\n",
    "predictions_class=np.argmax(predictions, axis=-1)\n",
    "\n",
    "#@----------------------------------------->> conf matrix and performance measures\n",
    "matrix = confusion_matrix( _ty,  predictions_class,   g_LABELS )\n",
    "print('\\n\\tConfusion Matrix [N/A]') \n",
    "print(print_conf_matrix( matrix, '', g_LABELS)) \n",
    "print_performance( matrix ,g_LABELS, do_round=5)\n",
    "\n",
    "#@----------------------------------------->> further investigation if needed\n",
    "pred_correct = np.where(predictions_class==_ty)[0]\n",
    "pred_wrong = np.where(predictions_class!=_ty)[0]\n",
    "pC = len(pred_correct)\n",
    "pW = len(pred_wrong)\n",
    "print('')\n",
    "assert ((pC+pW)==len(_ty))\n",
    "print('Total Predictions\\t',(pC+pW))\n",
    "print('Correct Predictions\\t', pC,'\\t', round((100*pC)/(pC+pW),2),'%')\n",
    "print('Incorrect Predictions\\t', pW,'\\t', round((100*pW)/(pC+pW),2),'%')\n",
    "#@---------------------------------------------------------->> END\n",
    "timestamp_dur = datetime.datetime.now() - timestamp_start\n",
    "print('\\nElapsed time = ' + str(timestamp_dur))"
   ]
  },
  {
   "cell_type": "markdown",
   "metadata": {
    "id": "SqX9Or3MtAAA"
   },
   "source": [
    "\n",
    "\n",
    "---\n",
    "\n"
   ]
  },
  {
   "cell_type": "markdown",
   "metadata": {
    "id": "NjAsGLt95lhW"
   },
   "source": [
    "# _ end _"
   ]
  }
 ],
 "metadata": {
  "colab": {
   "authorship_tag": "ABX9TyNDOIUrQjO+z0MmlsoSECDU",
   "collapsed_sections": [],
   "mount_file_id": "1KrkqhZl83RvhszHJDJ5ymCZ5ycJ67Wo9",
   "name": "Exp_[8].ipynb",
   "provenance": [
    {
     "file_id": "1e2ZEGzi8Q-TRk7_Y_I6Y_ikozeaSW8bE",
     "timestamp": 1619388824528
    },
    {
     "file_id": "147zmDuW6yOU0WOZPKS3gXDVFM3Duh7HD",
     "timestamp": 1619387955316
    },
    {
     "file_id": "15muVPWU4CZEnRk8mz7MvYp_qNMkO4uCs",
     "timestamp": 1619383931960
    },
    {
     "file_id": "1XuewCn-JHMsbp668PJiwYxs5dmIYeE6l",
     "timestamp": 1619383867305
    },
    {
     "file_id": "10SWL2aCEM4vGMyhCOcbl0qMN3OQhgDJx",
     "timestamp": 1618780010640
    }
   ],
   "toc_visible": true
  },
  "kernelspec": {
   "display_name": "Python 3",
   "language": "python",
   "name": "python3"
  },
  "language_info": {
   "codemirror_mode": {
    "name": "ipython",
    "version": 3
   },
   "file_extension": ".py",
   "mimetype": "text/x-python",
   "name": "python",
   "nbconvert_exporter": "python",
   "pygments_lexer": "ipython3",
   "version": "3.8.5"
  }
 },
 "nbformat": 4,
 "nbformat_minor": 1
}
