{
 "cells": [
  {
   "cell_type": "code",
   "execution_count": null,
   "id": "2fa3dbac-4b37-43bc-a61f-dc622d7d9fab",
   "metadata": {},
   "outputs": [],
   "source": [
    "import torch, math\n",
    "import torch.nn as nn\n",
    "import matplotlib.pyplot as plt\n",
    "import numpy as np\n",
    "from nets import Qnetn, MLP_NN\n",
    "from taskmeta import SINTASK, SINTASK2, SINTASK3, SIN_xlow, SIN_xhigh\n",
    "\n",
    "\n",
    "device, dtype = 'cpu', torch.float32\n",
    "def tensor(data, rgrad=False):\n",
    "    return torch.tensor(data, device=device, dtype=dtype, requires_grad=rgrad)\n",
    "\n",
    "GRS = 12\n",
    "RNG = np.random.default_rng(GRS)\n",
    "randseed = lambda : RNG.integers(1, 10_000)\n",
    "xl, xh = SIN_xlow, SIN_xhigh\n",
    "\n",
    "HH = [1, 25, 25, 25, 1]\n",
    "lossF = lambda pp, yy: 0.5 * (pp-yy)**2\n",
    "lossM = lambda pp, yy: torch.sum(0.5 * (pp - yy) ** 2) \n",
    "\n",
    "NN = lambda : MLP_NN(HH, device, dtype, actF=nn.ReLU, seed=randseed())\n",
    "NP = lambda ext_params: MLP_NN(ext_params, device, dtype, actF=nn.ReLU, seed=randseed(), from_param=True)"
   ]
  },
  {
   "cell_type": "markdown",
   "id": "6b8b52a3",
   "metadata": {},
   "source": [
    "# Meta Learning"
   ]
  },
  {
   "cell_type": "code",
   "execution_count": null,
   "id": "31bbaf56-c52c-40d0-b23a-b383620a3343",
   "metadata": {},
   "outputs": [],
   "source": [
    "taskerL = [\n",
    "    SINTASK2((7, 3), seed=randseed()),\n",
    "    SINTASK2((6, 2), seed=randseed()),\n",
    "    SINTASK2((5, 1), seed=randseed()),\n",
    "    SINTASK2((4, 0), seed=randseed()),\n",
    "    SINTASK2((3, -1), seed=randseed()),\n",
    "] \n",
    "tasker = taskerL[0]"
   ]
  },
  {
   "cell_type": "markdown",
   "id": "b2d9a2ec",
   "metadata": {},
   "source": [
    "# algorithm"
   ]
  },
  {
   "cell_type": "code",
   "execution_count": null,
   "id": "a7d358d3",
   "metadata": {},
   "outputs": [],
   "source": [
    "inner_epochs =  1000\n",
    "inner_lr =      0.001\n",
    "train_K =       8\n",
    "P = print"
   ]
  },
  {
   "cell_type": "code",
   "execution_count": null,
   "id": "ca436840",
   "metadata": {},
   "outputs": [],
   "source": [
    "# load theta\n",
    "model = NN()\n",
    "#model.load_external('reptile_pie') #<---- comment this to not use meta pie\n",
    "model.info(show_vals=True)"
   ]
  },
  {
   "cell_type": "code",
   "execution_count": null,
   "id": "baaada8c-c553-4169-bb21-1c43e8736bfe",
   "metadata": {},
   "outputs": [],
   "source": [
    "db =tasker.space(train_K)\n",
    "bx = torch.tensor(np.expand_dims(db[ :, 0 ],axis=-1), dtype=torch.float32)\n",
    "by = torch.tensor(np.expand_dims(db[ :, 1 ],axis=-1), dtype=torch.float32)\n",
    "bp = []\n",
    "with torch.no_grad():\n",
    "    pred=model.forward(bx)\n",
    "    plt.plot(db[:,0], db[:,1], color='green')\n",
    "    plt.plot(db[:,0], pred, color='blue')\n"
   ]
  },
  {
   "cell_type": "markdown",
   "id": "3bff34ff",
   "metadata": {},
   "source": [
    "# training"
   ]
  },
  {
   "cell_type": "code",
   "execution_count": null,
   "id": "7c863aa4-a98b-44cc-bd58-ba1cbe7e4b39",
   "metadata": {},
   "outputs": [],
   "source": [
    "\n",
    "\n",
    "loss_hist=[]\n",
    "for inner_epoch in range(inner_epochs):\n",
    "\n",
    "    #P('# 5: sample train_K data points', train_K)\n",
    "    train_db =tasker.sample(train_K)\n",
    "    batch_x = torch.tensor(np.expand_dims(train_db[ :, 0 ],axis=-1), dtype=torch.float32)\n",
    "    batch_y = torch.tensor(np.expand_dims(train_db[ :, 1 ],axis=-1), dtype=torch.float32)\n",
    "\n",
    "    #P('# 6: evaluate grad_theta(loss)')\n",
    "    model.zero_grad()\n",
    "    pred = model.forward(batch_x)\n",
    "    loss =  lossM(pred, batch_y) #torch.sum((pred - batch_y) ** 2) \n",
    "    \n",
    "    loss_hist.append(loss.item())\n",
    "    P('\\t Loss:', loss_hist[-1])\n",
    "    #loss.backward(create_graph=True)\n",
    "    grads = torch.autograd.grad(loss, model.parameters, create_graph=False)\n",
    "\n",
    "    #P('# 7: compute adapted paramters with grad descent')\n",
    "    with torch.no_grad():\n",
    "        for t_param, grad in zip(model.parameters, grads):\n",
    "            t_param -= inner_lr * grad\n",
    "\n",
    "npc = lambda n: np.ones(n) * (1/n)\n",
    "plt.figure(figsize=(12,5))\n",
    "plt.ylim(0,80)\n",
    "plt.plot(np.convolve(loss_hist, npc(5)))\n",
    "plt.show()"
   ]
  },
  {
   "cell_type": "code",
   "execution_count": null,
   "id": "baaada8c-c553-4169-bb21-1c43e8736bfe",
   "metadata": {},
   "outputs": [],
   "source": [
    "db =tasker.space(train_K)\n",
    "bx = torch.tensor(np.expand_dims(db[ :, 0 ],axis=-1), dtype=torch.float32)\n",
    "by = torch.tensor(np.expand_dims(db[ :, 1 ],axis=-1), dtype=torch.float32)\n",
    "bp = []\n",
    "with torch.no_grad():\n",
    "    pred=model.forward(bx)\n",
    "    plt.plot(db[:,0], db[:,1], color='green')\n",
    "    plt.plot(db[:,0], pred, color='blue')\n"
   ]
  },
  {
   "cell_type": "code",
   "execution_count": null,
   "id": "1f075608-9e13-4851-aef9-345ec994dfef",
   "metadata": {},
   "outputs": [],
   "source": []
  }
 ],
 "metadata": {
  "kernelspec": {
   "display_name": "Python 3 (ipykernel)",
   "language": "python",
   "name": "python3"
  },
  "language_info": {
   "codemirror_mode": {
    "name": "ipython",
    "version": 3
   },
   "file_extension": ".py",
   "mimetype": "text/x-python",
   "name": "python",
   "nbconvert_exporter": "python",
   "pygments_lexer": "ipython3",
   "version": "3.8.11"
  }
 },
 "nbformat": 4,
 "nbformat_minor": 5
}
