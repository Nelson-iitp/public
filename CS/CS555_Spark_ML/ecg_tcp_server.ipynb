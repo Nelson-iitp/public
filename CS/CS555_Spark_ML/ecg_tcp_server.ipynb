{
 "cells": [
  {
   "cell_type": "markdown",
   "id": "4f5bf7cf-f1b5-4d2b-8de4-8fb0e64da6b2",
   "metadata": {},
   "source": [
    "# TCP Server\n",
    "Source - python Docs [socketserver](https://docs.python.org/3/library/socketserver.html)"
   ]
  },
  {
   "cell_type": "code",
   "execution_count": null,
   "id": "799aedd4-24a3-423b-a27f-eab9792af6c3",
   "metadata": {},
   "outputs": [],
   "source": [
    "import socketserver\n",
    "import time, random, threading\n",
    "import numpy as np\n",
    "signal_file, beat_file = './data/ecg/signal.npy', './data/ecg/beats.npy'\n",
    "class ecg_gen:\n",
    "    def __init__(self, sf, bf, sep=','):\n",
    "        \n",
    "        self.fs = 128 #Hz\n",
    "        self.sf, self.bf = sf, bf\n",
    "        self.sep=sep\n",
    "        self.signal = np.load(sf)\n",
    "        beats_data = np.load(bf)\n",
    "        self.beats=beats_data[:,0].astype('int')\n",
    "        self.labels = beats_data[:,1]\n",
    "        self.nb = len(self.beats)\n",
    "        self.reset()\n",
    "    \n",
    "    def reset(self):\n",
    "        self.i = 0\n",
    "        \n",
    "    def tocsv(self,npA, sep=','):\n",
    "        res=\"\"\n",
    "        for i in range(len(npA)):\n",
    "            res+=str(npA[i])+sep\n",
    "        return res\n",
    "    \n",
    "    def prepare_bytes(self):\n",
    "        sep=self.sep\n",
    "        self.i+=1\n",
    "        # timestep, label, peakloc, signal_len, signal\n",
    "        sig_slice = self.signal[self.beats[self.i-1]:self.beats[self.i+1]]\n",
    "        res = str(self.i) + sep + \\\n",
    "              str(self.labels[self.i]) + sep + \\\n",
    "              str(self.beats[self.i]-self.beats[self.i-1]) + sep + \\\n",
    "              str(len(sig_slice)) + sep + \\\n",
    "              self.tocsv(sig_slice , sep=sep)\n",
    "\n",
    "        return bytes(res, encoding='utf-8'), (self.i==self.nb-1)\n",
    "\n"
   ]
  },
  {
   "cell_type": "markdown",
   "id": "d5c6a588-0bf7-4e78-9c7c-c28b7be4d385",
   "metadata": {
    "tags": []
   },
   "source": [
    "# start server"
   ]
  },
  {
   "cell_type": "code",
   "execution_count": null,
   "id": "5eb4ca45-bc5d-4504-8db2-e5d3cdf4221e",
   "metadata": {
    "tags": []
   },
   "outputs": [
    {
     "name": "stdout",
     "output_type": "stream",
     "text": [
      "Started!\n",
      "Sending: 5.2265625  MB\n",
      "Sending: 5.173828125  MB\n",
      "Sending: 5.0625  MB\n",
      "Sending: 5.1796875  MB\n",
      "Sending: 5.2431640625  MB\n",
      "Sending: 5.25390625  MB\n",
      "Sending: 5.349609375  MB\n",
      "Sending: 5.435546875  MB\n",
      "Sending: 5.34375  MB\n",
      "Sending: 5.34375  MB\n",
      "Sending: 5.326171875  MB\n",
      "Sending: 5.232421875  MB\n",
      "Sending: 5.3251953125  MB\n",
      "Sending: 5.3115234375  MB\n",
      "Sending: 5.2177734375  MB\n",
      "Sending: 5.30859375  MB\n",
      "Sending: 5.3544921875  MB\n",
      "Sending: 5.3271484375  MB\n",
      "Sending: 5.318359375  MB\n",
      "Sending: 5.240234375  MB\n",
      "Sending: 5.1591796875  MB\n",
      "Sending: 5.1376953125  MB\n",
      "Sending: 5.134765625  MB\n",
      "Sending: 5.173828125  MB\n",
      "Sending: 5.1474609375  MB\n",
      "Sending: 5.0751953125  MB\n",
      "Sending: 5.171875  MB\n",
      "Sending: 5.224609375  MB\n",
      "Sending: 5.130859375  MB\n",
      "Sending: 5.2109375  MB\n",
      "Sending: 5.26171875  MB\n",
      "Sending: 5.1923828125  MB\n",
      "Sending: 5.255859375  MB\n",
      "Sending: 5.291015625  MB\n",
      "Sending: 5.306640625  MB\n",
      "Sending: 5.4072265625  MB\n",
      "Sending: 5.4453125  MB\n",
      "Sending: 5.478515625  MB\n"
     ]
    }
   ],
   "source": [
    "ecg = ecg_gen(signal_file, beat_file )\n",
    "\n",
    "#<---- as found on python Docs socketserver\n",
    "HOST, PORT = \"localhost\", 9999\n",
    "class SERVER(socketserver.BaseRequestHandler):       \n",
    "    def handle(self):\n",
    "        \"\"\"\n",
    "        In addition to the literal forms, bytes objects can be created in a number of other ways:\n",
    "            A zero-filled bytes object of a specified length: bytes(10)\n",
    "            From an iterable of integers: bytes(range(20))\n",
    "            Copying existing binary data via the buffer protocol: bytes(obj)\n",
    "        \"\"\"\n",
    "        global ecg\n",
    "        data_bytes, done = ecg.prepare_bytes()# --> Note: finally data is converted to bytes\n",
    "        print('Sending:', len(data_bytes)/1024, ' MB')\n",
    "        self.request.sendall(data_bytes)\n",
    "        time.sleep(3) #<------------------ sleep time b/w handle\n",
    "        if done:\n",
    "            raise StopIteration\n",
    "        \n",
    "\n",
    "with socketserver.TCPServer((HOST, PORT), SERVER) as server:\n",
    "    print('Started!')\n",
    "    server.serve_forever() # interrupt the program with Ctrl-C\n",
    "    \n",
    "        "
   ]
  }
 ],
 "metadata": {
  "kernelspec": {
   "display_name": "Python 3 (ipykernel)",
   "language": "python",
   "name": "python3"
  },
  "language_info": {
   "codemirror_mode": {
    "name": "ipython",
    "version": 3
   },
   "file_extension": ".py",
   "mimetype": "text/x-python",
   "name": "python",
   "nbconvert_exporter": "python",
   "pygments_lexer": "ipython3",
   "version": "3.8.11"
  }
 },
 "nbformat": 4,
 "nbformat_minor": 5
}
